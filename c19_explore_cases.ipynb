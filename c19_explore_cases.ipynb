{
 "cells": [
  {
   "cell_type": "markdown",
   "metadata": {},
   "source": [
    "## Pre-requisites"
   ]
  },
  {
   "cell_type": "code",
   "execution_count": 47,
   "metadata": {},
   "outputs": [],
   "source": [
    "import numpy as np\n",
    "import os\n",
    "import pandas as pd\n",
    "import plotly.express as px\n",
    "import plotly.graph_objs as go"
   ]
  },
  {
   "cell_type": "code",
   "execution_count": 48,
   "metadata": {},
   "outputs": [],
   "source": [
    "dir_home = os.environ['HOME']\n",
    "# Location of data relative to home:\n",
    "dir_data = os.path.join(dir_home, \"data\", \"coronavirus_data_gov_uk\", \"2020-06-11\")"
   ]
  },
  {
   "cell_type": "code",
   "execution_count": 49,
   "metadata": {},
   "outputs": [
    {
     "data": {
      "text/plain": [
       "'/Users/jason/data/coronavirus_data_gov_uk/2020-06-11'"
      ]
     },
     "execution_count": 49,
     "metadata": {},
     "output_type": "execute_result"
    }
   ],
   "source": [
    "dir_data"
   ]
  },
  {
   "cell_type": "code",
   "execution_count": 50,
   "metadata": {},
   "outputs": [
    {
     "data": {
      "text/plain": [
       "('coronavirus-cases_latest.csv', 'coronavirus-deaths_latest.csv')"
      ]
     },
     "execution_count": 50,
     "metadata": {},
     "output_type": "execute_result"
    }
   ],
   "source": [
    "file_cases = \"coronavirus-cases_latest.csv\"\n",
    "file_deaths = \"coronavirus-deaths_latest.csv\"\n",
    "file_cases, file_deaths"
   ]
  },
  {
   "cell_type": "code",
   "execution_count": 51,
   "metadata": {},
   "outputs": [
    {
     "data": {
      "text/plain": [
       "'/Users/jason/data/coronavirus_data_gov_uk/2020-06-11/coronavirus-cases_latest.csv'"
      ]
     },
     "execution_count": 51,
     "metadata": {},
     "output_type": "execute_result"
    }
   ],
   "source": [
    "file_cases = os.path.join(dir_data, file_cases)\n",
    "file_cases"
   ]
  },
  {
   "cell_type": "code",
   "execution_count": 52,
   "metadata": {},
   "outputs": [
    {
     "data": {
      "text/plain": [
       "'/Users/jason/data/coronavirus_data_gov_uk/2020-06-11/coronavirus-deaths_latest.csv'"
      ]
     },
     "execution_count": 52,
     "metadata": {},
     "output_type": "execute_result"
    }
   ],
   "source": [
    "file_deaths = os.path.join(dir_data, file_deaths)\n",
    "file_deaths"
   ]
  },
  {
   "cell_type": "code",
   "execution_count": 53,
   "metadata": {},
   "outputs": [],
   "source": [
    "df_cases = pd.read_csv(file_cases)"
   ]
  },
  {
   "cell_type": "code",
   "execution_count": 54,
   "metadata": {},
   "outputs": [
    {
     "data": {
      "text/html": [
       "<div>\n",
       "<style scoped>\n",
       "    .dataframe tbody tr th:only-of-type {\n",
       "        vertical-align: middle;\n",
       "    }\n",
       "\n",
       "    .dataframe tbody tr th {\n",
       "        vertical-align: top;\n",
       "    }\n",
       "\n",
       "    .dataframe thead th {\n",
       "        text-align: right;\n",
       "    }\n",
       "</style>\n",
       "<table border=\"1\" class=\"dataframe\">\n",
       "  <thead>\n",
       "    <tr style=\"text-align: right;\">\n",
       "      <th></th>\n",
       "      <th>Area name</th>\n",
       "      <th>Area code</th>\n",
       "      <th>Area type</th>\n",
       "      <th>Specimen date</th>\n",
       "      <th>Daily lab-confirmed cases</th>\n",
       "      <th>Previously reported daily cases</th>\n",
       "      <th>Change in daily cases</th>\n",
       "      <th>Cumulative lab-confirmed cases</th>\n",
       "      <th>Previously reported cumulative cases</th>\n",
       "      <th>Change in cumulative cases</th>\n",
       "      <th>Cumulative lab-confirmed cases rate</th>\n",
       "    </tr>\n",
       "  </thead>\n",
       "  <tbody>\n",
       "    <tr>\n",
       "      <th>0</th>\n",
       "      <td>England</td>\n",
       "      <td>E92000001</td>\n",
       "      <td>Nation</td>\n",
       "      <td>2020-06-10</td>\n",
       "      <td>27.0</td>\n",
       "      <td>0.0</td>\n",
       "      <td>27.0</td>\n",
       "      <td>156018</td>\n",
       "      <td>155714.0</td>\n",
       "      <td>304.0</td>\n",
       "      <td>278.7</td>\n",
       "    </tr>\n",
       "    <tr>\n",
       "      <th>1</th>\n",
       "      <td>South West</td>\n",
       "      <td>E12000009</td>\n",
       "      <td>Region</td>\n",
       "      <td>2020-06-10</td>\n",
       "      <td>0.0</td>\n",
       "      <td>NaN</td>\n",
       "      <td>NaN</td>\n",
       "      <td>7858</td>\n",
       "      <td>NaN</td>\n",
       "      <td>NaN</td>\n",
       "      <td>140.3</td>\n",
       "    </tr>\n",
       "    <tr>\n",
       "      <th>2</th>\n",
       "      <td>South East</td>\n",
       "      <td>E12000008</td>\n",
       "      <td>Region</td>\n",
       "      <td>2020-06-10</td>\n",
       "      <td>3.0</td>\n",
       "      <td>NaN</td>\n",
       "      <td>NaN</td>\n",
       "      <td>22179</td>\n",
       "      <td>NaN</td>\n",
       "      <td>NaN</td>\n",
       "      <td>242.8</td>\n",
       "    </tr>\n",
       "    <tr>\n",
       "      <th>3</th>\n",
       "      <td>London</td>\n",
       "      <td>E12000007</td>\n",
       "      <td>Region</td>\n",
       "      <td>2020-06-10</td>\n",
       "      <td>0.0</td>\n",
       "      <td>NaN</td>\n",
       "      <td>NaN</td>\n",
       "      <td>27240</td>\n",
       "      <td>NaN</td>\n",
       "      <td>NaN</td>\n",
       "      <td>305.8</td>\n",
       "    </tr>\n",
       "    <tr>\n",
       "      <th>4</th>\n",
       "      <td>East of England</td>\n",
       "      <td>E12000006</td>\n",
       "      <td>Region</td>\n",
       "      <td>2020-06-10</td>\n",
       "      <td>0.0</td>\n",
       "      <td>NaN</td>\n",
       "      <td>NaN</td>\n",
       "      <td>14634</td>\n",
       "      <td>NaN</td>\n",
       "      <td>NaN</td>\n",
       "      <td>236.0</td>\n",
       "    </tr>\n",
       "    <tr>\n",
       "      <th>...</th>\n",
       "      <td>...</td>\n",
       "      <td>...</td>\n",
       "      <td>...</td>\n",
       "      <td>...</td>\n",
       "      <td>...</td>\n",
       "      <td>...</td>\n",
       "      <td>...</td>\n",
       "      <td>...</td>\n",
       "      <td>...</td>\n",
       "      <td>...</td>\n",
       "      <td>...</td>\n",
       "    </tr>\n",
       "    <tr>\n",
       "      <th>36345</th>\n",
       "      <td>Tunbridge Wells</td>\n",
       "      <td>E07000116</td>\n",
       "      <td>Lower tier local authority</td>\n",
       "      <td>2020-01-31</td>\n",
       "      <td>1.0</td>\n",
       "      <td>NaN</td>\n",
       "      <td>NaN</td>\n",
       "      <td>1</td>\n",
       "      <td>NaN</td>\n",
       "      <td>NaN</td>\n",
       "      <td>0.8</td>\n",
       "    </tr>\n",
       "    <tr>\n",
       "      <th>36346</th>\n",
       "      <td>England</td>\n",
       "      <td>E92000001</td>\n",
       "      <td>Nation</td>\n",
       "      <td>2020-01-30</td>\n",
       "      <td>1.0</td>\n",
       "      <td>1.0</td>\n",
       "      <td>0.0</td>\n",
       "      <td>1</td>\n",
       "      <td>1.0</td>\n",
       "      <td>0.0</td>\n",
       "      <td>0.0</td>\n",
       "    </tr>\n",
       "    <tr>\n",
       "      <th>36347</th>\n",
       "      <td>Yorkshire and The Humber</td>\n",
       "      <td>E12000003</td>\n",
       "      <td>Region</td>\n",
       "      <td>2020-01-30</td>\n",
       "      <td>1.0</td>\n",
       "      <td>NaN</td>\n",
       "      <td>NaN</td>\n",
       "      <td>1</td>\n",
       "      <td>NaN</td>\n",
       "      <td>NaN</td>\n",
       "      <td>0.0</td>\n",
       "    </tr>\n",
       "    <tr>\n",
       "      <th>36348</th>\n",
       "      <td>York</td>\n",
       "      <td>E06000014</td>\n",
       "      <td>Upper tier local authority</td>\n",
       "      <td>2020-01-30</td>\n",
       "      <td>1.0</td>\n",
       "      <td>NaN</td>\n",
       "      <td>NaN</td>\n",
       "      <td>1</td>\n",
       "      <td>NaN</td>\n",
       "      <td>NaN</td>\n",
       "      <td>0.5</td>\n",
       "    </tr>\n",
       "    <tr>\n",
       "      <th>36349</th>\n",
       "      <td>York</td>\n",
       "      <td>E06000014</td>\n",
       "      <td>Lower tier local authority</td>\n",
       "      <td>2020-01-30</td>\n",
       "      <td>1.0</td>\n",
       "      <td>NaN</td>\n",
       "      <td>NaN</td>\n",
       "      <td>1</td>\n",
       "      <td>NaN</td>\n",
       "      <td>NaN</td>\n",
       "      <td>0.5</td>\n",
       "    </tr>\n",
       "  </tbody>\n",
       "</table>\n",
       "<p>36350 rows × 11 columns</p>\n",
       "</div>"
      ],
      "text/plain": [
       "                      Area name  Area code                   Area type  \\\n",
       "0                       England  E92000001                      Nation   \n",
       "1                    South West  E12000009                      Region   \n",
       "2                    South East  E12000008                      Region   \n",
       "3                        London  E12000007                      Region   \n",
       "4               East of England  E12000006                      Region   \n",
       "...                         ...        ...                         ...   \n",
       "36345           Tunbridge Wells  E07000116  Lower tier local authority   \n",
       "36346                   England  E92000001                      Nation   \n",
       "36347  Yorkshire and The Humber  E12000003                      Region   \n",
       "36348                      York  E06000014  Upper tier local authority   \n",
       "36349                      York  E06000014  Lower tier local authority   \n",
       "\n",
       "      Specimen date  Daily lab-confirmed cases  \\\n",
       "0        2020-06-10                       27.0   \n",
       "1        2020-06-10                        0.0   \n",
       "2        2020-06-10                        3.0   \n",
       "3        2020-06-10                        0.0   \n",
       "4        2020-06-10                        0.0   \n",
       "...             ...                        ...   \n",
       "36345    2020-01-31                        1.0   \n",
       "36346    2020-01-30                        1.0   \n",
       "36347    2020-01-30                        1.0   \n",
       "36348    2020-01-30                        1.0   \n",
       "36349    2020-01-30                        1.0   \n",
       "\n",
       "       Previously reported daily cases  Change in daily cases  \\\n",
       "0                                  0.0                   27.0   \n",
       "1                                  NaN                    NaN   \n",
       "2                                  NaN                    NaN   \n",
       "3                                  NaN                    NaN   \n",
       "4                                  NaN                    NaN   \n",
       "...                                ...                    ...   \n",
       "36345                              NaN                    NaN   \n",
       "36346                              1.0                    0.0   \n",
       "36347                              NaN                    NaN   \n",
       "36348                              NaN                    NaN   \n",
       "36349                              NaN                    NaN   \n",
       "\n",
       "       Cumulative lab-confirmed cases  Previously reported cumulative cases  \\\n",
       "0                              156018                              155714.0   \n",
       "1                                7858                                   NaN   \n",
       "2                               22179                                   NaN   \n",
       "3                               27240                                   NaN   \n",
       "4                               14634                                   NaN   \n",
       "...                               ...                                   ...   \n",
       "36345                               1                                   NaN   \n",
       "36346                               1                                   1.0   \n",
       "36347                               1                                   NaN   \n",
       "36348                               1                                   NaN   \n",
       "36349                               1                                   NaN   \n",
       "\n",
       "       Change in cumulative cases  Cumulative lab-confirmed cases rate  \n",
       "0                           304.0                                278.7  \n",
       "1                             NaN                                140.3  \n",
       "2                             NaN                                242.8  \n",
       "3                             NaN                                305.8  \n",
       "4                             NaN                                236.0  \n",
       "...                           ...                                  ...  \n",
       "36345                         NaN                                  0.8  \n",
       "36346                         0.0                                  0.0  \n",
       "36347                         NaN                                  0.0  \n",
       "36348                         NaN                                  0.5  \n",
       "36349                         NaN                                  0.5  \n",
       "\n",
       "[36350 rows x 11 columns]"
      ]
     },
     "execution_count": 54,
     "metadata": {},
     "output_type": "execute_result"
    }
   ],
   "source": [
    "df_cases"
   ]
  },
  {
   "cell_type": "markdown",
   "metadata": {},
   "source": [
    "## Data quality and consistency checks (not exhaustive)"
   ]
  },
  {
   "cell_type": "markdown",
   "metadata": {},
   "source": [
    "There use to be only three area types, but there are now 4."
   ]
  },
  {
   "cell_type": "code",
   "execution_count": 55,
   "metadata": {},
   "outputs": [
    {
     "name": "stdout",
     "output_type": "stream",
     "text": [
      "{'Lower tier local authority', 'Upper tier local authority', 'Region', 'Nation'}\n"
     ]
    },
    {
     "data": {
      "text/plain": [
       "True"
      ]
     },
     "execution_count": 55,
     "metadata": {},
     "output_type": "execute_result"
    }
   ],
   "source": [
    "area_types_all = set(df_cases['Area type'])\n",
    "print(area_types_all)\n",
    "len(area_types_all)==4"
   ]
  },
  {
   "cell_type": "markdown",
   "metadata": {},
   "source": [
    "Check all Specimen dates are of length 10 (YYYY-MM-DD)"
   ]
  },
  {
   "cell_type": "code",
   "execution_count": 56,
   "metadata": {},
   "outputs": [
    {
     "name": "stdout",
     "output_type": "stream",
     "text": [
      "{10}\n"
     ]
    },
    {
     "data": {
      "text/plain": [
       "True"
      ]
     },
     "execution_count": 56,
     "metadata": {},
     "output_type": "execute_result"
    }
   ],
   "source": [
    "check_set = set(df_cases['Specimen date'])\n",
    "x = [len(i) for i in check_set]\n",
    "print(set(x))\n",
    "set(x) == {10}"
   ]
  },
  {
   "cell_type": "markdown",
   "metadata": {},
   "source": [
    "Check all Area Codes are of length 9"
   ]
  },
  {
   "cell_type": "code",
   "execution_count": 57,
   "metadata": {},
   "outputs": [
    {
     "name": "stdout",
     "output_type": "stream",
     "text": [
      "{9}\n"
     ]
    },
    {
     "data": {
      "text/plain": [
       "True"
      ]
     },
     "execution_count": 57,
     "metadata": {},
     "output_type": "execute_result"
    }
   ],
   "source": [
    "check_set = set(df_cases['Area code'])\n",
    "x = [len(i) for i in check_set]\n",
    "print(set(x))\n",
    "set(x) == {9}"
   ]
  },
  {
   "cell_type": "markdown",
   "metadata": {},
   "source": [
    "## Dataframe re-ordering"
   ]
  },
  {
   "cell_type": "markdown",
   "metadata": {},
   "source": [
    "Have the latest dates at the bottom of the dataframe."
   ]
  },
  {
   "cell_type": "code",
   "execution_count": 58,
   "metadata": {},
   "outputs": [],
   "source": [
    "df_cases = df_cases.sort_values(by=['Specimen date', 'Area code'])"
   ]
  },
  {
   "cell_type": "markdown",
   "metadata": {},
   "source": [
    "## England"
   ]
  },
  {
   "cell_type": "code",
   "execution_count": 59,
   "metadata": {},
   "outputs": [],
   "source": [
    "df_cases_england = df_cases[df_cases['Area name']==\"England\"]"
   ]
  },
  {
   "cell_type": "code",
   "execution_count": 60,
   "metadata": {},
   "outputs": [
    {
     "data": {
      "text/html": [
       "<div>\n",
       "<style scoped>\n",
       "    .dataframe tbody tr th:only-of-type {\n",
       "        vertical-align: middle;\n",
       "    }\n",
       "\n",
       "    .dataframe tbody tr th {\n",
       "        vertical-align: top;\n",
       "    }\n",
       "\n",
       "    .dataframe thead th {\n",
       "        text-align: right;\n",
       "    }\n",
       "</style>\n",
       "<table border=\"1\" class=\"dataframe\">\n",
       "  <thead>\n",
       "    <tr style=\"text-align: right;\">\n",
       "      <th></th>\n",
       "      <th>Area name</th>\n",
       "      <th>Area code</th>\n",
       "      <th>Area type</th>\n",
       "      <th>Specimen date</th>\n",
       "      <th>Daily lab-confirmed cases</th>\n",
       "      <th>Previously reported daily cases</th>\n",
       "      <th>Change in daily cases</th>\n",
       "      <th>Cumulative lab-confirmed cases</th>\n",
       "      <th>Previously reported cumulative cases</th>\n",
       "      <th>Change in cumulative cases</th>\n",
       "      <th>Cumulative lab-confirmed cases rate</th>\n",
       "    </tr>\n",
       "  </thead>\n",
       "  <tbody>\n",
       "    <tr>\n",
       "      <th>36346</th>\n",
       "      <td>England</td>\n",
       "      <td>E92000001</td>\n",
       "      <td>Nation</td>\n",
       "      <td>2020-01-30</td>\n",
       "      <td>1.0</td>\n",
       "      <td>1.0</td>\n",
       "      <td>0.0</td>\n",
       "      <td>1</td>\n",
       "      <td>1.0</td>\n",
       "      <td>0.0</td>\n",
       "      <td>0.0</td>\n",
       "    </tr>\n",
       "    <tr>\n",
       "      <th>36342</th>\n",
       "      <td>England</td>\n",
       "      <td>E92000001</td>\n",
       "      <td>Nation</td>\n",
       "      <td>2020-01-31</td>\n",
       "      <td>1.0</td>\n",
       "      <td>1.0</td>\n",
       "      <td>0.0</td>\n",
       "      <td>2</td>\n",
       "      <td>2.0</td>\n",
       "      <td>0.0</td>\n",
       "      <td>0.0</td>\n",
       "    </tr>\n",
       "    <tr>\n",
       "      <th>36329</th>\n",
       "      <td>England</td>\n",
       "      <td>E92000001</td>\n",
       "      <td>Nation</td>\n",
       "      <td>2020-02-03</td>\n",
       "      <td>6.0</td>\n",
       "      <td>6.0</td>\n",
       "      <td>0.0</td>\n",
       "      <td>8</td>\n",
       "      <td>8.0</td>\n",
       "      <td>0.0</td>\n",
       "      <td>0.0</td>\n",
       "    </tr>\n",
       "    <tr>\n",
       "      <th>36325</th>\n",
       "      <td>England</td>\n",
       "      <td>E92000001</td>\n",
       "      <td>Nation</td>\n",
       "      <td>2020-02-05</td>\n",
       "      <td>1.0</td>\n",
       "      <td>1.0</td>\n",
       "      <td>0.0</td>\n",
       "      <td>9</td>\n",
       "      <td>9.0</td>\n",
       "      <td>0.0</td>\n",
       "      <td>0.0</td>\n",
       "    </tr>\n",
       "    <tr>\n",
       "      <th>36321</th>\n",
       "      <td>England</td>\n",
       "      <td>E92000001</td>\n",
       "      <td>Nation</td>\n",
       "      <td>2020-02-08</td>\n",
       "      <td>3.0</td>\n",
       "      <td>3.0</td>\n",
       "      <td>0.0</td>\n",
       "      <td>12</td>\n",
       "      <td>12.0</td>\n",
       "      <td>0.0</td>\n",
       "      <td>0.0</td>\n",
       "    </tr>\n",
       "    <tr>\n",
       "      <th>...</th>\n",
       "      <td>...</td>\n",
       "      <td>...</td>\n",
       "      <td>...</td>\n",
       "      <td>...</td>\n",
       "      <td>...</td>\n",
       "      <td>...</td>\n",
       "      <td>...</td>\n",
       "      <td>...</td>\n",
       "      <td>...</td>\n",
       "      <td>...</td>\n",
       "      <td>...</td>\n",
       "    </tr>\n",
       "    <tr>\n",
       "      <th>1030</th>\n",
       "      <td>England</td>\n",
       "      <td>E92000001</td>\n",
       "      <td>Nation</td>\n",
       "      <td>2020-06-06</td>\n",
       "      <td>208.0</td>\n",
       "      <td>195.0</td>\n",
       "      <td>13.0</td>\n",
       "      <td>155456</td>\n",
       "      <td>155409.0</td>\n",
       "      <td>47.0</td>\n",
       "      <td>277.7</td>\n",
       "    </tr>\n",
       "    <tr>\n",
       "      <th>841</th>\n",
       "      <td>England</td>\n",
       "      <td>E92000001</td>\n",
       "      <td>Nation</td>\n",
       "      <td>2020-06-07</td>\n",
       "      <td>177.0</td>\n",
       "      <td>179.0</td>\n",
       "      <td>-2.0</td>\n",
       "      <td>155633</td>\n",
       "      <td>155588.0</td>\n",
       "      <td>45.0</td>\n",
       "      <td>278.0</td>\n",
       "    </tr>\n",
       "    <tr>\n",
       "      <th>618</th>\n",
       "      <td>England</td>\n",
       "      <td>E92000001</td>\n",
       "      <td>Nation</td>\n",
       "      <td>2020-06-08</td>\n",
       "      <td>223.0</td>\n",
       "      <td>114.0</td>\n",
       "      <td>109.0</td>\n",
       "      <td>155856</td>\n",
       "      <td>155702.0</td>\n",
       "      <td>154.0</td>\n",
       "      <td>278.4</td>\n",
       "    </tr>\n",
       "    <tr>\n",
       "      <th>476</th>\n",
       "      <td>England</td>\n",
       "      <td>E92000001</td>\n",
       "      <td>Nation</td>\n",
       "      <td>2020-06-09</td>\n",
       "      <td>135.0</td>\n",
       "      <td>12.0</td>\n",
       "      <td>123.0</td>\n",
       "      <td>155991</td>\n",
       "      <td>155714.0</td>\n",
       "      <td>277.0</td>\n",
       "      <td>278.7</td>\n",
       "    </tr>\n",
       "    <tr>\n",
       "      <th>0</th>\n",
       "      <td>England</td>\n",
       "      <td>E92000001</td>\n",
       "      <td>Nation</td>\n",
       "      <td>2020-06-10</td>\n",
       "      <td>27.0</td>\n",
       "      <td>0.0</td>\n",
       "      <td>27.0</td>\n",
       "      <td>156018</td>\n",
       "      <td>155714.0</td>\n",
       "      <td>304.0</td>\n",
       "      <td>278.7</td>\n",
       "    </tr>\n",
       "  </tbody>\n",
       "</table>\n",
       "<p>122 rows × 11 columns</p>\n",
       "</div>"
      ],
      "text/plain": [
       "      Area name  Area code Area type Specimen date  Daily lab-confirmed cases  \\\n",
       "36346   England  E92000001    Nation    2020-01-30                        1.0   \n",
       "36342   England  E92000001    Nation    2020-01-31                        1.0   \n",
       "36329   England  E92000001    Nation    2020-02-03                        6.0   \n",
       "36325   England  E92000001    Nation    2020-02-05                        1.0   \n",
       "36321   England  E92000001    Nation    2020-02-08                        3.0   \n",
       "...         ...        ...       ...           ...                        ...   \n",
       "1030    England  E92000001    Nation    2020-06-06                      208.0   \n",
       "841     England  E92000001    Nation    2020-06-07                      177.0   \n",
       "618     England  E92000001    Nation    2020-06-08                      223.0   \n",
       "476     England  E92000001    Nation    2020-06-09                      135.0   \n",
       "0       England  E92000001    Nation    2020-06-10                       27.0   \n",
       "\n",
       "       Previously reported daily cases  Change in daily cases  \\\n",
       "36346                              1.0                    0.0   \n",
       "36342                              1.0                    0.0   \n",
       "36329                              6.0                    0.0   \n",
       "36325                              1.0                    0.0   \n",
       "36321                              3.0                    0.0   \n",
       "...                                ...                    ...   \n",
       "1030                             195.0                   13.0   \n",
       "841                              179.0                   -2.0   \n",
       "618                              114.0                  109.0   \n",
       "476                               12.0                  123.0   \n",
       "0                                  0.0                   27.0   \n",
       "\n",
       "       Cumulative lab-confirmed cases  Previously reported cumulative cases  \\\n",
       "36346                               1                                   1.0   \n",
       "36342                               2                                   2.0   \n",
       "36329                               8                                   8.0   \n",
       "36325                               9                                   9.0   \n",
       "36321                              12                                  12.0   \n",
       "...                               ...                                   ...   \n",
       "1030                           155456                              155409.0   \n",
       "841                            155633                              155588.0   \n",
       "618                            155856                              155702.0   \n",
       "476                            155991                              155714.0   \n",
       "0                              156018                              155714.0   \n",
       "\n",
       "       Change in cumulative cases  Cumulative lab-confirmed cases rate  \n",
       "36346                         0.0                                  0.0  \n",
       "36342                         0.0                                  0.0  \n",
       "36329                         0.0                                  0.0  \n",
       "36325                         0.0                                  0.0  \n",
       "36321                         0.0                                  0.0  \n",
       "...                           ...                                  ...  \n",
       "1030                         47.0                                277.7  \n",
       "841                          45.0                                278.0  \n",
       "618                         154.0                                278.4  \n",
       "476                         277.0                                278.7  \n",
       "0                           304.0                                278.7  \n",
       "\n",
       "[122 rows x 11 columns]"
      ]
     },
     "execution_count": 60,
     "metadata": {},
     "output_type": "execute_result"
    }
   ],
   "source": [
    "df_cases_england"
   ]
  },
  {
   "cell_type": "code",
   "execution_count": 61,
   "metadata": {},
   "outputs": [
    {
     "data": {
      "application/vnd.plotly.v1+json": {
       "config": {
        "plotlyServerURL": "https://plot.ly"
       },
       "data": [
        {
         "hovertemplate": "Specimen date=%{x}<br>Cumulative lab-confirmed cases=%{y}<extra></extra>",
         "legendgroup": "",
         "line": {
          "color": "#636efa",
          "dash": "solid"
         },
         "mode": "lines+markers",
         "name": "",
         "orientation": "v",
         "showlegend": false,
         "type": "scatter",
         "x": [
          "2020-01-30",
          "2020-01-31",
          "2020-02-03",
          "2020-02-05",
          "2020-02-08",
          "2020-02-09",
          "2020-02-11",
          "2020-02-12",
          "2020-02-13",
          "2020-02-14",
          "2020-02-17",
          "2020-02-19",
          "2020-02-21",
          "2020-02-23",
          "2020-02-24",
          "2020-02-25",
          "2020-02-26",
          "2020-02-27",
          "2020-02-28",
          "2020-02-29",
          "2020-03-01",
          "2020-03-02",
          "2020-03-03",
          "2020-03-04",
          "2020-03-05",
          "2020-03-06",
          "2020-03-07",
          "2020-03-08",
          "2020-03-09",
          "2020-03-10",
          "2020-03-11",
          "2020-03-12",
          "2020-03-13",
          "2020-03-14",
          "2020-03-15",
          "2020-03-16",
          "2020-03-17",
          "2020-03-18",
          "2020-03-19",
          "2020-03-20",
          "2020-03-21",
          "2020-03-22",
          "2020-03-23",
          "2020-03-24",
          "2020-03-25",
          "2020-03-26",
          "2020-03-27",
          "2020-03-28",
          "2020-03-29",
          "2020-03-30",
          "2020-03-31",
          "2020-04-01",
          "2020-04-02",
          "2020-04-03",
          "2020-04-04",
          "2020-04-05",
          "2020-04-06",
          "2020-04-07",
          "2020-04-08",
          "2020-04-09",
          "2020-04-10",
          "2020-04-11",
          "2020-04-12",
          "2020-04-13",
          "2020-04-14",
          "2020-04-15",
          "2020-04-16",
          "2020-04-17",
          "2020-04-18",
          "2020-04-19",
          "2020-04-20",
          "2020-04-21",
          "2020-04-22",
          "2020-04-23",
          "2020-04-24",
          "2020-04-25",
          "2020-04-26",
          "2020-04-27",
          "2020-04-28",
          "2020-04-29",
          "2020-04-30",
          "2020-05-01",
          "2020-05-02",
          "2020-05-03",
          "2020-05-04",
          "2020-05-05",
          "2020-05-06",
          "2020-05-07",
          "2020-05-08",
          "2020-05-09",
          "2020-05-10",
          "2020-05-11",
          "2020-05-12",
          "2020-05-13",
          "2020-05-14",
          "2020-05-15",
          "2020-05-16",
          "2020-05-17",
          "2020-05-18",
          "2020-05-19",
          "2020-05-20",
          "2020-05-21",
          "2020-05-22",
          "2020-05-23",
          "2020-05-24",
          "2020-05-25",
          "2020-05-26",
          "2020-05-27",
          "2020-05-28",
          "2020-05-29",
          "2020-05-30",
          "2020-05-31",
          "2020-06-01",
          "2020-06-02",
          "2020-06-03",
          "2020-06-04",
          "2020-06-05",
          "2020-06-06",
          "2020-06-07",
          "2020-06-08",
          "2020-06-09",
          "2020-06-10"
         ],
         "xaxis": "x",
         "y": [
          1,
          2,
          8,
          9,
          12,
          13,
          14,
          15,
          16,
          17,
          18,
          19,
          20,
          24,
          25,
          29,
          32,
          38,
          50,
          54,
          85,
          124,
          175,
          224,
          271,
          344,
          391,
          441,
          565,
          788,
          1142,
          1555,
          1947,
          2264,
          2661,
          3207,
          3887,
          4796,
          5727,
          6808,
          7841,
          9049,
          11066,
          13086,
          15347,
          17950,
          20610,
          22984,
          25419,
          28910,
          32673,
          36756,
          40764,
          44803,
          48125,
          51155,
          55483,
          59956,
          64178,
          68183,
          71688,
          74678,
          77361,
          80664,
          84078,
          87680,
          91114,
          94534,
          97110,
          99199,
          102273,
          105257,
          108015,
          110775,
          113546,
          115353,
          116757,
          118977,
          121251,
          123590,
          125713,
          127661,
          128899,
          129859,
          131478,
          133071,
          134501,
          135940,
          136956,
          137845,
          138569,
          139802,
          140897,
          141971,
          142869,
          143776,
          144412,
          145046,
          145987,
          147015,
          147837,
          148584,
          149286,
          149742,
          150127,
          150636,
          151178,
          151722,
          152170,
          152604,
          152946,
          153250,
          153694,
          154172,
          154614,
          154928,
          155248,
          155456,
          155633,
          155856,
          155991,
          156018
         ],
         "yaxis": "y"
        }
       ],
       "layout": {
        "legend": {
         "tracegroupgap": 0
        },
        "margin": {
         "t": 60
        },
        "template": {
         "data": {
          "bar": [
           {
            "error_x": {
             "color": "#2a3f5f"
            },
            "error_y": {
             "color": "#2a3f5f"
            },
            "marker": {
             "line": {
              "color": "#E5ECF6",
              "width": 0.5
             }
            },
            "type": "bar"
           }
          ],
          "barpolar": [
           {
            "marker": {
             "line": {
              "color": "#E5ECF6",
              "width": 0.5
             }
            },
            "type": "barpolar"
           }
          ],
          "carpet": [
           {
            "aaxis": {
             "endlinecolor": "#2a3f5f",
             "gridcolor": "white",
             "linecolor": "white",
             "minorgridcolor": "white",
             "startlinecolor": "#2a3f5f"
            },
            "baxis": {
             "endlinecolor": "#2a3f5f",
             "gridcolor": "white",
             "linecolor": "white",
             "minorgridcolor": "white",
             "startlinecolor": "#2a3f5f"
            },
            "type": "carpet"
           }
          ],
          "choropleth": [
           {
            "colorbar": {
             "outlinewidth": 0,
             "ticks": ""
            },
            "type": "choropleth"
           }
          ],
          "contour": [
           {
            "colorbar": {
             "outlinewidth": 0,
             "ticks": ""
            },
            "colorscale": [
             [
              0,
              "#0d0887"
             ],
             [
              0.1111111111111111,
              "#46039f"
             ],
             [
              0.2222222222222222,
              "#7201a8"
             ],
             [
              0.3333333333333333,
              "#9c179e"
             ],
             [
              0.4444444444444444,
              "#bd3786"
             ],
             [
              0.5555555555555556,
              "#d8576b"
             ],
             [
              0.6666666666666666,
              "#ed7953"
             ],
             [
              0.7777777777777778,
              "#fb9f3a"
             ],
             [
              0.8888888888888888,
              "#fdca26"
             ],
             [
              1,
              "#f0f921"
             ]
            ],
            "type": "contour"
           }
          ],
          "contourcarpet": [
           {
            "colorbar": {
             "outlinewidth": 0,
             "ticks": ""
            },
            "type": "contourcarpet"
           }
          ],
          "heatmap": [
           {
            "colorbar": {
             "outlinewidth": 0,
             "ticks": ""
            },
            "colorscale": [
             [
              0,
              "#0d0887"
             ],
             [
              0.1111111111111111,
              "#46039f"
             ],
             [
              0.2222222222222222,
              "#7201a8"
             ],
             [
              0.3333333333333333,
              "#9c179e"
             ],
             [
              0.4444444444444444,
              "#bd3786"
             ],
             [
              0.5555555555555556,
              "#d8576b"
             ],
             [
              0.6666666666666666,
              "#ed7953"
             ],
             [
              0.7777777777777778,
              "#fb9f3a"
             ],
             [
              0.8888888888888888,
              "#fdca26"
             ],
             [
              1,
              "#f0f921"
             ]
            ],
            "type": "heatmap"
           }
          ],
          "heatmapgl": [
           {
            "colorbar": {
             "outlinewidth": 0,
             "ticks": ""
            },
            "colorscale": [
             [
              0,
              "#0d0887"
             ],
             [
              0.1111111111111111,
              "#46039f"
             ],
             [
              0.2222222222222222,
              "#7201a8"
             ],
             [
              0.3333333333333333,
              "#9c179e"
             ],
             [
              0.4444444444444444,
              "#bd3786"
             ],
             [
              0.5555555555555556,
              "#d8576b"
             ],
             [
              0.6666666666666666,
              "#ed7953"
             ],
             [
              0.7777777777777778,
              "#fb9f3a"
             ],
             [
              0.8888888888888888,
              "#fdca26"
             ],
             [
              1,
              "#f0f921"
             ]
            ],
            "type": "heatmapgl"
           }
          ],
          "histogram": [
           {
            "marker": {
             "colorbar": {
              "outlinewidth": 0,
              "ticks": ""
             }
            },
            "type": "histogram"
           }
          ],
          "histogram2d": [
           {
            "colorbar": {
             "outlinewidth": 0,
             "ticks": ""
            },
            "colorscale": [
             [
              0,
              "#0d0887"
             ],
             [
              0.1111111111111111,
              "#46039f"
             ],
             [
              0.2222222222222222,
              "#7201a8"
             ],
             [
              0.3333333333333333,
              "#9c179e"
             ],
             [
              0.4444444444444444,
              "#bd3786"
             ],
             [
              0.5555555555555556,
              "#d8576b"
             ],
             [
              0.6666666666666666,
              "#ed7953"
             ],
             [
              0.7777777777777778,
              "#fb9f3a"
             ],
             [
              0.8888888888888888,
              "#fdca26"
             ],
             [
              1,
              "#f0f921"
             ]
            ],
            "type": "histogram2d"
           }
          ],
          "histogram2dcontour": [
           {
            "colorbar": {
             "outlinewidth": 0,
             "ticks": ""
            },
            "colorscale": [
             [
              0,
              "#0d0887"
             ],
             [
              0.1111111111111111,
              "#46039f"
             ],
             [
              0.2222222222222222,
              "#7201a8"
             ],
             [
              0.3333333333333333,
              "#9c179e"
             ],
             [
              0.4444444444444444,
              "#bd3786"
             ],
             [
              0.5555555555555556,
              "#d8576b"
             ],
             [
              0.6666666666666666,
              "#ed7953"
             ],
             [
              0.7777777777777778,
              "#fb9f3a"
             ],
             [
              0.8888888888888888,
              "#fdca26"
             ],
             [
              1,
              "#f0f921"
             ]
            ],
            "type": "histogram2dcontour"
           }
          ],
          "mesh3d": [
           {
            "colorbar": {
             "outlinewidth": 0,
             "ticks": ""
            },
            "type": "mesh3d"
           }
          ],
          "parcoords": [
           {
            "line": {
             "colorbar": {
              "outlinewidth": 0,
              "ticks": ""
             }
            },
            "type": "parcoords"
           }
          ],
          "pie": [
           {
            "automargin": true,
            "type": "pie"
           }
          ],
          "scatter": [
           {
            "marker": {
             "colorbar": {
              "outlinewidth": 0,
              "ticks": ""
             }
            },
            "type": "scatter"
           }
          ],
          "scatter3d": [
           {
            "line": {
             "colorbar": {
              "outlinewidth": 0,
              "ticks": ""
             }
            },
            "marker": {
             "colorbar": {
              "outlinewidth": 0,
              "ticks": ""
             }
            },
            "type": "scatter3d"
           }
          ],
          "scattercarpet": [
           {
            "marker": {
             "colorbar": {
              "outlinewidth": 0,
              "ticks": ""
             }
            },
            "type": "scattercarpet"
           }
          ],
          "scattergeo": [
           {
            "marker": {
             "colorbar": {
              "outlinewidth": 0,
              "ticks": ""
             }
            },
            "type": "scattergeo"
           }
          ],
          "scattergl": [
           {
            "marker": {
             "colorbar": {
              "outlinewidth": 0,
              "ticks": ""
             }
            },
            "type": "scattergl"
           }
          ],
          "scattermapbox": [
           {
            "marker": {
             "colorbar": {
              "outlinewidth": 0,
              "ticks": ""
             }
            },
            "type": "scattermapbox"
           }
          ],
          "scatterpolar": [
           {
            "marker": {
             "colorbar": {
              "outlinewidth": 0,
              "ticks": ""
             }
            },
            "type": "scatterpolar"
           }
          ],
          "scatterpolargl": [
           {
            "marker": {
             "colorbar": {
              "outlinewidth": 0,
              "ticks": ""
             }
            },
            "type": "scatterpolargl"
           }
          ],
          "scatterternary": [
           {
            "marker": {
             "colorbar": {
              "outlinewidth": 0,
              "ticks": ""
             }
            },
            "type": "scatterternary"
           }
          ],
          "surface": [
           {
            "colorbar": {
             "outlinewidth": 0,
             "ticks": ""
            },
            "colorscale": [
             [
              0,
              "#0d0887"
             ],
             [
              0.1111111111111111,
              "#46039f"
             ],
             [
              0.2222222222222222,
              "#7201a8"
             ],
             [
              0.3333333333333333,
              "#9c179e"
             ],
             [
              0.4444444444444444,
              "#bd3786"
             ],
             [
              0.5555555555555556,
              "#d8576b"
             ],
             [
              0.6666666666666666,
              "#ed7953"
             ],
             [
              0.7777777777777778,
              "#fb9f3a"
             ],
             [
              0.8888888888888888,
              "#fdca26"
             ],
             [
              1,
              "#f0f921"
             ]
            ],
            "type": "surface"
           }
          ],
          "table": [
           {
            "cells": {
             "fill": {
              "color": "#EBF0F8"
             },
             "line": {
              "color": "white"
             }
            },
            "header": {
             "fill": {
              "color": "#C8D4E3"
             },
             "line": {
              "color": "white"
             }
            },
            "type": "table"
           }
          ]
         },
         "layout": {
          "annotationdefaults": {
           "arrowcolor": "#2a3f5f",
           "arrowhead": 0,
           "arrowwidth": 1
          },
          "coloraxis": {
           "colorbar": {
            "outlinewidth": 0,
            "ticks": ""
           }
          },
          "colorscale": {
           "diverging": [
            [
             0,
             "#8e0152"
            ],
            [
             0.1,
             "#c51b7d"
            ],
            [
             0.2,
             "#de77ae"
            ],
            [
             0.3,
             "#f1b6da"
            ],
            [
             0.4,
             "#fde0ef"
            ],
            [
             0.5,
             "#f7f7f7"
            ],
            [
             0.6,
             "#e6f5d0"
            ],
            [
             0.7,
             "#b8e186"
            ],
            [
             0.8,
             "#7fbc41"
            ],
            [
             0.9,
             "#4d9221"
            ],
            [
             1,
             "#276419"
            ]
           ],
           "sequential": [
            [
             0,
             "#0d0887"
            ],
            [
             0.1111111111111111,
             "#46039f"
            ],
            [
             0.2222222222222222,
             "#7201a8"
            ],
            [
             0.3333333333333333,
             "#9c179e"
            ],
            [
             0.4444444444444444,
             "#bd3786"
            ],
            [
             0.5555555555555556,
             "#d8576b"
            ],
            [
             0.6666666666666666,
             "#ed7953"
            ],
            [
             0.7777777777777778,
             "#fb9f3a"
            ],
            [
             0.8888888888888888,
             "#fdca26"
            ],
            [
             1,
             "#f0f921"
            ]
           ],
           "sequentialminus": [
            [
             0,
             "#0d0887"
            ],
            [
             0.1111111111111111,
             "#46039f"
            ],
            [
             0.2222222222222222,
             "#7201a8"
            ],
            [
             0.3333333333333333,
             "#9c179e"
            ],
            [
             0.4444444444444444,
             "#bd3786"
            ],
            [
             0.5555555555555556,
             "#d8576b"
            ],
            [
             0.6666666666666666,
             "#ed7953"
            ],
            [
             0.7777777777777778,
             "#fb9f3a"
            ],
            [
             0.8888888888888888,
             "#fdca26"
            ],
            [
             1,
             "#f0f921"
            ]
           ]
          },
          "colorway": [
           "#636efa",
           "#EF553B",
           "#00cc96",
           "#ab63fa",
           "#FFA15A",
           "#19d3f3",
           "#FF6692",
           "#B6E880",
           "#FF97FF",
           "#FECB52"
          ],
          "font": {
           "color": "#2a3f5f"
          },
          "geo": {
           "bgcolor": "white",
           "lakecolor": "white",
           "landcolor": "#E5ECF6",
           "showlakes": true,
           "showland": true,
           "subunitcolor": "white"
          },
          "hoverlabel": {
           "align": "left"
          },
          "hovermode": "closest",
          "mapbox": {
           "style": "light"
          },
          "paper_bgcolor": "white",
          "plot_bgcolor": "#E5ECF6",
          "polar": {
           "angularaxis": {
            "gridcolor": "white",
            "linecolor": "white",
            "ticks": ""
           },
           "bgcolor": "#E5ECF6",
           "radialaxis": {
            "gridcolor": "white",
            "linecolor": "white",
            "ticks": ""
           }
          },
          "scene": {
           "xaxis": {
            "backgroundcolor": "#E5ECF6",
            "gridcolor": "white",
            "gridwidth": 2,
            "linecolor": "white",
            "showbackground": true,
            "ticks": "",
            "zerolinecolor": "white"
           },
           "yaxis": {
            "backgroundcolor": "#E5ECF6",
            "gridcolor": "white",
            "gridwidth": 2,
            "linecolor": "white",
            "showbackground": true,
            "ticks": "",
            "zerolinecolor": "white"
           },
           "zaxis": {
            "backgroundcolor": "#E5ECF6",
            "gridcolor": "white",
            "gridwidth": 2,
            "linecolor": "white",
            "showbackground": true,
            "ticks": "",
            "zerolinecolor": "white"
           }
          },
          "shapedefaults": {
           "line": {
            "color": "#2a3f5f"
           }
          },
          "ternary": {
           "aaxis": {
            "gridcolor": "white",
            "linecolor": "white",
            "ticks": ""
           },
           "baxis": {
            "gridcolor": "white",
            "linecolor": "white",
            "ticks": ""
           },
           "bgcolor": "#E5ECF6",
           "caxis": {
            "gridcolor": "white",
            "linecolor": "white",
            "ticks": ""
           }
          },
          "title": {
           "x": 0.05
          },
          "xaxis": {
           "automargin": true,
           "gridcolor": "white",
           "linecolor": "white",
           "ticks": "",
           "title": {
            "standoff": 15
           },
           "zerolinecolor": "white",
           "zerolinewidth": 2
          },
          "yaxis": {
           "automargin": true,
           "gridcolor": "white",
           "linecolor": "white",
           "ticks": "",
           "title": {
            "standoff": 15
           },
           "zerolinecolor": "white",
           "zerolinewidth": 2
          }
         }
        },
        "xaxis": {
         "anchor": "y",
         "domain": [
          0,
          1
         ],
         "title": {
          "text": "Specimen date"
         }
        },
        "yaxis": {
         "anchor": "x",
         "domain": [
          0,
          1
         ],
         "title": {
          "text": "Cumulative lab-confirmed cases"
         }
        }
       }
      },
      "text/html": [
       "<div>\n",
       "        \n",
       "        \n",
       "            <div id=\"8fd6ae02-1834-4bb2-a76c-09714e737108\" class=\"plotly-graph-div\" style=\"height:525px; width:100%;\"></div>\n",
       "            <script type=\"text/javascript\">\n",
       "                require([\"plotly\"], function(Plotly) {\n",
       "                    window.PLOTLYENV=window.PLOTLYENV || {};\n",
       "                    \n",
       "                if (document.getElementById(\"8fd6ae02-1834-4bb2-a76c-09714e737108\")) {\n",
       "                    Plotly.newPlot(\n",
       "                        '8fd6ae02-1834-4bb2-a76c-09714e737108',\n",
       "                        [{\"hovertemplate\": \"Specimen date=%{x}<br>Cumulative lab-confirmed cases=%{y}<extra></extra>\", \"legendgroup\": \"\", \"line\": {\"color\": \"#636efa\", \"dash\": \"solid\"}, \"mode\": \"lines+markers\", \"name\": \"\", \"orientation\": \"v\", \"showlegend\": false, \"type\": \"scatter\", \"x\": [\"2020-01-30\", \"2020-01-31\", \"2020-02-03\", \"2020-02-05\", \"2020-02-08\", \"2020-02-09\", \"2020-02-11\", \"2020-02-12\", \"2020-02-13\", \"2020-02-14\", \"2020-02-17\", \"2020-02-19\", \"2020-02-21\", \"2020-02-23\", \"2020-02-24\", \"2020-02-25\", \"2020-02-26\", \"2020-02-27\", \"2020-02-28\", \"2020-02-29\", \"2020-03-01\", \"2020-03-02\", \"2020-03-03\", \"2020-03-04\", \"2020-03-05\", \"2020-03-06\", \"2020-03-07\", \"2020-03-08\", \"2020-03-09\", \"2020-03-10\", \"2020-03-11\", \"2020-03-12\", \"2020-03-13\", \"2020-03-14\", \"2020-03-15\", \"2020-03-16\", \"2020-03-17\", \"2020-03-18\", \"2020-03-19\", \"2020-03-20\", \"2020-03-21\", \"2020-03-22\", \"2020-03-23\", \"2020-03-24\", \"2020-03-25\", \"2020-03-26\", \"2020-03-27\", \"2020-03-28\", \"2020-03-29\", \"2020-03-30\", \"2020-03-31\", \"2020-04-01\", \"2020-04-02\", \"2020-04-03\", \"2020-04-04\", \"2020-04-05\", \"2020-04-06\", \"2020-04-07\", \"2020-04-08\", \"2020-04-09\", \"2020-04-10\", \"2020-04-11\", \"2020-04-12\", \"2020-04-13\", \"2020-04-14\", \"2020-04-15\", \"2020-04-16\", \"2020-04-17\", \"2020-04-18\", \"2020-04-19\", \"2020-04-20\", \"2020-04-21\", \"2020-04-22\", \"2020-04-23\", \"2020-04-24\", \"2020-04-25\", \"2020-04-26\", \"2020-04-27\", \"2020-04-28\", \"2020-04-29\", \"2020-04-30\", \"2020-05-01\", \"2020-05-02\", \"2020-05-03\", \"2020-05-04\", \"2020-05-05\", \"2020-05-06\", \"2020-05-07\", \"2020-05-08\", \"2020-05-09\", \"2020-05-10\", \"2020-05-11\", \"2020-05-12\", \"2020-05-13\", \"2020-05-14\", \"2020-05-15\", \"2020-05-16\", \"2020-05-17\", \"2020-05-18\", \"2020-05-19\", \"2020-05-20\", \"2020-05-21\", \"2020-05-22\", \"2020-05-23\", \"2020-05-24\", \"2020-05-25\", \"2020-05-26\", \"2020-05-27\", \"2020-05-28\", \"2020-05-29\", \"2020-05-30\", \"2020-05-31\", \"2020-06-01\", \"2020-06-02\", \"2020-06-03\", \"2020-06-04\", \"2020-06-05\", \"2020-06-06\", \"2020-06-07\", \"2020-06-08\", \"2020-06-09\", \"2020-06-10\"], \"xaxis\": \"x\", \"y\": [1, 2, 8, 9, 12, 13, 14, 15, 16, 17, 18, 19, 20, 24, 25, 29, 32, 38, 50, 54, 85, 124, 175, 224, 271, 344, 391, 441, 565, 788, 1142, 1555, 1947, 2264, 2661, 3207, 3887, 4796, 5727, 6808, 7841, 9049, 11066, 13086, 15347, 17950, 20610, 22984, 25419, 28910, 32673, 36756, 40764, 44803, 48125, 51155, 55483, 59956, 64178, 68183, 71688, 74678, 77361, 80664, 84078, 87680, 91114, 94534, 97110, 99199, 102273, 105257, 108015, 110775, 113546, 115353, 116757, 118977, 121251, 123590, 125713, 127661, 128899, 129859, 131478, 133071, 134501, 135940, 136956, 137845, 138569, 139802, 140897, 141971, 142869, 143776, 144412, 145046, 145987, 147015, 147837, 148584, 149286, 149742, 150127, 150636, 151178, 151722, 152170, 152604, 152946, 153250, 153694, 154172, 154614, 154928, 155248, 155456, 155633, 155856, 155991, 156018], \"yaxis\": \"y\"}],\n",
       "                        {\"legend\": {\"tracegroupgap\": 0}, \"margin\": {\"t\": 60}, \"template\": {\"data\": {\"bar\": [{\"error_x\": {\"color\": \"#2a3f5f\"}, \"error_y\": {\"color\": \"#2a3f5f\"}, \"marker\": {\"line\": {\"color\": \"#E5ECF6\", \"width\": 0.5}}, \"type\": \"bar\"}], \"barpolar\": [{\"marker\": {\"line\": {\"color\": \"#E5ECF6\", \"width\": 0.5}}, \"type\": \"barpolar\"}], \"carpet\": [{\"aaxis\": {\"endlinecolor\": \"#2a3f5f\", \"gridcolor\": \"white\", \"linecolor\": \"white\", \"minorgridcolor\": \"white\", \"startlinecolor\": \"#2a3f5f\"}, \"baxis\": {\"endlinecolor\": \"#2a3f5f\", \"gridcolor\": \"white\", \"linecolor\": \"white\", \"minorgridcolor\": \"white\", \"startlinecolor\": \"#2a3f5f\"}, \"type\": \"carpet\"}], \"choropleth\": [{\"colorbar\": {\"outlinewidth\": 0, \"ticks\": \"\"}, \"type\": \"choropleth\"}], \"contour\": [{\"colorbar\": {\"outlinewidth\": 0, \"ticks\": \"\"}, \"colorscale\": [[0.0, \"#0d0887\"], [0.1111111111111111, \"#46039f\"], [0.2222222222222222, \"#7201a8\"], [0.3333333333333333, \"#9c179e\"], [0.4444444444444444, \"#bd3786\"], [0.5555555555555556, \"#d8576b\"], [0.6666666666666666, \"#ed7953\"], [0.7777777777777778, \"#fb9f3a\"], [0.8888888888888888, \"#fdca26\"], [1.0, \"#f0f921\"]], \"type\": \"contour\"}], \"contourcarpet\": [{\"colorbar\": {\"outlinewidth\": 0, \"ticks\": \"\"}, \"type\": \"contourcarpet\"}], \"heatmap\": [{\"colorbar\": {\"outlinewidth\": 0, \"ticks\": \"\"}, \"colorscale\": [[0.0, \"#0d0887\"], [0.1111111111111111, \"#46039f\"], [0.2222222222222222, \"#7201a8\"], [0.3333333333333333, \"#9c179e\"], [0.4444444444444444, \"#bd3786\"], [0.5555555555555556, \"#d8576b\"], [0.6666666666666666, \"#ed7953\"], [0.7777777777777778, \"#fb9f3a\"], [0.8888888888888888, \"#fdca26\"], [1.0, \"#f0f921\"]], \"type\": \"heatmap\"}], \"heatmapgl\": [{\"colorbar\": {\"outlinewidth\": 0, \"ticks\": \"\"}, \"colorscale\": [[0.0, \"#0d0887\"], [0.1111111111111111, \"#46039f\"], [0.2222222222222222, \"#7201a8\"], [0.3333333333333333, \"#9c179e\"], [0.4444444444444444, \"#bd3786\"], [0.5555555555555556, \"#d8576b\"], [0.6666666666666666, \"#ed7953\"], [0.7777777777777778, \"#fb9f3a\"], [0.8888888888888888, \"#fdca26\"], [1.0, \"#f0f921\"]], \"type\": \"heatmapgl\"}], \"histogram\": [{\"marker\": {\"colorbar\": {\"outlinewidth\": 0, \"ticks\": \"\"}}, \"type\": \"histogram\"}], \"histogram2d\": [{\"colorbar\": {\"outlinewidth\": 0, \"ticks\": \"\"}, \"colorscale\": [[0.0, \"#0d0887\"], [0.1111111111111111, \"#46039f\"], [0.2222222222222222, \"#7201a8\"], [0.3333333333333333, \"#9c179e\"], [0.4444444444444444, \"#bd3786\"], [0.5555555555555556, \"#d8576b\"], [0.6666666666666666, \"#ed7953\"], [0.7777777777777778, \"#fb9f3a\"], [0.8888888888888888, \"#fdca26\"], [1.0, \"#f0f921\"]], \"type\": \"histogram2d\"}], \"histogram2dcontour\": [{\"colorbar\": {\"outlinewidth\": 0, \"ticks\": \"\"}, \"colorscale\": [[0.0, \"#0d0887\"], [0.1111111111111111, \"#46039f\"], [0.2222222222222222, \"#7201a8\"], [0.3333333333333333, \"#9c179e\"], [0.4444444444444444, \"#bd3786\"], [0.5555555555555556, \"#d8576b\"], [0.6666666666666666, \"#ed7953\"], [0.7777777777777778, \"#fb9f3a\"], [0.8888888888888888, \"#fdca26\"], [1.0, \"#f0f921\"]], \"type\": \"histogram2dcontour\"}], \"mesh3d\": [{\"colorbar\": {\"outlinewidth\": 0, \"ticks\": \"\"}, \"type\": \"mesh3d\"}], \"parcoords\": [{\"line\": {\"colorbar\": {\"outlinewidth\": 0, \"ticks\": \"\"}}, \"type\": \"parcoords\"}], \"pie\": [{\"automargin\": true, \"type\": \"pie\"}], \"scatter\": [{\"marker\": {\"colorbar\": {\"outlinewidth\": 0, \"ticks\": \"\"}}, \"type\": \"scatter\"}], \"scatter3d\": [{\"line\": {\"colorbar\": {\"outlinewidth\": 0, \"ticks\": \"\"}}, \"marker\": {\"colorbar\": {\"outlinewidth\": 0, \"ticks\": \"\"}}, \"type\": \"scatter3d\"}], \"scattercarpet\": [{\"marker\": {\"colorbar\": {\"outlinewidth\": 0, \"ticks\": \"\"}}, \"type\": \"scattercarpet\"}], \"scattergeo\": [{\"marker\": {\"colorbar\": {\"outlinewidth\": 0, \"ticks\": \"\"}}, \"type\": \"scattergeo\"}], \"scattergl\": [{\"marker\": {\"colorbar\": {\"outlinewidth\": 0, \"ticks\": \"\"}}, \"type\": \"scattergl\"}], \"scattermapbox\": [{\"marker\": {\"colorbar\": {\"outlinewidth\": 0, \"ticks\": \"\"}}, \"type\": \"scattermapbox\"}], \"scatterpolar\": [{\"marker\": {\"colorbar\": {\"outlinewidth\": 0, \"ticks\": \"\"}}, \"type\": \"scatterpolar\"}], \"scatterpolargl\": [{\"marker\": {\"colorbar\": {\"outlinewidth\": 0, \"ticks\": \"\"}}, \"type\": \"scatterpolargl\"}], \"scatterternary\": [{\"marker\": {\"colorbar\": {\"outlinewidth\": 0, \"ticks\": \"\"}}, \"type\": \"scatterternary\"}], \"surface\": [{\"colorbar\": {\"outlinewidth\": 0, \"ticks\": \"\"}, \"colorscale\": [[0.0, \"#0d0887\"], [0.1111111111111111, \"#46039f\"], [0.2222222222222222, \"#7201a8\"], [0.3333333333333333, \"#9c179e\"], [0.4444444444444444, \"#bd3786\"], [0.5555555555555556, \"#d8576b\"], [0.6666666666666666, \"#ed7953\"], [0.7777777777777778, \"#fb9f3a\"], [0.8888888888888888, \"#fdca26\"], [1.0, \"#f0f921\"]], \"type\": \"surface\"}], \"table\": [{\"cells\": {\"fill\": {\"color\": \"#EBF0F8\"}, \"line\": {\"color\": \"white\"}}, \"header\": {\"fill\": {\"color\": \"#C8D4E3\"}, \"line\": {\"color\": \"white\"}}, \"type\": \"table\"}]}, \"layout\": {\"annotationdefaults\": {\"arrowcolor\": \"#2a3f5f\", \"arrowhead\": 0, \"arrowwidth\": 1}, \"coloraxis\": {\"colorbar\": {\"outlinewidth\": 0, \"ticks\": \"\"}}, \"colorscale\": {\"diverging\": [[0, \"#8e0152\"], [0.1, \"#c51b7d\"], [0.2, \"#de77ae\"], [0.3, \"#f1b6da\"], [0.4, \"#fde0ef\"], [0.5, \"#f7f7f7\"], [0.6, \"#e6f5d0\"], [0.7, \"#b8e186\"], [0.8, \"#7fbc41\"], [0.9, \"#4d9221\"], [1, \"#276419\"]], \"sequential\": [[0.0, \"#0d0887\"], [0.1111111111111111, \"#46039f\"], [0.2222222222222222, \"#7201a8\"], [0.3333333333333333, \"#9c179e\"], [0.4444444444444444, \"#bd3786\"], [0.5555555555555556, \"#d8576b\"], [0.6666666666666666, \"#ed7953\"], [0.7777777777777778, \"#fb9f3a\"], [0.8888888888888888, \"#fdca26\"], [1.0, \"#f0f921\"]], \"sequentialminus\": [[0.0, \"#0d0887\"], [0.1111111111111111, \"#46039f\"], [0.2222222222222222, \"#7201a8\"], [0.3333333333333333, \"#9c179e\"], [0.4444444444444444, \"#bd3786\"], [0.5555555555555556, \"#d8576b\"], [0.6666666666666666, \"#ed7953\"], [0.7777777777777778, \"#fb9f3a\"], [0.8888888888888888, \"#fdca26\"], [1.0, \"#f0f921\"]]}, \"colorway\": [\"#636efa\", \"#EF553B\", \"#00cc96\", \"#ab63fa\", \"#FFA15A\", \"#19d3f3\", \"#FF6692\", \"#B6E880\", \"#FF97FF\", \"#FECB52\"], \"font\": {\"color\": \"#2a3f5f\"}, \"geo\": {\"bgcolor\": \"white\", \"lakecolor\": \"white\", \"landcolor\": \"#E5ECF6\", \"showlakes\": true, \"showland\": true, \"subunitcolor\": \"white\"}, \"hoverlabel\": {\"align\": \"left\"}, \"hovermode\": \"closest\", \"mapbox\": {\"style\": \"light\"}, \"paper_bgcolor\": \"white\", \"plot_bgcolor\": \"#E5ECF6\", \"polar\": {\"angularaxis\": {\"gridcolor\": \"white\", \"linecolor\": \"white\", \"ticks\": \"\"}, \"bgcolor\": \"#E5ECF6\", \"radialaxis\": {\"gridcolor\": \"white\", \"linecolor\": \"white\", \"ticks\": \"\"}}, \"scene\": {\"xaxis\": {\"backgroundcolor\": \"#E5ECF6\", \"gridcolor\": \"white\", \"gridwidth\": 2, \"linecolor\": \"white\", \"showbackground\": true, \"ticks\": \"\", \"zerolinecolor\": \"white\"}, \"yaxis\": {\"backgroundcolor\": \"#E5ECF6\", \"gridcolor\": \"white\", \"gridwidth\": 2, \"linecolor\": \"white\", \"showbackground\": true, \"ticks\": \"\", \"zerolinecolor\": \"white\"}, \"zaxis\": {\"backgroundcolor\": \"#E5ECF6\", \"gridcolor\": \"white\", \"gridwidth\": 2, \"linecolor\": \"white\", \"showbackground\": true, \"ticks\": \"\", \"zerolinecolor\": \"white\"}}, \"shapedefaults\": {\"line\": {\"color\": \"#2a3f5f\"}}, \"ternary\": {\"aaxis\": {\"gridcolor\": \"white\", \"linecolor\": \"white\", \"ticks\": \"\"}, \"baxis\": {\"gridcolor\": \"white\", \"linecolor\": \"white\", \"ticks\": \"\"}, \"bgcolor\": \"#E5ECF6\", \"caxis\": {\"gridcolor\": \"white\", \"linecolor\": \"white\", \"ticks\": \"\"}}, \"title\": {\"x\": 0.05}, \"xaxis\": {\"automargin\": true, \"gridcolor\": \"white\", \"linecolor\": \"white\", \"ticks\": \"\", \"title\": {\"standoff\": 15}, \"zerolinecolor\": \"white\", \"zerolinewidth\": 2}, \"yaxis\": {\"automargin\": true, \"gridcolor\": \"white\", \"linecolor\": \"white\", \"ticks\": \"\", \"title\": {\"standoff\": 15}, \"zerolinecolor\": \"white\", \"zerolinewidth\": 2}}}, \"xaxis\": {\"anchor\": \"y\", \"domain\": [0.0, 1.0], \"title\": {\"text\": \"Specimen date\"}}, \"yaxis\": {\"anchor\": \"x\", \"domain\": [0.0, 1.0], \"title\": {\"text\": \"Cumulative lab-confirmed cases\"}}},\n",
       "                        {\"responsive\": true}\n",
       "                    ).then(function(){\n",
       "                            \n",
       "var gd = document.getElementById('8fd6ae02-1834-4bb2-a76c-09714e737108');\n",
       "var x = new MutationObserver(function (mutations, observer) {{\n",
       "        var display = window.getComputedStyle(gd).display;\n",
       "        if (!display || display === 'none') {{\n",
       "            console.log([gd, 'removed!']);\n",
       "            Plotly.purge(gd);\n",
       "            observer.disconnect();\n",
       "        }}\n",
       "}});\n",
       "\n",
       "// Listen for the removal of the full notebook cells\n",
       "var notebookContainer = gd.closest('#notebook-container');\n",
       "if (notebookContainer) {{\n",
       "    x.observe(notebookContainer, {childList: true});\n",
       "}}\n",
       "\n",
       "// Listen for the clearing of the current output cell\n",
       "var outputEl = gd.closest('.output');\n",
       "if (outputEl) {{\n",
       "    x.observe(outputEl, {childList: true});\n",
       "}}\n",
       "\n",
       "                        })\n",
       "                };\n",
       "                });\n",
       "            </script>\n",
       "        </div>"
      ]
     },
     "metadata": {},
     "output_type": "display_data"
    }
   ],
   "source": [
    "fig = px.line(df_cases_england, x='Specimen date', y='Cumulative lab-confirmed cases')\n",
    "fig.update_traces(mode='lines+markers')\n",
    "fig.show()"
   ]
  },
  {
   "cell_type": "code",
   "execution_count": 73,
   "metadata": {},
   "outputs": [
    {
     "data": {
      "application/vnd.plotly.v1+json": {
       "config": {
        "plotlyServerURL": "https://plot.ly"
       },
       "data": [
        {
         "alignmentgroup": "True",
         "hovertemplate": "Specimen date=%{x}<br>Daily lab-confirmed cases=%{y}<extra></extra>",
         "legendgroup": "",
         "marker": {
          "color": "#636efa"
         },
         "name": "",
         "offsetgroup": "",
         "orientation": "v",
         "showlegend": false,
         "textposition": "auto",
         "type": "bar",
         "x": [
          "2020-01-30",
          "2020-01-31",
          "2020-02-03",
          "2020-02-05",
          "2020-02-08",
          "2020-02-09",
          "2020-02-11",
          "2020-02-12",
          "2020-02-13",
          "2020-02-14",
          "2020-02-17",
          "2020-02-19",
          "2020-02-21",
          "2020-02-23",
          "2020-02-24",
          "2020-02-25",
          "2020-02-26",
          "2020-02-27",
          "2020-02-28",
          "2020-02-29",
          "2020-03-01",
          "2020-03-02",
          "2020-03-03",
          "2020-03-04",
          "2020-03-05",
          "2020-03-06",
          "2020-03-07",
          "2020-03-08",
          "2020-03-09",
          "2020-03-10",
          "2020-03-11",
          "2020-03-12",
          "2020-03-13",
          "2020-03-14",
          "2020-03-15",
          "2020-03-16",
          "2020-03-17",
          "2020-03-18",
          "2020-03-19",
          "2020-03-20",
          "2020-03-21",
          "2020-03-22",
          "2020-03-23",
          "2020-03-24",
          "2020-03-25",
          "2020-03-26",
          "2020-03-27",
          "2020-03-28",
          "2020-03-29",
          "2020-03-30",
          "2020-03-31",
          "2020-04-01",
          "2020-04-02",
          "2020-04-03",
          "2020-04-04",
          "2020-04-05",
          "2020-04-06",
          "2020-04-07",
          "2020-04-08",
          "2020-04-09",
          "2020-04-10",
          "2020-04-11",
          "2020-04-12",
          "2020-04-13",
          "2020-04-14",
          "2020-04-15",
          "2020-04-16",
          "2020-04-17",
          "2020-04-18",
          "2020-04-19",
          "2020-04-20",
          "2020-04-21",
          "2020-04-22",
          "2020-04-23",
          "2020-04-24",
          "2020-04-25",
          "2020-04-26",
          "2020-04-27",
          "2020-04-28",
          "2020-04-29",
          "2020-04-30",
          "2020-05-01",
          "2020-05-02",
          "2020-05-03",
          "2020-05-04",
          "2020-05-05",
          "2020-05-06",
          "2020-05-07",
          "2020-05-08",
          "2020-05-09",
          "2020-05-10",
          "2020-05-11",
          "2020-05-12",
          "2020-05-13",
          "2020-05-14",
          "2020-05-15",
          "2020-05-16",
          "2020-05-17",
          "2020-05-18",
          "2020-05-19",
          "2020-05-20",
          "2020-05-21",
          "2020-05-22",
          "2020-05-23",
          "2020-05-24",
          "2020-05-25",
          "2020-05-26",
          "2020-05-27",
          "2020-05-28",
          "2020-05-29",
          "2020-05-30",
          "2020-05-31",
          "2020-06-01",
          "2020-06-02",
          "2020-06-03",
          "2020-06-04",
          "2020-06-05",
          "2020-06-06",
          "2020-06-07",
          "2020-06-08",
          "2020-06-09",
          "2020-06-10"
         ],
         "xaxis": "x",
         "y": [
          1,
          1,
          6,
          1,
          3,
          1,
          1,
          1,
          1,
          1,
          1,
          1,
          1,
          4,
          1,
          4,
          3,
          6,
          12,
          4,
          31,
          39,
          51,
          49,
          47,
          73,
          47,
          50,
          124,
          223,
          354,
          413,
          392,
          317,
          397,
          546,
          680,
          909,
          931,
          1081,
          1033,
          1208,
          2017,
          2020,
          2261,
          2603,
          2660,
          2374,
          2435,
          3491,
          3763,
          4083,
          4008,
          4039,
          3322,
          3030,
          4328,
          4473,
          4222,
          4005,
          3505,
          2990,
          2683,
          3303,
          3414,
          3602,
          3434,
          3420,
          2576,
          2089,
          3074,
          2984,
          2758,
          2760,
          2771,
          1807,
          1404,
          2220,
          2274,
          2339,
          2123,
          1948,
          1238,
          960,
          1619,
          1593,
          1430,
          1439,
          1016,
          889,
          724,
          1233,
          1095,
          1074,
          898,
          907,
          636,
          634,
          941,
          1028,
          822,
          747,
          702,
          456,
          385,
          509,
          542,
          544,
          448,
          434,
          342,
          304,
          444,
          478,
          442,
          314,
          320,
          208,
          177,
          223,
          135,
          27
         ],
         "yaxis": "y"
        }
       ],
       "layout": {
        "barmode": "relative",
        "legend": {
         "tracegroupgap": 0
        },
        "margin": {
         "t": 60
        },
        "template": {
         "data": {
          "bar": [
           {
            "error_x": {
             "color": "#2a3f5f"
            },
            "error_y": {
             "color": "#2a3f5f"
            },
            "marker": {
             "line": {
              "color": "#E5ECF6",
              "width": 0.5
             }
            },
            "type": "bar"
           }
          ],
          "barpolar": [
           {
            "marker": {
             "line": {
              "color": "#E5ECF6",
              "width": 0.5
             }
            },
            "type": "barpolar"
           }
          ],
          "carpet": [
           {
            "aaxis": {
             "endlinecolor": "#2a3f5f",
             "gridcolor": "white",
             "linecolor": "white",
             "minorgridcolor": "white",
             "startlinecolor": "#2a3f5f"
            },
            "baxis": {
             "endlinecolor": "#2a3f5f",
             "gridcolor": "white",
             "linecolor": "white",
             "minorgridcolor": "white",
             "startlinecolor": "#2a3f5f"
            },
            "type": "carpet"
           }
          ],
          "choropleth": [
           {
            "colorbar": {
             "outlinewidth": 0,
             "ticks": ""
            },
            "type": "choropleth"
           }
          ],
          "contour": [
           {
            "colorbar": {
             "outlinewidth": 0,
             "ticks": ""
            },
            "colorscale": [
             [
              0,
              "#0d0887"
             ],
             [
              0.1111111111111111,
              "#46039f"
             ],
             [
              0.2222222222222222,
              "#7201a8"
             ],
             [
              0.3333333333333333,
              "#9c179e"
             ],
             [
              0.4444444444444444,
              "#bd3786"
             ],
             [
              0.5555555555555556,
              "#d8576b"
             ],
             [
              0.6666666666666666,
              "#ed7953"
             ],
             [
              0.7777777777777778,
              "#fb9f3a"
             ],
             [
              0.8888888888888888,
              "#fdca26"
             ],
             [
              1,
              "#f0f921"
             ]
            ],
            "type": "contour"
           }
          ],
          "contourcarpet": [
           {
            "colorbar": {
             "outlinewidth": 0,
             "ticks": ""
            },
            "type": "contourcarpet"
           }
          ],
          "heatmap": [
           {
            "colorbar": {
             "outlinewidth": 0,
             "ticks": ""
            },
            "colorscale": [
             [
              0,
              "#0d0887"
             ],
             [
              0.1111111111111111,
              "#46039f"
             ],
             [
              0.2222222222222222,
              "#7201a8"
             ],
             [
              0.3333333333333333,
              "#9c179e"
             ],
             [
              0.4444444444444444,
              "#bd3786"
             ],
             [
              0.5555555555555556,
              "#d8576b"
             ],
             [
              0.6666666666666666,
              "#ed7953"
             ],
             [
              0.7777777777777778,
              "#fb9f3a"
             ],
             [
              0.8888888888888888,
              "#fdca26"
             ],
             [
              1,
              "#f0f921"
             ]
            ],
            "type": "heatmap"
           }
          ],
          "heatmapgl": [
           {
            "colorbar": {
             "outlinewidth": 0,
             "ticks": ""
            },
            "colorscale": [
             [
              0,
              "#0d0887"
             ],
             [
              0.1111111111111111,
              "#46039f"
             ],
             [
              0.2222222222222222,
              "#7201a8"
             ],
             [
              0.3333333333333333,
              "#9c179e"
             ],
             [
              0.4444444444444444,
              "#bd3786"
             ],
             [
              0.5555555555555556,
              "#d8576b"
             ],
             [
              0.6666666666666666,
              "#ed7953"
             ],
             [
              0.7777777777777778,
              "#fb9f3a"
             ],
             [
              0.8888888888888888,
              "#fdca26"
             ],
             [
              1,
              "#f0f921"
             ]
            ],
            "type": "heatmapgl"
           }
          ],
          "histogram": [
           {
            "marker": {
             "colorbar": {
              "outlinewidth": 0,
              "ticks": ""
             }
            },
            "type": "histogram"
           }
          ],
          "histogram2d": [
           {
            "colorbar": {
             "outlinewidth": 0,
             "ticks": ""
            },
            "colorscale": [
             [
              0,
              "#0d0887"
             ],
             [
              0.1111111111111111,
              "#46039f"
             ],
             [
              0.2222222222222222,
              "#7201a8"
             ],
             [
              0.3333333333333333,
              "#9c179e"
             ],
             [
              0.4444444444444444,
              "#bd3786"
             ],
             [
              0.5555555555555556,
              "#d8576b"
             ],
             [
              0.6666666666666666,
              "#ed7953"
             ],
             [
              0.7777777777777778,
              "#fb9f3a"
             ],
             [
              0.8888888888888888,
              "#fdca26"
             ],
             [
              1,
              "#f0f921"
             ]
            ],
            "type": "histogram2d"
           }
          ],
          "histogram2dcontour": [
           {
            "colorbar": {
             "outlinewidth": 0,
             "ticks": ""
            },
            "colorscale": [
             [
              0,
              "#0d0887"
             ],
             [
              0.1111111111111111,
              "#46039f"
             ],
             [
              0.2222222222222222,
              "#7201a8"
             ],
             [
              0.3333333333333333,
              "#9c179e"
             ],
             [
              0.4444444444444444,
              "#bd3786"
             ],
             [
              0.5555555555555556,
              "#d8576b"
             ],
             [
              0.6666666666666666,
              "#ed7953"
             ],
             [
              0.7777777777777778,
              "#fb9f3a"
             ],
             [
              0.8888888888888888,
              "#fdca26"
             ],
             [
              1,
              "#f0f921"
             ]
            ],
            "type": "histogram2dcontour"
           }
          ],
          "mesh3d": [
           {
            "colorbar": {
             "outlinewidth": 0,
             "ticks": ""
            },
            "type": "mesh3d"
           }
          ],
          "parcoords": [
           {
            "line": {
             "colorbar": {
              "outlinewidth": 0,
              "ticks": ""
             }
            },
            "type": "parcoords"
           }
          ],
          "pie": [
           {
            "automargin": true,
            "type": "pie"
           }
          ],
          "scatter": [
           {
            "marker": {
             "colorbar": {
              "outlinewidth": 0,
              "ticks": ""
             }
            },
            "type": "scatter"
           }
          ],
          "scatter3d": [
           {
            "line": {
             "colorbar": {
              "outlinewidth": 0,
              "ticks": ""
             }
            },
            "marker": {
             "colorbar": {
              "outlinewidth": 0,
              "ticks": ""
             }
            },
            "type": "scatter3d"
           }
          ],
          "scattercarpet": [
           {
            "marker": {
             "colorbar": {
              "outlinewidth": 0,
              "ticks": ""
             }
            },
            "type": "scattercarpet"
           }
          ],
          "scattergeo": [
           {
            "marker": {
             "colorbar": {
              "outlinewidth": 0,
              "ticks": ""
             }
            },
            "type": "scattergeo"
           }
          ],
          "scattergl": [
           {
            "marker": {
             "colorbar": {
              "outlinewidth": 0,
              "ticks": ""
             }
            },
            "type": "scattergl"
           }
          ],
          "scattermapbox": [
           {
            "marker": {
             "colorbar": {
              "outlinewidth": 0,
              "ticks": ""
             }
            },
            "type": "scattermapbox"
           }
          ],
          "scatterpolar": [
           {
            "marker": {
             "colorbar": {
              "outlinewidth": 0,
              "ticks": ""
             }
            },
            "type": "scatterpolar"
           }
          ],
          "scatterpolargl": [
           {
            "marker": {
             "colorbar": {
              "outlinewidth": 0,
              "ticks": ""
             }
            },
            "type": "scatterpolargl"
           }
          ],
          "scatterternary": [
           {
            "marker": {
             "colorbar": {
              "outlinewidth": 0,
              "ticks": ""
             }
            },
            "type": "scatterternary"
           }
          ],
          "surface": [
           {
            "colorbar": {
             "outlinewidth": 0,
             "ticks": ""
            },
            "colorscale": [
             [
              0,
              "#0d0887"
             ],
             [
              0.1111111111111111,
              "#46039f"
             ],
             [
              0.2222222222222222,
              "#7201a8"
             ],
             [
              0.3333333333333333,
              "#9c179e"
             ],
             [
              0.4444444444444444,
              "#bd3786"
             ],
             [
              0.5555555555555556,
              "#d8576b"
             ],
             [
              0.6666666666666666,
              "#ed7953"
             ],
             [
              0.7777777777777778,
              "#fb9f3a"
             ],
             [
              0.8888888888888888,
              "#fdca26"
             ],
             [
              1,
              "#f0f921"
             ]
            ],
            "type": "surface"
           }
          ],
          "table": [
           {
            "cells": {
             "fill": {
              "color": "#EBF0F8"
             },
             "line": {
              "color": "white"
             }
            },
            "header": {
             "fill": {
              "color": "#C8D4E3"
             },
             "line": {
              "color": "white"
             }
            },
            "type": "table"
           }
          ]
         },
         "layout": {
          "annotationdefaults": {
           "arrowcolor": "#2a3f5f",
           "arrowhead": 0,
           "arrowwidth": 1
          },
          "coloraxis": {
           "colorbar": {
            "outlinewidth": 0,
            "ticks": ""
           }
          },
          "colorscale": {
           "diverging": [
            [
             0,
             "#8e0152"
            ],
            [
             0.1,
             "#c51b7d"
            ],
            [
             0.2,
             "#de77ae"
            ],
            [
             0.3,
             "#f1b6da"
            ],
            [
             0.4,
             "#fde0ef"
            ],
            [
             0.5,
             "#f7f7f7"
            ],
            [
             0.6,
             "#e6f5d0"
            ],
            [
             0.7,
             "#b8e186"
            ],
            [
             0.8,
             "#7fbc41"
            ],
            [
             0.9,
             "#4d9221"
            ],
            [
             1,
             "#276419"
            ]
           ],
           "sequential": [
            [
             0,
             "#0d0887"
            ],
            [
             0.1111111111111111,
             "#46039f"
            ],
            [
             0.2222222222222222,
             "#7201a8"
            ],
            [
             0.3333333333333333,
             "#9c179e"
            ],
            [
             0.4444444444444444,
             "#bd3786"
            ],
            [
             0.5555555555555556,
             "#d8576b"
            ],
            [
             0.6666666666666666,
             "#ed7953"
            ],
            [
             0.7777777777777778,
             "#fb9f3a"
            ],
            [
             0.8888888888888888,
             "#fdca26"
            ],
            [
             1,
             "#f0f921"
            ]
           ],
           "sequentialminus": [
            [
             0,
             "#0d0887"
            ],
            [
             0.1111111111111111,
             "#46039f"
            ],
            [
             0.2222222222222222,
             "#7201a8"
            ],
            [
             0.3333333333333333,
             "#9c179e"
            ],
            [
             0.4444444444444444,
             "#bd3786"
            ],
            [
             0.5555555555555556,
             "#d8576b"
            ],
            [
             0.6666666666666666,
             "#ed7953"
            ],
            [
             0.7777777777777778,
             "#fb9f3a"
            ],
            [
             0.8888888888888888,
             "#fdca26"
            ],
            [
             1,
             "#f0f921"
            ]
           ]
          },
          "colorway": [
           "#636efa",
           "#EF553B",
           "#00cc96",
           "#ab63fa",
           "#FFA15A",
           "#19d3f3",
           "#FF6692",
           "#B6E880",
           "#FF97FF",
           "#FECB52"
          ],
          "font": {
           "color": "#2a3f5f"
          },
          "geo": {
           "bgcolor": "white",
           "lakecolor": "white",
           "landcolor": "#E5ECF6",
           "showlakes": true,
           "showland": true,
           "subunitcolor": "white"
          },
          "hoverlabel": {
           "align": "left"
          },
          "hovermode": "closest",
          "mapbox": {
           "style": "light"
          },
          "paper_bgcolor": "white",
          "plot_bgcolor": "#E5ECF6",
          "polar": {
           "angularaxis": {
            "gridcolor": "white",
            "linecolor": "white",
            "ticks": ""
           },
           "bgcolor": "#E5ECF6",
           "radialaxis": {
            "gridcolor": "white",
            "linecolor": "white",
            "ticks": ""
           }
          },
          "scene": {
           "xaxis": {
            "backgroundcolor": "#E5ECF6",
            "gridcolor": "white",
            "gridwidth": 2,
            "linecolor": "white",
            "showbackground": true,
            "ticks": "",
            "zerolinecolor": "white"
           },
           "yaxis": {
            "backgroundcolor": "#E5ECF6",
            "gridcolor": "white",
            "gridwidth": 2,
            "linecolor": "white",
            "showbackground": true,
            "ticks": "",
            "zerolinecolor": "white"
           },
           "zaxis": {
            "backgroundcolor": "#E5ECF6",
            "gridcolor": "white",
            "gridwidth": 2,
            "linecolor": "white",
            "showbackground": true,
            "ticks": "",
            "zerolinecolor": "white"
           }
          },
          "shapedefaults": {
           "line": {
            "color": "#2a3f5f"
           }
          },
          "ternary": {
           "aaxis": {
            "gridcolor": "white",
            "linecolor": "white",
            "ticks": ""
           },
           "baxis": {
            "gridcolor": "white",
            "linecolor": "white",
            "ticks": ""
           },
           "bgcolor": "#E5ECF6",
           "caxis": {
            "gridcolor": "white",
            "linecolor": "white",
            "ticks": ""
           }
          },
          "title": {
           "x": 0.05
          },
          "xaxis": {
           "automargin": true,
           "gridcolor": "white",
           "linecolor": "white",
           "ticks": "",
           "title": {
            "standoff": 15
           },
           "zerolinecolor": "white",
           "zerolinewidth": 2
          },
          "yaxis": {
           "automargin": true,
           "gridcolor": "white",
           "linecolor": "white",
           "ticks": "",
           "title": {
            "standoff": 15
           },
           "zerolinecolor": "white",
           "zerolinewidth": 2
          }
         }
        },
        "xaxis": {
         "anchor": "y",
         "domain": [
          0,
          1
         ],
         "title": {
          "text": "Specimen date"
         }
        },
        "yaxis": {
         "anchor": "x",
         "domain": [
          0,
          1
         ],
         "title": {
          "text": "Daily lab-confirmed cases"
         }
        }
       }
      },
      "text/html": [
       "<div>\n",
       "        \n",
       "        \n",
       "            <div id=\"29733fe5-3844-40b5-9c59-c65c5fff558f\" class=\"plotly-graph-div\" style=\"height:525px; width:100%;\"></div>\n",
       "            <script type=\"text/javascript\">\n",
       "                require([\"plotly\"], function(Plotly) {\n",
       "                    window.PLOTLYENV=window.PLOTLYENV || {};\n",
       "                    \n",
       "                if (document.getElementById(\"29733fe5-3844-40b5-9c59-c65c5fff558f\")) {\n",
       "                    Plotly.newPlot(\n",
       "                        '29733fe5-3844-40b5-9c59-c65c5fff558f',\n",
       "                        [{\"alignmentgroup\": \"True\", \"hovertemplate\": \"Specimen date=%{x}<br>Daily lab-confirmed cases=%{y}<extra></extra>\", \"legendgroup\": \"\", \"marker\": {\"color\": \"#636efa\"}, \"name\": \"\", \"offsetgroup\": \"\", \"orientation\": \"v\", \"showlegend\": false, \"textposition\": \"auto\", \"type\": \"bar\", \"x\": [\"2020-01-30\", \"2020-01-31\", \"2020-02-03\", \"2020-02-05\", \"2020-02-08\", \"2020-02-09\", \"2020-02-11\", \"2020-02-12\", \"2020-02-13\", \"2020-02-14\", \"2020-02-17\", \"2020-02-19\", \"2020-02-21\", \"2020-02-23\", \"2020-02-24\", \"2020-02-25\", \"2020-02-26\", \"2020-02-27\", \"2020-02-28\", \"2020-02-29\", \"2020-03-01\", \"2020-03-02\", \"2020-03-03\", \"2020-03-04\", \"2020-03-05\", \"2020-03-06\", \"2020-03-07\", \"2020-03-08\", \"2020-03-09\", \"2020-03-10\", \"2020-03-11\", \"2020-03-12\", \"2020-03-13\", \"2020-03-14\", \"2020-03-15\", \"2020-03-16\", \"2020-03-17\", \"2020-03-18\", \"2020-03-19\", \"2020-03-20\", \"2020-03-21\", \"2020-03-22\", \"2020-03-23\", \"2020-03-24\", \"2020-03-25\", \"2020-03-26\", \"2020-03-27\", \"2020-03-28\", \"2020-03-29\", \"2020-03-30\", \"2020-03-31\", \"2020-04-01\", \"2020-04-02\", \"2020-04-03\", \"2020-04-04\", \"2020-04-05\", \"2020-04-06\", \"2020-04-07\", \"2020-04-08\", \"2020-04-09\", \"2020-04-10\", \"2020-04-11\", \"2020-04-12\", \"2020-04-13\", \"2020-04-14\", \"2020-04-15\", \"2020-04-16\", \"2020-04-17\", \"2020-04-18\", \"2020-04-19\", \"2020-04-20\", \"2020-04-21\", \"2020-04-22\", \"2020-04-23\", \"2020-04-24\", \"2020-04-25\", \"2020-04-26\", \"2020-04-27\", \"2020-04-28\", \"2020-04-29\", \"2020-04-30\", \"2020-05-01\", \"2020-05-02\", \"2020-05-03\", \"2020-05-04\", \"2020-05-05\", \"2020-05-06\", \"2020-05-07\", \"2020-05-08\", \"2020-05-09\", \"2020-05-10\", \"2020-05-11\", \"2020-05-12\", \"2020-05-13\", \"2020-05-14\", \"2020-05-15\", \"2020-05-16\", \"2020-05-17\", \"2020-05-18\", \"2020-05-19\", \"2020-05-20\", \"2020-05-21\", \"2020-05-22\", \"2020-05-23\", \"2020-05-24\", \"2020-05-25\", \"2020-05-26\", \"2020-05-27\", \"2020-05-28\", \"2020-05-29\", \"2020-05-30\", \"2020-05-31\", \"2020-06-01\", \"2020-06-02\", \"2020-06-03\", \"2020-06-04\", \"2020-06-05\", \"2020-06-06\", \"2020-06-07\", \"2020-06-08\", \"2020-06-09\", \"2020-06-10\"], \"xaxis\": \"x\", \"y\": [1.0, 1.0, 6.0, 1.0, 3.0, 1.0, 1.0, 1.0, 1.0, 1.0, 1.0, 1.0, 1.0, 4.0, 1.0, 4.0, 3.0, 6.0, 12.0, 4.0, 31.0, 39.0, 51.0, 49.0, 47.0, 73.0, 47.0, 50.0, 124.0, 223.0, 354.0, 413.0, 392.0, 317.0, 397.0, 546.0, 680.0, 909.0, 931.0, 1081.0, 1033.0, 1208.0, 2017.0, 2020.0, 2261.0, 2603.0, 2660.0, 2374.0, 2435.0, 3491.0, 3763.0, 4083.0, 4008.0, 4039.0, 3322.0, 3030.0, 4328.0, 4473.0, 4222.0, 4005.0, 3505.0, 2990.0, 2683.0, 3303.0, 3414.0, 3602.0, 3434.0, 3420.0, 2576.0, 2089.0, 3074.0, 2984.0, 2758.0, 2760.0, 2771.0, 1807.0, 1404.0, 2220.0, 2274.0, 2339.0, 2123.0, 1948.0, 1238.0, 960.0, 1619.0, 1593.0, 1430.0, 1439.0, 1016.0, 889.0, 724.0, 1233.0, 1095.0, 1074.0, 898.0, 907.0, 636.0, 634.0, 941.0, 1028.0, 822.0, 747.0, 702.0, 456.0, 385.0, 509.0, 542.0, 544.0, 448.0, 434.0, 342.0, 304.0, 444.0, 478.0, 442.0, 314.0, 320.0, 208.0, 177.0, 223.0, 135.0, 27.0], \"yaxis\": \"y\"}],\n",
       "                        {\"barmode\": \"relative\", \"legend\": {\"tracegroupgap\": 0}, \"margin\": {\"t\": 60}, \"template\": {\"data\": {\"bar\": [{\"error_x\": {\"color\": \"#2a3f5f\"}, \"error_y\": {\"color\": \"#2a3f5f\"}, \"marker\": {\"line\": {\"color\": \"#E5ECF6\", \"width\": 0.5}}, \"type\": \"bar\"}], \"barpolar\": [{\"marker\": {\"line\": {\"color\": \"#E5ECF6\", \"width\": 0.5}}, \"type\": \"barpolar\"}], \"carpet\": [{\"aaxis\": {\"endlinecolor\": \"#2a3f5f\", \"gridcolor\": \"white\", \"linecolor\": \"white\", \"minorgridcolor\": \"white\", \"startlinecolor\": \"#2a3f5f\"}, \"baxis\": {\"endlinecolor\": \"#2a3f5f\", \"gridcolor\": \"white\", \"linecolor\": \"white\", \"minorgridcolor\": \"white\", \"startlinecolor\": \"#2a3f5f\"}, \"type\": \"carpet\"}], \"choropleth\": [{\"colorbar\": {\"outlinewidth\": 0, \"ticks\": \"\"}, \"type\": \"choropleth\"}], \"contour\": [{\"colorbar\": {\"outlinewidth\": 0, \"ticks\": \"\"}, \"colorscale\": [[0.0, \"#0d0887\"], [0.1111111111111111, \"#46039f\"], [0.2222222222222222, \"#7201a8\"], [0.3333333333333333, \"#9c179e\"], [0.4444444444444444, \"#bd3786\"], [0.5555555555555556, \"#d8576b\"], [0.6666666666666666, \"#ed7953\"], [0.7777777777777778, \"#fb9f3a\"], [0.8888888888888888, \"#fdca26\"], [1.0, \"#f0f921\"]], \"type\": \"contour\"}], \"contourcarpet\": [{\"colorbar\": {\"outlinewidth\": 0, \"ticks\": \"\"}, \"type\": \"contourcarpet\"}], \"heatmap\": [{\"colorbar\": {\"outlinewidth\": 0, \"ticks\": \"\"}, \"colorscale\": [[0.0, \"#0d0887\"], [0.1111111111111111, \"#46039f\"], [0.2222222222222222, \"#7201a8\"], [0.3333333333333333, \"#9c179e\"], [0.4444444444444444, \"#bd3786\"], [0.5555555555555556, \"#d8576b\"], [0.6666666666666666, \"#ed7953\"], [0.7777777777777778, \"#fb9f3a\"], [0.8888888888888888, \"#fdca26\"], [1.0, \"#f0f921\"]], \"type\": \"heatmap\"}], \"heatmapgl\": [{\"colorbar\": {\"outlinewidth\": 0, \"ticks\": \"\"}, \"colorscale\": [[0.0, \"#0d0887\"], [0.1111111111111111, \"#46039f\"], [0.2222222222222222, \"#7201a8\"], [0.3333333333333333, \"#9c179e\"], [0.4444444444444444, \"#bd3786\"], [0.5555555555555556, \"#d8576b\"], [0.6666666666666666, \"#ed7953\"], [0.7777777777777778, \"#fb9f3a\"], [0.8888888888888888, \"#fdca26\"], [1.0, \"#f0f921\"]], \"type\": \"heatmapgl\"}], \"histogram\": [{\"marker\": {\"colorbar\": {\"outlinewidth\": 0, \"ticks\": \"\"}}, \"type\": \"histogram\"}], \"histogram2d\": [{\"colorbar\": {\"outlinewidth\": 0, \"ticks\": \"\"}, \"colorscale\": [[0.0, \"#0d0887\"], [0.1111111111111111, \"#46039f\"], [0.2222222222222222, \"#7201a8\"], [0.3333333333333333, \"#9c179e\"], [0.4444444444444444, \"#bd3786\"], [0.5555555555555556, \"#d8576b\"], [0.6666666666666666, \"#ed7953\"], [0.7777777777777778, \"#fb9f3a\"], [0.8888888888888888, \"#fdca26\"], [1.0, \"#f0f921\"]], \"type\": \"histogram2d\"}], \"histogram2dcontour\": [{\"colorbar\": {\"outlinewidth\": 0, \"ticks\": \"\"}, \"colorscale\": [[0.0, \"#0d0887\"], [0.1111111111111111, \"#46039f\"], [0.2222222222222222, \"#7201a8\"], [0.3333333333333333, \"#9c179e\"], [0.4444444444444444, \"#bd3786\"], [0.5555555555555556, \"#d8576b\"], [0.6666666666666666, \"#ed7953\"], [0.7777777777777778, \"#fb9f3a\"], [0.8888888888888888, \"#fdca26\"], [1.0, \"#f0f921\"]], \"type\": \"histogram2dcontour\"}], \"mesh3d\": [{\"colorbar\": {\"outlinewidth\": 0, \"ticks\": \"\"}, \"type\": \"mesh3d\"}], \"parcoords\": [{\"line\": {\"colorbar\": {\"outlinewidth\": 0, \"ticks\": \"\"}}, \"type\": \"parcoords\"}], \"pie\": [{\"automargin\": true, \"type\": \"pie\"}], \"scatter\": [{\"marker\": {\"colorbar\": {\"outlinewidth\": 0, \"ticks\": \"\"}}, \"type\": \"scatter\"}], \"scatter3d\": [{\"line\": {\"colorbar\": {\"outlinewidth\": 0, \"ticks\": \"\"}}, \"marker\": {\"colorbar\": {\"outlinewidth\": 0, \"ticks\": \"\"}}, \"type\": \"scatter3d\"}], \"scattercarpet\": [{\"marker\": {\"colorbar\": {\"outlinewidth\": 0, \"ticks\": \"\"}}, \"type\": \"scattercarpet\"}], \"scattergeo\": [{\"marker\": {\"colorbar\": {\"outlinewidth\": 0, \"ticks\": \"\"}}, \"type\": \"scattergeo\"}], \"scattergl\": [{\"marker\": {\"colorbar\": {\"outlinewidth\": 0, \"ticks\": \"\"}}, \"type\": \"scattergl\"}], \"scattermapbox\": [{\"marker\": {\"colorbar\": {\"outlinewidth\": 0, \"ticks\": \"\"}}, \"type\": \"scattermapbox\"}], \"scatterpolar\": [{\"marker\": {\"colorbar\": {\"outlinewidth\": 0, \"ticks\": \"\"}}, \"type\": \"scatterpolar\"}], \"scatterpolargl\": [{\"marker\": {\"colorbar\": {\"outlinewidth\": 0, \"ticks\": \"\"}}, \"type\": \"scatterpolargl\"}], \"scatterternary\": [{\"marker\": {\"colorbar\": {\"outlinewidth\": 0, \"ticks\": \"\"}}, \"type\": \"scatterternary\"}], \"surface\": [{\"colorbar\": {\"outlinewidth\": 0, \"ticks\": \"\"}, \"colorscale\": [[0.0, \"#0d0887\"], [0.1111111111111111, \"#46039f\"], [0.2222222222222222, \"#7201a8\"], [0.3333333333333333, \"#9c179e\"], [0.4444444444444444, \"#bd3786\"], [0.5555555555555556, \"#d8576b\"], [0.6666666666666666, \"#ed7953\"], [0.7777777777777778, \"#fb9f3a\"], [0.8888888888888888, \"#fdca26\"], [1.0, \"#f0f921\"]], \"type\": \"surface\"}], \"table\": [{\"cells\": {\"fill\": {\"color\": \"#EBF0F8\"}, \"line\": {\"color\": \"white\"}}, \"header\": {\"fill\": {\"color\": \"#C8D4E3\"}, \"line\": {\"color\": \"white\"}}, \"type\": \"table\"}]}, \"layout\": {\"annotationdefaults\": {\"arrowcolor\": \"#2a3f5f\", \"arrowhead\": 0, \"arrowwidth\": 1}, \"coloraxis\": {\"colorbar\": {\"outlinewidth\": 0, \"ticks\": \"\"}}, \"colorscale\": {\"diverging\": [[0, \"#8e0152\"], [0.1, \"#c51b7d\"], [0.2, \"#de77ae\"], [0.3, \"#f1b6da\"], [0.4, \"#fde0ef\"], [0.5, \"#f7f7f7\"], [0.6, \"#e6f5d0\"], [0.7, \"#b8e186\"], [0.8, \"#7fbc41\"], [0.9, \"#4d9221\"], [1, \"#276419\"]], \"sequential\": [[0.0, \"#0d0887\"], [0.1111111111111111, \"#46039f\"], [0.2222222222222222, \"#7201a8\"], [0.3333333333333333, \"#9c179e\"], [0.4444444444444444, \"#bd3786\"], [0.5555555555555556, \"#d8576b\"], [0.6666666666666666, \"#ed7953\"], [0.7777777777777778, \"#fb9f3a\"], [0.8888888888888888, \"#fdca26\"], [1.0, \"#f0f921\"]], \"sequentialminus\": [[0.0, \"#0d0887\"], [0.1111111111111111, \"#46039f\"], [0.2222222222222222, \"#7201a8\"], [0.3333333333333333, \"#9c179e\"], [0.4444444444444444, \"#bd3786\"], [0.5555555555555556, \"#d8576b\"], [0.6666666666666666, \"#ed7953\"], [0.7777777777777778, \"#fb9f3a\"], [0.8888888888888888, \"#fdca26\"], [1.0, \"#f0f921\"]]}, \"colorway\": [\"#636efa\", \"#EF553B\", \"#00cc96\", \"#ab63fa\", \"#FFA15A\", \"#19d3f3\", \"#FF6692\", \"#B6E880\", \"#FF97FF\", \"#FECB52\"], \"font\": {\"color\": \"#2a3f5f\"}, \"geo\": {\"bgcolor\": \"white\", \"lakecolor\": \"white\", \"landcolor\": \"#E5ECF6\", \"showlakes\": true, \"showland\": true, \"subunitcolor\": \"white\"}, \"hoverlabel\": {\"align\": \"left\"}, \"hovermode\": \"closest\", \"mapbox\": {\"style\": \"light\"}, \"paper_bgcolor\": \"white\", \"plot_bgcolor\": \"#E5ECF6\", \"polar\": {\"angularaxis\": {\"gridcolor\": \"white\", \"linecolor\": \"white\", \"ticks\": \"\"}, \"bgcolor\": \"#E5ECF6\", \"radialaxis\": {\"gridcolor\": \"white\", \"linecolor\": \"white\", \"ticks\": \"\"}}, \"scene\": {\"xaxis\": {\"backgroundcolor\": \"#E5ECF6\", \"gridcolor\": \"white\", \"gridwidth\": 2, \"linecolor\": \"white\", \"showbackground\": true, \"ticks\": \"\", \"zerolinecolor\": \"white\"}, \"yaxis\": {\"backgroundcolor\": \"#E5ECF6\", \"gridcolor\": \"white\", \"gridwidth\": 2, \"linecolor\": \"white\", \"showbackground\": true, \"ticks\": \"\", \"zerolinecolor\": \"white\"}, \"zaxis\": {\"backgroundcolor\": \"#E5ECF6\", \"gridcolor\": \"white\", \"gridwidth\": 2, \"linecolor\": \"white\", \"showbackground\": true, \"ticks\": \"\", \"zerolinecolor\": \"white\"}}, \"shapedefaults\": {\"line\": {\"color\": \"#2a3f5f\"}}, \"ternary\": {\"aaxis\": {\"gridcolor\": \"white\", \"linecolor\": \"white\", \"ticks\": \"\"}, \"baxis\": {\"gridcolor\": \"white\", \"linecolor\": \"white\", \"ticks\": \"\"}, \"bgcolor\": \"#E5ECF6\", \"caxis\": {\"gridcolor\": \"white\", \"linecolor\": \"white\", \"ticks\": \"\"}}, \"title\": {\"x\": 0.05}, \"xaxis\": {\"automargin\": true, \"gridcolor\": \"white\", \"linecolor\": \"white\", \"ticks\": \"\", \"title\": {\"standoff\": 15}, \"zerolinecolor\": \"white\", \"zerolinewidth\": 2}, \"yaxis\": {\"automargin\": true, \"gridcolor\": \"white\", \"linecolor\": \"white\", \"ticks\": \"\", \"title\": {\"standoff\": 15}, \"zerolinecolor\": \"white\", \"zerolinewidth\": 2}}}, \"xaxis\": {\"anchor\": \"y\", \"domain\": [0.0, 1.0], \"title\": {\"text\": \"Specimen date\"}}, \"yaxis\": {\"anchor\": \"x\", \"domain\": [0.0, 1.0], \"title\": {\"text\": \"Daily lab-confirmed cases\"}}},\n",
       "                        {\"responsive\": true}\n",
       "                    ).then(function(){\n",
       "                            \n",
       "var gd = document.getElementById('29733fe5-3844-40b5-9c59-c65c5fff558f');\n",
       "var x = new MutationObserver(function (mutations, observer) {{\n",
       "        var display = window.getComputedStyle(gd).display;\n",
       "        if (!display || display === 'none') {{\n",
       "            console.log([gd, 'removed!']);\n",
       "            Plotly.purge(gd);\n",
       "            observer.disconnect();\n",
       "        }}\n",
       "}});\n",
       "\n",
       "// Listen for the removal of the full notebook cells\n",
       "var notebookContainer = gd.closest('#notebook-container');\n",
       "if (notebookContainer) {{\n",
       "    x.observe(notebookContainer, {childList: true});\n",
       "}}\n",
       "\n",
       "// Listen for the clearing of the current output cell\n",
       "var outputEl = gd.closest('.output');\n",
       "if (outputEl) {{\n",
       "    x.observe(outputEl, {childList: true});\n",
       "}}\n",
       "\n",
       "                        })\n",
       "                };\n",
       "                });\n",
       "            </script>\n",
       "        </div>"
      ]
     },
     "metadata": {},
     "output_type": "display_data"
    }
   ],
   "source": [
    "fig2 = px.bar(df_cases_england, x=\"Specimen date\", y=\"Daily lab-confirmed cases\")\n",
    "fig2.show()"
   ]
  },
  {
   "cell_type": "code",
   "execution_count": 74,
   "metadata": {},
   "outputs": [
    {
     "data": {
      "text/plain": [
       "False"
      ]
     },
     "execution_count": 74,
     "metadata": {},
     "output_type": "execute_result"
    }
   ],
   "source": [
    "pd.options.mode.chained_assignment == None "
   ]
  },
  {
   "cell_type": "code",
   "execution_count": 75,
   "metadata": {},
   "outputs": [
    {
     "name": "stderr",
     "output_type": "stream",
     "text": [
      "/Users/jason/anaconda/envs/covid19/lib/python3.6/site-packages/ipykernel_launcher.py:1: SettingWithCopyWarning:\n",
      "\n",
      "\n",
      "A value is trying to be set on a copy of a slice from a DataFrame.\n",
      "Try using .loc[row_indexer,col_indexer] = value instead\n",
      "\n",
      "See the caveats in the documentation: https://pandas.pydata.org/pandas-docs/stable/user_guide/indexing.html#returning-a-view-versus-a-copy\n",
      "\n"
     ]
    }
   ],
   "source": [
    "df_cases_england['SMAV'] = df_cases_england['Daily lab-confirmed cases'].rolling(7).sum()"
   ]
  },
  {
   "cell_type": "code",
   "execution_count": 81,
   "metadata": {},
   "outputs": [
    {
     "data": {
      "text/html": [
       "<div>\n",
       "<style scoped>\n",
       "    .dataframe tbody tr th:only-of-type {\n",
       "        vertical-align: middle;\n",
       "    }\n",
       "\n",
       "    .dataframe tbody tr th {\n",
       "        vertical-align: top;\n",
       "    }\n",
       "\n",
       "    .dataframe thead th {\n",
       "        text-align: right;\n",
       "    }\n",
       "</style>\n",
       "<table border=\"1\" class=\"dataframe\">\n",
       "  <thead>\n",
       "    <tr style=\"text-align: right;\">\n",
       "      <th></th>\n",
       "      <th>Area name</th>\n",
       "      <th>Area code</th>\n",
       "      <th>Area type</th>\n",
       "      <th>Specimen date</th>\n",
       "      <th>Daily lab-confirmed cases</th>\n",
       "      <th>Previously reported daily cases</th>\n",
       "      <th>Change in daily cases</th>\n",
       "      <th>Cumulative lab-confirmed cases</th>\n",
       "      <th>Previously reported cumulative cases</th>\n",
       "      <th>Change in cumulative cases</th>\n",
       "      <th>Cumulative lab-confirmed cases rate</th>\n",
       "      <th>SMAV</th>\n",
       "    </tr>\n",
       "  </thead>\n",
       "  <tbody>\n",
       "    <tr>\n",
       "      <th>36346</th>\n",
       "      <td>England</td>\n",
       "      <td>E92000001</td>\n",
       "      <td>Nation</td>\n",
       "      <td>2020-01-30</td>\n",
       "      <td>1.0</td>\n",
       "      <td>1.0</td>\n",
       "      <td>0.0</td>\n",
       "      <td>1</td>\n",
       "      <td>1.0</td>\n",
       "      <td>0.0</td>\n",
       "      <td>0.0</td>\n",
       "      <td>NaN</td>\n",
       "    </tr>\n",
       "    <tr>\n",
       "      <th>36342</th>\n",
       "      <td>England</td>\n",
       "      <td>E92000001</td>\n",
       "      <td>Nation</td>\n",
       "      <td>2020-01-31</td>\n",
       "      <td>1.0</td>\n",
       "      <td>1.0</td>\n",
       "      <td>0.0</td>\n",
       "      <td>2</td>\n",
       "      <td>2.0</td>\n",
       "      <td>0.0</td>\n",
       "      <td>0.0</td>\n",
       "      <td>NaN</td>\n",
       "    </tr>\n",
       "    <tr>\n",
       "      <th>36329</th>\n",
       "      <td>England</td>\n",
       "      <td>E92000001</td>\n",
       "      <td>Nation</td>\n",
       "      <td>2020-02-03</td>\n",
       "      <td>6.0</td>\n",
       "      <td>6.0</td>\n",
       "      <td>0.0</td>\n",
       "      <td>8</td>\n",
       "      <td>8.0</td>\n",
       "      <td>0.0</td>\n",
       "      <td>0.0</td>\n",
       "      <td>NaN</td>\n",
       "    </tr>\n",
       "    <tr>\n",
       "      <th>36325</th>\n",
       "      <td>England</td>\n",
       "      <td>E92000001</td>\n",
       "      <td>Nation</td>\n",
       "      <td>2020-02-05</td>\n",
       "      <td>1.0</td>\n",
       "      <td>1.0</td>\n",
       "      <td>0.0</td>\n",
       "      <td>9</td>\n",
       "      <td>9.0</td>\n",
       "      <td>0.0</td>\n",
       "      <td>0.0</td>\n",
       "      <td>NaN</td>\n",
       "    </tr>\n",
       "    <tr>\n",
       "      <th>36321</th>\n",
       "      <td>England</td>\n",
       "      <td>E92000001</td>\n",
       "      <td>Nation</td>\n",
       "      <td>2020-02-08</td>\n",
       "      <td>3.0</td>\n",
       "      <td>3.0</td>\n",
       "      <td>0.0</td>\n",
       "      <td>12</td>\n",
       "      <td>12.0</td>\n",
       "      <td>0.0</td>\n",
       "      <td>0.0</td>\n",
       "      <td>NaN</td>\n",
       "    </tr>\n",
       "    <tr>\n",
       "      <th>...</th>\n",
       "      <td>...</td>\n",
       "      <td>...</td>\n",
       "      <td>...</td>\n",
       "      <td>...</td>\n",
       "      <td>...</td>\n",
       "      <td>...</td>\n",
       "      <td>...</td>\n",
       "      <td>...</td>\n",
       "      <td>...</td>\n",
       "      <td>...</td>\n",
       "      <td>...</td>\n",
       "      <td>...</td>\n",
       "    </tr>\n",
       "    <tr>\n",
       "      <th>1030</th>\n",
       "      <td>England</td>\n",
       "      <td>E92000001</td>\n",
       "      <td>Nation</td>\n",
       "      <td>2020-06-06</td>\n",
       "      <td>208.0</td>\n",
       "      <td>195.0</td>\n",
       "      <td>13.0</td>\n",
       "      <td>155456</td>\n",
       "      <td>155409.0</td>\n",
       "      <td>47.0</td>\n",
       "      <td>277.7</td>\n",
       "      <td>2510.0</td>\n",
       "    </tr>\n",
       "    <tr>\n",
       "      <th>841</th>\n",
       "      <td>England</td>\n",
       "      <td>E92000001</td>\n",
       "      <td>Nation</td>\n",
       "      <td>2020-06-07</td>\n",
       "      <td>177.0</td>\n",
       "      <td>179.0</td>\n",
       "      <td>-2.0</td>\n",
       "      <td>155633</td>\n",
       "      <td>155588.0</td>\n",
       "      <td>45.0</td>\n",
       "      <td>278.0</td>\n",
       "      <td>2383.0</td>\n",
       "    </tr>\n",
       "    <tr>\n",
       "      <th>618</th>\n",
       "      <td>England</td>\n",
       "      <td>E92000001</td>\n",
       "      <td>Nation</td>\n",
       "      <td>2020-06-08</td>\n",
       "      <td>223.0</td>\n",
       "      <td>114.0</td>\n",
       "      <td>109.0</td>\n",
       "      <td>155856</td>\n",
       "      <td>155702.0</td>\n",
       "      <td>154.0</td>\n",
       "      <td>278.4</td>\n",
       "      <td>2162.0</td>\n",
       "    </tr>\n",
       "    <tr>\n",
       "      <th>476</th>\n",
       "      <td>England</td>\n",
       "      <td>E92000001</td>\n",
       "      <td>Nation</td>\n",
       "      <td>2020-06-09</td>\n",
       "      <td>135.0</td>\n",
       "      <td>12.0</td>\n",
       "      <td>123.0</td>\n",
       "      <td>155991</td>\n",
       "      <td>155714.0</td>\n",
       "      <td>277.0</td>\n",
       "      <td>278.7</td>\n",
       "      <td>1819.0</td>\n",
       "    </tr>\n",
       "    <tr>\n",
       "      <th>0</th>\n",
       "      <td>England</td>\n",
       "      <td>E92000001</td>\n",
       "      <td>Nation</td>\n",
       "      <td>2020-06-10</td>\n",
       "      <td>27.0</td>\n",
       "      <td>0.0</td>\n",
       "      <td>27.0</td>\n",
       "      <td>156018</td>\n",
       "      <td>155714.0</td>\n",
       "      <td>304.0</td>\n",
       "      <td>278.7</td>\n",
       "      <td>1404.0</td>\n",
       "    </tr>\n",
       "  </tbody>\n",
       "</table>\n",
       "<p>122 rows × 12 columns</p>\n",
       "</div>"
      ],
      "text/plain": [
       "      Area name  Area code Area type Specimen date  Daily lab-confirmed cases  \\\n",
       "36346   England  E92000001    Nation    2020-01-30                        1.0   \n",
       "36342   England  E92000001    Nation    2020-01-31                        1.0   \n",
       "36329   England  E92000001    Nation    2020-02-03                        6.0   \n",
       "36325   England  E92000001    Nation    2020-02-05                        1.0   \n",
       "36321   England  E92000001    Nation    2020-02-08                        3.0   \n",
       "...         ...        ...       ...           ...                        ...   \n",
       "1030    England  E92000001    Nation    2020-06-06                      208.0   \n",
       "841     England  E92000001    Nation    2020-06-07                      177.0   \n",
       "618     England  E92000001    Nation    2020-06-08                      223.0   \n",
       "476     England  E92000001    Nation    2020-06-09                      135.0   \n",
       "0       England  E92000001    Nation    2020-06-10                       27.0   \n",
       "\n",
       "       Previously reported daily cases  Change in daily cases  \\\n",
       "36346                              1.0                    0.0   \n",
       "36342                              1.0                    0.0   \n",
       "36329                              6.0                    0.0   \n",
       "36325                              1.0                    0.0   \n",
       "36321                              3.0                    0.0   \n",
       "...                                ...                    ...   \n",
       "1030                             195.0                   13.0   \n",
       "841                              179.0                   -2.0   \n",
       "618                              114.0                  109.0   \n",
       "476                               12.0                  123.0   \n",
       "0                                  0.0                   27.0   \n",
       "\n",
       "       Cumulative lab-confirmed cases  Previously reported cumulative cases  \\\n",
       "36346                               1                                   1.0   \n",
       "36342                               2                                   2.0   \n",
       "36329                               8                                   8.0   \n",
       "36325                               9                                   9.0   \n",
       "36321                              12                                  12.0   \n",
       "...                               ...                                   ...   \n",
       "1030                           155456                              155409.0   \n",
       "841                            155633                              155588.0   \n",
       "618                            155856                              155702.0   \n",
       "476                            155991                              155714.0   \n",
       "0                              156018                              155714.0   \n",
       "\n",
       "       Change in cumulative cases  Cumulative lab-confirmed cases rate    SMAV  \n",
       "36346                         0.0                                  0.0     NaN  \n",
       "36342                         0.0                                  0.0     NaN  \n",
       "36329                         0.0                                  0.0     NaN  \n",
       "36325                         0.0                                  0.0     NaN  \n",
       "36321                         0.0                                  0.0     NaN  \n",
       "...                           ...                                  ...     ...  \n",
       "1030                         47.0                                277.7  2510.0  \n",
       "841                          45.0                                278.0  2383.0  \n",
       "618                         154.0                                278.4  2162.0  \n",
       "476                         277.0                                278.7  1819.0  \n",
       "0                           304.0                                278.7  1404.0  \n",
       "\n",
       "[122 rows x 12 columns]"
      ]
     },
     "execution_count": 81,
     "metadata": {},
     "output_type": "execute_result"
    }
   ],
   "source": [
    "df_cases_england"
   ]
  },
  {
   "cell_type": "markdown",
   "metadata": {},
   "source": [
    "The best way to explore the moving average values is hover over the points in the chart below.  An outstanding task is to overlay the moving average on the bar chart above."
   ]
  },
  {
   "cell_type": "code",
   "execution_count": 78,
   "metadata": {},
   "outputs": [
    {
     "data": {
      "application/vnd.plotly.v1+json": {
       "config": {
        "plotlyServerURL": "https://plot.ly"
       },
       "data": [
        {
         "hovertemplate": "Specimen date=%{x}<br>SMAV=%{y}<extra></extra>",
         "legendgroup": "",
         "line": {
          "color": "#636efa",
          "dash": "solid"
         },
         "mode": "markers+lines",
         "name": "",
         "orientation": "v",
         "showlegend": false,
         "type": "scatter",
         "x": [
          "2020-01-30",
          "2020-01-31",
          "2020-02-03",
          "2020-02-05",
          "2020-02-08",
          "2020-02-09",
          "2020-02-11",
          "2020-02-12",
          "2020-02-13",
          "2020-02-14",
          "2020-02-17",
          "2020-02-19",
          "2020-02-21",
          "2020-02-23",
          "2020-02-24",
          "2020-02-25",
          "2020-02-26",
          "2020-02-27",
          "2020-02-28",
          "2020-02-29",
          "2020-03-01",
          "2020-03-02",
          "2020-03-03",
          "2020-03-04",
          "2020-03-05",
          "2020-03-06",
          "2020-03-07",
          "2020-03-08",
          "2020-03-09",
          "2020-03-10",
          "2020-03-11",
          "2020-03-12",
          "2020-03-13",
          "2020-03-14",
          "2020-03-15",
          "2020-03-16",
          "2020-03-17",
          "2020-03-18",
          "2020-03-19",
          "2020-03-20",
          "2020-03-21",
          "2020-03-22",
          "2020-03-23",
          "2020-03-24",
          "2020-03-25",
          "2020-03-26",
          "2020-03-27",
          "2020-03-28",
          "2020-03-29",
          "2020-03-30",
          "2020-03-31",
          "2020-04-01",
          "2020-04-02",
          "2020-04-03",
          "2020-04-04",
          "2020-04-05",
          "2020-04-06",
          "2020-04-07",
          "2020-04-08",
          "2020-04-09",
          "2020-04-10",
          "2020-04-11",
          "2020-04-12",
          "2020-04-13",
          "2020-04-14",
          "2020-04-15",
          "2020-04-16",
          "2020-04-17",
          "2020-04-18",
          "2020-04-19",
          "2020-04-20",
          "2020-04-21",
          "2020-04-22",
          "2020-04-23",
          "2020-04-24",
          "2020-04-25",
          "2020-04-26",
          "2020-04-27",
          "2020-04-28",
          "2020-04-29",
          "2020-04-30",
          "2020-05-01",
          "2020-05-02",
          "2020-05-03",
          "2020-05-04",
          "2020-05-05",
          "2020-05-06",
          "2020-05-07",
          "2020-05-08",
          "2020-05-09",
          "2020-05-10",
          "2020-05-11",
          "2020-05-12",
          "2020-05-13",
          "2020-05-14",
          "2020-05-15",
          "2020-05-16",
          "2020-05-17",
          "2020-05-18",
          "2020-05-19",
          "2020-05-20",
          "2020-05-21",
          "2020-05-22",
          "2020-05-23",
          "2020-05-24",
          "2020-05-25",
          "2020-05-26",
          "2020-05-27",
          "2020-05-28",
          "2020-05-29",
          "2020-05-30",
          "2020-05-31",
          "2020-06-01",
          "2020-06-02",
          "2020-06-03",
          "2020-06-04",
          "2020-06-05",
          "2020-06-06",
          "2020-06-07",
          "2020-06-08",
          "2020-06-09",
          "2020-06-10"
         ],
         "xaxis": "x",
         "y": [
          null,
          null,
          null,
          null,
          null,
          null,
          14,
          14,
          14,
          9,
          9,
          7,
          7,
          10,
          10,
          13,
          15,
          20,
          31,
          34,
          61,
          99,
          146,
          192,
          233,
          294,
          337,
          356,
          441,
          613,
          918,
          1284,
          1603,
          1873,
          2220,
          2642,
          3099,
          3654,
          4172,
          4861,
          5577,
          6388,
          7859,
          9199,
          10551,
          12223,
          13802,
          15143,
          16370,
          17844,
          19587,
          21409,
          22814,
          24193,
          25141,
          25736,
          26573,
          27283,
          27422,
          27419,
          26885,
          26553,
          26206,
          25181,
          24122,
          23502,
          22931,
          22846,
          22432,
          21838,
          21609,
          21179,
          20335,
          19661,
          19012,
          18243,
          17558,
          16704,
          15994,
          15575,
          14938,
          14115,
          13546,
          13102,
          12501,
          11820,
          10911,
          10227,
          9295,
          8946,
          8710,
          8324,
          7826,
          7470,
          6929,
          6820,
          6567,
          6477,
          6185,
          6118,
          5866,
          5715,
          5510,
          5330,
          5081,
          4649,
          4163,
          3885,
          3586,
          3318,
          3204,
          3123,
          3058,
          2994,
          2892,
          2758,
          2644,
          2510,
          2383,
          2162,
          1819,
          1404
         ],
         "yaxis": "y"
        }
       ],
       "layout": {
        "legend": {
         "tracegroupgap": 0
        },
        "margin": {
         "t": 60
        },
        "template": {
         "data": {
          "bar": [
           {
            "error_x": {
             "color": "#2a3f5f"
            },
            "error_y": {
             "color": "#2a3f5f"
            },
            "marker": {
             "line": {
              "color": "#E5ECF6",
              "width": 0.5
             }
            },
            "type": "bar"
           }
          ],
          "barpolar": [
           {
            "marker": {
             "line": {
              "color": "#E5ECF6",
              "width": 0.5
             }
            },
            "type": "barpolar"
           }
          ],
          "carpet": [
           {
            "aaxis": {
             "endlinecolor": "#2a3f5f",
             "gridcolor": "white",
             "linecolor": "white",
             "minorgridcolor": "white",
             "startlinecolor": "#2a3f5f"
            },
            "baxis": {
             "endlinecolor": "#2a3f5f",
             "gridcolor": "white",
             "linecolor": "white",
             "minorgridcolor": "white",
             "startlinecolor": "#2a3f5f"
            },
            "type": "carpet"
           }
          ],
          "choropleth": [
           {
            "colorbar": {
             "outlinewidth": 0,
             "ticks": ""
            },
            "type": "choropleth"
           }
          ],
          "contour": [
           {
            "colorbar": {
             "outlinewidth": 0,
             "ticks": ""
            },
            "colorscale": [
             [
              0,
              "#0d0887"
             ],
             [
              0.1111111111111111,
              "#46039f"
             ],
             [
              0.2222222222222222,
              "#7201a8"
             ],
             [
              0.3333333333333333,
              "#9c179e"
             ],
             [
              0.4444444444444444,
              "#bd3786"
             ],
             [
              0.5555555555555556,
              "#d8576b"
             ],
             [
              0.6666666666666666,
              "#ed7953"
             ],
             [
              0.7777777777777778,
              "#fb9f3a"
             ],
             [
              0.8888888888888888,
              "#fdca26"
             ],
             [
              1,
              "#f0f921"
             ]
            ],
            "type": "contour"
           }
          ],
          "contourcarpet": [
           {
            "colorbar": {
             "outlinewidth": 0,
             "ticks": ""
            },
            "type": "contourcarpet"
           }
          ],
          "heatmap": [
           {
            "colorbar": {
             "outlinewidth": 0,
             "ticks": ""
            },
            "colorscale": [
             [
              0,
              "#0d0887"
             ],
             [
              0.1111111111111111,
              "#46039f"
             ],
             [
              0.2222222222222222,
              "#7201a8"
             ],
             [
              0.3333333333333333,
              "#9c179e"
             ],
             [
              0.4444444444444444,
              "#bd3786"
             ],
             [
              0.5555555555555556,
              "#d8576b"
             ],
             [
              0.6666666666666666,
              "#ed7953"
             ],
             [
              0.7777777777777778,
              "#fb9f3a"
             ],
             [
              0.8888888888888888,
              "#fdca26"
             ],
             [
              1,
              "#f0f921"
             ]
            ],
            "type": "heatmap"
           }
          ],
          "heatmapgl": [
           {
            "colorbar": {
             "outlinewidth": 0,
             "ticks": ""
            },
            "colorscale": [
             [
              0,
              "#0d0887"
             ],
             [
              0.1111111111111111,
              "#46039f"
             ],
             [
              0.2222222222222222,
              "#7201a8"
             ],
             [
              0.3333333333333333,
              "#9c179e"
             ],
             [
              0.4444444444444444,
              "#bd3786"
             ],
             [
              0.5555555555555556,
              "#d8576b"
             ],
             [
              0.6666666666666666,
              "#ed7953"
             ],
             [
              0.7777777777777778,
              "#fb9f3a"
             ],
             [
              0.8888888888888888,
              "#fdca26"
             ],
             [
              1,
              "#f0f921"
             ]
            ],
            "type": "heatmapgl"
           }
          ],
          "histogram": [
           {
            "marker": {
             "colorbar": {
              "outlinewidth": 0,
              "ticks": ""
             }
            },
            "type": "histogram"
           }
          ],
          "histogram2d": [
           {
            "colorbar": {
             "outlinewidth": 0,
             "ticks": ""
            },
            "colorscale": [
             [
              0,
              "#0d0887"
             ],
             [
              0.1111111111111111,
              "#46039f"
             ],
             [
              0.2222222222222222,
              "#7201a8"
             ],
             [
              0.3333333333333333,
              "#9c179e"
             ],
             [
              0.4444444444444444,
              "#bd3786"
             ],
             [
              0.5555555555555556,
              "#d8576b"
             ],
             [
              0.6666666666666666,
              "#ed7953"
             ],
             [
              0.7777777777777778,
              "#fb9f3a"
             ],
             [
              0.8888888888888888,
              "#fdca26"
             ],
             [
              1,
              "#f0f921"
             ]
            ],
            "type": "histogram2d"
           }
          ],
          "histogram2dcontour": [
           {
            "colorbar": {
             "outlinewidth": 0,
             "ticks": ""
            },
            "colorscale": [
             [
              0,
              "#0d0887"
             ],
             [
              0.1111111111111111,
              "#46039f"
             ],
             [
              0.2222222222222222,
              "#7201a8"
             ],
             [
              0.3333333333333333,
              "#9c179e"
             ],
             [
              0.4444444444444444,
              "#bd3786"
             ],
             [
              0.5555555555555556,
              "#d8576b"
             ],
             [
              0.6666666666666666,
              "#ed7953"
             ],
             [
              0.7777777777777778,
              "#fb9f3a"
             ],
             [
              0.8888888888888888,
              "#fdca26"
             ],
             [
              1,
              "#f0f921"
             ]
            ],
            "type": "histogram2dcontour"
           }
          ],
          "mesh3d": [
           {
            "colorbar": {
             "outlinewidth": 0,
             "ticks": ""
            },
            "type": "mesh3d"
           }
          ],
          "parcoords": [
           {
            "line": {
             "colorbar": {
              "outlinewidth": 0,
              "ticks": ""
             }
            },
            "type": "parcoords"
           }
          ],
          "pie": [
           {
            "automargin": true,
            "type": "pie"
           }
          ],
          "scatter": [
           {
            "marker": {
             "colorbar": {
              "outlinewidth": 0,
              "ticks": ""
             }
            },
            "type": "scatter"
           }
          ],
          "scatter3d": [
           {
            "line": {
             "colorbar": {
              "outlinewidth": 0,
              "ticks": ""
             }
            },
            "marker": {
             "colorbar": {
              "outlinewidth": 0,
              "ticks": ""
             }
            },
            "type": "scatter3d"
           }
          ],
          "scattercarpet": [
           {
            "marker": {
             "colorbar": {
              "outlinewidth": 0,
              "ticks": ""
             }
            },
            "type": "scattercarpet"
           }
          ],
          "scattergeo": [
           {
            "marker": {
             "colorbar": {
              "outlinewidth": 0,
              "ticks": ""
             }
            },
            "type": "scattergeo"
           }
          ],
          "scattergl": [
           {
            "marker": {
             "colorbar": {
              "outlinewidth": 0,
              "ticks": ""
             }
            },
            "type": "scattergl"
           }
          ],
          "scattermapbox": [
           {
            "marker": {
             "colorbar": {
              "outlinewidth": 0,
              "ticks": ""
             }
            },
            "type": "scattermapbox"
           }
          ],
          "scatterpolar": [
           {
            "marker": {
             "colorbar": {
              "outlinewidth": 0,
              "ticks": ""
             }
            },
            "type": "scatterpolar"
           }
          ],
          "scatterpolargl": [
           {
            "marker": {
             "colorbar": {
              "outlinewidth": 0,
              "ticks": ""
             }
            },
            "type": "scatterpolargl"
           }
          ],
          "scatterternary": [
           {
            "marker": {
             "colorbar": {
              "outlinewidth": 0,
              "ticks": ""
             }
            },
            "type": "scatterternary"
           }
          ],
          "surface": [
           {
            "colorbar": {
             "outlinewidth": 0,
             "ticks": ""
            },
            "colorscale": [
             [
              0,
              "#0d0887"
             ],
             [
              0.1111111111111111,
              "#46039f"
             ],
             [
              0.2222222222222222,
              "#7201a8"
             ],
             [
              0.3333333333333333,
              "#9c179e"
             ],
             [
              0.4444444444444444,
              "#bd3786"
             ],
             [
              0.5555555555555556,
              "#d8576b"
             ],
             [
              0.6666666666666666,
              "#ed7953"
             ],
             [
              0.7777777777777778,
              "#fb9f3a"
             ],
             [
              0.8888888888888888,
              "#fdca26"
             ],
             [
              1,
              "#f0f921"
             ]
            ],
            "type": "surface"
           }
          ],
          "table": [
           {
            "cells": {
             "fill": {
              "color": "#EBF0F8"
             },
             "line": {
              "color": "white"
             }
            },
            "header": {
             "fill": {
              "color": "#C8D4E3"
             },
             "line": {
              "color": "white"
             }
            },
            "type": "table"
           }
          ]
         },
         "layout": {
          "annotationdefaults": {
           "arrowcolor": "#2a3f5f",
           "arrowhead": 0,
           "arrowwidth": 1
          },
          "coloraxis": {
           "colorbar": {
            "outlinewidth": 0,
            "ticks": ""
           }
          },
          "colorscale": {
           "diverging": [
            [
             0,
             "#8e0152"
            ],
            [
             0.1,
             "#c51b7d"
            ],
            [
             0.2,
             "#de77ae"
            ],
            [
             0.3,
             "#f1b6da"
            ],
            [
             0.4,
             "#fde0ef"
            ],
            [
             0.5,
             "#f7f7f7"
            ],
            [
             0.6,
             "#e6f5d0"
            ],
            [
             0.7,
             "#b8e186"
            ],
            [
             0.8,
             "#7fbc41"
            ],
            [
             0.9,
             "#4d9221"
            ],
            [
             1,
             "#276419"
            ]
           ],
           "sequential": [
            [
             0,
             "#0d0887"
            ],
            [
             0.1111111111111111,
             "#46039f"
            ],
            [
             0.2222222222222222,
             "#7201a8"
            ],
            [
             0.3333333333333333,
             "#9c179e"
            ],
            [
             0.4444444444444444,
             "#bd3786"
            ],
            [
             0.5555555555555556,
             "#d8576b"
            ],
            [
             0.6666666666666666,
             "#ed7953"
            ],
            [
             0.7777777777777778,
             "#fb9f3a"
            ],
            [
             0.8888888888888888,
             "#fdca26"
            ],
            [
             1,
             "#f0f921"
            ]
           ],
           "sequentialminus": [
            [
             0,
             "#0d0887"
            ],
            [
             0.1111111111111111,
             "#46039f"
            ],
            [
             0.2222222222222222,
             "#7201a8"
            ],
            [
             0.3333333333333333,
             "#9c179e"
            ],
            [
             0.4444444444444444,
             "#bd3786"
            ],
            [
             0.5555555555555556,
             "#d8576b"
            ],
            [
             0.6666666666666666,
             "#ed7953"
            ],
            [
             0.7777777777777778,
             "#fb9f3a"
            ],
            [
             0.8888888888888888,
             "#fdca26"
            ],
            [
             1,
             "#f0f921"
            ]
           ]
          },
          "colorway": [
           "#636efa",
           "#EF553B",
           "#00cc96",
           "#ab63fa",
           "#FFA15A",
           "#19d3f3",
           "#FF6692",
           "#B6E880",
           "#FF97FF",
           "#FECB52"
          ],
          "font": {
           "color": "#2a3f5f"
          },
          "geo": {
           "bgcolor": "white",
           "lakecolor": "white",
           "landcolor": "#E5ECF6",
           "showlakes": true,
           "showland": true,
           "subunitcolor": "white"
          },
          "hoverlabel": {
           "align": "left"
          },
          "hovermode": "closest",
          "mapbox": {
           "style": "light"
          },
          "paper_bgcolor": "white",
          "plot_bgcolor": "#E5ECF6",
          "polar": {
           "angularaxis": {
            "gridcolor": "white",
            "linecolor": "white",
            "ticks": ""
           },
           "bgcolor": "#E5ECF6",
           "radialaxis": {
            "gridcolor": "white",
            "linecolor": "white",
            "ticks": ""
           }
          },
          "scene": {
           "xaxis": {
            "backgroundcolor": "#E5ECF6",
            "gridcolor": "white",
            "gridwidth": 2,
            "linecolor": "white",
            "showbackground": true,
            "ticks": "",
            "zerolinecolor": "white"
           },
           "yaxis": {
            "backgroundcolor": "#E5ECF6",
            "gridcolor": "white",
            "gridwidth": 2,
            "linecolor": "white",
            "showbackground": true,
            "ticks": "",
            "zerolinecolor": "white"
           },
           "zaxis": {
            "backgroundcolor": "#E5ECF6",
            "gridcolor": "white",
            "gridwidth": 2,
            "linecolor": "white",
            "showbackground": true,
            "ticks": "",
            "zerolinecolor": "white"
           }
          },
          "shapedefaults": {
           "line": {
            "color": "#2a3f5f"
           }
          },
          "ternary": {
           "aaxis": {
            "gridcolor": "white",
            "linecolor": "white",
            "ticks": ""
           },
           "baxis": {
            "gridcolor": "white",
            "linecolor": "white",
            "ticks": ""
           },
           "bgcolor": "#E5ECF6",
           "caxis": {
            "gridcolor": "white",
            "linecolor": "white",
            "ticks": ""
           }
          },
          "title": {
           "x": 0.05
          },
          "xaxis": {
           "automargin": true,
           "gridcolor": "white",
           "linecolor": "white",
           "ticks": "",
           "title": {
            "standoff": 15
           },
           "zerolinecolor": "white",
           "zerolinewidth": 2
          },
          "yaxis": {
           "automargin": true,
           "gridcolor": "white",
           "linecolor": "white",
           "ticks": "",
           "title": {
            "standoff": 15
           },
           "zerolinecolor": "white",
           "zerolinewidth": 2
          }
         }
        },
        "xaxis": {
         "anchor": "y",
         "domain": [
          0,
          1
         ],
         "title": {
          "text": "Specimen date"
         }
        },
        "yaxis": {
         "anchor": "x",
         "domain": [
          0,
          1
         ],
         "title": {
          "text": "SMAV"
         }
        }
       }
      },
      "text/html": [
       "<div>\n",
       "        \n",
       "        \n",
       "            <div id=\"795ff884-67dc-4bbf-93d2-2e4dbc7f0111\" class=\"plotly-graph-div\" style=\"height:525px; width:100%;\"></div>\n",
       "            <script type=\"text/javascript\">\n",
       "                require([\"plotly\"], function(Plotly) {\n",
       "                    window.PLOTLYENV=window.PLOTLYENV || {};\n",
       "                    \n",
       "                if (document.getElementById(\"795ff884-67dc-4bbf-93d2-2e4dbc7f0111\")) {\n",
       "                    Plotly.newPlot(\n",
       "                        '795ff884-67dc-4bbf-93d2-2e4dbc7f0111',\n",
       "                        [{\"hovertemplate\": \"Specimen date=%{x}<br>SMAV=%{y}<extra></extra>\", \"legendgroup\": \"\", \"line\": {\"color\": \"#636efa\", \"dash\": \"solid\"}, \"mode\": \"markers+lines\", \"name\": \"\", \"orientation\": \"v\", \"showlegend\": false, \"type\": \"scatter\", \"x\": [\"2020-01-30\", \"2020-01-31\", \"2020-02-03\", \"2020-02-05\", \"2020-02-08\", \"2020-02-09\", \"2020-02-11\", \"2020-02-12\", \"2020-02-13\", \"2020-02-14\", \"2020-02-17\", \"2020-02-19\", \"2020-02-21\", \"2020-02-23\", \"2020-02-24\", \"2020-02-25\", \"2020-02-26\", \"2020-02-27\", \"2020-02-28\", \"2020-02-29\", \"2020-03-01\", \"2020-03-02\", \"2020-03-03\", \"2020-03-04\", \"2020-03-05\", \"2020-03-06\", \"2020-03-07\", \"2020-03-08\", \"2020-03-09\", \"2020-03-10\", \"2020-03-11\", \"2020-03-12\", \"2020-03-13\", \"2020-03-14\", \"2020-03-15\", \"2020-03-16\", \"2020-03-17\", \"2020-03-18\", \"2020-03-19\", \"2020-03-20\", \"2020-03-21\", \"2020-03-22\", \"2020-03-23\", \"2020-03-24\", \"2020-03-25\", \"2020-03-26\", \"2020-03-27\", \"2020-03-28\", \"2020-03-29\", \"2020-03-30\", \"2020-03-31\", \"2020-04-01\", \"2020-04-02\", \"2020-04-03\", \"2020-04-04\", \"2020-04-05\", \"2020-04-06\", \"2020-04-07\", \"2020-04-08\", \"2020-04-09\", \"2020-04-10\", \"2020-04-11\", \"2020-04-12\", \"2020-04-13\", \"2020-04-14\", \"2020-04-15\", \"2020-04-16\", \"2020-04-17\", \"2020-04-18\", \"2020-04-19\", \"2020-04-20\", \"2020-04-21\", \"2020-04-22\", \"2020-04-23\", \"2020-04-24\", \"2020-04-25\", \"2020-04-26\", \"2020-04-27\", \"2020-04-28\", \"2020-04-29\", \"2020-04-30\", \"2020-05-01\", \"2020-05-02\", \"2020-05-03\", \"2020-05-04\", \"2020-05-05\", \"2020-05-06\", \"2020-05-07\", \"2020-05-08\", \"2020-05-09\", \"2020-05-10\", \"2020-05-11\", \"2020-05-12\", \"2020-05-13\", \"2020-05-14\", \"2020-05-15\", \"2020-05-16\", \"2020-05-17\", \"2020-05-18\", \"2020-05-19\", \"2020-05-20\", \"2020-05-21\", \"2020-05-22\", \"2020-05-23\", \"2020-05-24\", \"2020-05-25\", \"2020-05-26\", \"2020-05-27\", \"2020-05-28\", \"2020-05-29\", \"2020-05-30\", \"2020-05-31\", \"2020-06-01\", \"2020-06-02\", \"2020-06-03\", \"2020-06-04\", \"2020-06-05\", \"2020-06-06\", \"2020-06-07\", \"2020-06-08\", \"2020-06-09\", \"2020-06-10\"], \"xaxis\": \"x\", \"y\": [null, null, null, null, null, null, 14.0, 14.0, 14.0, 9.0, 9.0, 7.0, 7.0, 10.0, 10.0, 13.0, 15.0, 20.0, 31.0, 34.0, 61.0, 99.0, 146.0, 192.0, 233.0, 294.0, 337.0, 356.0, 441.0, 613.0, 918.0, 1284.0, 1603.0, 1873.0, 2220.0, 2642.0, 3099.0, 3654.0, 4172.0, 4861.0, 5577.0, 6388.0, 7859.0, 9199.0, 10551.0, 12223.0, 13802.0, 15143.0, 16370.0, 17844.0, 19587.0, 21409.0, 22814.0, 24193.0, 25141.0, 25736.0, 26573.0, 27283.0, 27422.0, 27419.0, 26885.0, 26553.0, 26206.0, 25181.0, 24122.0, 23502.0, 22931.0, 22846.0, 22432.0, 21838.0, 21609.0, 21179.0, 20335.0, 19661.0, 19012.0, 18243.0, 17558.0, 16704.0, 15994.0, 15575.0, 14938.0, 14115.0, 13546.0, 13102.0, 12501.0, 11820.0, 10911.0, 10227.0, 9295.0, 8946.0, 8710.0, 8324.0, 7826.0, 7470.0, 6929.0, 6820.0, 6567.0, 6477.0, 6185.0, 6118.0, 5866.0, 5715.0, 5510.0, 5330.0, 5081.0, 4649.0, 4163.0, 3885.0, 3586.0, 3318.0, 3204.0, 3123.0, 3058.0, 2994.0, 2892.0, 2758.0, 2644.0, 2510.0, 2383.0, 2162.0, 1819.0, 1404.0], \"yaxis\": \"y\"}],\n",
       "                        {\"legend\": {\"tracegroupgap\": 0}, \"margin\": {\"t\": 60}, \"template\": {\"data\": {\"bar\": [{\"error_x\": {\"color\": \"#2a3f5f\"}, \"error_y\": {\"color\": \"#2a3f5f\"}, \"marker\": {\"line\": {\"color\": \"#E5ECF6\", \"width\": 0.5}}, \"type\": \"bar\"}], \"barpolar\": [{\"marker\": {\"line\": {\"color\": \"#E5ECF6\", \"width\": 0.5}}, \"type\": \"barpolar\"}], \"carpet\": [{\"aaxis\": {\"endlinecolor\": \"#2a3f5f\", \"gridcolor\": \"white\", \"linecolor\": \"white\", \"minorgridcolor\": \"white\", \"startlinecolor\": \"#2a3f5f\"}, \"baxis\": {\"endlinecolor\": \"#2a3f5f\", \"gridcolor\": \"white\", \"linecolor\": \"white\", \"minorgridcolor\": \"white\", \"startlinecolor\": \"#2a3f5f\"}, \"type\": \"carpet\"}], \"choropleth\": [{\"colorbar\": {\"outlinewidth\": 0, \"ticks\": \"\"}, \"type\": \"choropleth\"}], \"contour\": [{\"colorbar\": {\"outlinewidth\": 0, \"ticks\": \"\"}, \"colorscale\": [[0.0, \"#0d0887\"], [0.1111111111111111, \"#46039f\"], [0.2222222222222222, \"#7201a8\"], [0.3333333333333333, \"#9c179e\"], [0.4444444444444444, \"#bd3786\"], [0.5555555555555556, \"#d8576b\"], [0.6666666666666666, \"#ed7953\"], [0.7777777777777778, \"#fb9f3a\"], [0.8888888888888888, \"#fdca26\"], [1.0, \"#f0f921\"]], \"type\": \"contour\"}], \"contourcarpet\": [{\"colorbar\": {\"outlinewidth\": 0, \"ticks\": \"\"}, \"type\": \"contourcarpet\"}], \"heatmap\": [{\"colorbar\": {\"outlinewidth\": 0, \"ticks\": \"\"}, \"colorscale\": [[0.0, \"#0d0887\"], [0.1111111111111111, \"#46039f\"], [0.2222222222222222, \"#7201a8\"], [0.3333333333333333, \"#9c179e\"], [0.4444444444444444, \"#bd3786\"], [0.5555555555555556, \"#d8576b\"], [0.6666666666666666, \"#ed7953\"], [0.7777777777777778, \"#fb9f3a\"], [0.8888888888888888, \"#fdca26\"], [1.0, \"#f0f921\"]], \"type\": \"heatmap\"}], \"heatmapgl\": [{\"colorbar\": {\"outlinewidth\": 0, \"ticks\": \"\"}, \"colorscale\": [[0.0, \"#0d0887\"], [0.1111111111111111, \"#46039f\"], [0.2222222222222222, \"#7201a8\"], [0.3333333333333333, \"#9c179e\"], [0.4444444444444444, \"#bd3786\"], [0.5555555555555556, \"#d8576b\"], [0.6666666666666666, \"#ed7953\"], [0.7777777777777778, \"#fb9f3a\"], [0.8888888888888888, \"#fdca26\"], [1.0, \"#f0f921\"]], \"type\": \"heatmapgl\"}], \"histogram\": [{\"marker\": {\"colorbar\": {\"outlinewidth\": 0, \"ticks\": \"\"}}, \"type\": \"histogram\"}], \"histogram2d\": [{\"colorbar\": {\"outlinewidth\": 0, \"ticks\": \"\"}, \"colorscale\": [[0.0, \"#0d0887\"], [0.1111111111111111, \"#46039f\"], [0.2222222222222222, \"#7201a8\"], [0.3333333333333333, \"#9c179e\"], [0.4444444444444444, \"#bd3786\"], [0.5555555555555556, \"#d8576b\"], [0.6666666666666666, \"#ed7953\"], [0.7777777777777778, \"#fb9f3a\"], [0.8888888888888888, \"#fdca26\"], [1.0, \"#f0f921\"]], \"type\": \"histogram2d\"}], \"histogram2dcontour\": [{\"colorbar\": {\"outlinewidth\": 0, \"ticks\": \"\"}, \"colorscale\": [[0.0, \"#0d0887\"], [0.1111111111111111, \"#46039f\"], [0.2222222222222222, \"#7201a8\"], [0.3333333333333333, \"#9c179e\"], [0.4444444444444444, \"#bd3786\"], [0.5555555555555556, \"#d8576b\"], [0.6666666666666666, \"#ed7953\"], [0.7777777777777778, \"#fb9f3a\"], [0.8888888888888888, \"#fdca26\"], [1.0, \"#f0f921\"]], \"type\": \"histogram2dcontour\"}], \"mesh3d\": [{\"colorbar\": {\"outlinewidth\": 0, \"ticks\": \"\"}, \"type\": \"mesh3d\"}], \"parcoords\": [{\"line\": {\"colorbar\": {\"outlinewidth\": 0, \"ticks\": \"\"}}, \"type\": \"parcoords\"}], \"pie\": [{\"automargin\": true, \"type\": \"pie\"}], \"scatter\": [{\"marker\": {\"colorbar\": {\"outlinewidth\": 0, \"ticks\": \"\"}}, \"type\": \"scatter\"}], \"scatter3d\": [{\"line\": {\"colorbar\": {\"outlinewidth\": 0, \"ticks\": \"\"}}, \"marker\": {\"colorbar\": {\"outlinewidth\": 0, \"ticks\": \"\"}}, \"type\": \"scatter3d\"}], \"scattercarpet\": [{\"marker\": {\"colorbar\": {\"outlinewidth\": 0, \"ticks\": \"\"}}, \"type\": \"scattercarpet\"}], \"scattergeo\": [{\"marker\": {\"colorbar\": {\"outlinewidth\": 0, \"ticks\": \"\"}}, \"type\": \"scattergeo\"}], \"scattergl\": [{\"marker\": {\"colorbar\": {\"outlinewidth\": 0, \"ticks\": \"\"}}, \"type\": \"scattergl\"}], \"scattermapbox\": [{\"marker\": {\"colorbar\": {\"outlinewidth\": 0, \"ticks\": \"\"}}, \"type\": \"scattermapbox\"}], \"scatterpolar\": [{\"marker\": {\"colorbar\": {\"outlinewidth\": 0, \"ticks\": \"\"}}, \"type\": \"scatterpolar\"}], \"scatterpolargl\": [{\"marker\": {\"colorbar\": {\"outlinewidth\": 0, \"ticks\": \"\"}}, \"type\": \"scatterpolargl\"}], \"scatterternary\": [{\"marker\": {\"colorbar\": {\"outlinewidth\": 0, \"ticks\": \"\"}}, \"type\": \"scatterternary\"}], \"surface\": [{\"colorbar\": {\"outlinewidth\": 0, \"ticks\": \"\"}, \"colorscale\": [[0.0, \"#0d0887\"], [0.1111111111111111, \"#46039f\"], [0.2222222222222222, \"#7201a8\"], [0.3333333333333333, \"#9c179e\"], [0.4444444444444444, \"#bd3786\"], [0.5555555555555556, \"#d8576b\"], [0.6666666666666666, \"#ed7953\"], [0.7777777777777778, \"#fb9f3a\"], [0.8888888888888888, \"#fdca26\"], [1.0, \"#f0f921\"]], \"type\": \"surface\"}], \"table\": [{\"cells\": {\"fill\": {\"color\": \"#EBF0F8\"}, \"line\": {\"color\": \"white\"}}, \"header\": {\"fill\": {\"color\": \"#C8D4E3\"}, \"line\": {\"color\": \"white\"}}, \"type\": \"table\"}]}, \"layout\": {\"annotationdefaults\": {\"arrowcolor\": \"#2a3f5f\", \"arrowhead\": 0, \"arrowwidth\": 1}, \"coloraxis\": {\"colorbar\": {\"outlinewidth\": 0, \"ticks\": \"\"}}, \"colorscale\": {\"diverging\": [[0, \"#8e0152\"], [0.1, \"#c51b7d\"], [0.2, \"#de77ae\"], [0.3, \"#f1b6da\"], [0.4, \"#fde0ef\"], [0.5, \"#f7f7f7\"], [0.6, \"#e6f5d0\"], [0.7, \"#b8e186\"], [0.8, \"#7fbc41\"], [0.9, \"#4d9221\"], [1, \"#276419\"]], \"sequential\": [[0.0, \"#0d0887\"], [0.1111111111111111, \"#46039f\"], [0.2222222222222222, \"#7201a8\"], [0.3333333333333333, \"#9c179e\"], [0.4444444444444444, \"#bd3786\"], [0.5555555555555556, \"#d8576b\"], [0.6666666666666666, \"#ed7953\"], [0.7777777777777778, \"#fb9f3a\"], [0.8888888888888888, \"#fdca26\"], [1.0, \"#f0f921\"]], \"sequentialminus\": [[0.0, \"#0d0887\"], [0.1111111111111111, \"#46039f\"], [0.2222222222222222, \"#7201a8\"], [0.3333333333333333, \"#9c179e\"], [0.4444444444444444, \"#bd3786\"], [0.5555555555555556, \"#d8576b\"], [0.6666666666666666, \"#ed7953\"], [0.7777777777777778, \"#fb9f3a\"], [0.8888888888888888, \"#fdca26\"], [1.0, \"#f0f921\"]]}, \"colorway\": [\"#636efa\", \"#EF553B\", \"#00cc96\", \"#ab63fa\", \"#FFA15A\", \"#19d3f3\", \"#FF6692\", \"#B6E880\", \"#FF97FF\", \"#FECB52\"], \"font\": {\"color\": \"#2a3f5f\"}, \"geo\": {\"bgcolor\": \"white\", \"lakecolor\": \"white\", \"landcolor\": \"#E5ECF6\", \"showlakes\": true, \"showland\": true, \"subunitcolor\": \"white\"}, \"hoverlabel\": {\"align\": \"left\"}, \"hovermode\": \"closest\", \"mapbox\": {\"style\": \"light\"}, \"paper_bgcolor\": \"white\", \"plot_bgcolor\": \"#E5ECF6\", \"polar\": {\"angularaxis\": {\"gridcolor\": \"white\", \"linecolor\": \"white\", \"ticks\": \"\"}, \"bgcolor\": \"#E5ECF6\", \"radialaxis\": {\"gridcolor\": \"white\", \"linecolor\": \"white\", \"ticks\": \"\"}}, \"scene\": {\"xaxis\": {\"backgroundcolor\": \"#E5ECF6\", \"gridcolor\": \"white\", \"gridwidth\": 2, \"linecolor\": \"white\", \"showbackground\": true, \"ticks\": \"\", \"zerolinecolor\": \"white\"}, \"yaxis\": {\"backgroundcolor\": \"#E5ECF6\", \"gridcolor\": \"white\", \"gridwidth\": 2, \"linecolor\": \"white\", \"showbackground\": true, \"ticks\": \"\", \"zerolinecolor\": \"white\"}, \"zaxis\": {\"backgroundcolor\": \"#E5ECF6\", \"gridcolor\": \"white\", \"gridwidth\": 2, \"linecolor\": \"white\", \"showbackground\": true, \"ticks\": \"\", \"zerolinecolor\": \"white\"}}, \"shapedefaults\": {\"line\": {\"color\": \"#2a3f5f\"}}, \"ternary\": {\"aaxis\": {\"gridcolor\": \"white\", \"linecolor\": \"white\", \"ticks\": \"\"}, \"baxis\": {\"gridcolor\": \"white\", \"linecolor\": \"white\", \"ticks\": \"\"}, \"bgcolor\": \"#E5ECF6\", \"caxis\": {\"gridcolor\": \"white\", \"linecolor\": \"white\", \"ticks\": \"\"}}, \"title\": {\"x\": 0.05}, \"xaxis\": {\"automargin\": true, \"gridcolor\": \"white\", \"linecolor\": \"white\", \"ticks\": \"\", \"title\": {\"standoff\": 15}, \"zerolinecolor\": \"white\", \"zerolinewidth\": 2}, \"yaxis\": {\"automargin\": true, \"gridcolor\": \"white\", \"linecolor\": \"white\", \"ticks\": \"\", \"title\": {\"standoff\": 15}, \"zerolinecolor\": \"white\", \"zerolinewidth\": 2}}}, \"xaxis\": {\"anchor\": \"y\", \"domain\": [0.0, 1.0], \"title\": {\"text\": \"Specimen date\"}}, \"yaxis\": {\"anchor\": \"x\", \"domain\": [0.0, 1.0], \"title\": {\"text\": \"SMAV\"}}},\n",
       "                        {\"responsive\": true}\n",
       "                    ).then(function(){\n",
       "                            \n",
       "var gd = document.getElementById('795ff884-67dc-4bbf-93d2-2e4dbc7f0111');\n",
       "var x = new MutationObserver(function (mutations, observer) {{\n",
       "        var display = window.getComputedStyle(gd).display;\n",
       "        if (!display || display === 'none') {{\n",
       "            console.log([gd, 'removed!']);\n",
       "            Plotly.purge(gd);\n",
       "            observer.disconnect();\n",
       "        }}\n",
       "}});\n",
       "\n",
       "// Listen for the removal of the full notebook cells\n",
       "var notebookContainer = gd.closest('#notebook-container');\n",
       "if (notebookContainer) {{\n",
       "    x.observe(notebookContainer, {childList: true});\n",
       "}}\n",
       "\n",
       "// Listen for the clearing of the current output cell\n",
       "var outputEl = gd.closest('.output');\n",
       "if (outputEl) {{\n",
       "    x.observe(outputEl, {childList: true});\n",
       "}}\n",
       "\n",
       "                        })\n",
       "                };\n",
       "                });\n",
       "            </script>\n",
       "        </div>"
      ]
     },
     "metadata": {},
     "output_type": "display_data"
    }
   ],
   "source": [
    "fig2 = px.line(df_cases_england, x=\"Specimen date\", y=\"SMAV\")\n",
    "fig2.data[0].update(mode='markers+lines')\n",
    "fig2.show()"
   ]
  },
  {
   "cell_type": "markdown",
   "metadata": {},
   "source": [
    "## Regions"
   ]
  },
  {
   "cell_type": "code",
   "execution_count": 24,
   "metadata": {},
   "outputs": [],
   "source": [
    "df_cases_regions = df_cases[df_cases['Area type']==\"Region\"]"
   ]
  },
  {
   "cell_type": "code",
   "execution_count": 25,
   "metadata": {},
   "outputs": [
    {
     "data": {
      "text/html": [
       "<div>\n",
       "<style scoped>\n",
       "    .dataframe tbody tr th:only-of-type {\n",
       "        vertical-align: middle;\n",
       "    }\n",
       "\n",
       "    .dataframe tbody tr th {\n",
       "        vertical-align: top;\n",
       "    }\n",
       "\n",
       "    .dataframe thead th {\n",
       "        text-align: right;\n",
       "    }\n",
       "</style>\n",
       "<table border=\"1\" class=\"dataframe\">\n",
       "  <thead>\n",
       "    <tr style=\"text-align: right;\">\n",
       "      <th></th>\n",
       "      <th>Area name</th>\n",
       "      <th>Area code</th>\n",
       "      <th>Area type</th>\n",
       "      <th>Specimen date</th>\n",
       "      <th>Daily lab-confirmed cases</th>\n",
       "      <th>Previously reported daily cases</th>\n",
       "      <th>Change in daily cases</th>\n",
       "      <th>Cumulative lab-confirmed cases</th>\n",
       "      <th>Previously reported cumulative cases</th>\n",
       "      <th>Change in cumulative cases</th>\n",
       "      <th>Cumulative lab-confirmed cases rate</th>\n",
       "    </tr>\n",
       "  </thead>\n",
       "  <tbody>\n",
       "    <tr>\n",
       "      <th>36347</th>\n",
       "      <td>Yorkshire and The Humber</td>\n",
       "      <td>E12000003</td>\n",
       "      <td>Region</td>\n",
       "      <td>2020-01-30</td>\n",
       "      <td>1.0</td>\n",
       "      <td>NaN</td>\n",
       "      <td>NaN</td>\n",
       "      <td>1</td>\n",
       "      <td>NaN</td>\n",
       "      <td>NaN</td>\n",
       "      <td>0.0</td>\n",
       "    </tr>\n",
       "    <tr>\n",
       "      <th>36343</th>\n",
       "      <td>South East</td>\n",
       "      <td>E12000008</td>\n",
       "      <td>Region</td>\n",
       "      <td>2020-01-31</td>\n",
       "      <td>1.0</td>\n",
       "      <td>NaN</td>\n",
       "      <td>NaN</td>\n",
       "      <td>1</td>\n",
       "      <td>NaN</td>\n",
       "      <td>NaN</td>\n",
       "      <td>0.0</td>\n",
       "    </tr>\n",
       "    <tr>\n",
       "      <th>36333</th>\n",
       "      <td>Yorkshire and The Humber</td>\n",
       "      <td>E12000003</td>\n",
       "      <td>Region</td>\n",
       "      <td>2020-02-03</td>\n",
       "      <td>1.0</td>\n",
       "      <td>NaN</td>\n",
       "      <td>NaN</td>\n",
       "      <td>2</td>\n",
       "      <td>NaN</td>\n",
       "      <td>NaN</td>\n",
       "      <td>0.0</td>\n",
       "    </tr>\n",
       "    <tr>\n",
       "      <th>36332</th>\n",
       "      <td>East of England</td>\n",
       "      <td>E12000006</td>\n",
       "      <td>Region</td>\n",
       "      <td>2020-02-03</td>\n",
       "      <td>1.0</td>\n",
       "      <td>NaN</td>\n",
       "      <td>NaN</td>\n",
       "      <td>1</td>\n",
       "      <td>NaN</td>\n",
       "      <td>NaN</td>\n",
       "      <td>0.0</td>\n",
       "    </tr>\n",
       "    <tr>\n",
       "      <th>36331</th>\n",
       "      <td>South East</td>\n",
       "      <td>E12000008</td>\n",
       "      <td>Region</td>\n",
       "      <td>2020-02-03</td>\n",
       "      <td>1.0</td>\n",
       "      <td>NaN</td>\n",
       "      <td>NaN</td>\n",
       "      <td>2</td>\n",
       "      <td>NaN</td>\n",
       "      <td>NaN</td>\n",
       "      <td>0.0</td>\n",
       "    </tr>\n",
       "    <tr>\n",
       "      <th>...</th>\n",
       "      <td>...</td>\n",
       "      <td>...</td>\n",
       "      <td>...</td>\n",
       "      <td>...</td>\n",
       "      <td>...</td>\n",
       "      <td>...</td>\n",
       "      <td>...</td>\n",
       "      <td>...</td>\n",
       "      <td>...</td>\n",
       "      <td>...</td>\n",
       "      <td>...</td>\n",
       "    </tr>\n",
       "    <tr>\n",
       "      <th>5</th>\n",
       "      <td>West Midlands</td>\n",
       "      <td>E12000005</td>\n",
       "      <td>Region</td>\n",
       "      <td>2020-06-10</td>\n",
       "      <td>4.0</td>\n",
       "      <td>NaN</td>\n",
       "      <td>NaN</td>\n",
       "      <td>16606</td>\n",
       "      <td>NaN</td>\n",
       "      <td>NaN</td>\n",
       "      <td>281.4</td>\n",
       "    </tr>\n",
       "    <tr>\n",
       "      <th>4</th>\n",
       "      <td>East of England</td>\n",
       "      <td>E12000006</td>\n",
       "      <td>Region</td>\n",
       "      <td>2020-06-10</td>\n",
       "      <td>0.0</td>\n",
       "      <td>NaN</td>\n",
       "      <td>NaN</td>\n",
       "      <td>14634</td>\n",
       "      <td>NaN</td>\n",
       "      <td>NaN</td>\n",
       "      <td>236.0</td>\n",
       "    </tr>\n",
       "    <tr>\n",
       "      <th>3</th>\n",
       "      <td>London</td>\n",
       "      <td>E12000007</td>\n",
       "      <td>Region</td>\n",
       "      <td>2020-06-10</td>\n",
       "      <td>0.0</td>\n",
       "      <td>NaN</td>\n",
       "      <td>NaN</td>\n",
       "      <td>27240</td>\n",
       "      <td>NaN</td>\n",
       "      <td>NaN</td>\n",
       "      <td>305.8</td>\n",
       "    </tr>\n",
       "    <tr>\n",
       "      <th>2</th>\n",
       "      <td>South East</td>\n",
       "      <td>E12000008</td>\n",
       "      <td>Region</td>\n",
       "      <td>2020-06-10</td>\n",
       "      <td>3.0</td>\n",
       "      <td>NaN</td>\n",
       "      <td>NaN</td>\n",
       "      <td>22179</td>\n",
       "      <td>NaN</td>\n",
       "      <td>NaN</td>\n",
       "      <td>242.8</td>\n",
       "    </tr>\n",
       "    <tr>\n",
       "      <th>1</th>\n",
       "      <td>South West</td>\n",
       "      <td>E12000009</td>\n",
       "      <td>Region</td>\n",
       "      <td>2020-06-10</td>\n",
       "      <td>0.0</td>\n",
       "      <td>NaN</td>\n",
       "      <td>NaN</td>\n",
       "      <td>7858</td>\n",
       "      <td>NaN</td>\n",
       "      <td>NaN</td>\n",
       "      <td>140.3</td>\n",
       "    </tr>\n",
       "  </tbody>\n",
       "</table>\n",
       "<p>949 rows × 11 columns</p>\n",
       "</div>"
      ],
      "text/plain": [
       "                      Area name  Area code Area type Specimen date  \\\n",
       "36347  Yorkshire and The Humber  E12000003    Region    2020-01-30   \n",
       "36343                South East  E12000008    Region    2020-01-31   \n",
       "36333  Yorkshire and The Humber  E12000003    Region    2020-02-03   \n",
       "36332           East of England  E12000006    Region    2020-02-03   \n",
       "36331                South East  E12000008    Region    2020-02-03   \n",
       "...                         ...        ...       ...           ...   \n",
       "5                 West Midlands  E12000005    Region    2020-06-10   \n",
       "4               East of England  E12000006    Region    2020-06-10   \n",
       "3                        London  E12000007    Region    2020-06-10   \n",
       "2                    South East  E12000008    Region    2020-06-10   \n",
       "1                    South West  E12000009    Region    2020-06-10   \n",
       "\n",
       "       Daily lab-confirmed cases  Previously reported daily cases  \\\n",
       "36347                        1.0                              NaN   \n",
       "36343                        1.0                              NaN   \n",
       "36333                        1.0                              NaN   \n",
       "36332                        1.0                              NaN   \n",
       "36331                        1.0                              NaN   \n",
       "...                          ...                              ...   \n",
       "5                            4.0                              NaN   \n",
       "4                            0.0                              NaN   \n",
       "3                            0.0                              NaN   \n",
       "2                            3.0                              NaN   \n",
       "1                            0.0                              NaN   \n",
       "\n",
       "       Change in daily cases  Cumulative lab-confirmed cases  \\\n",
       "36347                    NaN                               1   \n",
       "36343                    NaN                               1   \n",
       "36333                    NaN                               2   \n",
       "36332                    NaN                               1   \n",
       "36331                    NaN                               2   \n",
       "...                      ...                             ...   \n",
       "5                        NaN                           16606   \n",
       "4                        NaN                           14634   \n",
       "3                        NaN                           27240   \n",
       "2                        NaN                           22179   \n",
       "1                        NaN                            7858   \n",
       "\n",
       "       Previously reported cumulative cases  Change in cumulative cases  \\\n",
       "36347                                   NaN                         NaN   \n",
       "36343                                   NaN                         NaN   \n",
       "36333                                   NaN                         NaN   \n",
       "36332                                   NaN                         NaN   \n",
       "36331                                   NaN                         NaN   \n",
       "...                                     ...                         ...   \n",
       "5                                       NaN                         NaN   \n",
       "4                                       NaN                         NaN   \n",
       "3                                       NaN                         NaN   \n",
       "2                                       NaN                         NaN   \n",
       "1                                       NaN                         NaN   \n",
       "\n",
       "       Cumulative lab-confirmed cases rate  \n",
       "36347                                  0.0  \n",
       "36343                                  0.0  \n",
       "36333                                  0.0  \n",
       "36332                                  0.0  \n",
       "36331                                  0.0  \n",
       "...                                    ...  \n",
       "5                                    281.4  \n",
       "4                                    236.0  \n",
       "3                                    305.8  \n",
       "2                                    242.8  \n",
       "1                                    140.3  \n",
       "\n",
       "[949 rows x 11 columns]"
      ]
     },
     "execution_count": 25,
     "metadata": {},
     "output_type": "execute_result"
    }
   ],
   "source": [
    "df_cases_regions"
   ]
  },
  {
   "cell_type": "code",
   "execution_count": 26,
   "metadata": {},
   "outputs": [],
   "source": [
    "def plot_line_graph(y_axis='Daily lab-confirmed cases', log_y_setting=False):\n",
    "    fig3 = px.line(df_cases_regions, x=\"Specimen date\", y=y_axis, \n",
    "               color=\"Area name\", \n",
    "               line_group=\"Area name\", \n",
    "               hover_name=\"Area name\",\n",
    "               log_y=log_y_setting)\n",
    "    fig3.update_traces(mode='lines+markers')\n",
    "    fig3.show()\n",
    "    return"
   ]
  },
  {
   "cell_type": "code",
   "execution_count": 27,
   "metadata": {},
   "outputs": [
    {
     "data": {
      "application/vnd.plotly.v1+json": {
       "config": {
        "plotlyServerURL": "https://plot.ly"
       },
       "data": [
        {
         "hovertemplate": "<b>%{hovertext}</b><br><br>Area name=Yorkshire and The Humber<br>Specimen date=%{x}<br>Daily lab-confirmed cases=%{y}<extra></extra>",
         "hovertext": [
          "Yorkshire and The Humber",
          "Yorkshire and The Humber",
          "Yorkshire and The Humber",
          "Yorkshire and The Humber",
          "Yorkshire and The Humber",
          "Yorkshire and The Humber",
          "Yorkshire and The Humber",
          "Yorkshire and The Humber",
          "Yorkshire and The Humber",
          "Yorkshire and The Humber",
          "Yorkshire and The Humber",
          "Yorkshire and The Humber",
          "Yorkshire and The Humber",
          "Yorkshire and The Humber",
          "Yorkshire and The Humber",
          "Yorkshire and The Humber",
          "Yorkshire and The Humber",
          "Yorkshire and The Humber",
          "Yorkshire and The Humber",
          "Yorkshire and The Humber",
          "Yorkshire and The Humber",
          "Yorkshire and The Humber",
          "Yorkshire and The Humber",
          "Yorkshire and The Humber",
          "Yorkshire and The Humber",
          "Yorkshire and The Humber",
          "Yorkshire and The Humber",
          "Yorkshire and The Humber",
          "Yorkshire and The Humber",
          "Yorkshire and The Humber",
          "Yorkshire and The Humber",
          "Yorkshire and The Humber",
          "Yorkshire and The Humber",
          "Yorkshire and The Humber",
          "Yorkshire and The Humber",
          "Yorkshire and The Humber",
          "Yorkshire and The Humber",
          "Yorkshire and The Humber",
          "Yorkshire and The Humber",
          "Yorkshire and The Humber",
          "Yorkshire and The Humber",
          "Yorkshire and The Humber",
          "Yorkshire and The Humber",
          "Yorkshire and The Humber",
          "Yorkshire and The Humber",
          "Yorkshire and The Humber",
          "Yorkshire and The Humber",
          "Yorkshire and The Humber",
          "Yorkshire and The Humber",
          "Yorkshire and The Humber",
          "Yorkshire and The Humber",
          "Yorkshire and The Humber",
          "Yorkshire and The Humber",
          "Yorkshire and The Humber",
          "Yorkshire and The Humber",
          "Yorkshire and The Humber",
          "Yorkshire and The Humber",
          "Yorkshire and The Humber",
          "Yorkshire and The Humber",
          "Yorkshire and The Humber",
          "Yorkshire and The Humber",
          "Yorkshire and The Humber",
          "Yorkshire and The Humber",
          "Yorkshire and The Humber",
          "Yorkshire and The Humber",
          "Yorkshire and The Humber",
          "Yorkshire and The Humber",
          "Yorkshire and The Humber",
          "Yorkshire and The Humber",
          "Yorkshire and The Humber",
          "Yorkshire and The Humber",
          "Yorkshire and The Humber",
          "Yorkshire and The Humber",
          "Yorkshire and The Humber",
          "Yorkshire and The Humber",
          "Yorkshire and The Humber",
          "Yorkshire and The Humber",
          "Yorkshire and The Humber",
          "Yorkshire and The Humber",
          "Yorkshire and The Humber",
          "Yorkshire and The Humber",
          "Yorkshire and The Humber",
          "Yorkshire and The Humber",
          "Yorkshire and The Humber",
          "Yorkshire and The Humber",
          "Yorkshire and The Humber",
          "Yorkshire and The Humber",
          "Yorkshire and The Humber",
          "Yorkshire and The Humber",
          "Yorkshire and The Humber",
          "Yorkshire and The Humber",
          "Yorkshire and The Humber",
          "Yorkshire and The Humber",
          "Yorkshire and The Humber",
          "Yorkshire and The Humber",
          "Yorkshire and The Humber",
          "Yorkshire and The Humber",
          "Yorkshire and The Humber",
          "Yorkshire and The Humber",
          "Yorkshire and The Humber",
          "Yorkshire and The Humber",
          "Yorkshire and The Humber",
          "Yorkshire and The Humber",
          "Yorkshire and The Humber",
          "Yorkshire and The Humber",
          "Yorkshire and The Humber"
         ],
         "legendgroup": "Yorkshire and The Humber",
         "line": {
          "color": "#636efa",
          "dash": "solid"
         },
         "mode": "lines+markers",
         "name": "Yorkshire and The Humber",
         "orientation": "v",
         "showlegend": true,
         "type": "scatter",
         "x": [
          "2020-01-30",
          "2020-02-03",
          "2020-02-28",
          "2020-02-29",
          "2020-03-01",
          "2020-03-02",
          "2020-03-03",
          "2020-03-04",
          "2020-03-05",
          "2020-03-06",
          "2020-03-07",
          "2020-03-08",
          "2020-03-09",
          "2020-03-10",
          "2020-03-11",
          "2020-03-12",
          "2020-03-13",
          "2020-03-14",
          "2020-03-15",
          "2020-03-16",
          "2020-03-17",
          "2020-03-18",
          "2020-03-19",
          "2020-03-20",
          "2020-03-21",
          "2020-03-22",
          "2020-03-23",
          "2020-03-24",
          "2020-03-25",
          "2020-03-26",
          "2020-03-27",
          "2020-03-28",
          "2020-03-29",
          "2020-03-30",
          "2020-03-31",
          "2020-04-01",
          "2020-04-02",
          "2020-04-03",
          "2020-04-04",
          "2020-04-05",
          "2020-04-06",
          "2020-04-07",
          "2020-04-08",
          "2020-04-09",
          "2020-04-10",
          "2020-04-11",
          "2020-04-12",
          "2020-04-13",
          "2020-04-14",
          "2020-04-15",
          "2020-04-16",
          "2020-04-17",
          "2020-04-18",
          "2020-04-19",
          "2020-04-20",
          "2020-04-21",
          "2020-04-22",
          "2020-04-23",
          "2020-04-24",
          "2020-04-25",
          "2020-04-26",
          "2020-04-27",
          "2020-04-28",
          "2020-04-29",
          "2020-04-30",
          "2020-05-01",
          "2020-05-02",
          "2020-05-03",
          "2020-05-04",
          "2020-05-05",
          "2020-05-06",
          "2020-05-07",
          "2020-05-08",
          "2020-05-09",
          "2020-05-10",
          "2020-05-11",
          "2020-05-12",
          "2020-05-13",
          "2020-05-14",
          "2020-05-15",
          "2020-05-16",
          "2020-05-17",
          "2020-05-18",
          "2020-05-19",
          "2020-05-20",
          "2020-05-21",
          "2020-05-22",
          "2020-05-23",
          "2020-05-24",
          "2020-05-25",
          "2020-05-26",
          "2020-05-27",
          "2020-05-28",
          "2020-05-29",
          "2020-05-30",
          "2020-05-31",
          "2020-06-01",
          "2020-06-02",
          "2020-06-03",
          "2020-06-04",
          "2020-06-05",
          "2020-06-06",
          "2020-06-07",
          "2020-06-08",
          "2020-06-09",
          "2020-06-10"
         ],
         "xaxis": "x",
         "y": [
          1,
          1,
          2,
          1,
          4,
          3,
          3,
          2,
          2,
          2,
          5,
          3,
          7,
          18,
          10,
          14,
          12,
          12,
          10,
          28,
          31,
          46,
          55,
          59,
          77,
          94,
          145,
          156,
          151,
          179,
          154,
          207,
          229,
          285,
          320,
          298,
          241,
          293,
          203,
          219,
          322,
          338,
          319,
          299,
          288,
          241,
          249,
          310,
          297,
          386,
          270,
          294,
          263,
          216,
          319,
          294,
          320,
          276,
          391,
          235,
          218,
          315,
          246,
          339,
          284,
          249,
          175,
          161,
          184,
          213,
          186,
          163,
          119,
          115,
          99,
          161,
          144,
          135,
          160,
          135,
          75,
          103,
          79,
          105,
          65,
          96,
          80,
          77,
          51,
          71,
          64,
          61,
          49,
          47,
          49,
          47,
          75,
          55,
          54,
          23,
          38,
          36,
          24,
          21,
          18,
          5
         ],
         "yaxis": "y"
        },
        {
         "hovertemplate": "<b>%{hovertext}</b><br><br>Area name=South East<br>Specimen date=%{x}<br>Daily lab-confirmed cases=%{y}<extra></extra>",
         "hovertext": [
          "South East",
          "South East",
          "South East",
          "South East",
          "South East",
          "South East",
          "South East",
          "South East",
          "South East",
          "South East",
          "South East",
          "South East",
          "South East",
          "South East",
          "South East",
          "South East",
          "South East",
          "South East",
          "South East",
          "South East",
          "South East",
          "South East",
          "South East",
          "South East",
          "South East",
          "South East",
          "South East",
          "South East",
          "South East",
          "South East",
          "South East",
          "South East",
          "South East",
          "South East",
          "South East",
          "South East",
          "South East",
          "South East",
          "South East",
          "South East",
          "South East",
          "South East",
          "South East",
          "South East",
          "South East",
          "South East",
          "South East",
          "South East",
          "South East",
          "South East",
          "South East",
          "South East",
          "South East",
          "South East",
          "South East",
          "South East",
          "South East",
          "South East",
          "South East",
          "South East",
          "South East",
          "South East",
          "South East",
          "South East",
          "South East",
          "South East",
          "South East",
          "South East",
          "South East",
          "South East",
          "South East",
          "South East",
          "South East",
          "South East",
          "South East",
          "South East",
          "South East",
          "South East",
          "South East",
          "South East",
          "South East",
          "South East",
          "South East",
          "South East",
          "South East",
          "South East",
          "South East",
          "South East",
          "South East",
          "South East",
          "South East",
          "South East",
          "South East",
          "South East",
          "South East",
          "South East",
          "South East",
          "South East",
          "South East",
          "South East",
          "South East",
          "South East",
          "South East",
          "South East",
          "South East",
          "South East",
          "South East",
          "South East",
          "South East",
          "South East",
          "South East",
          "South East"
         ],
         "legendgroup": "South East",
         "line": {
          "color": "#EF553B",
          "dash": "solid"
         },
         "mode": "lines+markers",
         "name": "South East",
         "orientation": "v",
         "showlegend": true,
         "type": "scatter",
         "x": [
          "2020-01-31",
          "2020-02-03",
          "2020-02-05",
          "2020-02-08",
          "2020-02-09",
          "2020-02-23",
          "2020-02-24",
          "2020-02-25",
          "2020-02-27",
          "2020-02-28",
          "2020-03-01",
          "2020-03-02",
          "2020-03-03",
          "2020-03-04",
          "2020-03-05",
          "2020-03-06",
          "2020-03-07",
          "2020-03-08",
          "2020-03-09",
          "2020-03-10",
          "2020-03-11",
          "2020-03-12",
          "2020-03-13",
          "2020-03-14",
          "2020-03-15",
          "2020-03-16",
          "2020-03-17",
          "2020-03-18",
          "2020-03-19",
          "2020-03-20",
          "2020-03-21",
          "2020-03-22",
          "2020-03-23",
          "2020-03-24",
          "2020-03-25",
          "2020-03-26",
          "2020-03-27",
          "2020-03-28",
          "2020-03-29",
          "2020-03-30",
          "2020-03-31",
          "2020-04-01",
          "2020-04-02",
          "2020-04-03",
          "2020-04-04",
          "2020-04-05",
          "2020-04-06",
          "2020-04-07",
          "2020-04-08",
          "2020-04-09",
          "2020-04-10",
          "2020-04-11",
          "2020-04-12",
          "2020-04-13",
          "2020-04-14",
          "2020-04-15",
          "2020-04-16",
          "2020-04-17",
          "2020-04-18",
          "2020-04-19",
          "2020-04-20",
          "2020-04-21",
          "2020-04-22",
          "2020-04-23",
          "2020-04-24",
          "2020-04-25",
          "2020-04-26",
          "2020-04-27",
          "2020-04-28",
          "2020-04-29",
          "2020-04-30",
          "2020-05-01",
          "2020-05-02",
          "2020-05-03",
          "2020-05-04",
          "2020-05-05",
          "2020-05-06",
          "2020-05-07",
          "2020-05-08",
          "2020-05-09",
          "2020-05-10",
          "2020-05-11",
          "2020-05-12",
          "2020-05-13",
          "2020-05-14",
          "2020-05-15",
          "2020-05-16",
          "2020-05-17",
          "2020-05-18",
          "2020-05-19",
          "2020-05-20",
          "2020-05-21",
          "2020-05-22",
          "2020-05-23",
          "2020-05-24",
          "2020-05-25",
          "2020-05-26",
          "2020-05-27",
          "2020-05-28",
          "2020-05-29",
          "2020-05-30",
          "2020-05-31",
          "2020-06-01",
          "2020-06-02",
          "2020-06-03",
          "2020-06-04",
          "2020-06-05",
          "2020-06-06",
          "2020-06-07",
          "2020-06-08",
          "2020-06-09",
          "2020-06-10"
         ],
         "xaxis": "x",
         "y": [
          1,
          1,
          1,
          3,
          1,
          1,
          1,
          1,
          3,
          1,
          3,
          1,
          9,
          7,
          4,
          16,
          4,
          10,
          24,
          34,
          46,
          78,
          52,
          41,
          53,
          78,
          89,
          122,
          127,
          126,
          128,
          170,
          280,
          235,
          305,
          320,
          331,
          337,
          295,
          475,
          468,
          545,
          479,
          514,
          456,
          423,
          591,
          715,
          554,
          516,
          568,
          378,
          443,
          547,
          507,
          639,
          612,
          628,
          396,
          301,
          454,
          468,
          439,
          381,
          398,
          269,
          212,
          259,
          342,
          298,
          297,
          245,
          176,
          131,
          209,
          233,
          182,
          152,
          122,
          115,
          118,
          175,
          161,
          173,
          128,
          118,
          70,
          77,
          155,
          202,
          129,
          119,
          107,
          39,
          60,
          95,
          86,
          61,
          50,
          44,
          47,
          46,
          57,
          81,
          79,
          54,
          58,
          31,
          24,
          38,
          18,
          3
         ],
         "yaxis": "y"
        },
        {
         "hovertemplate": "<b>%{hovertext}</b><br><br>Area name=East of England<br>Specimen date=%{x}<br>Daily lab-confirmed cases=%{y}<extra></extra>",
         "hovertext": [
          "East of England",
          "East of England",
          "East of England",
          "East of England",
          "East of England",
          "East of England",
          "East of England",
          "East of England",
          "East of England",
          "East of England",
          "East of England",
          "East of England",
          "East of England",
          "East of England",
          "East of England",
          "East of England",
          "East of England",
          "East of England",
          "East of England",
          "East of England",
          "East of England",
          "East of England",
          "East of England",
          "East of England",
          "East of England",
          "East of England",
          "East of England",
          "East of England",
          "East of England",
          "East of England",
          "East of England",
          "East of England",
          "East of England",
          "East of England",
          "East of England",
          "East of England",
          "East of England",
          "East of England",
          "East of England",
          "East of England",
          "East of England",
          "East of England",
          "East of England",
          "East of England",
          "East of England",
          "East of England",
          "East of England",
          "East of England",
          "East of England",
          "East of England",
          "East of England",
          "East of England",
          "East of England",
          "East of England",
          "East of England",
          "East of England",
          "East of England",
          "East of England",
          "East of England",
          "East of England",
          "East of England",
          "East of England",
          "East of England",
          "East of England",
          "East of England",
          "East of England",
          "East of England",
          "East of England",
          "East of England",
          "East of England",
          "East of England",
          "East of England",
          "East of England",
          "East of England",
          "East of England",
          "East of England",
          "East of England",
          "East of England",
          "East of England",
          "East of England",
          "East of England",
          "East of England",
          "East of England",
          "East of England",
          "East of England",
          "East of England",
          "East of England",
          "East of England",
          "East of England",
          "East of England",
          "East of England",
          "East of England",
          "East of England",
          "East of England",
          "East of England",
          "East of England",
          "East of England",
          "East of England",
          "East of England",
          "East of England",
          "East of England",
          "East of England",
          "East of England"
         ],
         "legendgroup": "East of England",
         "line": {
          "color": "#00cc96",
          "dash": "solid"
         },
         "mode": "lines+markers",
         "name": "East of England",
         "orientation": "v",
         "showlegend": true,
         "type": "scatter",
         "x": [
          "2020-02-03",
          "2020-02-28",
          "2020-03-01",
          "2020-03-03",
          "2020-03-04",
          "2020-03-05",
          "2020-03-06",
          "2020-03-07",
          "2020-03-08",
          "2020-03-09",
          "2020-03-10",
          "2020-03-11",
          "2020-03-12",
          "2020-03-13",
          "2020-03-14",
          "2020-03-15",
          "2020-03-16",
          "2020-03-17",
          "2020-03-18",
          "2020-03-19",
          "2020-03-20",
          "2020-03-21",
          "2020-03-22",
          "2020-03-23",
          "2020-03-24",
          "2020-03-25",
          "2020-03-26",
          "2020-03-27",
          "2020-03-28",
          "2020-03-29",
          "2020-03-30",
          "2020-03-31",
          "2020-04-01",
          "2020-04-02",
          "2020-04-03",
          "2020-04-04",
          "2020-04-05",
          "2020-04-06",
          "2020-04-07",
          "2020-04-08",
          "2020-04-09",
          "2020-04-10",
          "2020-04-11",
          "2020-04-12",
          "2020-04-13",
          "2020-04-14",
          "2020-04-15",
          "2020-04-16",
          "2020-04-17",
          "2020-04-18",
          "2020-04-19",
          "2020-04-20",
          "2020-04-21",
          "2020-04-22",
          "2020-04-23",
          "2020-04-24",
          "2020-04-25",
          "2020-04-26",
          "2020-04-27",
          "2020-04-28",
          "2020-04-29",
          "2020-04-30",
          "2020-05-01",
          "2020-05-02",
          "2020-05-03",
          "2020-05-04",
          "2020-05-05",
          "2020-05-06",
          "2020-05-07",
          "2020-05-08",
          "2020-05-09",
          "2020-05-10",
          "2020-05-11",
          "2020-05-12",
          "2020-05-13",
          "2020-05-14",
          "2020-05-15",
          "2020-05-16",
          "2020-05-17",
          "2020-05-18",
          "2020-05-19",
          "2020-05-20",
          "2020-05-21",
          "2020-05-22",
          "2020-05-23",
          "2020-05-24",
          "2020-05-25",
          "2020-05-26",
          "2020-05-27",
          "2020-05-28",
          "2020-05-29",
          "2020-05-30",
          "2020-05-31",
          "2020-06-01",
          "2020-06-02",
          "2020-06-03",
          "2020-06-04",
          "2020-06-05",
          "2020-06-06",
          "2020-06-07",
          "2020-06-08",
          "2020-06-09",
          "2020-06-10"
         ],
         "xaxis": "x",
         "y": [
          1,
          1,
          3,
          7,
          7,
          1,
          5,
          3,
          2,
          4,
          16,
          14,
          18,
          37,
          16,
          35,
          23,
          38,
          74,
          56,
          69,
          77,
          91,
          197,
          165,
          188,
          215,
          244,
          183,
          209,
          300,
          322,
          332,
          365,
          346,
          263,
          281,
          383,
          378,
          397,
          318,
          314,
          260,
          242,
          287,
          283,
          266,
          292,
          284,
          248,
          179,
          288,
          296,
          298,
          292,
          285,
          225,
          156,
          267,
          235,
          237,
          216,
          265,
          135,
          124,
          240,
          165,
          158,
          197,
          89,
          84,
          69,
          168,
          128,
          125,
          66,
          99,
          53,
          69,
          132,
          132,
          91,
          107,
          92,
          61,
          43,
          80,
          53,
          59,
          44,
          51,
          33,
          31,
          47,
          54,
          42,
          34,
          28,
          18,
          16,
          11,
          7,
          0
         ],
         "yaxis": "y"
        },
        {
         "hovertemplate": "<b>%{hovertext}</b><br><br>Area name=South West<br>Specimen date=%{x}<br>Daily lab-confirmed cases=%{y}<extra></extra>",
         "hovertext": [
          "South West",
          "South West",
          "South West",
          "South West",
          "South West",
          "South West",
          "South West",
          "South West",
          "South West",
          "South West",
          "South West",
          "South West",
          "South West",
          "South West",
          "South West",
          "South West",
          "South West",
          "South West",
          "South West",
          "South West",
          "South West",
          "South West",
          "South West",
          "South West",
          "South West",
          "South West",
          "South West",
          "South West",
          "South West",
          "South West",
          "South West",
          "South West",
          "South West",
          "South West",
          "South West",
          "South West",
          "South West",
          "South West",
          "South West",
          "South West",
          "South West",
          "South West",
          "South West",
          "South West",
          "South West",
          "South West",
          "South West",
          "South West",
          "South West",
          "South West",
          "South West",
          "South West",
          "South West",
          "South West",
          "South West",
          "South West",
          "South West",
          "South West",
          "South West",
          "South West",
          "South West",
          "South West",
          "South West",
          "South West",
          "South West",
          "South West",
          "South West",
          "South West",
          "South West",
          "South West",
          "South West",
          "South West",
          "South West",
          "South West",
          "South West",
          "South West",
          "South West",
          "South West",
          "South West",
          "South West",
          "South West",
          "South West",
          "South West",
          "South West",
          "South West",
          "South West",
          "South West",
          "South West",
          "South West",
          "South West",
          "South West",
          "South West",
          "South West",
          "South West",
          "South West",
          "South West",
          "South West",
          "South West",
          "South West",
          "South West",
          "South West",
          "South West",
          "South West",
          "South West"
         ],
         "legendgroup": "South West",
         "line": {
          "color": "#ab63fa",
          "dash": "solid"
         },
         "mode": "lines+markers",
         "name": "South West",
         "orientation": "v",
         "showlegend": true,
         "type": "scatter",
         "x": [
          "2020-02-03",
          "2020-02-26",
          "2020-03-01",
          "2020-03-02",
          "2020-03-03",
          "2020-03-04",
          "2020-03-05",
          "2020-03-06",
          "2020-03-07",
          "2020-03-08",
          "2020-03-09",
          "2020-03-10",
          "2020-03-11",
          "2020-03-12",
          "2020-03-13",
          "2020-03-14",
          "2020-03-15",
          "2020-03-16",
          "2020-03-17",
          "2020-03-18",
          "2020-03-19",
          "2020-03-20",
          "2020-03-21",
          "2020-03-22",
          "2020-03-23",
          "2020-03-24",
          "2020-03-25",
          "2020-03-26",
          "2020-03-27",
          "2020-03-28",
          "2020-03-29",
          "2020-03-30",
          "2020-03-31",
          "2020-04-01",
          "2020-04-02",
          "2020-04-03",
          "2020-04-04",
          "2020-04-05",
          "2020-04-06",
          "2020-04-07",
          "2020-04-08",
          "2020-04-09",
          "2020-04-10",
          "2020-04-11",
          "2020-04-12",
          "2020-04-13",
          "2020-04-14",
          "2020-04-15",
          "2020-04-16",
          "2020-04-17",
          "2020-04-18",
          "2020-04-19",
          "2020-04-20",
          "2020-04-21",
          "2020-04-22",
          "2020-04-23",
          "2020-04-24",
          "2020-04-25",
          "2020-04-26",
          "2020-04-27",
          "2020-04-28",
          "2020-04-29",
          "2020-04-30",
          "2020-05-01",
          "2020-05-02",
          "2020-05-03",
          "2020-05-04",
          "2020-05-05",
          "2020-05-06",
          "2020-05-07",
          "2020-05-08",
          "2020-05-09",
          "2020-05-10",
          "2020-05-11",
          "2020-05-12",
          "2020-05-13",
          "2020-05-14",
          "2020-05-15",
          "2020-05-16",
          "2020-05-17",
          "2020-05-18",
          "2020-05-19",
          "2020-05-20",
          "2020-05-21",
          "2020-05-22",
          "2020-05-23",
          "2020-05-24",
          "2020-05-25",
          "2020-05-26",
          "2020-05-27",
          "2020-05-28",
          "2020-05-29",
          "2020-05-30",
          "2020-05-31",
          "2020-06-01",
          "2020-06-02",
          "2020-06-03",
          "2020-06-04",
          "2020-06-05",
          "2020-06-06",
          "2020-06-07",
          "2020-06-08",
          "2020-06-09",
          "2020-06-10"
         ],
         "xaxis": "x",
         "y": [
          2,
          1,
          2,
          8,
          10,
          6,
          4,
          11,
          2,
          3,
          5,
          10,
          19,
          24,
          31,
          12,
          17,
          18,
          21,
          43,
          21,
          43,
          42,
          44,
          62,
          68,
          104,
          117,
          129,
          102,
          100,
          163,
          140,
          183,
          183,
          186,
          174,
          153,
          184,
          213,
          235,
          246,
          234,
          173,
          178,
          192,
          185,
          210,
          238,
          215,
          145,
          154,
          173,
          174,
          152,
          176,
          122,
          89,
          58,
          126,
          113,
          130,
          81,
          113,
          66,
          74,
          75,
          67,
          66,
          63,
          41,
          44,
          45,
          57,
          25,
          34,
          35,
          27,
          28,
          25,
          41,
          33,
          52,
          22,
          26,
          18,
          12,
          21,
          23,
          31,
          36,
          24,
          18,
          26,
          23,
          21,
          29,
          17,
          16,
          8,
          10,
          4,
          3,
          0
         ],
         "yaxis": "y"
        },
        {
         "hovertemplate": "<b>%{hovertext}</b><br><br>Area name=London<br>Specimen date=%{x}<br>Daily lab-confirmed cases=%{y}<extra></extra>",
         "hovertext": [
          "London",
          "London",
          "London",
          "London",
          "London",
          "London",
          "London",
          "London",
          "London",
          "London",
          "London",
          "London",
          "London",
          "London",
          "London",
          "London",
          "London",
          "London",
          "London",
          "London",
          "London",
          "London",
          "London",
          "London",
          "London",
          "London",
          "London",
          "London",
          "London",
          "London",
          "London",
          "London",
          "London",
          "London",
          "London",
          "London",
          "London",
          "London",
          "London",
          "London",
          "London",
          "London",
          "London",
          "London",
          "London",
          "London",
          "London",
          "London",
          "London",
          "London",
          "London",
          "London",
          "London",
          "London",
          "London",
          "London",
          "London",
          "London",
          "London",
          "London",
          "London",
          "London",
          "London",
          "London",
          "London",
          "London",
          "London",
          "London",
          "London",
          "London",
          "London",
          "London",
          "London",
          "London",
          "London",
          "London",
          "London",
          "London",
          "London",
          "London",
          "London",
          "London",
          "London",
          "London",
          "London",
          "London",
          "London",
          "London",
          "London",
          "London",
          "London",
          "London",
          "London",
          "London",
          "London",
          "London",
          "London",
          "London",
          "London",
          "London",
          "London",
          "London",
          "London",
          "London",
          "London",
          "London",
          "London",
          "London",
          "London",
          "London",
          "London"
         ],
         "legendgroup": "London",
         "line": {
          "color": "#FFA15A",
          "dash": "solid"
         },
         "mode": "lines+markers",
         "name": "London",
         "orientation": "v",
         "showlegend": true,
         "type": "scatter",
         "x": [
          "2020-02-11",
          "2020-02-13",
          "2020-02-17",
          "2020-02-19",
          "2020-02-23",
          "2020-02-25",
          "2020-02-27",
          "2020-02-28",
          "2020-02-29",
          "2020-03-01",
          "2020-03-02",
          "2020-03-03",
          "2020-03-04",
          "2020-03-05",
          "2020-03-06",
          "2020-03-07",
          "2020-03-08",
          "2020-03-09",
          "2020-03-10",
          "2020-03-11",
          "2020-03-12",
          "2020-03-13",
          "2020-03-14",
          "2020-03-15",
          "2020-03-16",
          "2020-03-17",
          "2020-03-18",
          "2020-03-19",
          "2020-03-20",
          "2020-03-21",
          "2020-03-22",
          "2020-03-23",
          "2020-03-24",
          "2020-03-25",
          "2020-03-26",
          "2020-03-27",
          "2020-03-28",
          "2020-03-29",
          "2020-03-30",
          "2020-03-31",
          "2020-04-01",
          "2020-04-02",
          "2020-04-03",
          "2020-04-04",
          "2020-04-05",
          "2020-04-06",
          "2020-04-07",
          "2020-04-08",
          "2020-04-09",
          "2020-04-10",
          "2020-04-11",
          "2020-04-12",
          "2020-04-13",
          "2020-04-14",
          "2020-04-15",
          "2020-04-16",
          "2020-04-17",
          "2020-04-18",
          "2020-04-19",
          "2020-04-20",
          "2020-04-21",
          "2020-04-22",
          "2020-04-23",
          "2020-04-24",
          "2020-04-25",
          "2020-04-26",
          "2020-04-27",
          "2020-04-28",
          "2020-04-29",
          "2020-04-30",
          "2020-05-01",
          "2020-05-02",
          "2020-05-03",
          "2020-05-04",
          "2020-05-05",
          "2020-05-06",
          "2020-05-07",
          "2020-05-08",
          "2020-05-09",
          "2020-05-10",
          "2020-05-11",
          "2020-05-12",
          "2020-05-13",
          "2020-05-14",
          "2020-05-15",
          "2020-05-16",
          "2020-05-17",
          "2020-05-18",
          "2020-05-19",
          "2020-05-20",
          "2020-05-21",
          "2020-05-22",
          "2020-05-23",
          "2020-05-24",
          "2020-05-25",
          "2020-05-26",
          "2020-05-27",
          "2020-05-28",
          "2020-05-29",
          "2020-05-30",
          "2020-05-31",
          "2020-06-01",
          "2020-06-02",
          "2020-06-03",
          "2020-06-04",
          "2020-06-05",
          "2020-06-06",
          "2020-06-07",
          "2020-06-08",
          "2020-06-09",
          "2020-06-10"
         ],
         "xaxis": "x",
         "y": [
          1,
          1,
          1,
          1,
          2,
          2,
          1,
          5,
          1,
          8,
          12,
          6,
          18,
          14,
          23,
          14,
          22,
          53,
          91,
          183,
          165,
          136,
          149,
          165,
          234,
          310,
          356,
          333,
          426,
          350,
          437,
          687,
          636,
          756,
          761,
          820,
          577,
          594,
          844,
          915,
          962,
          1023,
          934,
          717,
          604,
          837,
          903,
          831,
          771,
          573,
          491,
          414,
          566,
          556,
          554,
          490,
          425,
          306,
          246,
          377,
          341,
          276,
          318,
          246,
          160,
          90,
          189,
          180,
          250,
          255,
          196,
          127,
          64,
          152,
          135,
          144,
          143,
          94,
          60,
          35,
          68,
          76,
          85,
          86,
          58,
          23,
          33,
          56,
          50,
          58,
          49,
          40,
          10,
          18,
          20,
          28,
          37,
          35,
          32,
          17,
          16,
          22,
          21,
          44,
          19,
          22,
          14,
          16,
          27,
          15,
          0
         ],
         "yaxis": "y"
        },
        {
         "hovertemplate": "<b>%{hovertext}</b><br><br>Area name=West Midlands<br>Specimen date=%{x}<br>Daily lab-confirmed cases=%{y}<extra></extra>",
         "hovertext": [
          "West Midlands",
          "West Midlands",
          "West Midlands",
          "West Midlands",
          "West Midlands",
          "West Midlands",
          "West Midlands",
          "West Midlands",
          "West Midlands",
          "West Midlands",
          "West Midlands",
          "West Midlands",
          "West Midlands",
          "West Midlands",
          "West Midlands",
          "West Midlands",
          "West Midlands",
          "West Midlands",
          "West Midlands",
          "West Midlands",
          "West Midlands",
          "West Midlands",
          "West Midlands",
          "West Midlands",
          "West Midlands",
          "West Midlands",
          "West Midlands",
          "West Midlands",
          "West Midlands",
          "West Midlands",
          "West Midlands",
          "West Midlands",
          "West Midlands",
          "West Midlands",
          "West Midlands",
          "West Midlands",
          "West Midlands",
          "West Midlands",
          "West Midlands",
          "West Midlands",
          "West Midlands",
          "West Midlands",
          "West Midlands",
          "West Midlands",
          "West Midlands",
          "West Midlands",
          "West Midlands",
          "West Midlands",
          "West Midlands",
          "West Midlands",
          "West Midlands",
          "West Midlands",
          "West Midlands",
          "West Midlands",
          "West Midlands",
          "West Midlands",
          "West Midlands",
          "West Midlands",
          "West Midlands",
          "West Midlands",
          "West Midlands",
          "West Midlands",
          "West Midlands",
          "West Midlands",
          "West Midlands",
          "West Midlands",
          "West Midlands",
          "West Midlands",
          "West Midlands",
          "West Midlands",
          "West Midlands",
          "West Midlands",
          "West Midlands",
          "West Midlands",
          "West Midlands",
          "West Midlands",
          "West Midlands",
          "West Midlands",
          "West Midlands",
          "West Midlands",
          "West Midlands",
          "West Midlands",
          "West Midlands",
          "West Midlands",
          "West Midlands",
          "West Midlands",
          "West Midlands",
          "West Midlands",
          "West Midlands",
          "West Midlands",
          "West Midlands",
          "West Midlands",
          "West Midlands",
          "West Midlands",
          "West Midlands",
          "West Midlands",
          "West Midlands",
          "West Midlands",
          "West Midlands",
          "West Midlands",
          "West Midlands",
          "West Midlands",
          "West Midlands",
          "West Midlands"
         ],
         "legendgroup": "West Midlands",
         "line": {
          "color": "#19d3f3",
          "dash": "solid"
         },
         "mode": "lines+markers",
         "name": "West Midlands",
         "orientation": "v",
         "showlegend": true,
         "type": "scatter",
         "x": [
          "2020-02-12",
          "2020-02-23",
          "2020-03-01",
          "2020-03-02",
          "2020-03-03",
          "2020-03-04",
          "2020-03-05",
          "2020-03-06",
          "2020-03-07",
          "2020-03-08",
          "2020-03-09",
          "2020-03-10",
          "2020-03-11",
          "2020-03-12",
          "2020-03-13",
          "2020-03-14",
          "2020-03-15",
          "2020-03-16",
          "2020-03-17",
          "2020-03-18",
          "2020-03-19",
          "2020-03-20",
          "2020-03-21",
          "2020-03-22",
          "2020-03-23",
          "2020-03-24",
          "2020-03-25",
          "2020-03-26",
          "2020-03-27",
          "2020-03-28",
          "2020-03-29",
          "2020-03-30",
          "2020-03-31",
          "2020-04-01",
          "2020-04-02",
          "2020-04-03",
          "2020-04-04",
          "2020-04-05",
          "2020-04-06",
          "2020-04-07",
          "2020-04-08",
          "2020-04-09",
          "2020-04-10",
          "2020-04-11",
          "2020-04-12",
          "2020-04-13",
          "2020-04-14",
          "2020-04-15",
          "2020-04-16",
          "2020-04-17",
          "2020-04-18",
          "2020-04-19",
          "2020-04-20",
          "2020-04-21",
          "2020-04-22",
          "2020-04-23",
          "2020-04-24",
          "2020-04-25",
          "2020-04-26",
          "2020-04-27",
          "2020-04-28",
          "2020-04-29",
          "2020-04-30",
          "2020-05-01",
          "2020-05-02",
          "2020-05-03",
          "2020-05-04",
          "2020-05-05",
          "2020-05-06",
          "2020-05-07",
          "2020-05-08",
          "2020-05-09",
          "2020-05-10",
          "2020-05-11",
          "2020-05-12",
          "2020-05-13",
          "2020-05-14",
          "2020-05-15",
          "2020-05-16",
          "2020-05-17",
          "2020-05-18",
          "2020-05-19",
          "2020-05-20",
          "2020-05-21",
          "2020-05-22",
          "2020-05-23",
          "2020-05-24",
          "2020-05-25",
          "2020-05-26",
          "2020-05-27",
          "2020-05-28",
          "2020-05-29",
          "2020-05-30",
          "2020-05-31",
          "2020-06-01",
          "2020-06-02",
          "2020-06-03",
          "2020-06-04",
          "2020-06-05",
          "2020-06-06",
          "2020-06-07",
          "2020-06-08",
          "2020-06-09",
          "2020-06-10"
         ],
         "xaxis": "x",
         "y": [
          1,
          1,
          2,
          4,
          1,
          3,
          6,
          2,
          5,
          4,
          8,
          17,
          29,
          45,
          40,
          31,
          44,
          56,
          69,
          99,
          123,
          151,
          125,
          111,
          239,
          250,
          240,
          313,
          279,
          323,
          364,
          430,
          413,
          411,
          447,
          373,
          333,
          268,
          331,
          371,
          353,
          341,
          353,
          239,
          236,
          273,
          316,
          343,
          364,
          376,
          318,
          229,
          344,
          344,
          317,
          322,
          341,
          228,
          187,
          247,
          266,
          235,
          203,
          216,
          183,
          110,
          149,
          216,
          154,
          158,
          178,
          98,
          76,
          127,
          127,
          92,
          92,
          119,
          80,
          59,
          84,
          112,
          81,
          75,
          84,
          57,
          42,
          34,
          62,
          78,
          59,
          50,
          41,
          30,
          50,
          61,
          40,
          49,
          33,
          30,
          18,
          39,
          22,
          4
         ],
         "yaxis": "y"
        },
        {
         "hovertemplate": "<b>%{hovertext}</b><br><br>Area name=East Midlands<br>Specimen date=%{x}<br>Daily lab-confirmed cases=%{y}<extra></extra>",
         "hovertext": [
          "East Midlands",
          "East Midlands",
          "East Midlands",
          "East Midlands",
          "East Midlands",
          "East Midlands",
          "East Midlands",
          "East Midlands",
          "East Midlands",
          "East Midlands",
          "East Midlands",
          "East Midlands",
          "East Midlands",
          "East Midlands",
          "East Midlands",
          "East Midlands",
          "East Midlands",
          "East Midlands",
          "East Midlands",
          "East Midlands",
          "East Midlands",
          "East Midlands",
          "East Midlands",
          "East Midlands",
          "East Midlands",
          "East Midlands",
          "East Midlands",
          "East Midlands",
          "East Midlands",
          "East Midlands",
          "East Midlands",
          "East Midlands",
          "East Midlands",
          "East Midlands",
          "East Midlands",
          "East Midlands",
          "East Midlands",
          "East Midlands",
          "East Midlands",
          "East Midlands",
          "East Midlands",
          "East Midlands",
          "East Midlands",
          "East Midlands",
          "East Midlands",
          "East Midlands",
          "East Midlands",
          "East Midlands",
          "East Midlands",
          "East Midlands",
          "East Midlands",
          "East Midlands",
          "East Midlands",
          "East Midlands",
          "East Midlands",
          "East Midlands",
          "East Midlands",
          "East Midlands",
          "East Midlands",
          "East Midlands",
          "East Midlands",
          "East Midlands",
          "East Midlands",
          "East Midlands",
          "East Midlands",
          "East Midlands",
          "East Midlands",
          "East Midlands",
          "East Midlands",
          "East Midlands",
          "East Midlands",
          "East Midlands",
          "East Midlands",
          "East Midlands",
          "East Midlands",
          "East Midlands",
          "East Midlands",
          "East Midlands",
          "East Midlands",
          "East Midlands",
          "East Midlands",
          "East Midlands",
          "East Midlands",
          "East Midlands",
          "East Midlands",
          "East Midlands",
          "East Midlands",
          "East Midlands",
          "East Midlands",
          "East Midlands",
          "East Midlands",
          "East Midlands",
          "East Midlands",
          "East Midlands",
          "East Midlands",
          "East Midlands",
          "East Midlands",
          "East Midlands",
          "East Midlands",
          "East Midlands",
          "East Midlands",
          "East Midlands",
          "East Midlands",
          "East Midlands",
          "East Midlands",
          "East Midlands",
          "East Midlands"
         ],
         "legendgroup": "East Midlands",
         "line": {
          "color": "#FF6692",
          "dash": "solid"
         },
         "mode": "lines+markers",
         "name": "East Midlands",
         "orientation": "v",
         "showlegend": true,
         "type": "scatter",
         "x": [
          "2020-02-21",
          "2020-02-25",
          "2020-02-27",
          "2020-02-28",
          "2020-02-29",
          "2020-03-01",
          "2020-03-02",
          "2020-03-03",
          "2020-03-04",
          "2020-03-05",
          "2020-03-06",
          "2020-03-07",
          "2020-03-08",
          "2020-03-09",
          "2020-03-10",
          "2020-03-11",
          "2020-03-12",
          "2020-03-13",
          "2020-03-14",
          "2020-03-15",
          "2020-03-16",
          "2020-03-17",
          "2020-03-18",
          "2020-03-19",
          "2020-03-20",
          "2020-03-21",
          "2020-03-22",
          "2020-03-23",
          "2020-03-24",
          "2020-03-25",
          "2020-03-26",
          "2020-03-27",
          "2020-03-28",
          "2020-03-29",
          "2020-03-30",
          "2020-03-31",
          "2020-04-01",
          "2020-04-02",
          "2020-04-03",
          "2020-04-04",
          "2020-04-05",
          "2020-04-06",
          "2020-04-07",
          "2020-04-08",
          "2020-04-09",
          "2020-04-10",
          "2020-04-11",
          "2020-04-12",
          "2020-04-13",
          "2020-04-14",
          "2020-04-15",
          "2020-04-16",
          "2020-04-17",
          "2020-04-18",
          "2020-04-19",
          "2020-04-20",
          "2020-04-21",
          "2020-04-22",
          "2020-04-23",
          "2020-04-24",
          "2020-04-25",
          "2020-04-26",
          "2020-04-27",
          "2020-04-28",
          "2020-04-29",
          "2020-04-30",
          "2020-05-01",
          "2020-05-02",
          "2020-05-03",
          "2020-05-04",
          "2020-05-05",
          "2020-05-06",
          "2020-05-07",
          "2020-05-08",
          "2020-05-09",
          "2020-05-10",
          "2020-05-11",
          "2020-05-12",
          "2020-05-13",
          "2020-05-14",
          "2020-05-15",
          "2020-05-16",
          "2020-05-17",
          "2020-05-18",
          "2020-05-19",
          "2020-05-20",
          "2020-05-21",
          "2020-05-22",
          "2020-05-23",
          "2020-05-24",
          "2020-05-25",
          "2020-05-26",
          "2020-05-27",
          "2020-05-28",
          "2020-05-29",
          "2020-05-30",
          "2020-05-31",
          "2020-06-01",
          "2020-06-02",
          "2020-06-03",
          "2020-06-04",
          "2020-06-05",
          "2020-06-06",
          "2020-06-07",
          "2020-06-08",
          "2020-06-09",
          "2020-06-10"
         ],
         "xaxis": "x",
         "y": [
          1,
          1,
          1,
          1,
          1,
          1,
          2,
          7,
          2,
          3,
          7,
          4,
          1,
          10,
          12,
          25,
          18,
          22,
          19,
          26,
          34,
          33,
          49,
          66,
          53,
          69,
          99,
          117,
          136,
          116,
          154,
          136,
          159,
          129,
          207,
          276,
          296,
          213,
          259,
          189,
          148,
          214,
          203,
          188,
          232,
          173,
          168,
          147,
          136,
          191,
          174,
          201,
          192,
          96,
          153,
          173,
          146,
          141,
          142,
          162,
          111,
          118,
          167,
          140,
          134,
          87,
          93,
          57,
          34,
          103,
          78,
          100,
          143,
          73,
          76,
          70,
          103,
          95,
          108,
          64,
          86,
          70,
          69,
          95,
          64,
          62,
          69,
          69,
          49,
          26,
          40,
          46,
          53,
          38,
          43,
          41,
          31,
          42,
          46,
          28,
          19,
          29,
          13,
          16,
          23,
          17,
          5
         ],
         "yaxis": "y"
        },
        {
         "hovertemplate": "<b>%{hovertext}</b><br><br>Area name=North West<br>Specimen date=%{x}<br>Daily lab-confirmed cases=%{y}<extra></extra>",
         "hovertext": [
          "North West",
          "North West",
          "North West",
          "North West",
          "North West",
          "North West",
          "North West",
          "North West",
          "North West",
          "North West",
          "North West",
          "North West",
          "North West",
          "North West",
          "North West",
          "North West",
          "North West",
          "North West",
          "North West",
          "North West",
          "North West",
          "North West",
          "North West",
          "North West",
          "North West",
          "North West",
          "North West",
          "North West",
          "North West",
          "North West",
          "North West",
          "North West",
          "North West",
          "North West",
          "North West",
          "North West",
          "North West",
          "North West",
          "North West",
          "North West",
          "North West",
          "North West",
          "North West",
          "North West",
          "North West",
          "North West",
          "North West",
          "North West",
          "North West",
          "North West",
          "North West",
          "North West",
          "North West",
          "North West",
          "North West",
          "North West",
          "North West",
          "North West",
          "North West",
          "North West",
          "North West",
          "North West",
          "North West",
          "North West",
          "North West",
          "North West",
          "North West",
          "North West",
          "North West",
          "North West",
          "North West",
          "North West",
          "North West",
          "North West",
          "North West",
          "North West",
          "North West",
          "North West",
          "North West",
          "North West",
          "North West",
          "North West",
          "North West",
          "North West",
          "North West",
          "North West",
          "North West",
          "North West",
          "North West",
          "North West",
          "North West",
          "North West",
          "North West",
          "North West",
          "North West",
          "North West",
          "North West",
          "North West",
          "North West",
          "North West",
          "North West",
          "North West",
          "North West"
         ],
         "legendgroup": "North West",
         "line": {
          "color": "#B6E880",
          "dash": "solid"
         },
         "mode": "lines+markers",
         "name": "North West",
         "orientation": "v",
         "showlegend": true,
         "type": "scatter",
         "x": [
          "2020-02-28",
          "2020-03-01",
          "2020-03-02",
          "2020-03-03",
          "2020-03-04",
          "2020-03-05",
          "2020-03-06",
          "2020-03-07",
          "2020-03-08",
          "2020-03-09",
          "2020-03-10",
          "2020-03-11",
          "2020-03-12",
          "2020-03-13",
          "2020-03-14",
          "2020-03-15",
          "2020-03-16",
          "2020-03-17",
          "2020-03-18",
          "2020-03-19",
          "2020-03-20",
          "2020-03-21",
          "2020-03-22",
          "2020-03-23",
          "2020-03-24",
          "2020-03-25",
          "2020-03-26",
          "2020-03-27",
          "2020-03-28",
          "2020-03-29",
          "2020-03-30",
          "2020-03-31",
          "2020-04-01",
          "2020-04-02",
          "2020-04-03",
          "2020-04-04",
          "2020-04-05",
          "2020-04-06",
          "2020-04-07",
          "2020-04-08",
          "2020-04-09",
          "2020-04-10",
          "2020-04-11",
          "2020-04-12",
          "2020-04-13",
          "2020-04-14",
          "2020-04-15",
          "2020-04-16",
          "2020-04-17",
          "2020-04-18",
          "2020-04-19",
          "2020-04-20",
          "2020-04-21",
          "2020-04-22",
          "2020-04-23",
          "2020-04-24",
          "2020-04-25",
          "2020-04-26",
          "2020-04-27",
          "2020-04-28",
          "2020-04-29",
          "2020-04-30",
          "2020-05-01",
          "2020-05-02",
          "2020-05-03",
          "2020-05-04",
          "2020-05-05",
          "2020-05-06",
          "2020-05-07",
          "2020-05-08",
          "2020-05-09",
          "2020-05-10",
          "2020-05-11",
          "2020-05-12",
          "2020-05-13",
          "2020-05-14",
          "2020-05-15",
          "2020-05-16",
          "2020-05-17",
          "2020-05-18",
          "2020-05-19",
          "2020-05-20",
          "2020-05-21",
          "2020-05-22",
          "2020-05-23",
          "2020-05-24",
          "2020-05-25",
          "2020-05-26",
          "2020-05-27",
          "2020-05-28",
          "2020-05-29",
          "2020-05-30",
          "2020-05-31",
          "2020-06-01",
          "2020-06-02",
          "2020-06-03",
          "2020-06-04",
          "2020-06-05",
          "2020-06-06",
          "2020-06-07",
          "2020-06-08",
          "2020-06-09",
          "2020-06-10"
         ],
         "xaxis": "x",
         "y": [
          1,
          8,
          6,
          7,
          2,
          10,
          2,
          6,
          5,
          7,
          15,
          17,
          40,
          41,
          25,
          23,
          56,
          55,
          84,
          98,
          82,
          114,
          117,
          176,
          255,
          256,
          357,
          333,
          321,
          359,
          506,
          556,
          618,
          681,
          683,
          606,
          625,
          874,
          791,
          853,
          804,
          602,
          609,
          486,
          607,
          632,
          587,
          581,
          574,
          441,
          371,
          514,
          550,
          485,
          502,
          450,
          302,
          247,
          379,
          408,
          401,
          384,
          342,
          195,
          186,
          263,
          289,
          240,
          212,
          175,
          168,
          128,
          256,
          200,
          189,
          170,
          173,
          179,
          151,
          196,
          239,
          198,
          136,
          140,
          104,
          90,
          104,
          117,
          98,
          93,
          102,
          76,
          58,
          90,
          103,
          86,
          72,
          61,
          38,
          42,
          41,
          20,
          5
         ],
         "yaxis": "y"
        },
        {
         "hovertemplate": "<b>%{hovertext}</b><br><br>Area name=North East<br>Specimen date=%{x}<br>Daily lab-confirmed cases=%{y}<extra></extra>",
         "hovertext": [
          "North East",
          "North East",
          "North East",
          "North East",
          "North East",
          "North East",
          "North East",
          "North East",
          "North East",
          "North East",
          "North East",
          "North East",
          "North East",
          "North East",
          "North East",
          "North East",
          "North East",
          "North East",
          "North East",
          "North East",
          "North East",
          "North East",
          "North East",
          "North East",
          "North East",
          "North East",
          "North East",
          "North East",
          "North East",
          "North East",
          "North East",
          "North East",
          "North East",
          "North East",
          "North East",
          "North East",
          "North East",
          "North East",
          "North East",
          "North East",
          "North East",
          "North East",
          "North East",
          "North East",
          "North East",
          "North East",
          "North East",
          "North East",
          "North East",
          "North East",
          "North East",
          "North East",
          "North East",
          "North East",
          "North East",
          "North East",
          "North East",
          "North East",
          "North East",
          "North East",
          "North East",
          "North East",
          "North East",
          "North East",
          "North East",
          "North East",
          "North East",
          "North East",
          "North East",
          "North East",
          "North East",
          "North East",
          "North East",
          "North East",
          "North East",
          "North East",
          "North East",
          "North East",
          "North East",
          "North East",
          "North East",
          "North East",
          "North East",
          "North East",
          "North East",
          "North East",
          "North East",
          "North East",
          "North East",
          "North East",
          "North East",
          "North East",
          "North East",
          "North East",
          "North East",
          "North East",
          "North East",
          "North East",
          "North East"
         ],
         "legendgroup": "North East",
         "line": {
          "color": "#FF97FF",
          "dash": "solid"
         },
         "mode": "lines+markers",
         "name": "North East",
         "orientation": "v",
         "showlegend": true,
         "type": "scatter",
         "x": [
          "2020-03-02",
          "2020-03-04",
          "2020-03-05",
          "2020-03-06",
          "2020-03-07",
          "2020-03-09",
          "2020-03-10",
          "2020-03-11",
          "2020-03-12",
          "2020-03-13",
          "2020-03-14",
          "2020-03-15",
          "2020-03-16",
          "2020-03-17",
          "2020-03-18",
          "2020-03-19",
          "2020-03-20",
          "2020-03-21",
          "2020-03-22",
          "2020-03-23",
          "2020-03-24",
          "2020-03-25",
          "2020-03-26",
          "2020-03-27",
          "2020-03-28",
          "2020-03-29",
          "2020-03-30",
          "2020-03-31",
          "2020-04-01",
          "2020-04-02",
          "2020-04-03",
          "2020-04-04",
          "2020-04-05",
          "2020-04-06",
          "2020-04-07",
          "2020-04-08",
          "2020-04-09",
          "2020-04-10",
          "2020-04-11",
          "2020-04-12",
          "2020-04-13",
          "2020-04-14",
          "2020-04-15",
          "2020-04-16",
          "2020-04-17",
          "2020-04-18",
          "2020-04-19",
          "2020-04-20",
          "2020-04-21",
          "2020-04-22",
          "2020-04-23",
          "2020-04-24",
          "2020-04-25",
          "2020-04-26",
          "2020-04-27",
          "2020-04-28",
          "2020-04-29",
          "2020-04-30",
          "2020-05-01",
          "2020-05-02",
          "2020-05-03",
          "2020-05-04",
          "2020-05-05",
          "2020-05-06",
          "2020-05-07",
          "2020-05-08",
          "2020-05-09",
          "2020-05-10",
          "2020-05-11",
          "2020-05-12",
          "2020-05-13",
          "2020-05-14",
          "2020-05-15",
          "2020-05-16",
          "2020-05-17",
          "2020-05-18",
          "2020-05-19",
          "2020-05-20",
          "2020-05-21",
          "2020-05-22",
          "2020-05-23",
          "2020-05-24",
          "2020-05-25",
          "2020-05-26",
          "2020-05-27",
          "2020-05-28",
          "2020-05-29",
          "2020-05-30",
          "2020-05-31",
          "2020-06-01",
          "2020-06-02",
          "2020-06-03",
          "2020-06-04",
          "2020-06-05",
          "2020-06-06",
          "2020-06-07",
          "2020-06-08",
          "2020-06-09",
          "2020-06-10"
         ],
         "xaxis": "x",
         "y": [
          1,
          1,
          2,
          1,
          2,
          3,
          4,
          1,
          2,
          6,
          6,
          10,
          7,
          16,
          14,
          19,
          26,
          23,
          20,
          58,
          76,
          76,
          97,
          102,
          113,
          107,
          176,
          210,
          308,
          219,
          261,
          254,
          221,
          375,
          351,
          291,
          314,
          245,
          267,
          201,
          232,
          257,
          225,
          199,
          220,
          229,
          160,
          259,
          234,
          204,
          219,
          217,
          124,
          85,
          201,
          225,
          214,
          233,
          160,
          77,
          67,
          181,
          144,
          132,
          120,
          80,
          101,
          67,
          84,
          90,
          62,
          57,
          53,
          44,
          37,
          67,
          51,
          52,
          47,
          40,
          27,
          31,
          29,
          35,
          52,
          23,
          27,
          10,
          13,
          17,
          20,
          20,
          14,
          18,
          13,
          5,
          10,
          10,
          3
         ],
         "yaxis": "y"
        }
       ],
       "layout": {
        "legend": {
         "title": {
          "text": "Area name"
         },
         "tracegroupgap": 0
        },
        "margin": {
         "t": 60
        },
        "template": {
         "data": {
          "bar": [
           {
            "error_x": {
             "color": "#2a3f5f"
            },
            "error_y": {
             "color": "#2a3f5f"
            },
            "marker": {
             "line": {
              "color": "#E5ECF6",
              "width": 0.5
             }
            },
            "type": "bar"
           }
          ],
          "barpolar": [
           {
            "marker": {
             "line": {
              "color": "#E5ECF6",
              "width": 0.5
             }
            },
            "type": "barpolar"
           }
          ],
          "carpet": [
           {
            "aaxis": {
             "endlinecolor": "#2a3f5f",
             "gridcolor": "white",
             "linecolor": "white",
             "minorgridcolor": "white",
             "startlinecolor": "#2a3f5f"
            },
            "baxis": {
             "endlinecolor": "#2a3f5f",
             "gridcolor": "white",
             "linecolor": "white",
             "minorgridcolor": "white",
             "startlinecolor": "#2a3f5f"
            },
            "type": "carpet"
           }
          ],
          "choropleth": [
           {
            "colorbar": {
             "outlinewidth": 0,
             "ticks": ""
            },
            "type": "choropleth"
           }
          ],
          "contour": [
           {
            "colorbar": {
             "outlinewidth": 0,
             "ticks": ""
            },
            "colorscale": [
             [
              0,
              "#0d0887"
             ],
             [
              0.1111111111111111,
              "#46039f"
             ],
             [
              0.2222222222222222,
              "#7201a8"
             ],
             [
              0.3333333333333333,
              "#9c179e"
             ],
             [
              0.4444444444444444,
              "#bd3786"
             ],
             [
              0.5555555555555556,
              "#d8576b"
             ],
             [
              0.6666666666666666,
              "#ed7953"
             ],
             [
              0.7777777777777778,
              "#fb9f3a"
             ],
             [
              0.8888888888888888,
              "#fdca26"
             ],
             [
              1,
              "#f0f921"
             ]
            ],
            "type": "contour"
           }
          ],
          "contourcarpet": [
           {
            "colorbar": {
             "outlinewidth": 0,
             "ticks": ""
            },
            "type": "contourcarpet"
           }
          ],
          "heatmap": [
           {
            "colorbar": {
             "outlinewidth": 0,
             "ticks": ""
            },
            "colorscale": [
             [
              0,
              "#0d0887"
             ],
             [
              0.1111111111111111,
              "#46039f"
             ],
             [
              0.2222222222222222,
              "#7201a8"
             ],
             [
              0.3333333333333333,
              "#9c179e"
             ],
             [
              0.4444444444444444,
              "#bd3786"
             ],
             [
              0.5555555555555556,
              "#d8576b"
             ],
             [
              0.6666666666666666,
              "#ed7953"
             ],
             [
              0.7777777777777778,
              "#fb9f3a"
             ],
             [
              0.8888888888888888,
              "#fdca26"
             ],
             [
              1,
              "#f0f921"
             ]
            ],
            "type": "heatmap"
           }
          ],
          "heatmapgl": [
           {
            "colorbar": {
             "outlinewidth": 0,
             "ticks": ""
            },
            "colorscale": [
             [
              0,
              "#0d0887"
             ],
             [
              0.1111111111111111,
              "#46039f"
             ],
             [
              0.2222222222222222,
              "#7201a8"
             ],
             [
              0.3333333333333333,
              "#9c179e"
             ],
             [
              0.4444444444444444,
              "#bd3786"
             ],
             [
              0.5555555555555556,
              "#d8576b"
             ],
             [
              0.6666666666666666,
              "#ed7953"
             ],
             [
              0.7777777777777778,
              "#fb9f3a"
             ],
             [
              0.8888888888888888,
              "#fdca26"
             ],
             [
              1,
              "#f0f921"
             ]
            ],
            "type": "heatmapgl"
           }
          ],
          "histogram": [
           {
            "marker": {
             "colorbar": {
              "outlinewidth": 0,
              "ticks": ""
             }
            },
            "type": "histogram"
           }
          ],
          "histogram2d": [
           {
            "colorbar": {
             "outlinewidth": 0,
             "ticks": ""
            },
            "colorscale": [
             [
              0,
              "#0d0887"
             ],
             [
              0.1111111111111111,
              "#46039f"
             ],
             [
              0.2222222222222222,
              "#7201a8"
             ],
             [
              0.3333333333333333,
              "#9c179e"
             ],
             [
              0.4444444444444444,
              "#bd3786"
             ],
             [
              0.5555555555555556,
              "#d8576b"
             ],
             [
              0.6666666666666666,
              "#ed7953"
             ],
             [
              0.7777777777777778,
              "#fb9f3a"
             ],
             [
              0.8888888888888888,
              "#fdca26"
             ],
             [
              1,
              "#f0f921"
             ]
            ],
            "type": "histogram2d"
           }
          ],
          "histogram2dcontour": [
           {
            "colorbar": {
             "outlinewidth": 0,
             "ticks": ""
            },
            "colorscale": [
             [
              0,
              "#0d0887"
             ],
             [
              0.1111111111111111,
              "#46039f"
             ],
             [
              0.2222222222222222,
              "#7201a8"
             ],
             [
              0.3333333333333333,
              "#9c179e"
             ],
             [
              0.4444444444444444,
              "#bd3786"
             ],
             [
              0.5555555555555556,
              "#d8576b"
             ],
             [
              0.6666666666666666,
              "#ed7953"
             ],
             [
              0.7777777777777778,
              "#fb9f3a"
             ],
             [
              0.8888888888888888,
              "#fdca26"
             ],
             [
              1,
              "#f0f921"
             ]
            ],
            "type": "histogram2dcontour"
           }
          ],
          "mesh3d": [
           {
            "colorbar": {
             "outlinewidth": 0,
             "ticks": ""
            },
            "type": "mesh3d"
           }
          ],
          "parcoords": [
           {
            "line": {
             "colorbar": {
              "outlinewidth": 0,
              "ticks": ""
             }
            },
            "type": "parcoords"
           }
          ],
          "pie": [
           {
            "automargin": true,
            "type": "pie"
           }
          ],
          "scatter": [
           {
            "marker": {
             "colorbar": {
              "outlinewidth": 0,
              "ticks": ""
             }
            },
            "type": "scatter"
           }
          ],
          "scatter3d": [
           {
            "line": {
             "colorbar": {
              "outlinewidth": 0,
              "ticks": ""
             }
            },
            "marker": {
             "colorbar": {
              "outlinewidth": 0,
              "ticks": ""
             }
            },
            "type": "scatter3d"
           }
          ],
          "scattercarpet": [
           {
            "marker": {
             "colorbar": {
              "outlinewidth": 0,
              "ticks": ""
             }
            },
            "type": "scattercarpet"
           }
          ],
          "scattergeo": [
           {
            "marker": {
             "colorbar": {
              "outlinewidth": 0,
              "ticks": ""
             }
            },
            "type": "scattergeo"
           }
          ],
          "scattergl": [
           {
            "marker": {
             "colorbar": {
              "outlinewidth": 0,
              "ticks": ""
             }
            },
            "type": "scattergl"
           }
          ],
          "scattermapbox": [
           {
            "marker": {
             "colorbar": {
              "outlinewidth": 0,
              "ticks": ""
             }
            },
            "type": "scattermapbox"
           }
          ],
          "scatterpolar": [
           {
            "marker": {
             "colorbar": {
              "outlinewidth": 0,
              "ticks": ""
             }
            },
            "type": "scatterpolar"
           }
          ],
          "scatterpolargl": [
           {
            "marker": {
             "colorbar": {
              "outlinewidth": 0,
              "ticks": ""
             }
            },
            "type": "scatterpolargl"
           }
          ],
          "scatterternary": [
           {
            "marker": {
             "colorbar": {
              "outlinewidth": 0,
              "ticks": ""
             }
            },
            "type": "scatterternary"
           }
          ],
          "surface": [
           {
            "colorbar": {
             "outlinewidth": 0,
             "ticks": ""
            },
            "colorscale": [
             [
              0,
              "#0d0887"
             ],
             [
              0.1111111111111111,
              "#46039f"
             ],
             [
              0.2222222222222222,
              "#7201a8"
             ],
             [
              0.3333333333333333,
              "#9c179e"
             ],
             [
              0.4444444444444444,
              "#bd3786"
             ],
             [
              0.5555555555555556,
              "#d8576b"
             ],
             [
              0.6666666666666666,
              "#ed7953"
             ],
             [
              0.7777777777777778,
              "#fb9f3a"
             ],
             [
              0.8888888888888888,
              "#fdca26"
             ],
             [
              1,
              "#f0f921"
             ]
            ],
            "type": "surface"
           }
          ],
          "table": [
           {
            "cells": {
             "fill": {
              "color": "#EBF0F8"
             },
             "line": {
              "color": "white"
             }
            },
            "header": {
             "fill": {
              "color": "#C8D4E3"
             },
             "line": {
              "color": "white"
             }
            },
            "type": "table"
           }
          ]
         },
         "layout": {
          "annotationdefaults": {
           "arrowcolor": "#2a3f5f",
           "arrowhead": 0,
           "arrowwidth": 1
          },
          "coloraxis": {
           "colorbar": {
            "outlinewidth": 0,
            "ticks": ""
           }
          },
          "colorscale": {
           "diverging": [
            [
             0,
             "#8e0152"
            ],
            [
             0.1,
             "#c51b7d"
            ],
            [
             0.2,
             "#de77ae"
            ],
            [
             0.3,
             "#f1b6da"
            ],
            [
             0.4,
             "#fde0ef"
            ],
            [
             0.5,
             "#f7f7f7"
            ],
            [
             0.6,
             "#e6f5d0"
            ],
            [
             0.7,
             "#b8e186"
            ],
            [
             0.8,
             "#7fbc41"
            ],
            [
             0.9,
             "#4d9221"
            ],
            [
             1,
             "#276419"
            ]
           ],
           "sequential": [
            [
             0,
             "#0d0887"
            ],
            [
             0.1111111111111111,
             "#46039f"
            ],
            [
             0.2222222222222222,
             "#7201a8"
            ],
            [
             0.3333333333333333,
             "#9c179e"
            ],
            [
             0.4444444444444444,
             "#bd3786"
            ],
            [
             0.5555555555555556,
             "#d8576b"
            ],
            [
             0.6666666666666666,
             "#ed7953"
            ],
            [
             0.7777777777777778,
             "#fb9f3a"
            ],
            [
             0.8888888888888888,
             "#fdca26"
            ],
            [
             1,
             "#f0f921"
            ]
           ],
           "sequentialminus": [
            [
             0,
             "#0d0887"
            ],
            [
             0.1111111111111111,
             "#46039f"
            ],
            [
             0.2222222222222222,
             "#7201a8"
            ],
            [
             0.3333333333333333,
             "#9c179e"
            ],
            [
             0.4444444444444444,
             "#bd3786"
            ],
            [
             0.5555555555555556,
             "#d8576b"
            ],
            [
             0.6666666666666666,
             "#ed7953"
            ],
            [
             0.7777777777777778,
             "#fb9f3a"
            ],
            [
             0.8888888888888888,
             "#fdca26"
            ],
            [
             1,
             "#f0f921"
            ]
           ]
          },
          "colorway": [
           "#636efa",
           "#EF553B",
           "#00cc96",
           "#ab63fa",
           "#FFA15A",
           "#19d3f3",
           "#FF6692",
           "#B6E880",
           "#FF97FF",
           "#FECB52"
          ],
          "font": {
           "color": "#2a3f5f"
          },
          "geo": {
           "bgcolor": "white",
           "lakecolor": "white",
           "landcolor": "#E5ECF6",
           "showlakes": true,
           "showland": true,
           "subunitcolor": "white"
          },
          "hoverlabel": {
           "align": "left"
          },
          "hovermode": "closest",
          "mapbox": {
           "style": "light"
          },
          "paper_bgcolor": "white",
          "plot_bgcolor": "#E5ECF6",
          "polar": {
           "angularaxis": {
            "gridcolor": "white",
            "linecolor": "white",
            "ticks": ""
           },
           "bgcolor": "#E5ECF6",
           "radialaxis": {
            "gridcolor": "white",
            "linecolor": "white",
            "ticks": ""
           }
          },
          "scene": {
           "xaxis": {
            "backgroundcolor": "#E5ECF6",
            "gridcolor": "white",
            "gridwidth": 2,
            "linecolor": "white",
            "showbackground": true,
            "ticks": "",
            "zerolinecolor": "white"
           },
           "yaxis": {
            "backgroundcolor": "#E5ECF6",
            "gridcolor": "white",
            "gridwidth": 2,
            "linecolor": "white",
            "showbackground": true,
            "ticks": "",
            "zerolinecolor": "white"
           },
           "zaxis": {
            "backgroundcolor": "#E5ECF6",
            "gridcolor": "white",
            "gridwidth": 2,
            "linecolor": "white",
            "showbackground": true,
            "ticks": "",
            "zerolinecolor": "white"
           }
          },
          "shapedefaults": {
           "line": {
            "color": "#2a3f5f"
           }
          },
          "ternary": {
           "aaxis": {
            "gridcolor": "white",
            "linecolor": "white",
            "ticks": ""
           },
           "baxis": {
            "gridcolor": "white",
            "linecolor": "white",
            "ticks": ""
           },
           "bgcolor": "#E5ECF6",
           "caxis": {
            "gridcolor": "white",
            "linecolor": "white",
            "ticks": ""
           }
          },
          "title": {
           "x": 0.05
          },
          "xaxis": {
           "automargin": true,
           "gridcolor": "white",
           "linecolor": "white",
           "ticks": "",
           "title": {
            "standoff": 15
           },
           "zerolinecolor": "white",
           "zerolinewidth": 2
          },
          "yaxis": {
           "automargin": true,
           "gridcolor": "white",
           "linecolor": "white",
           "ticks": "",
           "title": {
            "standoff": 15
           },
           "zerolinecolor": "white",
           "zerolinewidth": 2
          }
         }
        },
        "xaxis": {
         "anchor": "y",
         "domain": [
          0,
          1
         ],
         "title": {
          "text": "Specimen date"
         }
        },
        "yaxis": {
         "anchor": "x",
         "domain": [
          0,
          1
         ],
         "title": {
          "text": "Daily lab-confirmed cases"
         }
        }
       }
      },
      "text/html": [
       "<div>\n",
       "        \n",
       "        \n",
       "            <div id=\"edb19cb5-eb57-4279-99e2-8506e7917db3\" class=\"plotly-graph-div\" style=\"height:525px; width:100%;\"></div>\n",
       "            <script type=\"text/javascript\">\n",
       "                require([\"plotly\"], function(Plotly) {\n",
       "                    window.PLOTLYENV=window.PLOTLYENV || {};\n",
       "                    \n",
       "                if (document.getElementById(\"edb19cb5-eb57-4279-99e2-8506e7917db3\")) {\n",
       "                    Plotly.newPlot(\n",
       "                        'edb19cb5-eb57-4279-99e2-8506e7917db3',\n",
       "                        [{\"hovertemplate\": \"<b>%{hovertext}</b><br><br>Area name=Yorkshire and The Humber<br>Specimen date=%{x}<br>Daily lab-confirmed cases=%{y}<extra></extra>\", \"hovertext\": [\"Yorkshire and The Humber\", \"Yorkshire and The Humber\", \"Yorkshire and The Humber\", \"Yorkshire and The Humber\", \"Yorkshire and The Humber\", \"Yorkshire and The Humber\", \"Yorkshire and The Humber\", \"Yorkshire and The Humber\", \"Yorkshire and The Humber\", \"Yorkshire and The Humber\", \"Yorkshire and The Humber\", \"Yorkshire and The Humber\", \"Yorkshire and The Humber\", \"Yorkshire and The Humber\", \"Yorkshire and The Humber\", \"Yorkshire and The Humber\", \"Yorkshire and The Humber\", \"Yorkshire and The Humber\", \"Yorkshire and The Humber\", \"Yorkshire and The Humber\", \"Yorkshire and The Humber\", \"Yorkshire and The Humber\", \"Yorkshire and The Humber\", \"Yorkshire and The Humber\", \"Yorkshire and The Humber\", \"Yorkshire and The Humber\", \"Yorkshire and The Humber\", \"Yorkshire and The Humber\", \"Yorkshire and The Humber\", \"Yorkshire and The Humber\", \"Yorkshire and The Humber\", \"Yorkshire and The Humber\", \"Yorkshire and The Humber\", \"Yorkshire and The Humber\", \"Yorkshire and The Humber\", \"Yorkshire and The Humber\", \"Yorkshire and The Humber\", \"Yorkshire and The Humber\", \"Yorkshire and The Humber\", \"Yorkshire and The Humber\", \"Yorkshire and The Humber\", \"Yorkshire and The Humber\", \"Yorkshire and The Humber\", \"Yorkshire and The Humber\", \"Yorkshire and The Humber\", \"Yorkshire and The Humber\", \"Yorkshire and The Humber\", \"Yorkshire and The Humber\", \"Yorkshire and The Humber\", \"Yorkshire and The Humber\", \"Yorkshire and The Humber\", \"Yorkshire and The Humber\", \"Yorkshire and The Humber\", \"Yorkshire and The Humber\", \"Yorkshire and The Humber\", \"Yorkshire and The Humber\", \"Yorkshire and The Humber\", \"Yorkshire and The Humber\", \"Yorkshire and The Humber\", \"Yorkshire and The Humber\", \"Yorkshire and The Humber\", \"Yorkshire and The Humber\", \"Yorkshire and The Humber\", \"Yorkshire and The Humber\", \"Yorkshire and The Humber\", \"Yorkshire and The Humber\", \"Yorkshire and The Humber\", \"Yorkshire and The Humber\", \"Yorkshire and The Humber\", \"Yorkshire and The Humber\", \"Yorkshire and The Humber\", \"Yorkshire and The Humber\", \"Yorkshire and The Humber\", \"Yorkshire and The Humber\", \"Yorkshire and The Humber\", \"Yorkshire and The Humber\", \"Yorkshire and The Humber\", \"Yorkshire and The Humber\", \"Yorkshire and The Humber\", \"Yorkshire and The Humber\", \"Yorkshire and The Humber\", \"Yorkshire and The Humber\", \"Yorkshire and The Humber\", \"Yorkshire and The Humber\", \"Yorkshire and The Humber\", \"Yorkshire and The Humber\", \"Yorkshire and The Humber\", \"Yorkshire and The Humber\", \"Yorkshire and The Humber\", \"Yorkshire and The Humber\", \"Yorkshire and The Humber\", \"Yorkshire and The Humber\", \"Yorkshire and The Humber\", \"Yorkshire and The Humber\", \"Yorkshire and The Humber\", \"Yorkshire and The Humber\", \"Yorkshire and The Humber\", \"Yorkshire and The Humber\", \"Yorkshire and The Humber\", \"Yorkshire and The Humber\", \"Yorkshire and The Humber\", \"Yorkshire and The Humber\", \"Yorkshire and The Humber\", \"Yorkshire and The Humber\", \"Yorkshire and The Humber\", \"Yorkshire and The Humber\"], \"legendgroup\": \"Yorkshire and The Humber\", \"line\": {\"color\": \"#636efa\", \"dash\": \"solid\"}, \"mode\": \"lines+markers\", \"name\": \"Yorkshire and The Humber\", \"orientation\": \"v\", \"showlegend\": true, \"type\": \"scatter\", \"x\": [\"2020-01-30\", \"2020-02-03\", \"2020-02-28\", \"2020-02-29\", \"2020-03-01\", \"2020-03-02\", \"2020-03-03\", \"2020-03-04\", \"2020-03-05\", \"2020-03-06\", \"2020-03-07\", \"2020-03-08\", \"2020-03-09\", \"2020-03-10\", \"2020-03-11\", \"2020-03-12\", \"2020-03-13\", \"2020-03-14\", \"2020-03-15\", \"2020-03-16\", \"2020-03-17\", \"2020-03-18\", \"2020-03-19\", \"2020-03-20\", \"2020-03-21\", \"2020-03-22\", \"2020-03-23\", \"2020-03-24\", \"2020-03-25\", \"2020-03-26\", \"2020-03-27\", \"2020-03-28\", \"2020-03-29\", \"2020-03-30\", \"2020-03-31\", \"2020-04-01\", \"2020-04-02\", \"2020-04-03\", \"2020-04-04\", \"2020-04-05\", \"2020-04-06\", \"2020-04-07\", \"2020-04-08\", \"2020-04-09\", \"2020-04-10\", \"2020-04-11\", \"2020-04-12\", \"2020-04-13\", \"2020-04-14\", \"2020-04-15\", \"2020-04-16\", \"2020-04-17\", \"2020-04-18\", \"2020-04-19\", \"2020-04-20\", \"2020-04-21\", \"2020-04-22\", \"2020-04-23\", \"2020-04-24\", \"2020-04-25\", \"2020-04-26\", \"2020-04-27\", \"2020-04-28\", \"2020-04-29\", \"2020-04-30\", \"2020-05-01\", \"2020-05-02\", \"2020-05-03\", \"2020-05-04\", \"2020-05-05\", \"2020-05-06\", \"2020-05-07\", \"2020-05-08\", \"2020-05-09\", \"2020-05-10\", \"2020-05-11\", \"2020-05-12\", \"2020-05-13\", \"2020-05-14\", \"2020-05-15\", \"2020-05-16\", \"2020-05-17\", \"2020-05-18\", \"2020-05-19\", \"2020-05-20\", \"2020-05-21\", \"2020-05-22\", \"2020-05-23\", \"2020-05-24\", \"2020-05-25\", \"2020-05-26\", \"2020-05-27\", \"2020-05-28\", \"2020-05-29\", \"2020-05-30\", \"2020-05-31\", \"2020-06-01\", \"2020-06-02\", \"2020-06-03\", \"2020-06-04\", \"2020-06-05\", \"2020-06-06\", \"2020-06-07\", \"2020-06-08\", \"2020-06-09\", \"2020-06-10\"], \"xaxis\": \"x\", \"y\": [1.0, 1.0, 2.0, 1.0, 4.0, 3.0, 3.0, 2.0, 2.0, 2.0, 5.0, 3.0, 7.0, 18.0, 10.0, 14.0, 12.0, 12.0, 10.0, 28.0, 31.0, 46.0, 55.0, 59.0, 77.0, 94.0, 145.0, 156.0, 151.0, 179.0, 154.0, 207.0, 229.0, 285.0, 320.0, 298.0, 241.0, 293.0, 203.0, 219.0, 322.0, 338.0, 319.0, 299.0, 288.0, 241.0, 249.0, 310.0, 297.0, 386.0, 270.0, 294.0, 263.0, 216.0, 319.0, 294.0, 320.0, 276.0, 391.0, 235.0, 218.0, 315.0, 246.0, 339.0, 284.0, 249.0, 175.0, 161.0, 184.0, 213.0, 186.0, 163.0, 119.0, 115.0, 99.0, 161.0, 144.0, 135.0, 160.0, 135.0, 75.0, 103.0, 79.0, 105.0, 65.0, 96.0, 80.0, 77.0, 51.0, 71.0, 64.0, 61.0, 49.0, 47.0, 49.0, 47.0, 75.0, 55.0, 54.0, 23.0, 38.0, 36.0, 24.0, 21.0, 18.0, 5.0], \"yaxis\": \"y\"}, {\"hovertemplate\": \"<b>%{hovertext}</b><br><br>Area name=South East<br>Specimen date=%{x}<br>Daily lab-confirmed cases=%{y}<extra></extra>\", \"hovertext\": [\"South East\", \"South East\", \"South East\", \"South East\", \"South East\", \"South East\", \"South East\", \"South East\", \"South East\", \"South East\", \"South East\", \"South East\", \"South East\", \"South East\", \"South East\", \"South East\", \"South East\", \"South East\", \"South East\", \"South East\", \"South East\", \"South East\", \"South East\", \"South East\", \"South East\", \"South East\", \"South East\", \"South East\", \"South East\", \"South East\", \"South East\", \"South East\", \"South East\", \"South East\", \"South East\", \"South East\", \"South East\", \"South East\", \"South East\", \"South East\", \"South East\", \"South East\", \"South East\", \"South East\", \"South East\", \"South East\", \"South East\", \"South East\", \"South East\", \"South East\", \"South East\", \"South East\", \"South East\", \"South East\", \"South East\", \"South East\", \"South East\", \"South East\", \"South East\", \"South East\", \"South East\", \"South East\", \"South East\", \"South East\", \"South East\", \"South East\", \"South East\", \"South East\", \"South East\", \"South East\", \"South East\", \"South East\", \"South East\", \"South East\", \"South East\", \"South East\", \"South East\", \"South East\", \"South East\", \"South East\", \"South East\", \"South East\", \"South East\", \"South East\", \"South East\", \"South East\", \"South East\", \"South East\", \"South East\", \"South East\", \"South East\", \"South East\", \"South East\", \"South East\", \"South East\", \"South East\", \"South East\", \"South East\", \"South East\", \"South East\", \"South East\", \"South East\", \"South East\", \"South East\", \"South East\", \"South East\", \"South East\", \"South East\", \"South East\", \"South East\", \"South East\", \"South East\"], \"legendgroup\": \"South East\", \"line\": {\"color\": \"#EF553B\", \"dash\": \"solid\"}, \"mode\": \"lines+markers\", \"name\": \"South East\", \"orientation\": \"v\", \"showlegend\": true, \"type\": \"scatter\", \"x\": [\"2020-01-31\", \"2020-02-03\", \"2020-02-05\", \"2020-02-08\", \"2020-02-09\", \"2020-02-23\", \"2020-02-24\", \"2020-02-25\", \"2020-02-27\", \"2020-02-28\", \"2020-03-01\", \"2020-03-02\", \"2020-03-03\", \"2020-03-04\", \"2020-03-05\", \"2020-03-06\", \"2020-03-07\", \"2020-03-08\", \"2020-03-09\", \"2020-03-10\", \"2020-03-11\", \"2020-03-12\", \"2020-03-13\", \"2020-03-14\", \"2020-03-15\", \"2020-03-16\", \"2020-03-17\", \"2020-03-18\", \"2020-03-19\", \"2020-03-20\", \"2020-03-21\", \"2020-03-22\", \"2020-03-23\", \"2020-03-24\", \"2020-03-25\", \"2020-03-26\", \"2020-03-27\", \"2020-03-28\", \"2020-03-29\", \"2020-03-30\", \"2020-03-31\", \"2020-04-01\", \"2020-04-02\", \"2020-04-03\", \"2020-04-04\", \"2020-04-05\", \"2020-04-06\", \"2020-04-07\", \"2020-04-08\", \"2020-04-09\", \"2020-04-10\", \"2020-04-11\", \"2020-04-12\", \"2020-04-13\", \"2020-04-14\", \"2020-04-15\", \"2020-04-16\", \"2020-04-17\", \"2020-04-18\", \"2020-04-19\", \"2020-04-20\", \"2020-04-21\", \"2020-04-22\", \"2020-04-23\", \"2020-04-24\", \"2020-04-25\", \"2020-04-26\", \"2020-04-27\", \"2020-04-28\", \"2020-04-29\", \"2020-04-30\", \"2020-05-01\", \"2020-05-02\", \"2020-05-03\", \"2020-05-04\", \"2020-05-05\", \"2020-05-06\", \"2020-05-07\", \"2020-05-08\", \"2020-05-09\", \"2020-05-10\", \"2020-05-11\", \"2020-05-12\", \"2020-05-13\", \"2020-05-14\", \"2020-05-15\", \"2020-05-16\", \"2020-05-17\", \"2020-05-18\", \"2020-05-19\", \"2020-05-20\", \"2020-05-21\", \"2020-05-22\", \"2020-05-23\", \"2020-05-24\", \"2020-05-25\", \"2020-05-26\", \"2020-05-27\", \"2020-05-28\", \"2020-05-29\", \"2020-05-30\", \"2020-05-31\", \"2020-06-01\", \"2020-06-02\", \"2020-06-03\", \"2020-06-04\", \"2020-06-05\", \"2020-06-06\", \"2020-06-07\", \"2020-06-08\", \"2020-06-09\", \"2020-06-10\"], \"xaxis\": \"x\", \"y\": [1.0, 1.0, 1.0, 3.0, 1.0, 1.0, 1.0, 1.0, 3.0, 1.0, 3.0, 1.0, 9.0, 7.0, 4.0, 16.0, 4.0, 10.0, 24.0, 34.0, 46.0, 78.0, 52.0, 41.0, 53.0, 78.0, 89.0, 122.0, 127.0, 126.0, 128.0, 170.0, 280.0, 235.0, 305.0, 320.0, 331.0, 337.0, 295.0, 475.0, 468.0, 545.0, 479.0, 514.0, 456.0, 423.0, 591.0, 715.0, 554.0, 516.0, 568.0, 378.0, 443.0, 547.0, 507.0, 639.0, 612.0, 628.0, 396.0, 301.0, 454.0, 468.0, 439.0, 381.0, 398.0, 269.0, 212.0, 259.0, 342.0, 298.0, 297.0, 245.0, 176.0, 131.0, 209.0, 233.0, 182.0, 152.0, 122.0, 115.0, 118.0, 175.0, 161.0, 173.0, 128.0, 118.0, 70.0, 77.0, 155.0, 202.0, 129.0, 119.0, 107.0, 39.0, 60.0, 95.0, 86.0, 61.0, 50.0, 44.0, 47.0, 46.0, 57.0, 81.0, 79.0, 54.0, 58.0, 31.0, 24.0, 38.0, 18.0, 3.0], \"yaxis\": \"y\"}, {\"hovertemplate\": \"<b>%{hovertext}</b><br><br>Area name=East of England<br>Specimen date=%{x}<br>Daily lab-confirmed cases=%{y}<extra></extra>\", \"hovertext\": [\"East of England\", \"East of England\", \"East of England\", \"East of England\", \"East of England\", \"East of England\", \"East of England\", \"East of England\", \"East of England\", \"East of England\", \"East of England\", \"East of England\", \"East of England\", \"East of England\", \"East of England\", \"East of England\", \"East of England\", \"East of England\", \"East of England\", \"East of England\", \"East of England\", \"East of England\", \"East of England\", \"East of England\", \"East of England\", \"East of England\", \"East of England\", \"East of England\", \"East of England\", \"East of England\", \"East of England\", \"East of England\", \"East of England\", \"East of England\", \"East of England\", \"East of England\", \"East of England\", \"East of England\", \"East of England\", \"East of England\", \"East of England\", \"East of England\", \"East of England\", \"East of England\", \"East of England\", \"East of England\", \"East of England\", \"East of England\", \"East of England\", \"East of England\", \"East of England\", \"East of England\", \"East of England\", \"East of England\", \"East of England\", \"East of England\", \"East of England\", \"East of England\", \"East of England\", \"East of England\", \"East of England\", \"East of England\", \"East of England\", \"East of England\", \"East of England\", \"East of England\", \"East of England\", \"East of England\", \"East of England\", \"East of England\", \"East of England\", \"East of England\", \"East of England\", \"East of England\", \"East of England\", \"East of England\", \"East of England\", \"East of England\", \"East of England\", \"East of England\", \"East of England\", \"East of England\", \"East of England\", \"East of England\", \"East of England\", \"East of England\", \"East of England\", \"East of England\", \"East of England\", \"East of England\", \"East of England\", \"East of England\", \"East of England\", \"East of England\", \"East of England\", \"East of England\", \"East of England\", \"East of England\", \"East of England\", \"East of England\", \"East of England\", \"East of England\", \"East of England\"], \"legendgroup\": \"East of England\", \"line\": {\"color\": \"#00cc96\", \"dash\": \"solid\"}, \"mode\": \"lines+markers\", \"name\": \"East of England\", \"orientation\": \"v\", \"showlegend\": true, \"type\": \"scatter\", \"x\": [\"2020-02-03\", \"2020-02-28\", \"2020-03-01\", \"2020-03-03\", \"2020-03-04\", \"2020-03-05\", \"2020-03-06\", \"2020-03-07\", \"2020-03-08\", \"2020-03-09\", \"2020-03-10\", \"2020-03-11\", \"2020-03-12\", \"2020-03-13\", \"2020-03-14\", \"2020-03-15\", \"2020-03-16\", \"2020-03-17\", \"2020-03-18\", \"2020-03-19\", \"2020-03-20\", \"2020-03-21\", \"2020-03-22\", \"2020-03-23\", \"2020-03-24\", \"2020-03-25\", \"2020-03-26\", \"2020-03-27\", \"2020-03-28\", \"2020-03-29\", \"2020-03-30\", \"2020-03-31\", \"2020-04-01\", \"2020-04-02\", \"2020-04-03\", \"2020-04-04\", \"2020-04-05\", \"2020-04-06\", \"2020-04-07\", \"2020-04-08\", \"2020-04-09\", \"2020-04-10\", \"2020-04-11\", \"2020-04-12\", \"2020-04-13\", \"2020-04-14\", \"2020-04-15\", \"2020-04-16\", \"2020-04-17\", \"2020-04-18\", \"2020-04-19\", \"2020-04-20\", \"2020-04-21\", \"2020-04-22\", \"2020-04-23\", \"2020-04-24\", \"2020-04-25\", \"2020-04-26\", \"2020-04-27\", \"2020-04-28\", \"2020-04-29\", \"2020-04-30\", \"2020-05-01\", \"2020-05-02\", \"2020-05-03\", \"2020-05-04\", \"2020-05-05\", \"2020-05-06\", \"2020-05-07\", \"2020-05-08\", \"2020-05-09\", \"2020-05-10\", \"2020-05-11\", \"2020-05-12\", \"2020-05-13\", \"2020-05-14\", \"2020-05-15\", \"2020-05-16\", \"2020-05-17\", \"2020-05-18\", \"2020-05-19\", \"2020-05-20\", \"2020-05-21\", \"2020-05-22\", \"2020-05-23\", \"2020-05-24\", \"2020-05-25\", \"2020-05-26\", \"2020-05-27\", \"2020-05-28\", \"2020-05-29\", \"2020-05-30\", \"2020-05-31\", \"2020-06-01\", \"2020-06-02\", \"2020-06-03\", \"2020-06-04\", \"2020-06-05\", \"2020-06-06\", \"2020-06-07\", \"2020-06-08\", \"2020-06-09\", \"2020-06-10\"], \"xaxis\": \"x\", \"y\": [1.0, 1.0, 3.0, 7.0, 7.0, 1.0, 5.0, 3.0, 2.0, 4.0, 16.0, 14.0, 18.0, 37.0, 16.0, 35.0, 23.0, 38.0, 74.0, 56.0, 69.0, 77.0, 91.0, 197.0, 165.0, 188.0, 215.0, 244.0, 183.0, 209.0, 300.0, 322.0, 332.0, 365.0, 346.0, 263.0, 281.0, 383.0, 378.0, 397.0, 318.0, 314.0, 260.0, 242.0, 287.0, 283.0, 266.0, 292.0, 284.0, 248.0, 179.0, 288.0, 296.0, 298.0, 292.0, 285.0, 225.0, 156.0, 267.0, 235.0, 237.0, 216.0, 265.0, 135.0, 124.0, 240.0, 165.0, 158.0, 197.0, 89.0, 84.0, 69.0, 168.0, 128.0, 125.0, 66.0, 99.0, 53.0, 69.0, 132.0, 132.0, 91.0, 107.0, 92.0, 61.0, 43.0, 80.0, 53.0, 59.0, 44.0, 51.0, 33.0, 31.0, 47.0, 54.0, 42.0, 34.0, 28.0, 18.0, 16.0, 11.0, 7.0, 0.0], \"yaxis\": \"y\"}, {\"hovertemplate\": \"<b>%{hovertext}</b><br><br>Area name=South West<br>Specimen date=%{x}<br>Daily lab-confirmed cases=%{y}<extra></extra>\", \"hovertext\": [\"South West\", \"South West\", \"South West\", \"South West\", \"South West\", \"South West\", \"South West\", \"South West\", \"South West\", \"South West\", \"South West\", \"South West\", \"South West\", \"South West\", \"South West\", \"South West\", \"South West\", \"South West\", \"South West\", \"South West\", \"South West\", \"South West\", \"South West\", \"South West\", \"South West\", \"South West\", \"South West\", \"South West\", \"South West\", \"South West\", \"South West\", \"South West\", \"South West\", \"South West\", \"South West\", \"South West\", \"South West\", \"South West\", \"South West\", \"South West\", \"South West\", \"South West\", \"South West\", \"South West\", \"South West\", \"South West\", \"South West\", \"South West\", \"South West\", \"South West\", \"South West\", \"South West\", \"South West\", \"South West\", \"South West\", \"South West\", \"South West\", \"South West\", \"South West\", \"South West\", \"South West\", \"South West\", \"South West\", \"South West\", \"South West\", \"South West\", \"South West\", \"South West\", \"South West\", \"South West\", \"South West\", \"South West\", \"South West\", \"South West\", \"South West\", \"South West\", \"South West\", \"South West\", \"South West\", \"South West\", \"South West\", \"South West\", \"South West\", \"South West\", \"South West\", \"South West\", \"South West\", \"South West\", \"South West\", \"South West\", \"South West\", \"South West\", \"South West\", \"South West\", \"South West\", \"South West\", \"South West\", \"South West\", \"South West\", \"South West\", \"South West\", \"South West\", \"South West\", \"South West\"], \"legendgroup\": \"South West\", \"line\": {\"color\": \"#ab63fa\", \"dash\": \"solid\"}, \"mode\": \"lines+markers\", \"name\": \"South West\", \"orientation\": \"v\", \"showlegend\": true, \"type\": \"scatter\", \"x\": [\"2020-02-03\", \"2020-02-26\", \"2020-03-01\", \"2020-03-02\", \"2020-03-03\", \"2020-03-04\", \"2020-03-05\", \"2020-03-06\", \"2020-03-07\", \"2020-03-08\", \"2020-03-09\", \"2020-03-10\", \"2020-03-11\", \"2020-03-12\", \"2020-03-13\", \"2020-03-14\", \"2020-03-15\", \"2020-03-16\", \"2020-03-17\", \"2020-03-18\", \"2020-03-19\", \"2020-03-20\", \"2020-03-21\", \"2020-03-22\", \"2020-03-23\", \"2020-03-24\", \"2020-03-25\", \"2020-03-26\", \"2020-03-27\", \"2020-03-28\", \"2020-03-29\", \"2020-03-30\", \"2020-03-31\", \"2020-04-01\", \"2020-04-02\", \"2020-04-03\", \"2020-04-04\", \"2020-04-05\", \"2020-04-06\", \"2020-04-07\", \"2020-04-08\", \"2020-04-09\", \"2020-04-10\", \"2020-04-11\", \"2020-04-12\", \"2020-04-13\", \"2020-04-14\", \"2020-04-15\", \"2020-04-16\", \"2020-04-17\", \"2020-04-18\", \"2020-04-19\", \"2020-04-20\", \"2020-04-21\", \"2020-04-22\", \"2020-04-23\", \"2020-04-24\", \"2020-04-25\", \"2020-04-26\", \"2020-04-27\", \"2020-04-28\", \"2020-04-29\", \"2020-04-30\", \"2020-05-01\", \"2020-05-02\", \"2020-05-03\", \"2020-05-04\", \"2020-05-05\", \"2020-05-06\", \"2020-05-07\", \"2020-05-08\", \"2020-05-09\", \"2020-05-10\", \"2020-05-11\", \"2020-05-12\", \"2020-05-13\", \"2020-05-14\", \"2020-05-15\", \"2020-05-16\", \"2020-05-17\", \"2020-05-18\", \"2020-05-19\", \"2020-05-20\", \"2020-05-21\", \"2020-05-22\", \"2020-05-23\", \"2020-05-24\", \"2020-05-25\", \"2020-05-26\", \"2020-05-27\", \"2020-05-28\", \"2020-05-29\", \"2020-05-30\", \"2020-05-31\", \"2020-06-01\", \"2020-06-02\", \"2020-06-03\", \"2020-06-04\", \"2020-06-05\", \"2020-06-06\", \"2020-06-07\", \"2020-06-08\", \"2020-06-09\", \"2020-06-10\"], \"xaxis\": \"x\", \"y\": [2.0, 1.0, 2.0, 8.0, 10.0, 6.0, 4.0, 11.0, 2.0, 3.0, 5.0, 10.0, 19.0, 24.0, 31.0, 12.0, 17.0, 18.0, 21.0, 43.0, 21.0, 43.0, 42.0, 44.0, 62.0, 68.0, 104.0, 117.0, 129.0, 102.0, 100.0, 163.0, 140.0, 183.0, 183.0, 186.0, 174.0, 153.0, 184.0, 213.0, 235.0, 246.0, 234.0, 173.0, 178.0, 192.0, 185.0, 210.0, 238.0, 215.0, 145.0, 154.0, 173.0, 174.0, 152.0, 176.0, 122.0, 89.0, 58.0, 126.0, 113.0, 130.0, 81.0, 113.0, 66.0, 74.0, 75.0, 67.0, 66.0, 63.0, 41.0, 44.0, 45.0, 57.0, 25.0, 34.0, 35.0, 27.0, 28.0, 25.0, 41.0, 33.0, 52.0, 22.0, 26.0, 18.0, 12.0, 21.0, 23.0, 31.0, 36.0, 24.0, 18.0, 26.0, 23.0, 21.0, 29.0, 17.0, 16.0, 8.0, 10.0, 4.0, 3.0, 0.0], \"yaxis\": \"y\"}, {\"hovertemplate\": \"<b>%{hovertext}</b><br><br>Area name=London<br>Specimen date=%{x}<br>Daily lab-confirmed cases=%{y}<extra></extra>\", \"hovertext\": [\"London\", \"London\", \"London\", \"London\", \"London\", \"London\", \"London\", \"London\", \"London\", \"London\", \"London\", \"London\", \"London\", \"London\", \"London\", \"London\", \"London\", \"London\", \"London\", \"London\", \"London\", \"London\", \"London\", \"London\", \"London\", \"London\", \"London\", \"London\", \"London\", \"London\", \"London\", \"London\", \"London\", \"London\", \"London\", \"London\", \"London\", \"London\", \"London\", \"London\", \"London\", \"London\", \"London\", \"London\", \"London\", \"London\", \"London\", \"London\", \"London\", \"London\", \"London\", \"London\", \"London\", \"London\", \"London\", \"London\", \"London\", \"London\", \"London\", \"London\", \"London\", \"London\", \"London\", \"London\", \"London\", \"London\", \"London\", \"London\", \"London\", \"London\", \"London\", \"London\", \"London\", \"London\", \"London\", \"London\", \"London\", \"London\", \"London\", \"London\", \"London\", \"London\", \"London\", \"London\", \"London\", \"London\", \"London\", \"London\", \"London\", \"London\", \"London\", \"London\", \"London\", \"London\", \"London\", \"London\", \"London\", \"London\", \"London\", \"London\", \"London\", \"London\", \"London\", \"London\", \"London\", \"London\", \"London\", \"London\", \"London\", \"London\", \"London\"], \"legendgroup\": \"London\", \"line\": {\"color\": \"#FFA15A\", \"dash\": \"solid\"}, \"mode\": \"lines+markers\", \"name\": \"London\", \"orientation\": \"v\", \"showlegend\": true, \"type\": \"scatter\", \"x\": [\"2020-02-11\", \"2020-02-13\", \"2020-02-17\", \"2020-02-19\", \"2020-02-23\", \"2020-02-25\", \"2020-02-27\", \"2020-02-28\", \"2020-02-29\", \"2020-03-01\", \"2020-03-02\", \"2020-03-03\", \"2020-03-04\", \"2020-03-05\", \"2020-03-06\", \"2020-03-07\", \"2020-03-08\", \"2020-03-09\", \"2020-03-10\", \"2020-03-11\", \"2020-03-12\", \"2020-03-13\", \"2020-03-14\", \"2020-03-15\", \"2020-03-16\", \"2020-03-17\", \"2020-03-18\", \"2020-03-19\", \"2020-03-20\", \"2020-03-21\", \"2020-03-22\", \"2020-03-23\", \"2020-03-24\", \"2020-03-25\", \"2020-03-26\", \"2020-03-27\", \"2020-03-28\", \"2020-03-29\", \"2020-03-30\", \"2020-03-31\", \"2020-04-01\", \"2020-04-02\", \"2020-04-03\", \"2020-04-04\", \"2020-04-05\", \"2020-04-06\", \"2020-04-07\", \"2020-04-08\", \"2020-04-09\", \"2020-04-10\", \"2020-04-11\", \"2020-04-12\", \"2020-04-13\", \"2020-04-14\", \"2020-04-15\", \"2020-04-16\", \"2020-04-17\", \"2020-04-18\", \"2020-04-19\", \"2020-04-20\", \"2020-04-21\", \"2020-04-22\", \"2020-04-23\", \"2020-04-24\", \"2020-04-25\", \"2020-04-26\", \"2020-04-27\", \"2020-04-28\", \"2020-04-29\", \"2020-04-30\", \"2020-05-01\", \"2020-05-02\", \"2020-05-03\", \"2020-05-04\", \"2020-05-05\", \"2020-05-06\", \"2020-05-07\", \"2020-05-08\", \"2020-05-09\", \"2020-05-10\", \"2020-05-11\", \"2020-05-12\", \"2020-05-13\", \"2020-05-14\", \"2020-05-15\", \"2020-05-16\", \"2020-05-17\", \"2020-05-18\", \"2020-05-19\", \"2020-05-20\", \"2020-05-21\", \"2020-05-22\", \"2020-05-23\", \"2020-05-24\", \"2020-05-25\", \"2020-05-26\", \"2020-05-27\", \"2020-05-28\", \"2020-05-29\", \"2020-05-30\", \"2020-05-31\", \"2020-06-01\", \"2020-06-02\", \"2020-06-03\", \"2020-06-04\", \"2020-06-05\", \"2020-06-06\", \"2020-06-07\", \"2020-06-08\", \"2020-06-09\", \"2020-06-10\"], \"xaxis\": \"x\", \"y\": [1.0, 1.0, 1.0, 1.0, 2.0, 2.0, 1.0, 5.0, 1.0, 8.0, 12.0, 6.0, 18.0, 14.0, 23.0, 14.0, 22.0, 53.0, 91.0, 183.0, 165.0, 136.0, 149.0, 165.0, 234.0, 310.0, 356.0, 333.0, 426.0, 350.0, 437.0, 687.0, 636.0, 756.0, 761.0, 820.0, 577.0, 594.0, 844.0, 915.0, 962.0, 1023.0, 934.0, 717.0, 604.0, 837.0, 903.0, 831.0, 771.0, 573.0, 491.0, 414.0, 566.0, 556.0, 554.0, 490.0, 425.0, 306.0, 246.0, 377.0, 341.0, 276.0, 318.0, 246.0, 160.0, 90.0, 189.0, 180.0, 250.0, 255.0, 196.0, 127.0, 64.0, 152.0, 135.0, 144.0, 143.0, 94.0, 60.0, 35.0, 68.0, 76.0, 85.0, 86.0, 58.0, 23.0, 33.0, 56.0, 50.0, 58.0, 49.0, 40.0, 10.0, 18.0, 20.0, 28.0, 37.0, 35.0, 32.0, 17.0, 16.0, 22.0, 21.0, 44.0, 19.0, 22.0, 14.0, 16.0, 27.0, 15.0, 0.0], \"yaxis\": \"y\"}, {\"hovertemplate\": \"<b>%{hovertext}</b><br><br>Area name=West Midlands<br>Specimen date=%{x}<br>Daily lab-confirmed cases=%{y}<extra></extra>\", \"hovertext\": [\"West Midlands\", \"West Midlands\", \"West Midlands\", \"West Midlands\", \"West Midlands\", \"West Midlands\", \"West Midlands\", \"West Midlands\", \"West Midlands\", \"West Midlands\", \"West Midlands\", \"West Midlands\", \"West Midlands\", \"West Midlands\", \"West Midlands\", \"West Midlands\", \"West Midlands\", \"West Midlands\", \"West Midlands\", \"West Midlands\", \"West Midlands\", \"West Midlands\", \"West Midlands\", \"West Midlands\", \"West Midlands\", \"West Midlands\", \"West Midlands\", \"West Midlands\", \"West Midlands\", \"West Midlands\", \"West Midlands\", \"West Midlands\", \"West Midlands\", \"West Midlands\", \"West Midlands\", \"West Midlands\", \"West Midlands\", \"West Midlands\", \"West Midlands\", \"West Midlands\", \"West Midlands\", \"West Midlands\", \"West Midlands\", \"West Midlands\", \"West Midlands\", \"West Midlands\", \"West Midlands\", \"West Midlands\", \"West Midlands\", \"West Midlands\", \"West Midlands\", \"West Midlands\", \"West Midlands\", \"West Midlands\", \"West Midlands\", \"West Midlands\", \"West Midlands\", \"West Midlands\", \"West Midlands\", \"West Midlands\", \"West Midlands\", \"West Midlands\", \"West Midlands\", \"West Midlands\", \"West Midlands\", \"West Midlands\", \"West Midlands\", \"West Midlands\", \"West Midlands\", \"West Midlands\", \"West Midlands\", \"West Midlands\", \"West Midlands\", \"West Midlands\", \"West Midlands\", \"West Midlands\", \"West Midlands\", \"West Midlands\", \"West Midlands\", \"West Midlands\", \"West Midlands\", \"West Midlands\", \"West Midlands\", \"West Midlands\", \"West Midlands\", \"West Midlands\", \"West Midlands\", \"West Midlands\", \"West Midlands\", \"West Midlands\", \"West Midlands\", \"West Midlands\", \"West Midlands\", \"West Midlands\", \"West Midlands\", \"West Midlands\", \"West Midlands\", \"West Midlands\", \"West Midlands\", \"West Midlands\", \"West Midlands\", \"West Midlands\", \"West Midlands\", \"West Midlands\"], \"legendgroup\": \"West Midlands\", \"line\": {\"color\": \"#19d3f3\", \"dash\": \"solid\"}, \"mode\": \"lines+markers\", \"name\": \"West Midlands\", \"orientation\": \"v\", \"showlegend\": true, \"type\": \"scatter\", \"x\": [\"2020-02-12\", \"2020-02-23\", \"2020-03-01\", \"2020-03-02\", \"2020-03-03\", \"2020-03-04\", \"2020-03-05\", \"2020-03-06\", \"2020-03-07\", \"2020-03-08\", \"2020-03-09\", \"2020-03-10\", \"2020-03-11\", \"2020-03-12\", \"2020-03-13\", \"2020-03-14\", \"2020-03-15\", \"2020-03-16\", \"2020-03-17\", \"2020-03-18\", \"2020-03-19\", \"2020-03-20\", \"2020-03-21\", \"2020-03-22\", \"2020-03-23\", \"2020-03-24\", \"2020-03-25\", \"2020-03-26\", \"2020-03-27\", \"2020-03-28\", \"2020-03-29\", \"2020-03-30\", \"2020-03-31\", \"2020-04-01\", \"2020-04-02\", \"2020-04-03\", \"2020-04-04\", \"2020-04-05\", \"2020-04-06\", \"2020-04-07\", \"2020-04-08\", \"2020-04-09\", \"2020-04-10\", \"2020-04-11\", \"2020-04-12\", \"2020-04-13\", \"2020-04-14\", \"2020-04-15\", \"2020-04-16\", \"2020-04-17\", \"2020-04-18\", \"2020-04-19\", \"2020-04-20\", \"2020-04-21\", \"2020-04-22\", \"2020-04-23\", \"2020-04-24\", \"2020-04-25\", \"2020-04-26\", \"2020-04-27\", \"2020-04-28\", \"2020-04-29\", \"2020-04-30\", \"2020-05-01\", \"2020-05-02\", \"2020-05-03\", \"2020-05-04\", \"2020-05-05\", \"2020-05-06\", \"2020-05-07\", \"2020-05-08\", \"2020-05-09\", \"2020-05-10\", \"2020-05-11\", \"2020-05-12\", \"2020-05-13\", \"2020-05-14\", \"2020-05-15\", \"2020-05-16\", \"2020-05-17\", \"2020-05-18\", \"2020-05-19\", \"2020-05-20\", \"2020-05-21\", \"2020-05-22\", \"2020-05-23\", \"2020-05-24\", \"2020-05-25\", \"2020-05-26\", \"2020-05-27\", \"2020-05-28\", \"2020-05-29\", \"2020-05-30\", \"2020-05-31\", \"2020-06-01\", \"2020-06-02\", \"2020-06-03\", \"2020-06-04\", \"2020-06-05\", \"2020-06-06\", \"2020-06-07\", \"2020-06-08\", \"2020-06-09\", \"2020-06-10\"], \"xaxis\": \"x\", \"y\": [1.0, 1.0, 2.0, 4.0, 1.0, 3.0, 6.0, 2.0, 5.0, 4.0, 8.0, 17.0, 29.0, 45.0, 40.0, 31.0, 44.0, 56.0, 69.0, 99.0, 123.0, 151.0, 125.0, 111.0, 239.0, 250.0, 240.0, 313.0, 279.0, 323.0, 364.0, 430.0, 413.0, 411.0, 447.0, 373.0, 333.0, 268.0, 331.0, 371.0, 353.0, 341.0, 353.0, 239.0, 236.0, 273.0, 316.0, 343.0, 364.0, 376.0, 318.0, 229.0, 344.0, 344.0, 317.0, 322.0, 341.0, 228.0, 187.0, 247.0, 266.0, 235.0, 203.0, 216.0, 183.0, 110.0, 149.0, 216.0, 154.0, 158.0, 178.0, 98.0, 76.0, 127.0, 127.0, 92.0, 92.0, 119.0, 80.0, 59.0, 84.0, 112.0, 81.0, 75.0, 84.0, 57.0, 42.0, 34.0, 62.0, 78.0, 59.0, 50.0, 41.0, 30.0, 50.0, 61.0, 40.0, 49.0, 33.0, 30.0, 18.0, 39.0, 22.0, 4.0], \"yaxis\": \"y\"}, {\"hovertemplate\": \"<b>%{hovertext}</b><br><br>Area name=East Midlands<br>Specimen date=%{x}<br>Daily lab-confirmed cases=%{y}<extra></extra>\", \"hovertext\": [\"East Midlands\", \"East Midlands\", \"East Midlands\", \"East Midlands\", \"East Midlands\", \"East Midlands\", \"East Midlands\", \"East Midlands\", \"East Midlands\", \"East Midlands\", \"East Midlands\", \"East Midlands\", \"East Midlands\", \"East Midlands\", \"East Midlands\", \"East Midlands\", \"East Midlands\", \"East Midlands\", \"East Midlands\", \"East Midlands\", \"East Midlands\", \"East Midlands\", \"East Midlands\", \"East Midlands\", \"East Midlands\", \"East Midlands\", \"East Midlands\", \"East Midlands\", \"East Midlands\", \"East Midlands\", \"East Midlands\", \"East Midlands\", \"East Midlands\", \"East Midlands\", \"East Midlands\", \"East Midlands\", \"East Midlands\", \"East Midlands\", \"East Midlands\", \"East Midlands\", \"East Midlands\", \"East Midlands\", \"East Midlands\", \"East Midlands\", \"East Midlands\", \"East Midlands\", \"East Midlands\", \"East Midlands\", \"East Midlands\", \"East Midlands\", \"East Midlands\", \"East Midlands\", \"East Midlands\", \"East Midlands\", \"East Midlands\", \"East Midlands\", \"East Midlands\", \"East Midlands\", \"East Midlands\", \"East Midlands\", \"East Midlands\", \"East Midlands\", \"East Midlands\", \"East Midlands\", \"East Midlands\", \"East Midlands\", \"East Midlands\", \"East Midlands\", \"East Midlands\", \"East Midlands\", \"East Midlands\", \"East Midlands\", \"East Midlands\", \"East Midlands\", \"East Midlands\", \"East Midlands\", \"East Midlands\", \"East Midlands\", \"East Midlands\", \"East Midlands\", \"East Midlands\", \"East Midlands\", \"East Midlands\", \"East Midlands\", \"East Midlands\", \"East Midlands\", \"East Midlands\", \"East Midlands\", \"East Midlands\", \"East Midlands\", \"East Midlands\", \"East Midlands\", \"East Midlands\", \"East Midlands\", \"East Midlands\", \"East Midlands\", \"East Midlands\", \"East Midlands\", \"East Midlands\", \"East Midlands\", \"East Midlands\", \"East Midlands\", \"East Midlands\", \"East Midlands\", \"East Midlands\", \"East Midlands\", \"East Midlands\"], \"legendgroup\": \"East Midlands\", \"line\": {\"color\": \"#FF6692\", \"dash\": \"solid\"}, \"mode\": \"lines+markers\", \"name\": \"East Midlands\", \"orientation\": \"v\", \"showlegend\": true, \"type\": \"scatter\", \"x\": [\"2020-02-21\", \"2020-02-25\", \"2020-02-27\", \"2020-02-28\", \"2020-02-29\", \"2020-03-01\", \"2020-03-02\", \"2020-03-03\", \"2020-03-04\", \"2020-03-05\", \"2020-03-06\", \"2020-03-07\", \"2020-03-08\", \"2020-03-09\", \"2020-03-10\", \"2020-03-11\", \"2020-03-12\", \"2020-03-13\", \"2020-03-14\", \"2020-03-15\", \"2020-03-16\", \"2020-03-17\", \"2020-03-18\", \"2020-03-19\", \"2020-03-20\", \"2020-03-21\", \"2020-03-22\", \"2020-03-23\", \"2020-03-24\", \"2020-03-25\", \"2020-03-26\", \"2020-03-27\", \"2020-03-28\", \"2020-03-29\", \"2020-03-30\", \"2020-03-31\", \"2020-04-01\", \"2020-04-02\", \"2020-04-03\", \"2020-04-04\", \"2020-04-05\", \"2020-04-06\", \"2020-04-07\", \"2020-04-08\", \"2020-04-09\", \"2020-04-10\", \"2020-04-11\", \"2020-04-12\", \"2020-04-13\", \"2020-04-14\", \"2020-04-15\", \"2020-04-16\", \"2020-04-17\", \"2020-04-18\", \"2020-04-19\", \"2020-04-20\", \"2020-04-21\", \"2020-04-22\", \"2020-04-23\", \"2020-04-24\", \"2020-04-25\", \"2020-04-26\", \"2020-04-27\", \"2020-04-28\", \"2020-04-29\", \"2020-04-30\", \"2020-05-01\", \"2020-05-02\", \"2020-05-03\", \"2020-05-04\", \"2020-05-05\", \"2020-05-06\", \"2020-05-07\", \"2020-05-08\", \"2020-05-09\", \"2020-05-10\", \"2020-05-11\", \"2020-05-12\", \"2020-05-13\", \"2020-05-14\", \"2020-05-15\", \"2020-05-16\", \"2020-05-17\", \"2020-05-18\", \"2020-05-19\", \"2020-05-20\", \"2020-05-21\", \"2020-05-22\", \"2020-05-23\", \"2020-05-24\", \"2020-05-25\", \"2020-05-26\", \"2020-05-27\", \"2020-05-28\", \"2020-05-29\", \"2020-05-30\", \"2020-05-31\", \"2020-06-01\", \"2020-06-02\", \"2020-06-03\", \"2020-06-04\", \"2020-06-05\", \"2020-06-06\", \"2020-06-07\", \"2020-06-08\", \"2020-06-09\", \"2020-06-10\"], \"xaxis\": \"x\", \"y\": [1.0, 1.0, 1.0, 1.0, 1.0, 1.0, 2.0, 7.0, 2.0, 3.0, 7.0, 4.0, 1.0, 10.0, 12.0, 25.0, 18.0, 22.0, 19.0, 26.0, 34.0, 33.0, 49.0, 66.0, 53.0, 69.0, 99.0, 117.0, 136.0, 116.0, 154.0, 136.0, 159.0, 129.0, 207.0, 276.0, 296.0, 213.0, 259.0, 189.0, 148.0, 214.0, 203.0, 188.0, 232.0, 173.0, 168.0, 147.0, 136.0, 191.0, 174.0, 201.0, 192.0, 96.0, 153.0, 173.0, 146.0, 141.0, 142.0, 162.0, 111.0, 118.0, 167.0, 140.0, 134.0, 87.0, 93.0, 57.0, 34.0, 103.0, 78.0, 100.0, 143.0, 73.0, 76.0, 70.0, 103.0, 95.0, 108.0, 64.0, 86.0, 70.0, 69.0, 95.0, 64.0, 62.0, 69.0, 69.0, 49.0, 26.0, 40.0, 46.0, 53.0, 38.0, 43.0, 41.0, 31.0, 42.0, 46.0, 28.0, 19.0, 29.0, 13.0, 16.0, 23.0, 17.0, 5.0], \"yaxis\": \"y\"}, {\"hovertemplate\": \"<b>%{hovertext}</b><br><br>Area name=North West<br>Specimen date=%{x}<br>Daily lab-confirmed cases=%{y}<extra></extra>\", \"hovertext\": [\"North West\", \"North West\", \"North West\", \"North West\", \"North West\", \"North West\", \"North West\", \"North West\", \"North West\", \"North West\", \"North West\", \"North West\", \"North West\", \"North West\", \"North West\", \"North West\", \"North West\", \"North West\", \"North West\", \"North West\", \"North West\", \"North West\", \"North West\", \"North West\", \"North West\", \"North West\", \"North West\", \"North West\", \"North West\", \"North West\", \"North West\", \"North West\", \"North West\", \"North West\", \"North West\", \"North West\", \"North West\", \"North West\", \"North West\", \"North West\", \"North West\", \"North West\", \"North West\", \"North West\", \"North West\", \"North West\", \"North West\", \"North West\", \"North West\", \"North West\", \"North West\", \"North West\", \"North West\", \"North West\", \"North West\", \"North West\", \"North West\", \"North West\", \"North West\", \"North West\", \"North West\", \"North West\", \"North West\", \"North West\", \"North West\", \"North West\", \"North West\", \"North West\", \"North West\", \"North West\", \"North West\", \"North West\", \"North West\", \"North West\", \"North West\", \"North West\", \"North West\", \"North West\", \"North West\", \"North West\", \"North West\", \"North West\", \"North West\", \"North West\", \"North West\", \"North West\", \"North West\", \"North West\", \"North West\", \"North West\", \"North West\", \"North West\", \"North West\", \"North West\", \"North West\", \"North West\", \"North West\", \"North West\", \"North West\", \"North West\", \"North West\", \"North West\", \"North West\"], \"legendgroup\": \"North West\", \"line\": {\"color\": \"#B6E880\", \"dash\": \"solid\"}, \"mode\": \"lines+markers\", \"name\": \"North West\", \"orientation\": \"v\", \"showlegend\": true, \"type\": \"scatter\", \"x\": [\"2020-02-28\", \"2020-03-01\", \"2020-03-02\", \"2020-03-03\", \"2020-03-04\", \"2020-03-05\", \"2020-03-06\", \"2020-03-07\", \"2020-03-08\", \"2020-03-09\", \"2020-03-10\", \"2020-03-11\", \"2020-03-12\", \"2020-03-13\", \"2020-03-14\", \"2020-03-15\", \"2020-03-16\", \"2020-03-17\", \"2020-03-18\", \"2020-03-19\", \"2020-03-20\", \"2020-03-21\", \"2020-03-22\", \"2020-03-23\", \"2020-03-24\", \"2020-03-25\", \"2020-03-26\", \"2020-03-27\", \"2020-03-28\", \"2020-03-29\", \"2020-03-30\", \"2020-03-31\", \"2020-04-01\", \"2020-04-02\", \"2020-04-03\", \"2020-04-04\", \"2020-04-05\", \"2020-04-06\", \"2020-04-07\", \"2020-04-08\", \"2020-04-09\", \"2020-04-10\", \"2020-04-11\", \"2020-04-12\", \"2020-04-13\", \"2020-04-14\", \"2020-04-15\", \"2020-04-16\", \"2020-04-17\", \"2020-04-18\", \"2020-04-19\", \"2020-04-20\", \"2020-04-21\", \"2020-04-22\", \"2020-04-23\", \"2020-04-24\", \"2020-04-25\", \"2020-04-26\", \"2020-04-27\", \"2020-04-28\", \"2020-04-29\", \"2020-04-30\", \"2020-05-01\", \"2020-05-02\", \"2020-05-03\", \"2020-05-04\", \"2020-05-05\", \"2020-05-06\", \"2020-05-07\", \"2020-05-08\", \"2020-05-09\", \"2020-05-10\", \"2020-05-11\", \"2020-05-12\", \"2020-05-13\", \"2020-05-14\", \"2020-05-15\", \"2020-05-16\", \"2020-05-17\", \"2020-05-18\", \"2020-05-19\", \"2020-05-20\", \"2020-05-21\", \"2020-05-22\", \"2020-05-23\", \"2020-05-24\", \"2020-05-25\", \"2020-05-26\", \"2020-05-27\", \"2020-05-28\", \"2020-05-29\", \"2020-05-30\", \"2020-05-31\", \"2020-06-01\", \"2020-06-02\", \"2020-06-03\", \"2020-06-04\", \"2020-06-05\", \"2020-06-06\", \"2020-06-07\", \"2020-06-08\", \"2020-06-09\", \"2020-06-10\"], \"xaxis\": \"x\", \"y\": [1.0, 8.0, 6.0, 7.0, 2.0, 10.0, 2.0, 6.0, 5.0, 7.0, 15.0, 17.0, 40.0, 41.0, 25.0, 23.0, 56.0, 55.0, 84.0, 98.0, 82.0, 114.0, 117.0, 176.0, 255.0, 256.0, 357.0, 333.0, 321.0, 359.0, 506.0, 556.0, 618.0, 681.0, 683.0, 606.0, 625.0, 874.0, 791.0, 853.0, 804.0, 602.0, 609.0, 486.0, 607.0, 632.0, 587.0, 581.0, 574.0, 441.0, 371.0, 514.0, 550.0, 485.0, 502.0, 450.0, 302.0, 247.0, 379.0, 408.0, 401.0, 384.0, 342.0, 195.0, 186.0, 263.0, 289.0, 240.0, 212.0, 175.0, 168.0, 128.0, 256.0, 200.0, 189.0, 170.0, 173.0, 179.0, 151.0, 196.0, 239.0, 198.0, 136.0, 140.0, 104.0, 90.0, 104.0, 117.0, 98.0, 93.0, 102.0, 76.0, 58.0, 90.0, 103.0, 86.0, 72.0, 61.0, 38.0, 42.0, 41.0, 20.0, 5.0], \"yaxis\": \"y\"}, {\"hovertemplate\": \"<b>%{hovertext}</b><br><br>Area name=North East<br>Specimen date=%{x}<br>Daily lab-confirmed cases=%{y}<extra></extra>\", \"hovertext\": [\"North East\", \"North East\", \"North East\", \"North East\", \"North East\", \"North East\", \"North East\", \"North East\", \"North East\", \"North East\", \"North East\", \"North East\", \"North East\", \"North East\", \"North East\", \"North East\", \"North East\", \"North East\", \"North East\", \"North East\", \"North East\", \"North East\", \"North East\", \"North East\", \"North East\", \"North East\", \"North East\", \"North East\", \"North East\", \"North East\", \"North East\", \"North East\", \"North East\", \"North East\", \"North East\", \"North East\", \"North East\", \"North East\", \"North East\", \"North East\", \"North East\", \"North East\", \"North East\", \"North East\", \"North East\", \"North East\", \"North East\", \"North East\", \"North East\", \"North East\", \"North East\", \"North East\", \"North East\", \"North East\", \"North East\", \"North East\", \"North East\", \"North East\", \"North East\", \"North East\", \"North East\", \"North East\", \"North East\", \"North East\", \"North East\", \"North East\", \"North East\", \"North East\", \"North East\", \"North East\", \"North East\", \"North East\", \"North East\", \"North East\", \"North East\", \"North East\", \"North East\", \"North East\", \"North East\", \"North East\", \"North East\", \"North East\", \"North East\", \"North East\", \"North East\", \"North East\", \"North East\", \"North East\", \"North East\", \"North East\", \"North East\", \"North East\", \"North East\", \"North East\", \"North East\", \"North East\", \"North East\", \"North East\", \"North East\"], \"legendgroup\": \"North East\", \"line\": {\"color\": \"#FF97FF\", \"dash\": \"solid\"}, \"mode\": \"lines+markers\", \"name\": \"North East\", \"orientation\": \"v\", \"showlegend\": true, \"type\": \"scatter\", \"x\": [\"2020-03-02\", \"2020-03-04\", \"2020-03-05\", \"2020-03-06\", \"2020-03-07\", \"2020-03-09\", \"2020-03-10\", \"2020-03-11\", \"2020-03-12\", \"2020-03-13\", \"2020-03-14\", \"2020-03-15\", \"2020-03-16\", \"2020-03-17\", \"2020-03-18\", \"2020-03-19\", \"2020-03-20\", \"2020-03-21\", \"2020-03-22\", \"2020-03-23\", \"2020-03-24\", \"2020-03-25\", \"2020-03-26\", \"2020-03-27\", \"2020-03-28\", \"2020-03-29\", \"2020-03-30\", \"2020-03-31\", \"2020-04-01\", \"2020-04-02\", \"2020-04-03\", \"2020-04-04\", \"2020-04-05\", \"2020-04-06\", \"2020-04-07\", \"2020-04-08\", \"2020-04-09\", \"2020-04-10\", \"2020-04-11\", \"2020-04-12\", \"2020-04-13\", \"2020-04-14\", \"2020-04-15\", \"2020-04-16\", \"2020-04-17\", \"2020-04-18\", \"2020-04-19\", \"2020-04-20\", \"2020-04-21\", \"2020-04-22\", \"2020-04-23\", \"2020-04-24\", \"2020-04-25\", \"2020-04-26\", \"2020-04-27\", \"2020-04-28\", \"2020-04-29\", \"2020-04-30\", \"2020-05-01\", \"2020-05-02\", \"2020-05-03\", \"2020-05-04\", \"2020-05-05\", \"2020-05-06\", \"2020-05-07\", \"2020-05-08\", \"2020-05-09\", \"2020-05-10\", \"2020-05-11\", \"2020-05-12\", \"2020-05-13\", \"2020-05-14\", \"2020-05-15\", \"2020-05-16\", \"2020-05-17\", \"2020-05-18\", \"2020-05-19\", \"2020-05-20\", \"2020-05-21\", \"2020-05-22\", \"2020-05-23\", \"2020-05-24\", \"2020-05-25\", \"2020-05-26\", \"2020-05-27\", \"2020-05-28\", \"2020-05-29\", \"2020-05-30\", \"2020-05-31\", \"2020-06-01\", \"2020-06-02\", \"2020-06-03\", \"2020-06-04\", \"2020-06-05\", \"2020-06-06\", \"2020-06-07\", \"2020-06-08\", \"2020-06-09\", \"2020-06-10\"], \"xaxis\": \"x\", \"y\": [1.0, 1.0, 2.0, 1.0, 2.0, 3.0, 4.0, 1.0, 2.0, 6.0, 6.0, 10.0, 7.0, 16.0, 14.0, 19.0, 26.0, 23.0, 20.0, 58.0, 76.0, 76.0, 97.0, 102.0, 113.0, 107.0, 176.0, 210.0, 308.0, 219.0, 261.0, 254.0, 221.0, 375.0, 351.0, 291.0, 314.0, 245.0, 267.0, 201.0, 232.0, 257.0, 225.0, 199.0, 220.0, 229.0, 160.0, 259.0, 234.0, 204.0, 219.0, 217.0, 124.0, 85.0, 201.0, 225.0, 214.0, 233.0, 160.0, 77.0, 67.0, 181.0, 144.0, 132.0, 120.0, 80.0, 101.0, 67.0, 84.0, 90.0, 62.0, 57.0, 53.0, 44.0, 37.0, 67.0, 51.0, 52.0, 47.0, 40.0, 27.0, 31.0, 29.0, 35.0, 52.0, 23.0, 27.0, 10.0, 13.0, 17.0, 20.0, 20.0, 14.0, 18.0, 13.0, 5.0, 10.0, 10.0, 3.0], \"yaxis\": \"y\"}],\n",
       "                        {\"legend\": {\"title\": {\"text\": \"Area name\"}, \"tracegroupgap\": 0}, \"margin\": {\"t\": 60}, \"template\": {\"data\": {\"bar\": [{\"error_x\": {\"color\": \"#2a3f5f\"}, \"error_y\": {\"color\": \"#2a3f5f\"}, \"marker\": {\"line\": {\"color\": \"#E5ECF6\", \"width\": 0.5}}, \"type\": \"bar\"}], \"barpolar\": [{\"marker\": {\"line\": {\"color\": \"#E5ECF6\", \"width\": 0.5}}, \"type\": \"barpolar\"}], \"carpet\": [{\"aaxis\": {\"endlinecolor\": \"#2a3f5f\", \"gridcolor\": \"white\", \"linecolor\": \"white\", \"minorgridcolor\": \"white\", \"startlinecolor\": \"#2a3f5f\"}, \"baxis\": {\"endlinecolor\": \"#2a3f5f\", \"gridcolor\": \"white\", \"linecolor\": \"white\", \"minorgridcolor\": \"white\", \"startlinecolor\": \"#2a3f5f\"}, \"type\": \"carpet\"}], \"choropleth\": [{\"colorbar\": {\"outlinewidth\": 0, \"ticks\": \"\"}, \"type\": \"choropleth\"}], \"contour\": [{\"colorbar\": {\"outlinewidth\": 0, \"ticks\": \"\"}, \"colorscale\": [[0.0, \"#0d0887\"], [0.1111111111111111, \"#46039f\"], [0.2222222222222222, \"#7201a8\"], [0.3333333333333333, \"#9c179e\"], [0.4444444444444444, \"#bd3786\"], [0.5555555555555556, \"#d8576b\"], [0.6666666666666666, \"#ed7953\"], [0.7777777777777778, \"#fb9f3a\"], [0.8888888888888888, \"#fdca26\"], [1.0, \"#f0f921\"]], \"type\": \"contour\"}], \"contourcarpet\": [{\"colorbar\": {\"outlinewidth\": 0, \"ticks\": \"\"}, \"type\": \"contourcarpet\"}], \"heatmap\": [{\"colorbar\": {\"outlinewidth\": 0, \"ticks\": \"\"}, \"colorscale\": [[0.0, \"#0d0887\"], [0.1111111111111111, \"#46039f\"], [0.2222222222222222, \"#7201a8\"], [0.3333333333333333, \"#9c179e\"], [0.4444444444444444, \"#bd3786\"], [0.5555555555555556, \"#d8576b\"], [0.6666666666666666, \"#ed7953\"], [0.7777777777777778, \"#fb9f3a\"], [0.8888888888888888, \"#fdca26\"], [1.0, \"#f0f921\"]], \"type\": \"heatmap\"}], \"heatmapgl\": [{\"colorbar\": {\"outlinewidth\": 0, \"ticks\": \"\"}, \"colorscale\": [[0.0, \"#0d0887\"], [0.1111111111111111, \"#46039f\"], [0.2222222222222222, \"#7201a8\"], [0.3333333333333333, \"#9c179e\"], [0.4444444444444444, \"#bd3786\"], [0.5555555555555556, \"#d8576b\"], [0.6666666666666666, \"#ed7953\"], [0.7777777777777778, \"#fb9f3a\"], [0.8888888888888888, \"#fdca26\"], [1.0, \"#f0f921\"]], \"type\": \"heatmapgl\"}], \"histogram\": [{\"marker\": {\"colorbar\": {\"outlinewidth\": 0, \"ticks\": \"\"}}, \"type\": \"histogram\"}], \"histogram2d\": [{\"colorbar\": {\"outlinewidth\": 0, \"ticks\": \"\"}, \"colorscale\": [[0.0, \"#0d0887\"], [0.1111111111111111, \"#46039f\"], [0.2222222222222222, \"#7201a8\"], [0.3333333333333333, \"#9c179e\"], [0.4444444444444444, \"#bd3786\"], [0.5555555555555556, \"#d8576b\"], [0.6666666666666666, \"#ed7953\"], [0.7777777777777778, \"#fb9f3a\"], [0.8888888888888888, \"#fdca26\"], [1.0, \"#f0f921\"]], \"type\": \"histogram2d\"}], \"histogram2dcontour\": [{\"colorbar\": {\"outlinewidth\": 0, \"ticks\": \"\"}, \"colorscale\": [[0.0, \"#0d0887\"], [0.1111111111111111, \"#46039f\"], [0.2222222222222222, \"#7201a8\"], [0.3333333333333333, \"#9c179e\"], [0.4444444444444444, \"#bd3786\"], [0.5555555555555556, \"#d8576b\"], [0.6666666666666666, \"#ed7953\"], [0.7777777777777778, \"#fb9f3a\"], [0.8888888888888888, \"#fdca26\"], [1.0, \"#f0f921\"]], \"type\": \"histogram2dcontour\"}], \"mesh3d\": [{\"colorbar\": {\"outlinewidth\": 0, \"ticks\": \"\"}, \"type\": \"mesh3d\"}], \"parcoords\": [{\"line\": {\"colorbar\": {\"outlinewidth\": 0, \"ticks\": \"\"}}, \"type\": \"parcoords\"}], \"pie\": [{\"automargin\": true, \"type\": \"pie\"}], \"scatter\": [{\"marker\": {\"colorbar\": {\"outlinewidth\": 0, \"ticks\": \"\"}}, \"type\": \"scatter\"}], \"scatter3d\": [{\"line\": {\"colorbar\": {\"outlinewidth\": 0, \"ticks\": \"\"}}, \"marker\": {\"colorbar\": {\"outlinewidth\": 0, \"ticks\": \"\"}}, \"type\": \"scatter3d\"}], \"scattercarpet\": [{\"marker\": {\"colorbar\": {\"outlinewidth\": 0, \"ticks\": \"\"}}, \"type\": \"scattercarpet\"}], \"scattergeo\": [{\"marker\": {\"colorbar\": {\"outlinewidth\": 0, \"ticks\": \"\"}}, \"type\": \"scattergeo\"}], \"scattergl\": [{\"marker\": {\"colorbar\": {\"outlinewidth\": 0, \"ticks\": \"\"}}, \"type\": \"scattergl\"}], \"scattermapbox\": [{\"marker\": {\"colorbar\": {\"outlinewidth\": 0, \"ticks\": \"\"}}, \"type\": \"scattermapbox\"}], \"scatterpolar\": [{\"marker\": {\"colorbar\": {\"outlinewidth\": 0, \"ticks\": \"\"}}, \"type\": \"scatterpolar\"}], \"scatterpolargl\": [{\"marker\": {\"colorbar\": {\"outlinewidth\": 0, \"ticks\": \"\"}}, \"type\": \"scatterpolargl\"}], \"scatterternary\": [{\"marker\": {\"colorbar\": {\"outlinewidth\": 0, \"ticks\": \"\"}}, \"type\": \"scatterternary\"}], \"surface\": [{\"colorbar\": {\"outlinewidth\": 0, \"ticks\": \"\"}, \"colorscale\": [[0.0, \"#0d0887\"], [0.1111111111111111, \"#46039f\"], [0.2222222222222222, \"#7201a8\"], [0.3333333333333333, \"#9c179e\"], [0.4444444444444444, \"#bd3786\"], [0.5555555555555556, \"#d8576b\"], [0.6666666666666666, \"#ed7953\"], [0.7777777777777778, \"#fb9f3a\"], [0.8888888888888888, \"#fdca26\"], [1.0, \"#f0f921\"]], \"type\": \"surface\"}], \"table\": [{\"cells\": {\"fill\": {\"color\": \"#EBF0F8\"}, \"line\": {\"color\": \"white\"}}, \"header\": {\"fill\": {\"color\": \"#C8D4E3\"}, \"line\": {\"color\": \"white\"}}, \"type\": \"table\"}]}, \"layout\": {\"annotationdefaults\": {\"arrowcolor\": \"#2a3f5f\", \"arrowhead\": 0, \"arrowwidth\": 1}, \"coloraxis\": {\"colorbar\": {\"outlinewidth\": 0, \"ticks\": \"\"}}, \"colorscale\": {\"diverging\": [[0, \"#8e0152\"], [0.1, \"#c51b7d\"], [0.2, \"#de77ae\"], [0.3, \"#f1b6da\"], [0.4, \"#fde0ef\"], [0.5, \"#f7f7f7\"], [0.6, \"#e6f5d0\"], [0.7, \"#b8e186\"], [0.8, \"#7fbc41\"], [0.9, \"#4d9221\"], [1, \"#276419\"]], \"sequential\": [[0.0, \"#0d0887\"], [0.1111111111111111, \"#46039f\"], [0.2222222222222222, \"#7201a8\"], [0.3333333333333333, \"#9c179e\"], [0.4444444444444444, \"#bd3786\"], [0.5555555555555556, \"#d8576b\"], [0.6666666666666666, \"#ed7953\"], [0.7777777777777778, \"#fb9f3a\"], [0.8888888888888888, \"#fdca26\"], [1.0, \"#f0f921\"]], \"sequentialminus\": [[0.0, \"#0d0887\"], [0.1111111111111111, \"#46039f\"], [0.2222222222222222, \"#7201a8\"], [0.3333333333333333, \"#9c179e\"], [0.4444444444444444, \"#bd3786\"], [0.5555555555555556, \"#d8576b\"], [0.6666666666666666, \"#ed7953\"], [0.7777777777777778, \"#fb9f3a\"], [0.8888888888888888, \"#fdca26\"], [1.0, \"#f0f921\"]]}, \"colorway\": [\"#636efa\", \"#EF553B\", \"#00cc96\", \"#ab63fa\", \"#FFA15A\", \"#19d3f3\", \"#FF6692\", \"#B6E880\", \"#FF97FF\", \"#FECB52\"], \"font\": {\"color\": \"#2a3f5f\"}, \"geo\": {\"bgcolor\": \"white\", \"lakecolor\": \"white\", \"landcolor\": \"#E5ECF6\", \"showlakes\": true, \"showland\": true, \"subunitcolor\": \"white\"}, \"hoverlabel\": {\"align\": \"left\"}, \"hovermode\": \"closest\", \"mapbox\": {\"style\": \"light\"}, \"paper_bgcolor\": \"white\", \"plot_bgcolor\": \"#E5ECF6\", \"polar\": {\"angularaxis\": {\"gridcolor\": \"white\", \"linecolor\": \"white\", \"ticks\": \"\"}, \"bgcolor\": \"#E5ECF6\", \"radialaxis\": {\"gridcolor\": \"white\", \"linecolor\": \"white\", \"ticks\": \"\"}}, \"scene\": {\"xaxis\": {\"backgroundcolor\": \"#E5ECF6\", \"gridcolor\": \"white\", \"gridwidth\": 2, \"linecolor\": \"white\", \"showbackground\": true, \"ticks\": \"\", \"zerolinecolor\": \"white\"}, \"yaxis\": {\"backgroundcolor\": \"#E5ECF6\", \"gridcolor\": \"white\", \"gridwidth\": 2, \"linecolor\": \"white\", \"showbackground\": true, \"ticks\": \"\", \"zerolinecolor\": \"white\"}, \"zaxis\": {\"backgroundcolor\": \"#E5ECF6\", \"gridcolor\": \"white\", \"gridwidth\": 2, \"linecolor\": \"white\", \"showbackground\": true, \"ticks\": \"\", \"zerolinecolor\": \"white\"}}, \"shapedefaults\": {\"line\": {\"color\": \"#2a3f5f\"}}, \"ternary\": {\"aaxis\": {\"gridcolor\": \"white\", \"linecolor\": \"white\", \"ticks\": \"\"}, \"baxis\": {\"gridcolor\": \"white\", \"linecolor\": \"white\", \"ticks\": \"\"}, \"bgcolor\": \"#E5ECF6\", \"caxis\": {\"gridcolor\": \"white\", \"linecolor\": \"white\", \"ticks\": \"\"}}, \"title\": {\"x\": 0.05}, \"xaxis\": {\"automargin\": true, \"gridcolor\": \"white\", \"linecolor\": \"white\", \"ticks\": \"\", \"title\": {\"standoff\": 15}, \"zerolinecolor\": \"white\", \"zerolinewidth\": 2}, \"yaxis\": {\"automargin\": true, \"gridcolor\": \"white\", \"linecolor\": \"white\", \"ticks\": \"\", \"title\": {\"standoff\": 15}, \"zerolinecolor\": \"white\", \"zerolinewidth\": 2}}}, \"xaxis\": {\"anchor\": \"y\", \"domain\": [0.0, 1.0], \"title\": {\"text\": \"Specimen date\"}}, \"yaxis\": {\"anchor\": \"x\", \"domain\": [0.0, 1.0], \"title\": {\"text\": \"Daily lab-confirmed cases\"}}},\n",
       "                        {\"responsive\": true}\n",
       "                    ).then(function(){\n",
       "                            \n",
       "var gd = document.getElementById('edb19cb5-eb57-4279-99e2-8506e7917db3');\n",
       "var x = new MutationObserver(function (mutations, observer) {{\n",
       "        var display = window.getComputedStyle(gd).display;\n",
       "        if (!display || display === 'none') {{\n",
       "            console.log([gd, 'removed!']);\n",
       "            Plotly.purge(gd);\n",
       "            observer.disconnect();\n",
       "        }}\n",
       "}});\n",
       "\n",
       "// Listen for the removal of the full notebook cells\n",
       "var notebookContainer = gd.closest('#notebook-container');\n",
       "if (notebookContainer) {{\n",
       "    x.observe(notebookContainer, {childList: true});\n",
       "}}\n",
       "\n",
       "// Listen for the clearing of the current output cell\n",
       "var outputEl = gd.closest('.output');\n",
       "if (outputEl) {{\n",
       "    x.observe(outputEl, {childList: true});\n",
       "}}\n",
       "\n",
       "                        })\n",
       "                };\n",
       "                });\n",
       "            </script>\n",
       "        </div>"
      ]
     },
     "metadata": {},
     "output_type": "display_data"
    }
   ],
   "source": [
    "plot_line_graph()"
   ]
  },
  {
   "cell_type": "code",
   "execution_count": 28,
   "metadata": {},
   "outputs": [
    {
     "data": {
      "application/vnd.plotly.v1+json": {
       "config": {
        "plotlyServerURL": "https://plot.ly"
       },
       "data": [
        {
         "hovertemplate": "<b>%{hovertext}</b><br><br>Area name=Yorkshire and The Humber<br>Specimen date=%{x}<br>Cumulative lab-confirmed cases=%{y}<extra></extra>",
         "hovertext": [
          "Yorkshire and The Humber",
          "Yorkshire and The Humber",
          "Yorkshire and The Humber",
          "Yorkshire and The Humber",
          "Yorkshire and The Humber",
          "Yorkshire and The Humber",
          "Yorkshire and The Humber",
          "Yorkshire and The Humber",
          "Yorkshire and The Humber",
          "Yorkshire and The Humber",
          "Yorkshire and The Humber",
          "Yorkshire and The Humber",
          "Yorkshire and The Humber",
          "Yorkshire and The Humber",
          "Yorkshire and The Humber",
          "Yorkshire and The Humber",
          "Yorkshire and The Humber",
          "Yorkshire and The Humber",
          "Yorkshire and The Humber",
          "Yorkshire and The Humber",
          "Yorkshire and The Humber",
          "Yorkshire and The Humber",
          "Yorkshire and The Humber",
          "Yorkshire and The Humber",
          "Yorkshire and The Humber",
          "Yorkshire and The Humber",
          "Yorkshire and The Humber",
          "Yorkshire and The Humber",
          "Yorkshire and The Humber",
          "Yorkshire and The Humber",
          "Yorkshire and The Humber",
          "Yorkshire and The Humber",
          "Yorkshire and The Humber",
          "Yorkshire and The Humber",
          "Yorkshire and The Humber",
          "Yorkshire and The Humber",
          "Yorkshire and The Humber",
          "Yorkshire and The Humber",
          "Yorkshire and The Humber",
          "Yorkshire and The Humber",
          "Yorkshire and The Humber",
          "Yorkshire and The Humber",
          "Yorkshire and The Humber",
          "Yorkshire and The Humber",
          "Yorkshire and The Humber",
          "Yorkshire and The Humber",
          "Yorkshire and The Humber",
          "Yorkshire and The Humber",
          "Yorkshire and The Humber",
          "Yorkshire and The Humber",
          "Yorkshire and The Humber",
          "Yorkshire and The Humber",
          "Yorkshire and The Humber",
          "Yorkshire and The Humber",
          "Yorkshire and The Humber",
          "Yorkshire and The Humber",
          "Yorkshire and The Humber",
          "Yorkshire and The Humber",
          "Yorkshire and The Humber",
          "Yorkshire and The Humber",
          "Yorkshire and The Humber",
          "Yorkshire and The Humber",
          "Yorkshire and The Humber",
          "Yorkshire and The Humber",
          "Yorkshire and The Humber",
          "Yorkshire and The Humber",
          "Yorkshire and The Humber",
          "Yorkshire and The Humber",
          "Yorkshire and The Humber",
          "Yorkshire and The Humber",
          "Yorkshire and The Humber",
          "Yorkshire and The Humber",
          "Yorkshire and The Humber",
          "Yorkshire and The Humber",
          "Yorkshire and The Humber",
          "Yorkshire and The Humber",
          "Yorkshire and The Humber",
          "Yorkshire and The Humber",
          "Yorkshire and The Humber",
          "Yorkshire and The Humber",
          "Yorkshire and The Humber",
          "Yorkshire and The Humber",
          "Yorkshire and The Humber",
          "Yorkshire and The Humber",
          "Yorkshire and The Humber",
          "Yorkshire and The Humber",
          "Yorkshire and The Humber",
          "Yorkshire and The Humber",
          "Yorkshire and The Humber",
          "Yorkshire and The Humber",
          "Yorkshire and The Humber",
          "Yorkshire and The Humber",
          "Yorkshire and The Humber",
          "Yorkshire and The Humber",
          "Yorkshire and The Humber",
          "Yorkshire and The Humber",
          "Yorkshire and The Humber",
          "Yorkshire and The Humber",
          "Yorkshire and The Humber",
          "Yorkshire and The Humber",
          "Yorkshire and The Humber",
          "Yorkshire and The Humber",
          "Yorkshire and The Humber",
          "Yorkshire and The Humber",
          "Yorkshire and The Humber",
          "Yorkshire and The Humber"
         ],
         "legendgroup": "Yorkshire and The Humber",
         "line": {
          "color": "#636efa",
          "dash": "solid"
         },
         "mode": "lines+markers",
         "name": "Yorkshire and The Humber",
         "orientation": "v",
         "showlegend": true,
         "type": "scatter",
         "x": [
          "2020-01-30",
          "2020-02-03",
          "2020-02-28",
          "2020-02-29",
          "2020-03-01",
          "2020-03-02",
          "2020-03-03",
          "2020-03-04",
          "2020-03-05",
          "2020-03-06",
          "2020-03-07",
          "2020-03-08",
          "2020-03-09",
          "2020-03-10",
          "2020-03-11",
          "2020-03-12",
          "2020-03-13",
          "2020-03-14",
          "2020-03-15",
          "2020-03-16",
          "2020-03-17",
          "2020-03-18",
          "2020-03-19",
          "2020-03-20",
          "2020-03-21",
          "2020-03-22",
          "2020-03-23",
          "2020-03-24",
          "2020-03-25",
          "2020-03-26",
          "2020-03-27",
          "2020-03-28",
          "2020-03-29",
          "2020-03-30",
          "2020-03-31",
          "2020-04-01",
          "2020-04-02",
          "2020-04-03",
          "2020-04-04",
          "2020-04-05",
          "2020-04-06",
          "2020-04-07",
          "2020-04-08",
          "2020-04-09",
          "2020-04-10",
          "2020-04-11",
          "2020-04-12",
          "2020-04-13",
          "2020-04-14",
          "2020-04-15",
          "2020-04-16",
          "2020-04-17",
          "2020-04-18",
          "2020-04-19",
          "2020-04-20",
          "2020-04-21",
          "2020-04-22",
          "2020-04-23",
          "2020-04-24",
          "2020-04-25",
          "2020-04-26",
          "2020-04-27",
          "2020-04-28",
          "2020-04-29",
          "2020-04-30",
          "2020-05-01",
          "2020-05-02",
          "2020-05-03",
          "2020-05-04",
          "2020-05-05",
          "2020-05-06",
          "2020-05-07",
          "2020-05-08",
          "2020-05-09",
          "2020-05-10",
          "2020-05-11",
          "2020-05-12",
          "2020-05-13",
          "2020-05-14",
          "2020-05-15",
          "2020-05-16",
          "2020-05-17",
          "2020-05-18",
          "2020-05-19",
          "2020-05-20",
          "2020-05-21",
          "2020-05-22",
          "2020-05-23",
          "2020-05-24",
          "2020-05-25",
          "2020-05-26",
          "2020-05-27",
          "2020-05-28",
          "2020-05-29",
          "2020-05-30",
          "2020-05-31",
          "2020-06-01",
          "2020-06-02",
          "2020-06-03",
          "2020-06-04",
          "2020-06-05",
          "2020-06-06",
          "2020-06-07",
          "2020-06-08",
          "2020-06-09",
          "2020-06-10"
         ],
         "xaxis": "x",
         "y": [
          1,
          2,
          4,
          5,
          9,
          12,
          15,
          17,
          19,
          21,
          26,
          29,
          36,
          54,
          64,
          78,
          90,
          102,
          112,
          140,
          171,
          217,
          272,
          331,
          408,
          502,
          647,
          803,
          954,
          1133,
          1287,
          1494,
          1723,
          2008,
          2328,
          2626,
          2867,
          3160,
          3363,
          3582,
          3904,
          4242,
          4561,
          4860,
          5148,
          5389,
          5638,
          5948,
          6245,
          6631,
          6901,
          7195,
          7458,
          7674,
          7993,
          8287,
          8607,
          8883,
          9274,
          9509,
          9727,
          10042,
          10288,
          10627,
          10911,
          11160,
          11335,
          11496,
          11680,
          11893,
          12079,
          12242,
          12361,
          12476,
          12575,
          12736,
          12880,
          13015,
          13175,
          13310,
          13385,
          13488,
          13567,
          13672,
          13737,
          13833,
          13913,
          13990,
          14041,
          14112,
          14176,
          14237,
          14286,
          14333,
          14382,
          14429,
          14504,
          14559,
          14613,
          14636,
          14674,
          14710,
          14734,
          14755,
          14773,
          14778
         ],
         "yaxis": "y"
        },
        {
         "hovertemplate": "<b>%{hovertext}</b><br><br>Area name=South East<br>Specimen date=%{x}<br>Cumulative lab-confirmed cases=%{y}<extra></extra>",
         "hovertext": [
          "South East",
          "South East",
          "South East",
          "South East",
          "South East",
          "South East",
          "South East",
          "South East",
          "South East",
          "South East",
          "South East",
          "South East",
          "South East",
          "South East",
          "South East",
          "South East",
          "South East",
          "South East",
          "South East",
          "South East",
          "South East",
          "South East",
          "South East",
          "South East",
          "South East",
          "South East",
          "South East",
          "South East",
          "South East",
          "South East",
          "South East",
          "South East",
          "South East",
          "South East",
          "South East",
          "South East",
          "South East",
          "South East",
          "South East",
          "South East",
          "South East",
          "South East",
          "South East",
          "South East",
          "South East",
          "South East",
          "South East",
          "South East",
          "South East",
          "South East",
          "South East",
          "South East",
          "South East",
          "South East",
          "South East",
          "South East",
          "South East",
          "South East",
          "South East",
          "South East",
          "South East",
          "South East",
          "South East",
          "South East",
          "South East",
          "South East",
          "South East",
          "South East",
          "South East",
          "South East",
          "South East",
          "South East",
          "South East",
          "South East",
          "South East",
          "South East",
          "South East",
          "South East",
          "South East",
          "South East",
          "South East",
          "South East",
          "South East",
          "South East",
          "South East",
          "South East",
          "South East",
          "South East",
          "South East",
          "South East",
          "South East",
          "South East",
          "South East",
          "South East",
          "South East",
          "South East",
          "South East",
          "South East",
          "South East",
          "South East",
          "South East",
          "South East",
          "South East",
          "South East",
          "South East",
          "South East",
          "South East",
          "South East",
          "South East",
          "South East",
          "South East",
          "South East"
         ],
         "legendgroup": "South East",
         "line": {
          "color": "#EF553B",
          "dash": "solid"
         },
         "mode": "lines+markers",
         "name": "South East",
         "orientation": "v",
         "showlegend": true,
         "type": "scatter",
         "x": [
          "2020-01-31",
          "2020-02-03",
          "2020-02-05",
          "2020-02-08",
          "2020-02-09",
          "2020-02-23",
          "2020-02-24",
          "2020-02-25",
          "2020-02-27",
          "2020-02-28",
          "2020-03-01",
          "2020-03-02",
          "2020-03-03",
          "2020-03-04",
          "2020-03-05",
          "2020-03-06",
          "2020-03-07",
          "2020-03-08",
          "2020-03-09",
          "2020-03-10",
          "2020-03-11",
          "2020-03-12",
          "2020-03-13",
          "2020-03-14",
          "2020-03-15",
          "2020-03-16",
          "2020-03-17",
          "2020-03-18",
          "2020-03-19",
          "2020-03-20",
          "2020-03-21",
          "2020-03-22",
          "2020-03-23",
          "2020-03-24",
          "2020-03-25",
          "2020-03-26",
          "2020-03-27",
          "2020-03-28",
          "2020-03-29",
          "2020-03-30",
          "2020-03-31",
          "2020-04-01",
          "2020-04-02",
          "2020-04-03",
          "2020-04-04",
          "2020-04-05",
          "2020-04-06",
          "2020-04-07",
          "2020-04-08",
          "2020-04-09",
          "2020-04-10",
          "2020-04-11",
          "2020-04-12",
          "2020-04-13",
          "2020-04-14",
          "2020-04-15",
          "2020-04-16",
          "2020-04-17",
          "2020-04-18",
          "2020-04-19",
          "2020-04-20",
          "2020-04-21",
          "2020-04-22",
          "2020-04-23",
          "2020-04-24",
          "2020-04-25",
          "2020-04-26",
          "2020-04-27",
          "2020-04-28",
          "2020-04-29",
          "2020-04-30",
          "2020-05-01",
          "2020-05-02",
          "2020-05-03",
          "2020-05-04",
          "2020-05-05",
          "2020-05-06",
          "2020-05-07",
          "2020-05-08",
          "2020-05-09",
          "2020-05-10",
          "2020-05-11",
          "2020-05-12",
          "2020-05-13",
          "2020-05-14",
          "2020-05-15",
          "2020-05-16",
          "2020-05-17",
          "2020-05-18",
          "2020-05-19",
          "2020-05-20",
          "2020-05-21",
          "2020-05-22",
          "2020-05-23",
          "2020-05-24",
          "2020-05-25",
          "2020-05-26",
          "2020-05-27",
          "2020-05-28",
          "2020-05-29",
          "2020-05-30",
          "2020-05-31",
          "2020-06-01",
          "2020-06-02",
          "2020-06-03",
          "2020-06-04",
          "2020-06-05",
          "2020-06-06",
          "2020-06-07",
          "2020-06-08",
          "2020-06-09",
          "2020-06-10"
         ],
         "xaxis": "x",
         "y": [
          1,
          2,
          3,
          6,
          7,
          8,
          9,
          10,
          13,
          14,
          17,
          18,
          27,
          34,
          38,
          54,
          58,
          68,
          92,
          126,
          172,
          250,
          302,
          343,
          396,
          474,
          563,
          685,
          812,
          938,
          1066,
          1236,
          1516,
          1751,
          2056,
          2376,
          2707,
          3044,
          3339,
          3814,
          4282,
          4827,
          5306,
          5820,
          6276,
          6699,
          7290,
          8005,
          8559,
          9075,
          9643,
          10021,
          10464,
          11011,
          11518,
          12157,
          12769,
          13397,
          13793,
          14094,
          14548,
          15016,
          15455,
          15836,
          16234,
          16503,
          16715,
          16974,
          17316,
          17614,
          17911,
          18156,
          18332,
          18463,
          18672,
          18905,
          19087,
          19239,
          19361,
          19476,
          19594,
          19769,
          19930,
          20103,
          20231,
          20349,
          20419,
          20496,
          20651,
          20853,
          20982,
          21101,
          21208,
          21247,
          21307,
          21402,
          21488,
          21549,
          21599,
          21643,
          21690,
          21736,
          21793,
          21874,
          21953,
          22007,
          22065,
          22096,
          22120,
          22158,
          22176,
          22179
         ],
         "yaxis": "y"
        },
        {
         "hovertemplate": "<b>%{hovertext}</b><br><br>Area name=East of England<br>Specimen date=%{x}<br>Cumulative lab-confirmed cases=%{y}<extra></extra>",
         "hovertext": [
          "East of England",
          "East of England",
          "East of England",
          "East of England",
          "East of England",
          "East of England",
          "East of England",
          "East of England",
          "East of England",
          "East of England",
          "East of England",
          "East of England",
          "East of England",
          "East of England",
          "East of England",
          "East of England",
          "East of England",
          "East of England",
          "East of England",
          "East of England",
          "East of England",
          "East of England",
          "East of England",
          "East of England",
          "East of England",
          "East of England",
          "East of England",
          "East of England",
          "East of England",
          "East of England",
          "East of England",
          "East of England",
          "East of England",
          "East of England",
          "East of England",
          "East of England",
          "East of England",
          "East of England",
          "East of England",
          "East of England",
          "East of England",
          "East of England",
          "East of England",
          "East of England",
          "East of England",
          "East of England",
          "East of England",
          "East of England",
          "East of England",
          "East of England",
          "East of England",
          "East of England",
          "East of England",
          "East of England",
          "East of England",
          "East of England",
          "East of England",
          "East of England",
          "East of England",
          "East of England",
          "East of England",
          "East of England",
          "East of England",
          "East of England",
          "East of England",
          "East of England",
          "East of England",
          "East of England",
          "East of England",
          "East of England",
          "East of England",
          "East of England",
          "East of England",
          "East of England",
          "East of England",
          "East of England",
          "East of England",
          "East of England",
          "East of England",
          "East of England",
          "East of England",
          "East of England",
          "East of England",
          "East of England",
          "East of England",
          "East of England",
          "East of England",
          "East of England",
          "East of England",
          "East of England",
          "East of England",
          "East of England",
          "East of England",
          "East of England",
          "East of England",
          "East of England",
          "East of England",
          "East of England",
          "East of England",
          "East of England",
          "East of England",
          "East of England",
          "East of England"
         ],
         "legendgroup": "East of England",
         "line": {
          "color": "#00cc96",
          "dash": "solid"
         },
         "mode": "lines+markers",
         "name": "East of England",
         "orientation": "v",
         "showlegend": true,
         "type": "scatter",
         "x": [
          "2020-02-03",
          "2020-02-28",
          "2020-03-01",
          "2020-03-03",
          "2020-03-04",
          "2020-03-05",
          "2020-03-06",
          "2020-03-07",
          "2020-03-08",
          "2020-03-09",
          "2020-03-10",
          "2020-03-11",
          "2020-03-12",
          "2020-03-13",
          "2020-03-14",
          "2020-03-15",
          "2020-03-16",
          "2020-03-17",
          "2020-03-18",
          "2020-03-19",
          "2020-03-20",
          "2020-03-21",
          "2020-03-22",
          "2020-03-23",
          "2020-03-24",
          "2020-03-25",
          "2020-03-26",
          "2020-03-27",
          "2020-03-28",
          "2020-03-29",
          "2020-03-30",
          "2020-03-31",
          "2020-04-01",
          "2020-04-02",
          "2020-04-03",
          "2020-04-04",
          "2020-04-05",
          "2020-04-06",
          "2020-04-07",
          "2020-04-08",
          "2020-04-09",
          "2020-04-10",
          "2020-04-11",
          "2020-04-12",
          "2020-04-13",
          "2020-04-14",
          "2020-04-15",
          "2020-04-16",
          "2020-04-17",
          "2020-04-18",
          "2020-04-19",
          "2020-04-20",
          "2020-04-21",
          "2020-04-22",
          "2020-04-23",
          "2020-04-24",
          "2020-04-25",
          "2020-04-26",
          "2020-04-27",
          "2020-04-28",
          "2020-04-29",
          "2020-04-30",
          "2020-05-01",
          "2020-05-02",
          "2020-05-03",
          "2020-05-04",
          "2020-05-05",
          "2020-05-06",
          "2020-05-07",
          "2020-05-08",
          "2020-05-09",
          "2020-05-10",
          "2020-05-11",
          "2020-05-12",
          "2020-05-13",
          "2020-05-14",
          "2020-05-15",
          "2020-05-16",
          "2020-05-17",
          "2020-05-18",
          "2020-05-19",
          "2020-05-20",
          "2020-05-21",
          "2020-05-22",
          "2020-05-23",
          "2020-05-24",
          "2020-05-25",
          "2020-05-26",
          "2020-05-27",
          "2020-05-28",
          "2020-05-29",
          "2020-05-30",
          "2020-05-31",
          "2020-06-01",
          "2020-06-02",
          "2020-06-03",
          "2020-06-04",
          "2020-06-05",
          "2020-06-06",
          "2020-06-07",
          "2020-06-08",
          "2020-06-09",
          "2020-06-10"
         ],
         "xaxis": "x",
         "y": [
          1,
          2,
          5,
          12,
          19,
          20,
          25,
          28,
          30,
          34,
          50,
          64,
          82,
          119,
          135,
          170,
          193,
          231,
          305,
          361,
          430,
          507,
          598,
          795,
          960,
          1148,
          1363,
          1607,
          1790,
          1999,
          2299,
          2621,
          2953,
          3318,
          3664,
          3927,
          4208,
          4591,
          4969,
          5366,
          5684,
          5998,
          6258,
          6500,
          6787,
          7070,
          7336,
          7628,
          7912,
          8160,
          8339,
          8627,
          8923,
          9221,
          9513,
          9798,
          10023,
          10179,
          10446,
          10681,
          10918,
          11134,
          11399,
          11534,
          11658,
          11898,
          12063,
          12221,
          12418,
          12507,
          12591,
          12660,
          12828,
          12956,
          13081,
          13147,
          13246,
          13299,
          13368,
          13500,
          13632,
          13723,
          13830,
          13922,
          13983,
          14026,
          14106,
          14159,
          14218,
          14262,
          14313,
          14346,
          14377,
          14424,
          14478,
          14520,
          14554,
          14582,
          14600,
          14616,
          14627,
          14634,
          14634
         ],
         "yaxis": "y"
        },
        {
         "hovertemplate": "<b>%{hovertext}</b><br><br>Area name=South West<br>Specimen date=%{x}<br>Cumulative lab-confirmed cases=%{y}<extra></extra>",
         "hovertext": [
          "South West",
          "South West",
          "South West",
          "South West",
          "South West",
          "South West",
          "South West",
          "South West",
          "South West",
          "South West",
          "South West",
          "South West",
          "South West",
          "South West",
          "South West",
          "South West",
          "South West",
          "South West",
          "South West",
          "South West",
          "South West",
          "South West",
          "South West",
          "South West",
          "South West",
          "South West",
          "South West",
          "South West",
          "South West",
          "South West",
          "South West",
          "South West",
          "South West",
          "South West",
          "South West",
          "South West",
          "South West",
          "South West",
          "South West",
          "South West",
          "South West",
          "South West",
          "South West",
          "South West",
          "South West",
          "South West",
          "South West",
          "South West",
          "South West",
          "South West",
          "South West",
          "South West",
          "South West",
          "South West",
          "South West",
          "South West",
          "South West",
          "South West",
          "South West",
          "South West",
          "South West",
          "South West",
          "South West",
          "South West",
          "South West",
          "South West",
          "South West",
          "South West",
          "South West",
          "South West",
          "South West",
          "South West",
          "South West",
          "South West",
          "South West",
          "South West",
          "South West",
          "South West",
          "South West",
          "South West",
          "South West",
          "South West",
          "South West",
          "South West",
          "South West",
          "South West",
          "South West",
          "South West",
          "South West",
          "South West",
          "South West",
          "South West",
          "South West",
          "South West",
          "South West",
          "South West",
          "South West",
          "South West",
          "South West",
          "South West",
          "South West",
          "South West",
          "South West",
          "South West"
         ],
         "legendgroup": "South West",
         "line": {
          "color": "#ab63fa",
          "dash": "solid"
         },
         "mode": "lines+markers",
         "name": "South West",
         "orientation": "v",
         "showlegend": true,
         "type": "scatter",
         "x": [
          "2020-02-03",
          "2020-02-26",
          "2020-03-01",
          "2020-03-02",
          "2020-03-03",
          "2020-03-04",
          "2020-03-05",
          "2020-03-06",
          "2020-03-07",
          "2020-03-08",
          "2020-03-09",
          "2020-03-10",
          "2020-03-11",
          "2020-03-12",
          "2020-03-13",
          "2020-03-14",
          "2020-03-15",
          "2020-03-16",
          "2020-03-17",
          "2020-03-18",
          "2020-03-19",
          "2020-03-20",
          "2020-03-21",
          "2020-03-22",
          "2020-03-23",
          "2020-03-24",
          "2020-03-25",
          "2020-03-26",
          "2020-03-27",
          "2020-03-28",
          "2020-03-29",
          "2020-03-30",
          "2020-03-31",
          "2020-04-01",
          "2020-04-02",
          "2020-04-03",
          "2020-04-04",
          "2020-04-05",
          "2020-04-06",
          "2020-04-07",
          "2020-04-08",
          "2020-04-09",
          "2020-04-10",
          "2020-04-11",
          "2020-04-12",
          "2020-04-13",
          "2020-04-14",
          "2020-04-15",
          "2020-04-16",
          "2020-04-17",
          "2020-04-18",
          "2020-04-19",
          "2020-04-20",
          "2020-04-21",
          "2020-04-22",
          "2020-04-23",
          "2020-04-24",
          "2020-04-25",
          "2020-04-26",
          "2020-04-27",
          "2020-04-28",
          "2020-04-29",
          "2020-04-30",
          "2020-05-01",
          "2020-05-02",
          "2020-05-03",
          "2020-05-04",
          "2020-05-05",
          "2020-05-06",
          "2020-05-07",
          "2020-05-08",
          "2020-05-09",
          "2020-05-10",
          "2020-05-11",
          "2020-05-12",
          "2020-05-13",
          "2020-05-14",
          "2020-05-15",
          "2020-05-16",
          "2020-05-17",
          "2020-05-18",
          "2020-05-19",
          "2020-05-20",
          "2020-05-21",
          "2020-05-22",
          "2020-05-23",
          "2020-05-24",
          "2020-05-25",
          "2020-05-26",
          "2020-05-27",
          "2020-05-28",
          "2020-05-29",
          "2020-05-30",
          "2020-05-31",
          "2020-06-01",
          "2020-06-02",
          "2020-06-03",
          "2020-06-04",
          "2020-06-05",
          "2020-06-06",
          "2020-06-07",
          "2020-06-08",
          "2020-06-09",
          "2020-06-10"
         ],
         "xaxis": "x",
         "y": [
          2,
          3,
          5,
          13,
          23,
          29,
          33,
          44,
          46,
          49,
          54,
          64,
          83,
          107,
          138,
          150,
          167,
          185,
          206,
          249,
          270,
          313,
          355,
          399,
          461,
          529,
          633,
          750,
          879,
          981,
          1081,
          1244,
          1384,
          1567,
          1750,
          1936,
          2110,
          2263,
          2447,
          2660,
          2895,
          3141,
          3375,
          3548,
          3726,
          3918,
          4103,
          4313,
          4551,
          4766,
          4911,
          5065,
          5238,
          5412,
          5564,
          5740,
          5862,
          5951,
          6009,
          6135,
          6248,
          6378,
          6459,
          6572,
          6638,
          6712,
          6787,
          6854,
          6920,
          6983,
          7024,
          7068,
          7113,
          7170,
          7195,
          7229,
          7264,
          7291,
          7319,
          7344,
          7385,
          7418,
          7470,
          7492,
          7518,
          7536,
          7548,
          7569,
          7592,
          7623,
          7659,
          7683,
          7701,
          7727,
          7750,
          7771,
          7800,
          7817,
          7833,
          7841,
          7851,
          7855,
          7858,
          7858
         ],
         "yaxis": "y"
        },
        {
         "hovertemplate": "<b>%{hovertext}</b><br><br>Area name=London<br>Specimen date=%{x}<br>Cumulative lab-confirmed cases=%{y}<extra></extra>",
         "hovertext": [
          "London",
          "London",
          "London",
          "London",
          "London",
          "London",
          "London",
          "London",
          "London",
          "London",
          "London",
          "London",
          "London",
          "London",
          "London",
          "London",
          "London",
          "London",
          "London",
          "London",
          "London",
          "London",
          "London",
          "London",
          "London",
          "London",
          "London",
          "London",
          "London",
          "London",
          "London",
          "London",
          "London",
          "London",
          "London",
          "London",
          "London",
          "London",
          "London",
          "London",
          "London",
          "London",
          "London",
          "London",
          "London",
          "London",
          "London",
          "London",
          "London",
          "London",
          "London",
          "London",
          "London",
          "London",
          "London",
          "London",
          "London",
          "London",
          "London",
          "London",
          "London",
          "London",
          "London",
          "London",
          "London",
          "London",
          "London",
          "London",
          "London",
          "London",
          "London",
          "London",
          "London",
          "London",
          "London",
          "London",
          "London",
          "London",
          "London",
          "London",
          "London",
          "London",
          "London",
          "London",
          "London",
          "London",
          "London",
          "London",
          "London",
          "London",
          "London",
          "London",
          "London",
          "London",
          "London",
          "London",
          "London",
          "London",
          "London",
          "London",
          "London",
          "London",
          "London",
          "London",
          "London",
          "London",
          "London",
          "London",
          "London",
          "London",
          "London"
         ],
         "legendgroup": "London",
         "line": {
          "color": "#FFA15A",
          "dash": "solid"
         },
         "mode": "lines+markers",
         "name": "London",
         "orientation": "v",
         "showlegend": true,
         "type": "scatter",
         "x": [
          "2020-02-11",
          "2020-02-13",
          "2020-02-17",
          "2020-02-19",
          "2020-02-23",
          "2020-02-25",
          "2020-02-27",
          "2020-02-28",
          "2020-02-29",
          "2020-03-01",
          "2020-03-02",
          "2020-03-03",
          "2020-03-04",
          "2020-03-05",
          "2020-03-06",
          "2020-03-07",
          "2020-03-08",
          "2020-03-09",
          "2020-03-10",
          "2020-03-11",
          "2020-03-12",
          "2020-03-13",
          "2020-03-14",
          "2020-03-15",
          "2020-03-16",
          "2020-03-17",
          "2020-03-18",
          "2020-03-19",
          "2020-03-20",
          "2020-03-21",
          "2020-03-22",
          "2020-03-23",
          "2020-03-24",
          "2020-03-25",
          "2020-03-26",
          "2020-03-27",
          "2020-03-28",
          "2020-03-29",
          "2020-03-30",
          "2020-03-31",
          "2020-04-01",
          "2020-04-02",
          "2020-04-03",
          "2020-04-04",
          "2020-04-05",
          "2020-04-06",
          "2020-04-07",
          "2020-04-08",
          "2020-04-09",
          "2020-04-10",
          "2020-04-11",
          "2020-04-12",
          "2020-04-13",
          "2020-04-14",
          "2020-04-15",
          "2020-04-16",
          "2020-04-17",
          "2020-04-18",
          "2020-04-19",
          "2020-04-20",
          "2020-04-21",
          "2020-04-22",
          "2020-04-23",
          "2020-04-24",
          "2020-04-25",
          "2020-04-26",
          "2020-04-27",
          "2020-04-28",
          "2020-04-29",
          "2020-04-30",
          "2020-05-01",
          "2020-05-02",
          "2020-05-03",
          "2020-05-04",
          "2020-05-05",
          "2020-05-06",
          "2020-05-07",
          "2020-05-08",
          "2020-05-09",
          "2020-05-10",
          "2020-05-11",
          "2020-05-12",
          "2020-05-13",
          "2020-05-14",
          "2020-05-15",
          "2020-05-16",
          "2020-05-17",
          "2020-05-18",
          "2020-05-19",
          "2020-05-20",
          "2020-05-21",
          "2020-05-22",
          "2020-05-23",
          "2020-05-24",
          "2020-05-25",
          "2020-05-26",
          "2020-05-27",
          "2020-05-28",
          "2020-05-29",
          "2020-05-30",
          "2020-05-31",
          "2020-06-01",
          "2020-06-02",
          "2020-06-03",
          "2020-06-04",
          "2020-06-05",
          "2020-06-06",
          "2020-06-07",
          "2020-06-08",
          "2020-06-09",
          "2020-06-10"
         ],
         "xaxis": "x",
         "y": [
          1,
          2,
          3,
          4,
          6,
          8,
          9,
          14,
          15,
          23,
          35,
          41,
          59,
          73,
          96,
          110,
          132,
          185,
          276,
          459,
          624,
          760,
          909,
          1074,
          1308,
          1618,
          1974,
          2307,
          2733,
          3083,
          3520,
          4207,
          4843,
          5599,
          6360,
          7180,
          7757,
          8351,
          9195,
          10110,
          11072,
          12095,
          13029,
          13746,
          14350,
          15187,
          16090,
          16921,
          17692,
          18265,
          18756,
          19170,
          19736,
          20292,
          20846,
          21336,
          21761,
          22067,
          22313,
          22690,
          23031,
          23307,
          23625,
          23871,
          24031,
          24121,
          24310,
          24490,
          24740,
          24995,
          25191,
          25318,
          25382,
          25534,
          25669,
          25813,
          25956,
          26050,
          26110,
          26145,
          26213,
          26289,
          26374,
          26460,
          26518,
          26541,
          26574,
          26630,
          26680,
          26738,
          26787,
          26827,
          26837,
          26855,
          26875,
          26903,
          26940,
          26975,
          27007,
          27024,
          27040,
          27062,
          27083,
          27127,
          27146,
          27168,
          27182,
          27198,
          27225,
          27240,
          27240
         ],
         "yaxis": "y"
        },
        {
         "hovertemplate": "<b>%{hovertext}</b><br><br>Area name=West Midlands<br>Specimen date=%{x}<br>Cumulative lab-confirmed cases=%{y}<extra></extra>",
         "hovertext": [
          "West Midlands",
          "West Midlands",
          "West Midlands",
          "West Midlands",
          "West Midlands",
          "West Midlands",
          "West Midlands",
          "West Midlands",
          "West Midlands",
          "West Midlands",
          "West Midlands",
          "West Midlands",
          "West Midlands",
          "West Midlands",
          "West Midlands",
          "West Midlands",
          "West Midlands",
          "West Midlands",
          "West Midlands",
          "West Midlands",
          "West Midlands",
          "West Midlands",
          "West Midlands",
          "West Midlands",
          "West Midlands",
          "West Midlands",
          "West Midlands",
          "West Midlands",
          "West Midlands",
          "West Midlands",
          "West Midlands",
          "West Midlands",
          "West Midlands",
          "West Midlands",
          "West Midlands",
          "West Midlands",
          "West Midlands",
          "West Midlands",
          "West Midlands",
          "West Midlands",
          "West Midlands",
          "West Midlands",
          "West Midlands",
          "West Midlands",
          "West Midlands",
          "West Midlands",
          "West Midlands",
          "West Midlands",
          "West Midlands",
          "West Midlands",
          "West Midlands",
          "West Midlands",
          "West Midlands",
          "West Midlands",
          "West Midlands",
          "West Midlands",
          "West Midlands",
          "West Midlands",
          "West Midlands",
          "West Midlands",
          "West Midlands",
          "West Midlands",
          "West Midlands",
          "West Midlands",
          "West Midlands",
          "West Midlands",
          "West Midlands",
          "West Midlands",
          "West Midlands",
          "West Midlands",
          "West Midlands",
          "West Midlands",
          "West Midlands",
          "West Midlands",
          "West Midlands",
          "West Midlands",
          "West Midlands",
          "West Midlands",
          "West Midlands",
          "West Midlands",
          "West Midlands",
          "West Midlands",
          "West Midlands",
          "West Midlands",
          "West Midlands",
          "West Midlands",
          "West Midlands",
          "West Midlands",
          "West Midlands",
          "West Midlands",
          "West Midlands",
          "West Midlands",
          "West Midlands",
          "West Midlands",
          "West Midlands",
          "West Midlands",
          "West Midlands",
          "West Midlands",
          "West Midlands",
          "West Midlands",
          "West Midlands",
          "West Midlands",
          "West Midlands",
          "West Midlands"
         ],
         "legendgroup": "West Midlands",
         "line": {
          "color": "#19d3f3",
          "dash": "solid"
         },
         "mode": "lines+markers",
         "name": "West Midlands",
         "orientation": "v",
         "showlegend": true,
         "type": "scatter",
         "x": [
          "2020-02-12",
          "2020-02-23",
          "2020-03-01",
          "2020-03-02",
          "2020-03-03",
          "2020-03-04",
          "2020-03-05",
          "2020-03-06",
          "2020-03-07",
          "2020-03-08",
          "2020-03-09",
          "2020-03-10",
          "2020-03-11",
          "2020-03-12",
          "2020-03-13",
          "2020-03-14",
          "2020-03-15",
          "2020-03-16",
          "2020-03-17",
          "2020-03-18",
          "2020-03-19",
          "2020-03-20",
          "2020-03-21",
          "2020-03-22",
          "2020-03-23",
          "2020-03-24",
          "2020-03-25",
          "2020-03-26",
          "2020-03-27",
          "2020-03-28",
          "2020-03-29",
          "2020-03-30",
          "2020-03-31",
          "2020-04-01",
          "2020-04-02",
          "2020-04-03",
          "2020-04-04",
          "2020-04-05",
          "2020-04-06",
          "2020-04-07",
          "2020-04-08",
          "2020-04-09",
          "2020-04-10",
          "2020-04-11",
          "2020-04-12",
          "2020-04-13",
          "2020-04-14",
          "2020-04-15",
          "2020-04-16",
          "2020-04-17",
          "2020-04-18",
          "2020-04-19",
          "2020-04-20",
          "2020-04-21",
          "2020-04-22",
          "2020-04-23",
          "2020-04-24",
          "2020-04-25",
          "2020-04-26",
          "2020-04-27",
          "2020-04-28",
          "2020-04-29",
          "2020-04-30",
          "2020-05-01",
          "2020-05-02",
          "2020-05-03",
          "2020-05-04",
          "2020-05-05",
          "2020-05-06",
          "2020-05-07",
          "2020-05-08",
          "2020-05-09",
          "2020-05-10",
          "2020-05-11",
          "2020-05-12",
          "2020-05-13",
          "2020-05-14",
          "2020-05-15",
          "2020-05-16",
          "2020-05-17",
          "2020-05-18",
          "2020-05-19",
          "2020-05-20",
          "2020-05-21",
          "2020-05-22",
          "2020-05-23",
          "2020-05-24",
          "2020-05-25",
          "2020-05-26",
          "2020-05-27",
          "2020-05-28",
          "2020-05-29",
          "2020-05-30",
          "2020-05-31",
          "2020-06-01",
          "2020-06-02",
          "2020-06-03",
          "2020-06-04",
          "2020-06-05",
          "2020-06-06",
          "2020-06-07",
          "2020-06-08",
          "2020-06-09",
          "2020-06-10"
         ],
         "xaxis": "x",
         "y": [
          1,
          2,
          4,
          8,
          9,
          12,
          18,
          20,
          25,
          29,
          37,
          54,
          83,
          128,
          168,
          199,
          243,
          299,
          368,
          467,
          590,
          741,
          866,
          977,
          1216,
          1466,
          1706,
          2019,
          2298,
          2621,
          2985,
          3415,
          3828,
          4239,
          4686,
          5059,
          5392,
          5660,
          5991,
          6362,
          6715,
          7056,
          7409,
          7648,
          7884,
          8157,
          8473,
          8816,
          9180,
          9556,
          9874,
          10103,
          10447,
          10791,
          11108,
          11430,
          11771,
          11999,
          12186,
          12433,
          12699,
          12934,
          13137,
          13353,
          13536,
          13646,
          13795,
          14011,
          14165,
          14323,
          14501,
          14599,
          14675,
          14802,
          14929,
          15021,
          15113,
          15232,
          15312,
          15371,
          15455,
          15567,
          15648,
          15723,
          15807,
          15864,
          15906,
          15940,
          16002,
          16080,
          16139,
          16189,
          16230,
          16260,
          16310,
          16371,
          16411,
          16460,
          16493,
          16523,
          16541,
          16580,
          16602,
          16606
         ],
         "yaxis": "y"
        },
        {
         "hovertemplate": "<b>%{hovertext}</b><br><br>Area name=East Midlands<br>Specimen date=%{x}<br>Cumulative lab-confirmed cases=%{y}<extra></extra>",
         "hovertext": [
          "East Midlands",
          "East Midlands",
          "East Midlands",
          "East Midlands",
          "East Midlands",
          "East Midlands",
          "East Midlands",
          "East Midlands",
          "East Midlands",
          "East Midlands",
          "East Midlands",
          "East Midlands",
          "East Midlands",
          "East Midlands",
          "East Midlands",
          "East Midlands",
          "East Midlands",
          "East Midlands",
          "East Midlands",
          "East Midlands",
          "East Midlands",
          "East Midlands",
          "East Midlands",
          "East Midlands",
          "East Midlands",
          "East Midlands",
          "East Midlands",
          "East Midlands",
          "East Midlands",
          "East Midlands",
          "East Midlands",
          "East Midlands",
          "East Midlands",
          "East Midlands",
          "East Midlands",
          "East Midlands",
          "East Midlands",
          "East Midlands",
          "East Midlands",
          "East Midlands",
          "East Midlands",
          "East Midlands",
          "East Midlands",
          "East Midlands",
          "East Midlands",
          "East Midlands",
          "East Midlands",
          "East Midlands",
          "East Midlands",
          "East Midlands",
          "East Midlands",
          "East Midlands",
          "East Midlands",
          "East Midlands",
          "East Midlands",
          "East Midlands",
          "East Midlands",
          "East Midlands",
          "East Midlands",
          "East Midlands",
          "East Midlands",
          "East Midlands",
          "East Midlands",
          "East Midlands",
          "East Midlands",
          "East Midlands",
          "East Midlands",
          "East Midlands",
          "East Midlands",
          "East Midlands",
          "East Midlands",
          "East Midlands",
          "East Midlands",
          "East Midlands",
          "East Midlands",
          "East Midlands",
          "East Midlands",
          "East Midlands",
          "East Midlands",
          "East Midlands",
          "East Midlands",
          "East Midlands",
          "East Midlands",
          "East Midlands",
          "East Midlands",
          "East Midlands",
          "East Midlands",
          "East Midlands",
          "East Midlands",
          "East Midlands",
          "East Midlands",
          "East Midlands",
          "East Midlands",
          "East Midlands",
          "East Midlands",
          "East Midlands",
          "East Midlands",
          "East Midlands",
          "East Midlands",
          "East Midlands",
          "East Midlands",
          "East Midlands",
          "East Midlands",
          "East Midlands",
          "East Midlands",
          "East Midlands",
          "East Midlands"
         ],
         "legendgroup": "East Midlands",
         "line": {
          "color": "#FF6692",
          "dash": "solid"
         },
         "mode": "lines+markers",
         "name": "East Midlands",
         "orientation": "v",
         "showlegend": true,
         "type": "scatter",
         "x": [
          "2020-02-21",
          "2020-02-25",
          "2020-02-27",
          "2020-02-28",
          "2020-02-29",
          "2020-03-01",
          "2020-03-02",
          "2020-03-03",
          "2020-03-04",
          "2020-03-05",
          "2020-03-06",
          "2020-03-07",
          "2020-03-08",
          "2020-03-09",
          "2020-03-10",
          "2020-03-11",
          "2020-03-12",
          "2020-03-13",
          "2020-03-14",
          "2020-03-15",
          "2020-03-16",
          "2020-03-17",
          "2020-03-18",
          "2020-03-19",
          "2020-03-20",
          "2020-03-21",
          "2020-03-22",
          "2020-03-23",
          "2020-03-24",
          "2020-03-25",
          "2020-03-26",
          "2020-03-27",
          "2020-03-28",
          "2020-03-29",
          "2020-03-30",
          "2020-03-31",
          "2020-04-01",
          "2020-04-02",
          "2020-04-03",
          "2020-04-04",
          "2020-04-05",
          "2020-04-06",
          "2020-04-07",
          "2020-04-08",
          "2020-04-09",
          "2020-04-10",
          "2020-04-11",
          "2020-04-12",
          "2020-04-13",
          "2020-04-14",
          "2020-04-15",
          "2020-04-16",
          "2020-04-17",
          "2020-04-18",
          "2020-04-19",
          "2020-04-20",
          "2020-04-21",
          "2020-04-22",
          "2020-04-23",
          "2020-04-24",
          "2020-04-25",
          "2020-04-26",
          "2020-04-27",
          "2020-04-28",
          "2020-04-29",
          "2020-04-30",
          "2020-05-01",
          "2020-05-02",
          "2020-05-03",
          "2020-05-04",
          "2020-05-05",
          "2020-05-06",
          "2020-05-07",
          "2020-05-08",
          "2020-05-09",
          "2020-05-10",
          "2020-05-11",
          "2020-05-12",
          "2020-05-13",
          "2020-05-14",
          "2020-05-15",
          "2020-05-16",
          "2020-05-17",
          "2020-05-18",
          "2020-05-19",
          "2020-05-20",
          "2020-05-21",
          "2020-05-22",
          "2020-05-23",
          "2020-05-24",
          "2020-05-25",
          "2020-05-26",
          "2020-05-27",
          "2020-05-28",
          "2020-05-29",
          "2020-05-30",
          "2020-05-31",
          "2020-06-01",
          "2020-06-02",
          "2020-06-03",
          "2020-06-04",
          "2020-06-05",
          "2020-06-06",
          "2020-06-07",
          "2020-06-08",
          "2020-06-09",
          "2020-06-10"
         ],
         "xaxis": "x",
         "y": [
          1,
          2,
          3,
          4,
          5,
          6,
          8,
          15,
          17,
          20,
          27,
          31,
          32,
          42,
          54,
          79,
          97,
          119,
          138,
          164,
          198,
          231,
          280,
          346,
          399,
          468,
          567,
          684,
          820,
          936,
          1090,
          1226,
          1385,
          1514,
          1721,
          1997,
          2293,
          2506,
          2765,
          2954,
          3102,
          3316,
          3519,
          3707,
          3939,
          4112,
          4280,
          4427,
          4563,
          4754,
          4928,
          5129,
          5321,
          5417,
          5570,
          5743,
          5889,
          6030,
          6172,
          6334,
          6445,
          6563,
          6730,
          6870,
          7004,
          7091,
          7184,
          7241,
          7275,
          7378,
          7456,
          7556,
          7699,
          7772,
          7848,
          7918,
          8021,
          8116,
          8224,
          8288,
          8374,
          8444,
          8513,
          8608,
          8672,
          8734,
          8803,
          8872,
          8921,
          8947,
          8987,
          9033,
          9086,
          9124,
          9167,
          9208,
          9239,
          9281,
          9327,
          9355,
          9374,
          9403,
          9416,
          9432,
          9455,
          9472,
          9477
         ],
         "yaxis": "y"
        },
        {
         "hovertemplate": "<b>%{hovertext}</b><br><br>Area name=North West<br>Specimen date=%{x}<br>Cumulative lab-confirmed cases=%{y}<extra></extra>",
         "hovertext": [
          "North West",
          "North West",
          "North West",
          "North West",
          "North West",
          "North West",
          "North West",
          "North West",
          "North West",
          "North West",
          "North West",
          "North West",
          "North West",
          "North West",
          "North West",
          "North West",
          "North West",
          "North West",
          "North West",
          "North West",
          "North West",
          "North West",
          "North West",
          "North West",
          "North West",
          "North West",
          "North West",
          "North West",
          "North West",
          "North West",
          "North West",
          "North West",
          "North West",
          "North West",
          "North West",
          "North West",
          "North West",
          "North West",
          "North West",
          "North West",
          "North West",
          "North West",
          "North West",
          "North West",
          "North West",
          "North West",
          "North West",
          "North West",
          "North West",
          "North West",
          "North West",
          "North West",
          "North West",
          "North West",
          "North West",
          "North West",
          "North West",
          "North West",
          "North West",
          "North West",
          "North West",
          "North West",
          "North West",
          "North West",
          "North West",
          "North West",
          "North West",
          "North West",
          "North West",
          "North West",
          "North West",
          "North West",
          "North West",
          "North West",
          "North West",
          "North West",
          "North West",
          "North West",
          "North West",
          "North West",
          "North West",
          "North West",
          "North West",
          "North West",
          "North West",
          "North West",
          "North West",
          "North West",
          "North West",
          "North West",
          "North West",
          "North West",
          "North West",
          "North West",
          "North West",
          "North West",
          "North West",
          "North West",
          "North West",
          "North West",
          "North West",
          "North West",
          "North West"
         ],
         "legendgroup": "North West",
         "line": {
          "color": "#B6E880",
          "dash": "solid"
         },
         "mode": "lines+markers",
         "name": "North West",
         "orientation": "v",
         "showlegend": true,
         "type": "scatter",
         "x": [
          "2020-02-28",
          "2020-03-01",
          "2020-03-02",
          "2020-03-03",
          "2020-03-04",
          "2020-03-05",
          "2020-03-06",
          "2020-03-07",
          "2020-03-08",
          "2020-03-09",
          "2020-03-10",
          "2020-03-11",
          "2020-03-12",
          "2020-03-13",
          "2020-03-14",
          "2020-03-15",
          "2020-03-16",
          "2020-03-17",
          "2020-03-18",
          "2020-03-19",
          "2020-03-20",
          "2020-03-21",
          "2020-03-22",
          "2020-03-23",
          "2020-03-24",
          "2020-03-25",
          "2020-03-26",
          "2020-03-27",
          "2020-03-28",
          "2020-03-29",
          "2020-03-30",
          "2020-03-31",
          "2020-04-01",
          "2020-04-02",
          "2020-04-03",
          "2020-04-04",
          "2020-04-05",
          "2020-04-06",
          "2020-04-07",
          "2020-04-08",
          "2020-04-09",
          "2020-04-10",
          "2020-04-11",
          "2020-04-12",
          "2020-04-13",
          "2020-04-14",
          "2020-04-15",
          "2020-04-16",
          "2020-04-17",
          "2020-04-18",
          "2020-04-19",
          "2020-04-20",
          "2020-04-21",
          "2020-04-22",
          "2020-04-23",
          "2020-04-24",
          "2020-04-25",
          "2020-04-26",
          "2020-04-27",
          "2020-04-28",
          "2020-04-29",
          "2020-04-30",
          "2020-05-01",
          "2020-05-02",
          "2020-05-03",
          "2020-05-04",
          "2020-05-05",
          "2020-05-06",
          "2020-05-07",
          "2020-05-08",
          "2020-05-09",
          "2020-05-10",
          "2020-05-11",
          "2020-05-12",
          "2020-05-13",
          "2020-05-14",
          "2020-05-15",
          "2020-05-16",
          "2020-05-17",
          "2020-05-18",
          "2020-05-19",
          "2020-05-20",
          "2020-05-21",
          "2020-05-22",
          "2020-05-23",
          "2020-05-24",
          "2020-05-25",
          "2020-05-26",
          "2020-05-27",
          "2020-05-28",
          "2020-05-29",
          "2020-05-30",
          "2020-05-31",
          "2020-06-01",
          "2020-06-02",
          "2020-06-03",
          "2020-06-04",
          "2020-06-05",
          "2020-06-06",
          "2020-06-07",
          "2020-06-08",
          "2020-06-09",
          "2020-06-10"
         ],
         "xaxis": "x",
         "y": [
          1,
          9,
          15,
          22,
          24,
          34,
          36,
          42,
          47,
          54,
          69,
          86,
          126,
          167,
          192,
          215,
          271,
          326,
          410,
          508,
          590,
          704,
          821,
          997,
          1252,
          1508,
          1865,
          2198,
          2519,
          2878,
          3384,
          3940,
          4558,
          5239,
          5922,
          6528,
          7153,
          8027,
          8818,
          9671,
          10475,
          11077,
          11686,
          12172,
          12779,
          13411,
          13998,
          14579,
          15153,
          15594,
          15965,
          16479,
          17029,
          17514,
          18016,
          18466,
          18768,
          19015,
          19394,
          19802,
          20203,
          20587,
          20929,
          21124,
          21310,
          21573,
          21862,
          22102,
          22314,
          22489,
          22657,
          22785,
          23041,
          23241,
          23430,
          23600,
          23773,
          23952,
          24103,
          24299,
          24538,
          24736,
          24872,
          25012,
          25116,
          25206,
          25310,
          25427,
          25525,
          25618,
          25720,
          25796,
          25854,
          25944,
          26047,
          26133,
          26205,
          26266,
          26304,
          26346,
          26387,
          26407,
          26412
         ],
         "yaxis": "y"
        },
        {
         "hovertemplate": "<b>%{hovertext}</b><br><br>Area name=North East<br>Specimen date=%{x}<br>Cumulative lab-confirmed cases=%{y}<extra></extra>",
         "hovertext": [
          "North East",
          "North East",
          "North East",
          "North East",
          "North East",
          "North East",
          "North East",
          "North East",
          "North East",
          "North East",
          "North East",
          "North East",
          "North East",
          "North East",
          "North East",
          "North East",
          "North East",
          "North East",
          "North East",
          "North East",
          "North East",
          "North East",
          "North East",
          "North East",
          "North East",
          "North East",
          "North East",
          "North East",
          "North East",
          "North East",
          "North East",
          "North East",
          "North East",
          "North East",
          "North East",
          "North East",
          "North East",
          "North East",
          "North East",
          "North East",
          "North East",
          "North East",
          "North East",
          "North East",
          "North East",
          "North East",
          "North East",
          "North East",
          "North East",
          "North East",
          "North East",
          "North East",
          "North East",
          "North East",
          "North East",
          "North East",
          "North East",
          "North East",
          "North East",
          "North East",
          "North East",
          "North East",
          "North East",
          "North East",
          "North East",
          "North East",
          "North East",
          "North East",
          "North East",
          "North East",
          "North East",
          "North East",
          "North East",
          "North East",
          "North East",
          "North East",
          "North East",
          "North East",
          "North East",
          "North East",
          "North East",
          "North East",
          "North East",
          "North East",
          "North East",
          "North East",
          "North East",
          "North East",
          "North East",
          "North East",
          "North East",
          "North East",
          "North East",
          "North East",
          "North East",
          "North East",
          "North East",
          "North East",
          "North East"
         ],
         "legendgroup": "North East",
         "line": {
          "color": "#FF97FF",
          "dash": "solid"
         },
         "mode": "lines+markers",
         "name": "North East",
         "orientation": "v",
         "showlegend": true,
         "type": "scatter",
         "x": [
          "2020-03-02",
          "2020-03-04",
          "2020-03-05",
          "2020-03-06",
          "2020-03-07",
          "2020-03-09",
          "2020-03-10",
          "2020-03-11",
          "2020-03-12",
          "2020-03-13",
          "2020-03-14",
          "2020-03-15",
          "2020-03-16",
          "2020-03-17",
          "2020-03-18",
          "2020-03-19",
          "2020-03-20",
          "2020-03-21",
          "2020-03-22",
          "2020-03-23",
          "2020-03-24",
          "2020-03-25",
          "2020-03-26",
          "2020-03-27",
          "2020-03-28",
          "2020-03-29",
          "2020-03-30",
          "2020-03-31",
          "2020-04-01",
          "2020-04-02",
          "2020-04-03",
          "2020-04-04",
          "2020-04-05",
          "2020-04-06",
          "2020-04-07",
          "2020-04-08",
          "2020-04-09",
          "2020-04-10",
          "2020-04-11",
          "2020-04-12",
          "2020-04-13",
          "2020-04-14",
          "2020-04-15",
          "2020-04-16",
          "2020-04-17",
          "2020-04-18",
          "2020-04-19",
          "2020-04-20",
          "2020-04-21",
          "2020-04-22",
          "2020-04-23",
          "2020-04-24",
          "2020-04-25",
          "2020-04-26",
          "2020-04-27",
          "2020-04-28",
          "2020-04-29",
          "2020-04-30",
          "2020-05-01",
          "2020-05-02",
          "2020-05-03",
          "2020-05-04",
          "2020-05-05",
          "2020-05-06",
          "2020-05-07",
          "2020-05-08",
          "2020-05-09",
          "2020-05-10",
          "2020-05-11",
          "2020-05-12",
          "2020-05-13",
          "2020-05-14",
          "2020-05-15",
          "2020-05-16",
          "2020-05-17",
          "2020-05-18",
          "2020-05-19",
          "2020-05-20",
          "2020-05-21",
          "2020-05-22",
          "2020-05-23",
          "2020-05-24",
          "2020-05-25",
          "2020-05-26",
          "2020-05-27",
          "2020-05-28",
          "2020-05-29",
          "2020-05-30",
          "2020-05-31",
          "2020-06-01",
          "2020-06-02",
          "2020-06-03",
          "2020-06-04",
          "2020-06-05",
          "2020-06-06",
          "2020-06-07",
          "2020-06-08",
          "2020-06-09",
          "2020-06-10"
         ],
         "xaxis": "x",
         "y": [
          1,
          2,
          4,
          5,
          7,
          10,
          14,
          15,
          17,
          23,
          29,
          39,
          46,
          62,
          76,
          95,
          121,
          144,
          164,
          222,
          298,
          374,
          471,
          573,
          686,
          793,
          969,
          1179,
          1487,
          1706,
          1967,
          2221,
          2442,
          2817,
          3168,
          3459,
          3773,
          4018,
          4285,
          4486,
          4718,
          4975,
          5200,
          5399,
          5619,
          5848,
          6008,
          6267,
          6501,
          6705,
          6924,
          7141,
          7265,
          7350,
          7551,
          7776,
          7990,
          8223,
          8383,
          8460,
          8527,
          8708,
          8852,
          8984,
          9104,
          9184,
          9285,
          9352,
          9436,
          9526,
          9588,
          9645,
          9698,
          9742,
          9779,
          9846,
          9897,
          9949,
          9996,
          10036,
          10063,
          10094,
          10123,
          10158,
          10210,
          10233,
          10260,
          10270,
          10283,
          10300,
          10320,
          10340,
          10354,
          10372,
          10385,
          10390,
          10400,
          10410,
          10413
         ],
         "yaxis": "y"
        }
       ],
       "layout": {
        "legend": {
         "title": {
          "text": "Area name"
         },
         "tracegroupgap": 0
        },
        "margin": {
         "t": 60
        },
        "template": {
         "data": {
          "bar": [
           {
            "error_x": {
             "color": "#2a3f5f"
            },
            "error_y": {
             "color": "#2a3f5f"
            },
            "marker": {
             "line": {
              "color": "#E5ECF6",
              "width": 0.5
             }
            },
            "type": "bar"
           }
          ],
          "barpolar": [
           {
            "marker": {
             "line": {
              "color": "#E5ECF6",
              "width": 0.5
             }
            },
            "type": "barpolar"
           }
          ],
          "carpet": [
           {
            "aaxis": {
             "endlinecolor": "#2a3f5f",
             "gridcolor": "white",
             "linecolor": "white",
             "minorgridcolor": "white",
             "startlinecolor": "#2a3f5f"
            },
            "baxis": {
             "endlinecolor": "#2a3f5f",
             "gridcolor": "white",
             "linecolor": "white",
             "minorgridcolor": "white",
             "startlinecolor": "#2a3f5f"
            },
            "type": "carpet"
           }
          ],
          "choropleth": [
           {
            "colorbar": {
             "outlinewidth": 0,
             "ticks": ""
            },
            "type": "choropleth"
           }
          ],
          "contour": [
           {
            "colorbar": {
             "outlinewidth": 0,
             "ticks": ""
            },
            "colorscale": [
             [
              0,
              "#0d0887"
             ],
             [
              0.1111111111111111,
              "#46039f"
             ],
             [
              0.2222222222222222,
              "#7201a8"
             ],
             [
              0.3333333333333333,
              "#9c179e"
             ],
             [
              0.4444444444444444,
              "#bd3786"
             ],
             [
              0.5555555555555556,
              "#d8576b"
             ],
             [
              0.6666666666666666,
              "#ed7953"
             ],
             [
              0.7777777777777778,
              "#fb9f3a"
             ],
             [
              0.8888888888888888,
              "#fdca26"
             ],
             [
              1,
              "#f0f921"
             ]
            ],
            "type": "contour"
           }
          ],
          "contourcarpet": [
           {
            "colorbar": {
             "outlinewidth": 0,
             "ticks": ""
            },
            "type": "contourcarpet"
           }
          ],
          "heatmap": [
           {
            "colorbar": {
             "outlinewidth": 0,
             "ticks": ""
            },
            "colorscale": [
             [
              0,
              "#0d0887"
             ],
             [
              0.1111111111111111,
              "#46039f"
             ],
             [
              0.2222222222222222,
              "#7201a8"
             ],
             [
              0.3333333333333333,
              "#9c179e"
             ],
             [
              0.4444444444444444,
              "#bd3786"
             ],
             [
              0.5555555555555556,
              "#d8576b"
             ],
             [
              0.6666666666666666,
              "#ed7953"
             ],
             [
              0.7777777777777778,
              "#fb9f3a"
             ],
             [
              0.8888888888888888,
              "#fdca26"
             ],
             [
              1,
              "#f0f921"
             ]
            ],
            "type": "heatmap"
           }
          ],
          "heatmapgl": [
           {
            "colorbar": {
             "outlinewidth": 0,
             "ticks": ""
            },
            "colorscale": [
             [
              0,
              "#0d0887"
             ],
             [
              0.1111111111111111,
              "#46039f"
             ],
             [
              0.2222222222222222,
              "#7201a8"
             ],
             [
              0.3333333333333333,
              "#9c179e"
             ],
             [
              0.4444444444444444,
              "#bd3786"
             ],
             [
              0.5555555555555556,
              "#d8576b"
             ],
             [
              0.6666666666666666,
              "#ed7953"
             ],
             [
              0.7777777777777778,
              "#fb9f3a"
             ],
             [
              0.8888888888888888,
              "#fdca26"
             ],
             [
              1,
              "#f0f921"
             ]
            ],
            "type": "heatmapgl"
           }
          ],
          "histogram": [
           {
            "marker": {
             "colorbar": {
              "outlinewidth": 0,
              "ticks": ""
             }
            },
            "type": "histogram"
           }
          ],
          "histogram2d": [
           {
            "colorbar": {
             "outlinewidth": 0,
             "ticks": ""
            },
            "colorscale": [
             [
              0,
              "#0d0887"
             ],
             [
              0.1111111111111111,
              "#46039f"
             ],
             [
              0.2222222222222222,
              "#7201a8"
             ],
             [
              0.3333333333333333,
              "#9c179e"
             ],
             [
              0.4444444444444444,
              "#bd3786"
             ],
             [
              0.5555555555555556,
              "#d8576b"
             ],
             [
              0.6666666666666666,
              "#ed7953"
             ],
             [
              0.7777777777777778,
              "#fb9f3a"
             ],
             [
              0.8888888888888888,
              "#fdca26"
             ],
             [
              1,
              "#f0f921"
             ]
            ],
            "type": "histogram2d"
           }
          ],
          "histogram2dcontour": [
           {
            "colorbar": {
             "outlinewidth": 0,
             "ticks": ""
            },
            "colorscale": [
             [
              0,
              "#0d0887"
             ],
             [
              0.1111111111111111,
              "#46039f"
             ],
             [
              0.2222222222222222,
              "#7201a8"
             ],
             [
              0.3333333333333333,
              "#9c179e"
             ],
             [
              0.4444444444444444,
              "#bd3786"
             ],
             [
              0.5555555555555556,
              "#d8576b"
             ],
             [
              0.6666666666666666,
              "#ed7953"
             ],
             [
              0.7777777777777778,
              "#fb9f3a"
             ],
             [
              0.8888888888888888,
              "#fdca26"
             ],
             [
              1,
              "#f0f921"
             ]
            ],
            "type": "histogram2dcontour"
           }
          ],
          "mesh3d": [
           {
            "colorbar": {
             "outlinewidth": 0,
             "ticks": ""
            },
            "type": "mesh3d"
           }
          ],
          "parcoords": [
           {
            "line": {
             "colorbar": {
              "outlinewidth": 0,
              "ticks": ""
             }
            },
            "type": "parcoords"
           }
          ],
          "pie": [
           {
            "automargin": true,
            "type": "pie"
           }
          ],
          "scatter": [
           {
            "marker": {
             "colorbar": {
              "outlinewidth": 0,
              "ticks": ""
             }
            },
            "type": "scatter"
           }
          ],
          "scatter3d": [
           {
            "line": {
             "colorbar": {
              "outlinewidth": 0,
              "ticks": ""
             }
            },
            "marker": {
             "colorbar": {
              "outlinewidth": 0,
              "ticks": ""
             }
            },
            "type": "scatter3d"
           }
          ],
          "scattercarpet": [
           {
            "marker": {
             "colorbar": {
              "outlinewidth": 0,
              "ticks": ""
             }
            },
            "type": "scattercarpet"
           }
          ],
          "scattergeo": [
           {
            "marker": {
             "colorbar": {
              "outlinewidth": 0,
              "ticks": ""
             }
            },
            "type": "scattergeo"
           }
          ],
          "scattergl": [
           {
            "marker": {
             "colorbar": {
              "outlinewidth": 0,
              "ticks": ""
             }
            },
            "type": "scattergl"
           }
          ],
          "scattermapbox": [
           {
            "marker": {
             "colorbar": {
              "outlinewidth": 0,
              "ticks": ""
             }
            },
            "type": "scattermapbox"
           }
          ],
          "scatterpolar": [
           {
            "marker": {
             "colorbar": {
              "outlinewidth": 0,
              "ticks": ""
             }
            },
            "type": "scatterpolar"
           }
          ],
          "scatterpolargl": [
           {
            "marker": {
             "colorbar": {
              "outlinewidth": 0,
              "ticks": ""
             }
            },
            "type": "scatterpolargl"
           }
          ],
          "scatterternary": [
           {
            "marker": {
             "colorbar": {
              "outlinewidth": 0,
              "ticks": ""
             }
            },
            "type": "scatterternary"
           }
          ],
          "surface": [
           {
            "colorbar": {
             "outlinewidth": 0,
             "ticks": ""
            },
            "colorscale": [
             [
              0,
              "#0d0887"
             ],
             [
              0.1111111111111111,
              "#46039f"
             ],
             [
              0.2222222222222222,
              "#7201a8"
             ],
             [
              0.3333333333333333,
              "#9c179e"
             ],
             [
              0.4444444444444444,
              "#bd3786"
             ],
             [
              0.5555555555555556,
              "#d8576b"
             ],
             [
              0.6666666666666666,
              "#ed7953"
             ],
             [
              0.7777777777777778,
              "#fb9f3a"
             ],
             [
              0.8888888888888888,
              "#fdca26"
             ],
             [
              1,
              "#f0f921"
             ]
            ],
            "type": "surface"
           }
          ],
          "table": [
           {
            "cells": {
             "fill": {
              "color": "#EBF0F8"
             },
             "line": {
              "color": "white"
             }
            },
            "header": {
             "fill": {
              "color": "#C8D4E3"
             },
             "line": {
              "color": "white"
             }
            },
            "type": "table"
           }
          ]
         },
         "layout": {
          "annotationdefaults": {
           "arrowcolor": "#2a3f5f",
           "arrowhead": 0,
           "arrowwidth": 1
          },
          "coloraxis": {
           "colorbar": {
            "outlinewidth": 0,
            "ticks": ""
           }
          },
          "colorscale": {
           "diverging": [
            [
             0,
             "#8e0152"
            ],
            [
             0.1,
             "#c51b7d"
            ],
            [
             0.2,
             "#de77ae"
            ],
            [
             0.3,
             "#f1b6da"
            ],
            [
             0.4,
             "#fde0ef"
            ],
            [
             0.5,
             "#f7f7f7"
            ],
            [
             0.6,
             "#e6f5d0"
            ],
            [
             0.7,
             "#b8e186"
            ],
            [
             0.8,
             "#7fbc41"
            ],
            [
             0.9,
             "#4d9221"
            ],
            [
             1,
             "#276419"
            ]
           ],
           "sequential": [
            [
             0,
             "#0d0887"
            ],
            [
             0.1111111111111111,
             "#46039f"
            ],
            [
             0.2222222222222222,
             "#7201a8"
            ],
            [
             0.3333333333333333,
             "#9c179e"
            ],
            [
             0.4444444444444444,
             "#bd3786"
            ],
            [
             0.5555555555555556,
             "#d8576b"
            ],
            [
             0.6666666666666666,
             "#ed7953"
            ],
            [
             0.7777777777777778,
             "#fb9f3a"
            ],
            [
             0.8888888888888888,
             "#fdca26"
            ],
            [
             1,
             "#f0f921"
            ]
           ],
           "sequentialminus": [
            [
             0,
             "#0d0887"
            ],
            [
             0.1111111111111111,
             "#46039f"
            ],
            [
             0.2222222222222222,
             "#7201a8"
            ],
            [
             0.3333333333333333,
             "#9c179e"
            ],
            [
             0.4444444444444444,
             "#bd3786"
            ],
            [
             0.5555555555555556,
             "#d8576b"
            ],
            [
             0.6666666666666666,
             "#ed7953"
            ],
            [
             0.7777777777777778,
             "#fb9f3a"
            ],
            [
             0.8888888888888888,
             "#fdca26"
            ],
            [
             1,
             "#f0f921"
            ]
           ]
          },
          "colorway": [
           "#636efa",
           "#EF553B",
           "#00cc96",
           "#ab63fa",
           "#FFA15A",
           "#19d3f3",
           "#FF6692",
           "#B6E880",
           "#FF97FF",
           "#FECB52"
          ],
          "font": {
           "color": "#2a3f5f"
          },
          "geo": {
           "bgcolor": "white",
           "lakecolor": "white",
           "landcolor": "#E5ECF6",
           "showlakes": true,
           "showland": true,
           "subunitcolor": "white"
          },
          "hoverlabel": {
           "align": "left"
          },
          "hovermode": "closest",
          "mapbox": {
           "style": "light"
          },
          "paper_bgcolor": "white",
          "plot_bgcolor": "#E5ECF6",
          "polar": {
           "angularaxis": {
            "gridcolor": "white",
            "linecolor": "white",
            "ticks": ""
           },
           "bgcolor": "#E5ECF6",
           "radialaxis": {
            "gridcolor": "white",
            "linecolor": "white",
            "ticks": ""
           }
          },
          "scene": {
           "xaxis": {
            "backgroundcolor": "#E5ECF6",
            "gridcolor": "white",
            "gridwidth": 2,
            "linecolor": "white",
            "showbackground": true,
            "ticks": "",
            "zerolinecolor": "white"
           },
           "yaxis": {
            "backgroundcolor": "#E5ECF6",
            "gridcolor": "white",
            "gridwidth": 2,
            "linecolor": "white",
            "showbackground": true,
            "ticks": "",
            "zerolinecolor": "white"
           },
           "zaxis": {
            "backgroundcolor": "#E5ECF6",
            "gridcolor": "white",
            "gridwidth": 2,
            "linecolor": "white",
            "showbackground": true,
            "ticks": "",
            "zerolinecolor": "white"
           }
          },
          "shapedefaults": {
           "line": {
            "color": "#2a3f5f"
           }
          },
          "ternary": {
           "aaxis": {
            "gridcolor": "white",
            "linecolor": "white",
            "ticks": ""
           },
           "baxis": {
            "gridcolor": "white",
            "linecolor": "white",
            "ticks": ""
           },
           "bgcolor": "#E5ECF6",
           "caxis": {
            "gridcolor": "white",
            "linecolor": "white",
            "ticks": ""
           }
          },
          "title": {
           "x": 0.05
          },
          "xaxis": {
           "automargin": true,
           "gridcolor": "white",
           "linecolor": "white",
           "ticks": "",
           "title": {
            "standoff": 15
           },
           "zerolinecolor": "white",
           "zerolinewidth": 2
          },
          "yaxis": {
           "automargin": true,
           "gridcolor": "white",
           "linecolor": "white",
           "ticks": "",
           "title": {
            "standoff": 15
           },
           "zerolinecolor": "white",
           "zerolinewidth": 2
          }
         }
        },
        "xaxis": {
         "anchor": "y",
         "domain": [
          0,
          1
         ],
         "title": {
          "text": "Specimen date"
         }
        },
        "yaxis": {
         "anchor": "x",
         "domain": [
          0,
          1
         ],
         "title": {
          "text": "Cumulative lab-confirmed cases"
         }
        }
       }
      },
      "text/html": [
       "<div>\n",
       "        \n",
       "        \n",
       "            <div id=\"b2edc689-8126-4f1c-aeb9-fb8131754e30\" class=\"plotly-graph-div\" style=\"height:525px; width:100%;\"></div>\n",
       "            <script type=\"text/javascript\">\n",
       "                require([\"plotly\"], function(Plotly) {\n",
       "                    window.PLOTLYENV=window.PLOTLYENV || {};\n",
       "                    \n",
       "                if (document.getElementById(\"b2edc689-8126-4f1c-aeb9-fb8131754e30\")) {\n",
       "                    Plotly.newPlot(\n",
       "                        'b2edc689-8126-4f1c-aeb9-fb8131754e30',\n",
       "                        [{\"hovertemplate\": \"<b>%{hovertext}</b><br><br>Area name=Yorkshire and The Humber<br>Specimen date=%{x}<br>Cumulative lab-confirmed cases=%{y}<extra></extra>\", \"hovertext\": [\"Yorkshire and The Humber\", \"Yorkshire and The Humber\", \"Yorkshire and The Humber\", \"Yorkshire and The Humber\", \"Yorkshire and The Humber\", \"Yorkshire and The Humber\", \"Yorkshire and The Humber\", \"Yorkshire and The Humber\", \"Yorkshire and The Humber\", \"Yorkshire and The Humber\", \"Yorkshire and The Humber\", \"Yorkshire and The Humber\", \"Yorkshire and The Humber\", \"Yorkshire and The Humber\", \"Yorkshire and The Humber\", \"Yorkshire and The Humber\", \"Yorkshire and The Humber\", \"Yorkshire and The Humber\", \"Yorkshire and The Humber\", \"Yorkshire and The Humber\", \"Yorkshire and The Humber\", \"Yorkshire and The Humber\", \"Yorkshire and The Humber\", \"Yorkshire and The Humber\", \"Yorkshire and The Humber\", \"Yorkshire and The Humber\", \"Yorkshire and The Humber\", \"Yorkshire and The Humber\", \"Yorkshire and The Humber\", \"Yorkshire and The Humber\", \"Yorkshire and The Humber\", \"Yorkshire and The Humber\", \"Yorkshire and The Humber\", \"Yorkshire and The Humber\", \"Yorkshire and The Humber\", \"Yorkshire and The Humber\", \"Yorkshire and The Humber\", \"Yorkshire and The Humber\", \"Yorkshire and The Humber\", \"Yorkshire and The Humber\", \"Yorkshire and The Humber\", \"Yorkshire and The Humber\", \"Yorkshire and The Humber\", \"Yorkshire and The Humber\", \"Yorkshire and The Humber\", \"Yorkshire and The Humber\", \"Yorkshire and The Humber\", \"Yorkshire and The Humber\", \"Yorkshire and The Humber\", \"Yorkshire and The Humber\", \"Yorkshire and The Humber\", \"Yorkshire and The Humber\", \"Yorkshire and The Humber\", \"Yorkshire and The Humber\", \"Yorkshire and The Humber\", \"Yorkshire and The Humber\", \"Yorkshire and The Humber\", \"Yorkshire and The Humber\", \"Yorkshire and The Humber\", \"Yorkshire and The Humber\", \"Yorkshire and The Humber\", \"Yorkshire and The Humber\", \"Yorkshire and The Humber\", \"Yorkshire and The Humber\", \"Yorkshire and The Humber\", \"Yorkshire and The Humber\", \"Yorkshire and The Humber\", \"Yorkshire and The Humber\", \"Yorkshire and The Humber\", \"Yorkshire and The Humber\", \"Yorkshire and The Humber\", \"Yorkshire and The Humber\", \"Yorkshire and The Humber\", \"Yorkshire and The Humber\", \"Yorkshire and The Humber\", \"Yorkshire and The Humber\", \"Yorkshire and The Humber\", \"Yorkshire and The Humber\", \"Yorkshire and The Humber\", \"Yorkshire and The Humber\", \"Yorkshire and The Humber\", \"Yorkshire and The Humber\", \"Yorkshire and The Humber\", \"Yorkshire and The Humber\", \"Yorkshire and The Humber\", \"Yorkshire and The Humber\", \"Yorkshire and The Humber\", \"Yorkshire and The Humber\", \"Yorkshire and The Humber\", \"Yorkshire and The Humber\", \"Yorkshire and The Humber\", \"Yorkshire and The Humber\", \"Yorkshire and The Humber\", \"Yorkshire and The Humber\", \"Yorkshire and The Humber\", \"Yorkshire and The Humber\", \"Yorkshire and The Humber\", \"Yorkshire and The Humber\", \"Yorkshire and The Humber\", \"Yorkshire and The Humber\", \"Yorkshire and The Humber\", \"Yorkshire and The Humber\", \"Yorkshire and The Humber\", \"Yorkshire and The Humber\", \"Yorkshire and The Humber\", \"Yorkshire and The Humber\"], \"legendgroup\": \"Yorkshire and The Humber\", \"line\": {\"color\": \"#636efa\", \"dash\": \"solid\"}, \"mode\": \"lines+markers\", \"name\": \"Yorkshire and The Humber\", \"orientation\": \"v\", \"showlegend\": true, \"type\": \"scatter\", \"x\": [\"2020-01-30\", \"2020-02-03\", \"2020-02-28\", \"2020-02-29\", \"2020-03-01\", \"2020-03-02\", \"2020-03-03\", \"2020-03-04\", \"2020-03-05\", \"2020-03-06\", \"2020-03-07\", \"2020-03-08\", \"2020-03-09\", \"2020-03-10\", \"2020-03-11\", \"2020-03-12\", \"2020-03-13\", \"2020-03-14\", \"2020-03-15\", \"2020-03-16\", \"2020-03-17\", \"2020-03-18\", \"2020-03-19\", \"2020-03-20\", \"2020-03-21\", \"2020-03-22\", \"2020-03-23\", \"2020-03-24\", \"2020-03-25\", \"2020-03-26\", \"2020-03-27\", \"2020-03-28\", \"2020-03-29\", \"2020-03-30\", \"2020-03-31\", \"2020-04-01\", \"2020-04-02\", \"2020-04-03\", \"2020-04-04\", \"2020-04-05\", \"2020-04-06\", \"2020-04-07\", \"2020-04-08\", \"2020-04-09\", \"2020-04-10\", \"2020-04-11\", \"2020-04-12\", \"2020-04-13\", \"2020-04-14\", \"2020-04-15\", \"2020-04-16\", \"2020-04-17\", \"2020-04-18\", \"2020-04-19\", \"2020-04-20\", \"2020-04-21\", \"2020-04-22\", \"2020-04-23\", \"2020-04-24\", \"2020-04-25\", \"2020-04-26\", \"2020-04-27\", \"2020-04-28\", \"2020-04-29\", \"2020-04-30\", \"2020-05-01\", \"2020-05-02\", \"2020-05-03\", \"2020-05-04\", \"2020-05-05\", \"2020-05-06\", \"2020-05-07\", \"2020-05-08\", \"2020-05-09\", \"2020-05-10\", \"2020-05-11\", \"2020-05-12\", \"2020-05-13\", \"2020-05-14\", \"2020-05-15\", \"2020-05-16\", \"2020-05-17\", \"2020-05-18\", \"2020-05-19\", \"2020-05-20\", \"2020-05-21\", \"2020-05-22\", \"2020-05-23\", \"2020-05-24\", \"2020-05-25\", \"2020-05-26\", \"2020-05-27\", \"2020-05-28\", \"2020-05-29\", \"2020-05-30\", \"2020-05-31\", \"2020-06-01\", \"2020-06-02\", \"2020-06-03\", \"2020-06-04\", \"2020-06-05\", \"2020-06-06\", \"2020-06-07\", \"2020-06-08\", \"2020-06-09\", \"2020-06-10\"], \"xaxis\": \"x\", \"y\": [1, 2, 4, 5, 9, 12, 15, 17, 19, 21, 26, 29, 36, 54, 64, 78, 90, 102, 112, 140, 171, 217, 272, 331, 408, 502, 647, 803, 954, 1133, 1287, 1494, 1723, 2008, 2328, 2626, 2867, 3160, 3363, 3582, 3904, 4242, 4561, 4860, 5148, 5389, 5638, 5948, 6245, 6631, 6901, 7195, 7458, 7674, 7993, 8287, 8607, 8883, 9274, 9509, 9727, 10042, 10288, 10627, 10911, 11160, 11335, 11496, 11680, 11893, 12079, 12242, 12361, 12476, 12575, 12736, 12880, 13015, 13175, 13310, 13385, 13488, 13567, 13672, 13737, 13833, 13913, 13990, 14041, 14112, 14176, 14237, 14286, 14333, 14382, 14429, 14504, 14559, 14613, 14636, 14674, 14710, 14734, 14755, 14773, 14778], \"yaxis\": \"y\"}, {\"hovertemplate\": \"<b>%{hovertext}</b><br><br>Area name=South East<br>Specimen date=%{x}<br>Cumulative lab-confirmed cases=%{y}<extra></extra>\", \"hovertext\": [\"South East\", \"South East\", \"South East\", \"South East\", \"South East\", \"South East\", \"South East\", \"South East\", \"South East\", \"South East\", \"South East\", \"South East\", \"South East\", \"South East\", \"South East\", \"South East\", \"South East\", \"South East\", \"South East\", \"South East\", \"South East\", \"South East\", \"South East\", \"South East\", \"South East\", \"South East\", \"South East\", \"South East\", \"South East\", \"South East\", \"South East\", \"South East\", \"South East\", \"South East\", \"South East\", \"South East\", \"South East\", \"South East\", \"South East\", \"South East\", \"South East\", \"South East\", \"South East\", \"South East\", \"South East\", \"South East\", \"South East\", \"South East\", \"South East\", \"South East\", \"South East\", \"South East\", \"South East\", \"South East\", \"South East\", \"South East\", \"South East\", \"South East\", \"South East\", \"South East\", \"South East\", \"South East\", \"South East\", \"South East\", \"South East\", \"South East\", \"South East\", \"South East\", \"South East\", \"South East\", \"South East\", \"South East\", \"South East\", \"South East\", \"South East\", \"South East\", \"South East\", \"South East\", \"South East\", \"South East\", \"South East\", \"South East\", \"South East\", \"South East\", \"South East\", \"South East\", \"South East\", \"South East\", \"South East\", \"South East\", \"South East\", \"South East\", \"South East\", \"South East\", \"South East\", \"South East\", \"South East\", \"South East\", \"South East\", \"South East\", \"South East\", \"South East\", \"South East\", \"South East\", \"South East\", \"South East\", \"South East\", \"South East\", \"South East\", \"South East\", \"South East\", \"South East\"], \"legendgroup\": \"South East\", \"line\": {\"color\": \"#EF553B\", \"dash\": \"solid\"}, \"mode\": \"lines+markers\", \"name\": \"South East\", \"orientation\": \"v\", \"showlegend\": true, \"type\": \"scatter\", \"x\": [\"2020-01-31\", \"2020-02-03\", \"2020-02-05\", \"2020-02-08\", \"2020-02-09\", \"2020-02-23\", \"2020-02-24\", \"2020-02-25\", \"2020-02-27\", \"2020-02-28\", \"2020-03-01\", \"2020-03-02\", \"2020-03-03\", \"2020-03-04\", \"2020-03-05\", \"2020-03-06\", \"2020-03-07\", \"2020-03-08\", \"2020-03-09\", \"2020-03-10\", \"2020-03-11\", \"2020-03-12\", \"2020-03-13\", \"2020-03-14\", \"2020-03-15\", \"2020-03-16\", \"2020-03-17\", \"2020-03-18\", \"2020-03-19\", \"2020-03-20\", \"2020-03-21\", \"2020-03-22\", \"2020-03-23\", \"2020-03-24\", \"2020-03-25\", \"2020-03-26\", \"2020-03-27\", \"2020-03-28\", \"2020-03-29\", \"2020-03-30\", \"2020-03-31\", \"2020-04-01\", \"2020-04-02\", \"2020-04-03\", \"2020-04-04\", \"2020-04-05\", \"2020-04-06\", \"2020-04-07\", \"2020-04-08\", \"2020-04-09\", \"2020-04-10\", \"2020-04-11\", \"2020-04-12\", \"2020-04-13\", \"2020-04-14\", \"2020-04-15\", \"2020-04-16\", \"2020-04-17\", \"2020-04-18\", \"2020-04-19\", \"2020-04-20\", \"2020-04-21\", \"2020-04-22\", \"2020-04-23\", \"2020-04-24\", \"2020-04-25\", \"2020-04-26\", \"2020-04-27\", \"2020-04-28\", \"2020-04-29\", \"2020-04-30\", \"2020-05-01\", \"2020-05-02\", \"2020-05-03\", \"2020-05-04\", \"2020-05-05\", \"2020-05-06\", \"2020-05-07\", \"2020-05-08\", \"2020-05-09\", \"2020-05-10\", \"2020-05-11\", \"2020-05-12\", \"2020-05-13\", \"2020-05-14\", \"2020-05-15\", \"2020-05-16\", \"2020-05-17\", \"2020-05-18\", \"2020-05-19\", \"2020-05-20\", \"2020-05-21\", \"2020-05-22\", \"2020-05-23\", \"2020-05-24\", \"2020-05-25\", \"2020-05-26\", \"2020-05-27\", \"2020-05-28\", \"2020-05-29\", \"2020-05-30\", \"2020-05-31\", \"2020-06-01\", \"2020-06-02\", \"2020-06-03\", \"2020-06-04\", \"2020-06-05\", \"2020-06-06\", \"2020-06-07\", \"2020-06-08\", \"2020-06-09\", \"2020-06-10\"], \"xaxis\": \"x\", \"y\": [1, 2, 3, 6, 7, 8, 9, 10, 13, 14, 17, 18, 27, 34, 38, 54, 58, 68, 92, 126, 172, 250, 302, 343, 396, 474, 563, 685, 812, 938, 1066, 1236, 1516, 1751, 2056, 2376, 2707, 3044, 3339, 3814, 4282, 4827, 5306, 5820, 6276, 6699, 7290, 8005, 8559, 9075, 9643, 10021, 10464, 11011, 11518, 12157, 12769, 13397, 13793, 14094, 14548, 15016, 15455, 15836, 16234, 16503, 16715, 16974, 17316, 17614, 17911, 18156, 18332, 18463, 18672, 18905, 19087, 19239, 19361, 19476, 19594, 19769, 19930, 20103, 20231, 20349, 20419, 20496, 20651, 20853, 20982, 21101, 21208, 21247, 21307, 21402, 21488, 21549, 21599, 21643, 21690, 21736, 21793, 21874, 21953, 22007, 22065, 22096, 22120, 22158, 22176, 22179], \"yaxis\": \"y\"}, {\"hovertemplate\": \"<b>%{hovertext}</b><br><br>Area name=East of England<br>Specimen date=%{x}<br>Cumulative lab-confirmed cases=%{y}<extra></extra>\", \"hovertext\": [\"East of England\", \"East of England\", \"East of England\", \"East of England\", \"East of England\", \"East of England\", \"East of England\", \"East of England\", \"East of England\", \"East of England\", \"East of England\", \"East of England\", \"East of England\", \"East of England\", \"East of England\", \"East of England\", \"East of England\", \"East of England\", \"East of England\", \"East of England\", \"East of England\", \"East of England\", \"East of England\", \"East of England\", \"East of England\", \"East of England\", \"East of England\", \"East of England\", \"East of England\", \"East of England\", \"East of England\", \"East of England\", \"East of England\", \"East of England\", \"East of England\", \"East of England\", \"East of England\", \"East of England\", \"East of England\", \"East of England\", \"East of England\", \"East of England\", \"East of England\", \"East of England\", \"East of England\", \"East of England\", \"East of England\", \"East of England\", \"East of England\", \"East of England\", \"East of England\", \"East of England\", \"East of England\", \"East of England\", \"East of England\", \"East of England\", \"East of England\", \"East of England\", \"East of England\", \"East of England\", \"East of England\", \"East of England\", \"East of England\", \"East of England\", \"East of England\", \"East of England\", \"East of England\", \"East of England\", \"East of England\", \"East of England\", \"East of England\", \"East of England\", \"East of England\", \"East of England\", \"East of England\", \"East of England\", \"East of England\", \"East of England\", \"East of England\", \"East of England\", \"East of England\", \"East of England\", \"East of England\", \"East of England\", \"East of England\", \"East of England\", \"East of England\", \"East of England\", \"East of England\", \"East of England\", \"East of England\", \"East of England\", \"East of England\", \"East of England\", \"East of England\", \"East of England\", \"East of England\", \"East of England\", \"East of England\", \"East of England\", \"East of England\", \"East of England\", \"East of England\"], \"legendgroup\": \"East of England\", \"line\": {\"color\": \"#00cc96\", \"dash\": \"solid\"}, \"mode\": \"lines+markers\", \"name\": \"East of England\", \"orientation\": \"v\", \"showlegend\": true, \"type\": \"scatter\", \"x\": [\"2020-02-03\", \"2020-02-28\", \"2020-03-01\", \"2020-03-03\", \"2020-03-04\", \"2020-03-05\", \"2020-03-06\", \"2020-03-07\", \"2020-03-08\", \"2020-03-09\", \"2020-03-10\", \"2020-03-11\", \"2020-03-12\", \"2020-03-13\", \"2020-03-14\", \"2020-03-15\", \"2020-03-16\", \"2020-03-17\", \"2020-03-18\", \"2020-03-19\", \"2020-03-20\", \"2020-03-21\", \"2020-03-22\", \"2020-03-23\", \"2020-03-24\", \"2020-03-25\", \"2020-03-26\", \"2020-03-27\", \"2020-03-28\", \"2020-03-29\", \"2020-03-30\", \"2020-03-31\", \"2020-04-01\", \"2020-04-02\", \"2020-04-03\", \"2020-04-04\", \"2020-04-05\", \"2020-04-06\", \"2020-04-07\", \"2020-04-08\", \"2020-04-09\", \"2020-04-10\", \"2020-04-11\", \"2020-04-12\", \"2020-04-13\", \"2020-04-14\", \"2020-04-15\", \"2020-04-16\", \"2020-04-17\", \"2020-04-18\", \"2020-04-19\", \"2020-04-20\", \"2020-04-21\", \"2020-04-22\", \"2020-04-23\", \"2020-04-24\", \"2020-04-25\", \"2020-04-26\", \"2020-04-27\", \"2020-04-28\", \"2020-04-29\", \"2020-04-30\", \"2020-05-01\", \"2020-05-02\", \"2020-05-03\", \"2020-05-04\", \"2020-05-05\", \"2020-05-06\", \"2020-05-07\", \"2020-05-08\", \"2020-05-09\", \"2020-05-10\", \"2020-05-11\", \"2020-05-12\", \"2020-05-13\", \"2020-05-14\", \"2020-05-15\", \"2020-05-16\", \"2020-05-17\", \"2020-05-18\", \"2020-05-19\", \"2020-05-20\", \"2020-05-21\", \"2020-05-22\", \"2020-05-23\", \"2020-05-24\", \"2020-05-25\", \"2020-05-26\", \"2020-05-27\", \"2020-05-28\", \"2020-05-29\", \"2020-05-30\", \"2020-05-31\", \"2020-06-01\", \"2020-06-02\", \"2020-06-03\", \"2020-06-04\", \"2020-06-05\", \"2020-06-06\", \"2020-06-07\", \"2020-06-08\", \"2020-06-09\", \"2020-06-10\"], \"xaxis\": \"x\", \"y\": [1, 2, 5, 12, 19, 20, 25, 28, 30, 34, 50, 64, 82, 119, 135, 170, 193, 231, 305, 361, 430, 507, 598, 795, 960, 1148, 1363, 1607, 1790, 1999, 2299, 2621, 2953, 3318, 3664, 3927, 4208, 4591, 4969, 5366, 5684, 5998, 6258, 6500, 6787, 7070, 7336, 7628, 7912, 8160, 8339, 8627, 8923, 9221, 9513, 9798, 10023, 10179, 10446, 10681, 10918, 11134, 11399, 11534, 11658, 11898, 12063, 12221, 12418, 12507, 12591, 12660, 12828, 12956, 13081, 13147, 13246, 13299, 13368, 13500, 13632, 13723, 13830, 13922, 13983, 14026, 14106, 14159, 14218, 14262, 14313, 14346, 14377, 14424, 14478, 14520, 14554, 14582, 14600, 14616, 14627, 14634, 14634], \"yaxis\": \"y\"}, {\"hovertemplate\": \"<b>%{hovertext}</b><br><br>Area name=South West<br>Specimen date=%{x}<br>Cumulative lab-confirmed cases=%{y}<extra></extra>\", \"hovertext\": [\"South West\", \"South West\", \"South West\", \"South West\", \"South West\", \"South West\", \"South West\", \"South West\", \"South West\", \"South West\", \"South West\", \"South West\", \"South West\", \"South West\", \"South West\", \"South West\", \"South West\", \"South West\", \"South West\", \"South West\", \"South West\", \"South West\", \"South West\", \"South West\", \"South West\", \"South West\", \"South West\", \"South West\", \"South West\", \"South West\", \"South West\", \"South West\", \"South West\", \"South West\", \"South West\", \"South West\", \"South West\", \"South West\", \"South West\", \"South West\", \"South West\", \"South West\", \"South West\", \"South West\", \"South West\", \"South West\", \"South West\", \"South West\", \"South West\", \"South West\", \"South West\", \"South West\", \"South West\", \"South West\", \"South West\", \"South West\", \"South West\", \"South West\", \"South West\", \"South West\", \"South West\", \"South West\", \"South West\", \"South West\", \"South West\", \"South West\", \"South West\", \"South West\", \"South West\", \"South West\", \"South West\", \"South West\", \"South West\", \"South West\", \"South West\", \"South West\", \"South West\", \"South West\", \"South West\", \"South West\", \"South West\", \"South West\", \"South West\", \"South West\", \"South West\", \"South West\", \"South West\", \"South West\", \"South West\", \"South West\", \"South West\", \"South West\", \"South West\", \"South West\", \"South West\", \"South West\", \"South West\", \"South West\", \"South West\", \"South West\", \"South West\", \"South West\", \"South West\", \"South West\"], \"legendgroup\": \"South West\", \"line\": {\"color\": \"#ab63fa\", \"dash\": \"solid\"}, \"mode\": \"lines+markers\", \"name\": \"South West\", \"orientation\": \"v\", \"showlegend\": true, \"type\": \"scatter\", \"x\": [\"2020-02-03\", \"2020-02-26\", \"2020-03-01\", \"2020-03-02\", \"2020-03-03\", \"2020-03-04\", \"2020-03-05\", \"2020-03-06\", \"2020-03-07\", \"2020-03-08\", \"2020-03-09\", \"2020-03-10\", \"2020-03-11\", \"2020-03-12\", \"2020-03-13\", \"2020-03-14\", \"2020-03-15\", \"2020-03-16\", \"2020-03-17\", \"2020-03-18\", \"2020-03-19\", \"2020-03-20\", \"2020-03-21\", \"2020-03-22\", \"2020-03-23\", \"2020-03-24\", \"2020-03-25\", \"2020-03-26\", \"2020-03-27\", \"2020-03-28\", \"2020-03-29\", \"2020-03-30\", \"2020-03-31\", \"2020-04-01\", \"2020-04-02\", \"2020-04-03\", \"2020-04-04\", \"2020-04-05\", \"2020-04-06\", \"2020-04-07\", \"2020-04-08\", \"2020-04-09\", \"2020-04-10\", \"2020-04-11\", \"2020-04-12\", \"2020-04-13\", \"2020-04-14\", \"2020-04-15\", \"2020-04-16\", \"2020-04-17\", \"2020-04-18\", \"2020-04-19\", \"2020-04-20\", \"2020-04-21\", \"2020-04-22\", \"2020-04-23\", \"2020-04-24\", \"2020-04-25\", \"2020-04-26\", \"2020-04-27\", \"2020-04-28\", \"2020-04-29\", \"2020-04-30\", \"2020-05-01\", \"2020-05-02\", \"2020-05-03\", \"2020-05-04\", \"2020-05-05\", \"2020-05-06\", \"2020-05-07\", \"2020-05-08\", \"2020-05-09\", \"2020-05-10\", \"2020-05-11\", \"2020-05-12\", \"2020-05-13\", \"2020-05-14\", \"2020-05-15\", \"2020-05-16\", \"2020-05-17\", \"2020-05-18\", \"2020-05-19\", \"2020-05-20\", \"2020-05-21\", \"2020-05-22\", \"2020-05-23\", \"2020-05-24\", \"2020-05-25\", \"2020-05-26\", \"2020-05-27\", \"2020-05-28\", \"2020-05-29\", \"2020-05-30\", \"2020-05-31\", \"2020-06-01\", \"2020-06-02\", \"2020-06-03\", \"2020-06-04\", \"2020-06-05\", \"2020-06-06\", \"2020-06-07\", \"2020-06-08\", \"2020-06-09\", \"2020-06-10\"], \"xaxis\": \"x\", \"y\": [2, 3, 5, 13, 23, 29, 33, 44, 46, 49, 54, 64, 83, 107, 138, 150, 167, 185, 206, 249, 270, 313, 355, 399, 461, 529, 633, 750, 879, 981, 1081, 1244, 1384, 1567, 1750, 1936, 2110, 2263, 2447, 2660, 2895, 3141, 3375, 3548, 3726, 3918, 4103, 4313, 4551, 4766, 4911, 5065, 5238, 5412, 5564, 5740, 5862, 5951, 6009, 6135, 6248, 6378, 6459, 6572, 6638, 6712, 6787, 6854, 6920, 6983, 7024, 7068, 7113, 7170, 7195, 7229, 7264, 7291, 7319, 7344, 7385, 7418, 7470, 7492, 7518, 7536, 7548, 7569, 7592, 7623, 7659, 7683, 7701, 7727, 7750, 7771, 7800, 7817, 7833, 7841, 7851, 7855, 7858, 7858], \"yaxis\": \"y\"}, {\"hovertemplate\": \"<b>%{hovertext}</b><br><br>Area name=London<br>Specimen date=%{x}<br>Cumulative lab-confirmed cases=%{y}<extra></extra>\", \"hovertext\": [\"London\", \"London\", \"London\", \"London\", \"London\", \"London\", \"London\", \"London\", \"London\", \"London\", \"London\", \"London\", \"London\", \"London\", \"London\", \"London\", \"London\", \"London\", \"London\", \"London\", \"London\", \"London\", \"London\", \"London\", \"London\", \"London\", \"London\", \"London\", \"London\", \"London\", \"London\", \"London\", \"London\", \"London\", \"London\", \"London\", \"London\", \"London\", \"London\", \"London\", \"London\", \"London\", \"London\", \"London\", \"London\", \"London\", \"London\", \"London\", \"London\", \"London\", \"London\", \"London\", \"London\", \"London\", \"London\", \"London\", \"London\", \"London\", \"London\", \"London\", \"London\", \"London\", \"London\", \"London\", \"London\", \"London\", \"London\", \"London\", \"London\", \"London\", \"London\", \"London\", \"London\", \"London\", \"London\", \"London\", \"London\", \"London\", \"London\", \"London\", \"London\", \"London\", \"London\", \"London\", \"London\", \"London\", \"London\", \"London\", \"London\", \"London\", \"London\", \"London\", \"London\", \"London\", \"London\", \"London\", \"London\", \"London\", \"London\", \"London\", \"London\", \"London\", \"London\", \"London\", \"London\", \"London\", \"London\", \"London\", \"London\", \"London\", \"London\"], \"legendgroup\": \"London\", \"line\": {\"color\": \"#FFA15A\", \"dash\": \"solid\"}, \"mode\": \"lines+markers\", \"name\": \"London\", \"orientation\": \"v\", \"showlegend\": true, \"type\": \"scatter\", \"x\": [\"2020-02-11\", \"2020-02-13\", \"2020-02-17\", \"2020-02-19\", \"2020-02-23\", \"2020-02-25\", \"2020-02-27\", \"2020-02-28\", \"2020-02-29\", \"2020-03-01\", \"2020-03-02\", \"2020-03-03\", \"2020-03-04\", \"2020-03-05\", \"2020-03-06\", \"2020-03-07\", \"2020-03-08\", \"2020-03-09\", \"2020-03-10\", \"2020-03-11\", \"2020-03-12\", \"2020-03-13\", \"2020-03-14\", \"2020-03-15\", \"2020-03-16\", \"2020-03-17\", \"2020-03-18\", \"2020-03-19\", \"2020-03-20\", \"2020-03-21\", \"2020-03-22\", \"2020-03-23\", \"2020-03-24\", \"2020-03-25\", \"2020-03-26\", \"2020-03-27\", \"2020-03-28\", \"2020-03-29\", \"2020-03-30\", \"2020-03-31\", \"2020-04-01\", \"2020-04-02\", \"2020-04-03\", \"2020-04-04\", \"2020-04-05\", \"2020-04-06\", \"2020-04-07\", \"2020-04-08\", \"2020-04-09\", \"2020-04-10\", \"2020-04-11\", \"2020-04-12\", \"2020-04-13\", \"2020-04-14\", \"2020-04-15\", \"2020-04-16\", \"2020-04-17\", \"2020-04-18\", \"2020-04-19\", \"2020-04-20\", \"2020-04-21\", \"2020-04-22\", \"2020-04-23\", \"2020-04-24\", \"2020-04-25\", \"2020-04-26\", \"2020-04-27\", \"2020-04-28\", \"2020-04-29\", \"2020-04-30\", \"2020-05-01\", \"2020-05-02\", \"2020-05-03\", \"2020-05-04\", \"2020-05-05\", \"2020-05-06\", \"2020-05-07\", \"2020-05-08\", \"2020-05-09\", \"2020-05-10\", \"2020-05-11\", \"2020-05-12\", \"2020-05-13\", \"2020-05-14\", \"2020-05-15\", \"2020-05-16\", \"2020-05-17\", \"2020-05-18\", \"2020-05-19\", \"2020-05-20\", \"2020-05-21\", \"2020-05-22\", \"2020-05-23\", \"2020-05-24\", \"2020-05-25\", \"2020-05-26\", \"2020-05-27\", \"2020-05-28\", \"2020-05-29\", \"2020-05-30\", \"2020-05-31\", \"2020-06-01\", \"2020-06-02\", \"2020-06-03\", \"2020-06-04\", \"2020-06-05\", \"2020-06-06\", \"2020-06-07\", \"2020-06-08\", \"2020-06-09\", \"2020-06-10\"], \"xaxis\": \"x\", \"y\": [1, 2, 3, 4, 6, 8, 9, 14, 15, 23, 35, 41, 59, 73, 96, 110, 132, 185, 276, 459, 624, 760, 909, 1074, 1308, 1618, 1974, 2307, 2733, 3083, 3520, 4207, 4843, 5599, 6360, 7180, 7757, 8351, 9195, 10110, 11072, 12095, 13029, 13746, 14350, 15187, 16090, 16921, 17692, 18265, 18756, 19170, 19736, 20292, 20846, 21336, 21761, 22067, 22313, 22690, 23031, 23307, 23625, 23871, 24031, 24121, 24310, 24490, 24740, 24995, 25191, 25318, 25382, 25534, 25669, 25813, 25956, 26050, 26110, 26145, 26213, 26289, 26374, 26460, 26518, 26541, 26574, 26630, 26680, 26738, 26787, 26827, 26837, 26855, 26875, 26903, 26940, 26975, 27007, 27024, 27040, 27062, 27083, 27127, 27146, 27168, 27182, 27198, 27225, 27240, 27240], \"yaxis\": \"y\"}, {\"hovertemplate\": \"<b>%{hovertext}</b><br><br>Area name=West Midlands<br>Specimen date=%{x}<br>Cumulative lab-confirmed cases=%{y}<extra></extra>\", \"hovertext\": [\"West Midlands\", \"West Midlands\", \"West Midlands\", \"West Midlands\", \"West Midlands\", \"West Midlands\", \"West Midlands\", \"West Midlands\", \"West Midlands\", \"West Midlands\", \"West Midlands\", \"West Midlands\", \"West Midlands\", \"West Midlands\", \"West Midlands\", \"West Midlands\", \"West Midlands\", \"West Midlands\", \"West Midlands\", \"West Midlands\", \"West Midlands\", \"West Midlands\", \"West Midlands\", \"West Midlands\", \"West Midlands\", \"West Midlands\", \"West Midlands\", \"West Midlands\", \"West Midlands\", \"West Midlands\", \"West Midlands\", \"West Midlands\", \"West Midlands\", \"West Midlands\", \"West Midlands\", \"West Midlands\", \"West Midlands\", \"West Midlands\", \"West Midlands\", \"West Midlands\", \"West Midlands\", \"West Midlands\", \"West Midlands\", \"West Midlands\", \"West Midlands\", \"West Midlands\", \"West Midlands\", \"West Midlands\", \"West Midlands\", \"West Midlands\", \"West Midlands\", \"West Midlands\", \"West Midlands\", \"West Midlands\", \"West Midlands\", \"West Midlands\", \"West Midlands\", \"West Midlands\", \"West Midlands\", \"West Midlands\", \"West Midlands\", \"West Midlands\", \"West Midlands\", \"West Midlands\", \"West Midlands\", \"West Midlands\", \"West Midlands\", \"West Midlands\", \"West Midlands\", \"West Midlands\", \"West Midlands\", \"West Midlands\", \"West Midlands\", \"West Midlands\", \"West Midlands\", \"West Midlands\", \"West Midlands\", \"West Midlands\", \"West Midlands\", \"West Midlands\", \"West Midlands\", \"West Midlands\", \"West Midlands\", \"West Midlands\", \"West Midlands\", \"West Midlands\", \"West Midlands\", \"West Midlands\", \"West Midlands\", \"West Midlands\", \"West Midlands\", \"West Midlands\", \"West Midlands\", \"West Midlands\", \"West Midlands\", \"West Midlands\", \"West Midlands\", \"West Midlands\", \"West Midlands\", \"West Midlands\", \"West Midlands\", \"West Midlands\", \"West Midlands\", \"West Midlands\"], \"legendgroup\": \"West Midlands\", \"line\": {\"color\": \"#19d3f3\", \"dash\": \"solid\"}, \"mode\": \"lines+markers\", \"name\": \"West Midlands\", \"orientation\": \"v\", \"showlegend\": true, \"type\": \"scatter\", \"x\": [\"2020-02-12\", \"2020-02-23\", \"2020-03-01\", \"2020-03-02\", \"2020-03-03\", \"2020-03-04\", \"2020-03-05\", \"2020-03-06\", \"2020-03-07\", \"2020-03-08\", \"2020-03-09\", \"2020-03-10\", \"2020-03-11\", \"2020-03-12\", \"2020-03-13\", \"2020-03-14\", \"2020-03-15\", \"2020-03-16\", \"2020-03-17\", \"2020-03-18\", \"2020-03-19\", \"2020-03-20\", \"2020-03-21\", \"2020-03-22\", \"2020-03-23\", \"2020-03-24\", \"2020-03-25\", \"2020-03-26\", \"2020-03-27\", \"2020-03-28\", \"2020-03-29\", \"2020-03-30\", \"2020-03-31\", \"2020-04-01\", \"2020-04-02\", \"2020-04-03\", \"2020-04-04\", \"2020-04-05\", \"2020-04-06\", \"2020-04-07\", \"2020-04-08\", \"2020-04-09\", \"2020-04-10\", \"2020-04-11\", \"2020-04-12\", \"2020-04-13\", \"2020-04-14\", \"2020-04-15\", \"2020-04-16\", \"2020-04-17\", \"2020-04-18\", \"2020-04-19\", \"2020-04-20\", \"2020-04-21\", \"2020-04-22\", \"2020-04-23\", \"2020-04-24\", \"2020-04-25\", \"2020-04-26\", \"2020-04-27\", \"2020-04-28\", \"2020-04-29\", \"2020-04-30\", \"2020-05-01\", \"2020-05-02\", \"2020-05-03\", \"2020-05-04\", \"2020-05-05\", \"2020-05-06\", \"2020-05-07\", \"2020-05-08\", \"2020-05-09\", \"2020-05-10\", \"2020-05-11\", \"2020-05-12\", \"2020-05-13\", \"2020-05-14\", \"2020-05-15\", \"2020-05-16\", \"2020-05-17\", \"2020-05-18\", \"2020-05-19\", \"2020-05-20\", \"2020-05-21\", \"2020-05-22\", \"2020-05-23\", \"2020-05-24\", \"2020-05-25\", \"2020-05-26\", \"2020-05-27\", \"2020-05-28\", \"2020-05-29\", \"2020-05-30\", \"2020-05-31\", \"2020-06-01\", \"2020-06-02\", \"2020-06-03\", \"2020-06-04\", \"2020-06-05\", \"2020-06-06\", \"2020-06-07\", \"2020-06-08\", \"2020-06-09\", \"2020-06-10\"], \"xaxis\": \"x\", \"y\": [1, 2, 4, 8, 9, 12, 18, 20, 25, 29, 37, 54, 83, 128, 168, 199, 243, 299, 368, 467, 590, 741, 866, 977, 1216, 1466, 1706, 2019, 2298, 2621, 2985, 3415, 3828, 4239, 4686, 5059, 5392, 5660, 5991, 6362, 6715, 7056, 7409, 7648, 7884, 8157, 8473, 8816, 9180, 9556, 9874, 10103, 10447, 10791, 11108, 11430, 11771, 11999, 12186, 12433, 12699, 12934, 13137, 13353, 13536, 13646, 13795, 14011, 14165, 14323, 14501, 14599, 14675, 14802, 14929, 15021, 15113, 15232, 15312, 15371, 15455, 15567, 15648, 15723, 15807, 15864, 15906, 15940, 16002, 16080, 16139, 16189, 16230, 16260, 16310, 16371, 16411, 16460, 16493, 16523, 16541, 16580, 16602, 16606], \"yaxis\": \"y\"}, {\"hovertemplate\": \"<b>%{hovertext}</b><br><br>Area name=East Midlands<br>Specimen date=%{x}<br>Cumulative lab-confirmed cases=%{y}<extra></extra>\", \"hovertext\": [\"East Midlands\", \"East Midlands\", \"East Midlands\", \"East Midlands\", \"East Midlands\", \"East Midlands\", \"East Midlands\", \"East Midlands\", \"East Midlands\", \"East Midlands\", \"East Midlands\", \"East Midlands\", \"East Midlands\", \"East Midlands\", \"East Midlands\", \"East Midlands\", \"East Midlands\", \"East Midlands\", \"East Midlands\", \"East Midlands\", \"East Midlands\", \"East Midlands\", \"East Midlands\", \"East Midlands\", \"East Midlands\", \"East Midlands\", \"East Midlands\", \"East Midlands\", \"East Midlands\", \"East Midlands\", \"East Midlands\", \"East Midlands\", \"East Midlands\", \"East Midlands\", \"East Midlands\", \"East Midlands\", \"East Midlands\", \"East Midlands\", \"East Midlands\", \"East Midlands\", \"East Midlands\", \"East Midlands\", \"East Midlands\", \"East Midlands\", \"East Midlands\", \"East Midlands\", \"East Midlands\", \"East Midlands\", \"East Midlands\", \"East Midlands\", \"East Midlands\", \"East Midlands\", \"East Midlands\", \"East Midlands\", \"East Midlands\", \"East Midlands\", \"East Midlands\", \"East Midlands\", \"East Midlands\", \"East Midlands\", \"East Midlands\", \"East Midlands\", \"East Midlands\", \"East Midlands\", \"East Midlands\", \"East Midlands\", \"East Midlands\", \"East Midlands\", \"East Midlands\", \"East Midlands\", \"East Midlands\", \"East Midlands\", \"East Midlands\", \"East Midlands\", \"East Midlands\", \"East Midlands\", \"East Midlands\", \"East Midlands\", \"East Midlands\", \"East Midlands\", \"East Midlands\", \"East Midlands\", \"East Midlands\", \"East Midlands\", \"East Midlands\", \"East Midlands\", \"East Midlands\", \"East Midlands\", \"East Midlands\", \"East Midlands\", \"East Midlands\", \"East Midlands\", \"East Midlands\", \"East Midlands\", \"East Midlands\", \"East Midlands\", \"East Midlands\", \"East Midlands\", \"East Midlands\", \"East Midlands\", \"East Midlands\", \"East Midlands\", \"East Midlands\", \"East Midlands\", \"East Midlands\", \"East Midlands\", \"East Midlands\"], \"legendgroup\": \"East Midlands\", \"line\": {\"color\": \"#FF6692\", \"dash\": \"solid\"}, \"mode\": \"lines+markers\", \"name\": \"East Midlands\", \"orientation\": \"v\", \"showlegend\": true, \"type\": \"scatter\", \"x\": [\"2020-02-21\", \"2020-02-25\", \"2020-02-27\", \"2020-02-28\", \"2020-02-29\", \"2020-03-01\", \"2020-03-02\", \"2020-03-03\", \"2020-03-04\", \"2020-03-05\", \"2020-03-06\", \"2020-03-07\", \"2020-03-08\", \"2020-03-09\", \"2020-03-10\", \"2020-03-11\", \"2020-03-12\", \"2020-03-13\", \"2020-03-14\", \"2020-03-15\", \"2020-03-16\", \"2020-03-17\", \"2020-03-18\", \"2020-03-19\", \"2020-03-20\", \"2020-03-21\", \"2020-03-22\", \"2020-03-23\", \"2020-03-24\", \"2020-03-25\", \"2020-03-26\", \"2020-03-27\", \"2020-03-28\", \"2020-03-29\", \"2020-03-30\", \"2020-03-31\", \"2020-04-01\", \"2020-04-02\", \"2020-04-03\", \"2020-04-04\", \"2020-04-05\", \"2020-04-06\", \"2020-04-07\", \"2020-04-08\", \"2020-04-09\", \"2020-04-10\", \"2020-04-11\", \"2020-04-12\", \"2020-04-13\", \"2020-04-14\", \"2020-04-15\", \"2020-04-16\", \"2020-04-17\", \"2020-04-18\", \"2020-04-19\", \"2020-04-20\", \"2020-04-21\", \"2020-04-22\", \"2020-04-23\", \"2020-04-24\", \"2020-04-25\", \"2020-04-26\", \"2020-04-27\", \"2020-04-28\", \"2020-04-29\", \"2020-04-30\", \"2020-05-01\", \"2020-05-02\", \"2020-05-03\", \"2020-05-04\", \"2020-05-05\", \"2020-05-06\", \"2020-05-07\", \"2020-05-08\", \"2020-05-09\", \"2020-05-10\", \"2020-05-11\", \"2020-05-12\", \"2020-05-13\", \"2020-05-14\", \"2020-05-15\", \"2020-05-16\", \"2020-05-17\", \"2020-05-18\", \"2020-05-19\", \"2020-05-20\", \"2020-05-21\", \"2020-05-22\", \"2020-05-23\", \"2020-05-24\", \"2020-05-25\", \"2020-05-26\", \"2020-05-27\", \"2020-05-28\", \"2020-05-29\", \"2020-05-30\", \"2020-05-31\", \"2020-06-01\", \"2020-06-02\", \"2020-06-03\", \"2020-06-04\", \"2020-06-05\", \"2020-06-06\", \"2020-06-07\", \"2020-06-08\", \"2020-06-09\", \"2020-06-10\"], \"xaxis\": \"x\", \"y\": [1, 2, 3, 4, 5, 6, 8, 15, 17, 20, 27, 31, 32, 42, 54, 79, 97, 119, 138, 164, 198, 231, 280, 346, 399, 468, 567, 684, 820, 936, 1090, 1226, 1385, 1514, 1721, 1997, 2293, 2506, 2765, 2954, 3102, 3316, 3519, 3707, 3939, 4112, 4280, 4427, 4563, 4754, 4928, 5129, 5321, 5417, 5570, 5743, 5889, 6030, 6172, 6334, 6445, 6563, 6730, 6870, 7004, 7091, 7184, 7241, 7275, 7378, 7456, 7556, 7699, 7772, 7848, 7918, 8021, 8116, 8224, 8288, 8374, 8444, 8513, 8608, 8672, 8734, 8803, 8872, 8921, 8947, 8987, 9033, 9086, 9124, 9167, 9208, 9239, 9281, 9327, 9355, 9374, 9403, 9416, 9432, 9455, 9472, 9477], \"yaxis\": \"y\"}, {\"hovertemplate\": \"<b>%{hovertext}</b><br><br>Area name=North West<br>Specimen date=%{x}<br>Cumulative lab-confirmed cases=%{y}<extra></extra>\", \"hovertext\": [\"North West\", \"North West\", \"North West\", \"North West\", \"North West\", \"North West\", \"North West\", \"North West\", \"North West\", \"North West\", \"North West\", \"North West\", \"North West\", \"North West\", \"North West\", \"North West\", \"North West\", \"North West\", \"North West\", \"North West\", \"North West\", \"North West\", \"North West\", \"North West\", \"North West\", \"North West\", \"North West\", \"North West\", \"North West\", \"North West\", \"North West\", \"North West\", \"North West\", \"North West\", \"North West\", \"North West\", \"North West\", \"North West\", \"North West\", \"North West\", \"North West\", \"North West\", \"North West\", \"North West\", \"North West\", \"North West\", \"North West\", \"North West\", \"North West\", \"North West\", \"North West\", \"North West\", \"North West\", \"North West\", \"North West\", \"North West\", \"North West\", \"North West\", \"North West\", \"North West\", \"North West\", \"North West\", \"North West\", \"North West\", \"North West\", \"North West\", \"North West\", \"North West\", \"North West\", \"North West\", \"North West\", \"North West\", \"North West\", \"North West\", \"North West\", \"North West\", \"North West\", \"North West\", \"North West\", \"North West\", \"North West\", \"North West\", \"North West\", \"North West\", \"North West\", \"North West\", \"North West\", \"North West\", \"North West\", \"North West\", \"North West\", \"North West\", \"North West\", \"North West\", \"North West\", \"North West\", \"North West\", \"North West\", \"North West\", \"North West\", \"North West\", \"North West\", \"North West\"], \"legendgroup\": \"North West\", \"line\": {\"color\": \"#B6E880\", \"dash\": \"solid\"}, \"mode\": \"lines+markers\", \"name\": \"North West\", \"orientation\": \"v\", \"showlegend\": true, \"type\": \"scatter\", \"x\": [\"2020-02-28\", \"2020-03-01\", \"2020-03-02\", \"2020-03-03\", \"2020-03-04\", \"2020-03-05\", \"2020-03-06\", \"2020-03-07\", \"2020-03-08\", \"2020-03-09\", \"2020-03-10\", \"2020-03-11\", \"2020-03-12\", \"2020-03-13\", \"2020-03-14\", \"2020-03-15\", \"2020-03-16\", \"2020-03-17\", \"2020-03-18\", \"2020-03-19\", \"2020-03-20\", \"2020-03-21\", \"2020-03-22\", \"2020-03-23\", \"2020-03-24\", \"2020-03-25\", \"2020-03-26\", \"2020-03-27\", \"2020-03-28\", \"2020-03-29\", \"2020-03-30\", \"2020-03-31\", \"2020-04-01\", \"2020-04-02\", \"2020-04-03\", \"2020-04-04\", \"2020-04-05\", \"2020-04-06\", \"2020-04-07\", \"2020-04-08\", \"2020-04-09\", \"2020-04-10\", \"2020-04-11\", \"2020-04-12\", \"2020-04-13\", \"2020-04-14\", \"2020-04-15\", \"2020-04-16\", \"2020-04-17\", \"2020-04-18\", \"2020-04-19\", \"2020-04-20\", \"2020-04-21\", \"2020-04-22\", \"2020-04-23\", \"2020-04-24\", \"2020-04-25\", \"2020-04-26\", \"2020-04-27\", \"2020-04-28\", \"2020-04-29\", \"2020-04-30\", \"2020-05-01\", \"2020-05-02\", \"2020-05-03\", \"2020-05-04\", \"2020-05-05\", \"2020-05-06\", \"2020-05-07\", \"2020-05-08\", \"2020-05-09\", \"2020-05-10\", \"2020-05-11\", \"2020-05-12\", \"2020-05-13\", \"2020-05-14\", \"2020-05-15\", \"2020-05-16\", \"2020-05-17\", \"2020-05-18\", \"2020-05-19\", \"2020-05-20\", \"2020-05-21\", \"2020-05-22\", \"2020-05-23\", \"2020-05-24\", \"2020-05-25\", \"2020-05-26\", \"2020-05-27\", \"2020-05-28\", \"2020-05-29\", \"2020-05-30\", \"2020-05-31\", \"2020-06-01\", \"2020-06-02\", \"2020-06-03\", \"2020-06-04\", \"2020-06-05\", \"2020-06-06\", \"2020-06-07\", \"2020-06-08\", \"2020-06-09\", \"2020-06-10\"], \"xaxis\": \"x\", \"y\": [1, 9, 15, 22, 24, 34, 36, 42, 47, 54, 69, 86, 126, 167, 192, 215, 271, 326, 410, 508, 590, 704, 821, 997, 1252, 1508, 1865, 2198, 2519, 2878, 3384, 3940, 4558, 5239, 5922, 6528, 7153, 8027, 8818, 9671, 10475, 11077, 11686, 12172, 12779, 13411, 13998, 14579, 15153, 15594, 15965, 16479, 17029, 17514, 18016, 18466, 18768, 19015, 19394, 19802, 20203, 20587, 20929, 21124, 21310, 21573, 21862, 22102, 22314, 22489, 22657, 22785, 23041, 23241, 23430, 23600, 23773, 23952, 24103, 24299, 24538, 24736, 24872, 25012, 25116, 25206, 25310, 25427, 25525, 25618, 25720, 25796, 25854, 25944, 26047, 26133, 26205, 26266, 26304, 26346, 26387, 26407, 26412], \"yaxis\": \"y\"}, {\"hovertemplate\": \"<b>%{hovertext}</b><br><br>Area name=North East<br>Specimen date=%{x}<br>Cumulative lab-confirmed cases=%{y}<extra></extra>\", \"hovertext\": [\"North East\", \"North East\", \"North East\", \"North East\", \"North East\", \"North East\", \"North East\", \"North East\", \"North East\", \"North East\", \"North East\", \"North East\", \"North East\", \"North East\", \"North East\", \"North East\", \"North East\", \"North East\", \"North East\", \"North East\", \"North East\", \"North East\", \"North East\", \"North East\", \"North East\", \"North East\", \"North East\", \"North East\", \"North East\", \"North East\", \"North East\", \"North East\", \"North East\", \"North East\", \"North East\", \"North East\", \"North East\", \"North East\", \"North East\", \"North East\", \"North East\", \"North East\", \"North East\", \"North East\", \"North East\", \"North East\", \"North East\", \"North East\", \"North East\", \"North East\", \"North East\", \"North East\", \"North East\", \"North East\", \"North East\", \"North East\", \"North East\", \"North East\", \"North East\", \"North East\", \"North East\", \"North East\", \"North East\", \"North East\", \"North East\", \"North East\", \"North East\", \"North East\", \"North East\", \"North East\", \"North East\", \"North East\", \"North East\", \"North East\", \"North East\", \"North East\", \"North East\", \"North East\", \"North East\", \"North East\", \"North East\", \"North East\", \"North East\", \"North East\", \"North East\", \"North East\", \"North East\", \"North East\", \"North East\", \"North East\", \"North East\", \"North East\", \"North East\", \"North East\", \"North East\", \"North East\", \"North East\", \"North East\", \"North East\"], \"legendgroup\": \"North East\", \"line\": {\"color\": \"#FF97FF\", \"dash\": \"solid\"}, \"mode\": \"lines+markers\", \"name\": \"North East\", \"orientation\": \"v\", \"showlegend\": true, \"type\": \"scatter\", \"x\": [\"2020-03-02\", \"2020-03-04\", \"2020-03-05\", \"2020-03-06\", \"2020-03-07\", \"2020-03-09\", \"2020-03-10\", \"2020-03-11\", \"2020-03-12\", \"2020-03-13\", \"2020-03-14\", \"2020-03-15\", \"2020-03-16\", \"2020-03-17\", \"2020-03-18\", \"2020-03-19\", \"2020-03-20\", \"2020-03-21\", \"2020-03-22\", \"2020-03-23\", \"2020-03-24\", \"2020-03-25\", \"2020-03-26\", \"2020-03-27\", \"2020-03-28\", \"2020-03-29\", \"2020-03-30\", \"2020-03-31\", \"2020-04-01\", \"2020-04-02\", \"2020-04-03\", \"2020-04-04\", \"2020-04-05\", \"2020-04-06\", \"2020-04-07\", \"2020-04-08\", \"2020-04-09\", \"2020-04-10\", \"2020-04-11\", \"2020-04-12\", \"2020-04-13\", \"2020-04-14\", \"2020-04-15\", \"2020-04-16\", \"2020-04-17\", \"2020-04-18\", \"2020-04-19\", \"2020-04-20\", \"2020-04-21\", \"2020-04-22\", \"2020-04-23\", \"2020-04-24\", \"2020-04-25\", \"2020-04-26\", \"2020-04-27\", \"2020-04-28\", \"2020-04-29\", \"2020-04-30\", \"2020-05-01\", \"2020-05-02\", \"2020-05-03\", \"2020-05-04\", \"2020-05-05\", \"2020-05-06\", \"2020-05-07\", \"2020-05-08\", \"2020-05-09\", \"2020-05-10\", \"2020-05-11\", \"2020-05-12\", \"2020-05-13\", \"2020-05-14\", \"2020-05-15\", \"2020-05-16\", \"2020-05-17\", \"2020-05-18\", \"2020-05-19\", \"2020-05-20\", \"2020-05-21\", \"2020-05-22\", \"2020-05-23\", \"2020-05-24\", \"2020-05-25\", \"2020-05-26\", \"2020-05-27\", \"2020-05-28\", \"2020-05-29\", \"2020-05-30\", \"2020-05-31\", \"2020-06-01\", \"2020-06-02\", \"2020-06-03\", \"2020-06-04\", \"2020-06-05\", \"2020-06-06\", \"2020-06-07\", \"2020-06-08\", \"2020-06-09\", \"2020-06-10\"], \"xaxis\": \"x\", \"y\": [1, 2, 4, 5, 7, 10, 14, 15, 17, 23, 29, 39, 46, 62, 76, 95, 121, 144, 164, 222, 298, 374, 471, 573, 686, 793, 969, 1179, 1487, 1706, 1967, 2221, 2442, 2817, 3168, 3459, 3773, 4018, 4285, 4486, 4718, 4975, 5200, 5399, 5619, 5848, 6008, 6267, 6501, 6705, 6924, 7141, 7265, 7350, 7551, 7776, 7990, 8223, 8383, 8460, 8527, 8708, 8852, 8984, 9104, 9184, 9285, 9352, 9436, 9526, 9588, 9645, 9698, 9742, 9779, 9846, 9897, 9949, 9996, 10036, 10063, 10094, 10123, 10158, 10210, 10233, 10260, 10270, 10283, 10300, 10320, 10340, 10354, 10372, 10385, 10390, 10400, 10410, 10413], \"yaxis\": \"y\"}],\n",
       "                        {\"legend\": {\"title\": {\"text\": \"Area name\"}, \"tracegroupgap\": 0}, \"margin\": {\"t\": 60}, \"template\": {\"data\": {\"bar\": [{\"error_x\": {\"color\": \"#2a3f5f\"}, \"error_y\": {\"color\": \"#2a3f5f\"}, \"marker\": {\"line\": {\"color\": \"#E5ECF6\", \"width\": 0.5}}, \"type\": \"bar\"}], \"barpolar\": [{\"marker\": {\"line\": {\"color\": \"#E5ECF6\", \"width\": 0.5}}, \"type\": \"barpolar\"}], \"carpet\": [{\"aaxis\": {\"endlinecolor\": \"#2a3f5f\", \"gridcolor\": \"white\", \"linecolor\": \"white\", \"minorgridcolor\": \"white\", \"startlinecolor\": \"#2a3f5f\"}, \"baxis\": {\"endlinecolor\": \"#2a3f5f\", \"gridcolor\": \"white\", \"linecolor\": \"white\", \"minorgridcolor\": \"white\", \"startlinecolor\": \"#2a3f5f\"}, \"type\": \"carpet\"}], \"choropleth\": [{\"colorbar\": {\"outlinewidth\": 0, \"ticks\": \"\"}, \"type\": \"choropleth\"}], \"contour\": [{\"colorbar\": {\"outlinewidth\": 0, \"ticks\": \"\"}, \"colorscale\": [[0.0, \"#0d0887\"], [0.1111111111111111, \"#46039f\"], [0.2222222222222222, \"#7201a8\"], [0.3333333333333333, \"#9c179e\"], [0.4444444444444444, \"#bd3786\"], [0.5555555555555556, \"#d8576b\"], [0.6666666666666666, \"#ed7953\"], [0.7777777777777778, \"#fb9f3a\"], [0.8888888888888888, \"#fdca26\"], [1.0, \"#f0f921\"]], \"type\": \"contour\"}], \"contourcarpet\": [{\"colorbar\": {\"outlinewidth\": 0, \"ticks\": \"\"}, \"type\": \"contourcarpet\"}], \"heatmap\": [{\"colorbar\": {\"outlinewidth\": 0, \"ticks\": \"\"}, \"colorscale\": [[0.0, \"#0d0887\"], [0.1111111111111111, \"#46039f\"], [0.2222222222222222, \"#7201a8\"], [0.3333333333333333, \"#9c179e\"], [0.4444444444444444, \"#bd3786\"], [0.5555555555555556, \"#d8576b\"], [0.6666666666666666, \"#ed7953\"], [0.7777777777777778, \"#fb9f3a\"], [0.8888888888888888, \"#fdca26\"], [1.0, \"#f0f921\"]], \"type\": \"heatmap\"}], \"heatmapgl\": [{\"colorbar\": {\"outlinewidth\": 0, \"ticks\": \"\"}, \"colorscale\": [[0.0, \"#0d0887\"], [0.1111111111111111, \"#46039f\"], [0.2222222222222222, \"#7201a8\"], [0.3333333333333333, \"#9c179e\"], [0.4444444444444444, \"#bd3786\"], [0.5555555555555556, \"#d8576b\"], [0.6666666666666666, \"#ed7953\"], [0.7777777777777778, \"#fb9f3a\"], [0.8888888888888888, \"#fdca26\"], [1.0, \"#f0f921\"]], \"type\": \"heatmapgl\"}], \"histogram\": [{\"marker\": {\"colorbar\": {\"outlinewidth\": 0, \"ticks\": \"\"}}, \"type\": \"histogram\"}], \"histogram2d\": [{\"colorbar\": {\"outlinewidth\": 0, \"ticks\": \"\"}, \"colorscale\": [[0.0, \"#0d0887\"], [0.1111111111111111, \"#46039f\"], [0.2222222222222222, \"#7201a8\"], [0.3333333333333333, \"#9c179e\"], [0.4444444444444444, \"#bd3786\"], [0.5555555555555556, \"#d8576b\"], [0.6666666666666666, \"#ed7953\"], [0.7777777777777778, \"#fb9f3a\"], [0.8888888888888888, \"#fdca26\"], [1.0, \"#f0f921\"]], \"type\": \"histogram2d\"}], \"histogram2dcontour\": [{\"colorbar\": {\"outlinewidth\": 0, \"ticks\": \"\"}, \"colorscale\": [[0.0, \"#0d0887\"], [0.1111111111111111, \"#46039f\"], [0.2222222222222222, \"#7201a8\"], [0.3333333333333333, \"#9c179e\"], [0.4444444444444444, \"#bd3786\"], [0.5555555555555556, \"#d8576b\"], [0.6666666666666666, \"#ed7953\"], [0.7777777777777778, \"#fb9f3a\"], [0.8888888888888888, \"#fdca26\"], [1.0, \"#f0f921\"]], \"type\": \"histogram2dcontour\"}], \"mesh3d\": [{\"colorbar\": {\"outlinewidth\": 0, \"ticks\": \"\"}, \"type\": \"mesh3d\"}], \"parcoords\": [{\"line\": {\"colorbar\": {\"outlinewidth\": 0, \"ticks\": \"\"}}, \"type\": \"parcoords\"}], \"pie\": [{\"automargin\": true, \"type\": \"pie\"}], \"scatter\": [{\"marker\": {\"colorbar\": {\"outlinewidth\": 0, \"ticks\": \"\"}}, \"type\": \"scatter\"}], \"scatter3d\": [{\"line\": {\"colorbar\": {\"outlinewidth\": 0, \"ticks\": \"\"}}, \"marker\": {\"colorbar\": {\"outlinewidth\": 0, \"ticks\": \"\"}}, \"type\": \"scatter3d\"}], \"scattercarpet\": [{\"marker\": {\"colorbar\": {\"outlinewidth\": 0, \"ticks\": \"\"}}, \"type\": \"scattercarpet\"}], \"scattergeo\": [{\"marker\": {\"colorbar\": {\"outlinewidth\": 0, \"ticks\": \"\"}}, \"type\": \"scattergeo\"}], \"scattergl\": [{\"marker\": {\"colorbar\": {\"outlinewidth\": 0, \"ticks\": \"\"}}, \"type\": \"scattergl\"}], \"scattermapbox\": [{\"marker\": {\"colorbar\": {\"outlinewidth\": 0, \"ticks\": \"\"}}, \"type\": \"scattermapbox\"}], \"scatterpolar\": [{\"marker\": {\"colorbar\": {\"outlinewidth\": 0, \"ticks\": \"\"}}, \"type\": \"scatterpolar\"}], \"scatterpolargl\": [{\"marker\": {\"colorbar\": {\"outlinewidth\": 0, \"ticks\": \"\"}}, \"type\": \"scatterpolargl\"}], \"scatterternary\": [{\"marker\": {\"colorbar\": {\"outlinewidth\": 0, \"ticks\": \"\"}}, \"type\": \"scatterternary\"}], \"surface\": [{\"colorbar\": {\"outlinewidth\": 0, \"ticks\": \"\"}, \"colorscale\": [[0.0, \"#0d0887\"], [0.1111111111111111, \"#46039f\"], [0.2222222222222222, \"#7201a8\"], [0.3333333333333333, \"#9c179e\"], [0.4444444444444444, \"#bd3786\"], [0.5555555555555556, \"#d8576b\"], [0.6666666666666666, \"#ed7953\"], [0.7777777777777778, \"#fb9f3a\"], [0.8888888888888888, \"#fdca26\"], [1.0, \"#f0f921\"]], \"type\": \"surface\"}], \"table\": [{\"cells\": {\"fill\": {\"color\": \"#EBF0F8\"}, \"line\": {\"color\": \"white\"}}, \"header\": {\"fill\": {\"color\": \"#C8D4E3\"}, \"line\": {\"color\": \"white\"}}, \"type\": \"table\"}]}, \"layout\": {\"annotationdefaults\": {\"arrowcolor\": \"#2a3f5f\", \"arrowhead\": 0, \"arrowwidth\": 1}, \"coloraxis\": {\"colorbar\": {\"outlinewidth\": 0, \"ticks\": \"\"}}, \"colorscale\": {\"diverging\": [[0, \"#8e0152\"], [0.1, \"#c51b7d\"], [0.2, \"#de77ae\"], [0.3, \"#f1b6da\"], [0.4, \"#fde0ef\"], [0.5, \"#f7f7f7\"], [0.6, \"#e6f5d0\"], [0.7, \"#b8e186\"], [0.8, \"#7fbc41\"], [0.9, \"#4d9221\"], [1, \"#276419\"]], \"sequential\": [[0.0, \"#0d0887\"], [0.1111111111111111, \"#46039f\"], [0.2222222222222222, \"#7201a8\"], [0.3333333333333333, \"#9c179e\"], [0.4444444444444444, \"#bd3786\"], [0.5555555555555556, \"#d8576b\"], [0.6666666666666666, \"#ed7953\"], [0.7777777777777778, \"#fb9f3a\"], [0.8888888888888888, \"#fdca26\"], [1.0, \"#f0f921\"]], \"sequentialminus\": [[0.0, \"#0d0887\"], [0.1111111111111111, \"#46039f\"], [0.2222222222222222, \"#7201a8\"], [0.3333333333333333, \"#9c179e\"], [0.4444444444444444, \"#bd3786\"], [0.5555555555555556, \"#d8576b\"], [0.6666666666666666, \"#ed7953\"], [0.7777777777777778, \"#fb9f3a\"], [0.8888888888888888, \"#fdca26\"], [1.0, \"#f0f921\"]]}, \"colorway\": [\"#636efa\", \"#EF553B\", \"#00cc96\", \"#ab63fa\", \"#FFA15A\", \"#19d3f3\", \"#FF6692\", \"#B6E880\", \"#FF97FF\", \"#FECB52\"], \"font\": {\"color\": \"#2a3f5f\"}, \"geo\": {\"bgcolor\": \"white\", \"lakecolor\": \"white\", \"landcolor\": \"#E5ECF6\", \"showlakes\": true, \"showland\": true, \"subunitcolor\": \"white\"}, \"hoverlabel\": {\"align\": \"left\"}, \"hovermode\": \"closest\", \"mapbox\": {\"style\": \"light\"}, \"paper_bgcolor\": \"white\", \"plot_bgcolor\": \"#E5ECF6\", \"polar\": {\"angularaxis\": {\"gridcolor\": \"white\", \"linecolor\": \"white\", \"ticks\": \"\"}, \"bgcolor\": \"#E5ECF6\", \"radialaxis\": {\"gridcolor\": \"white\", \"linecolor\": \"white\", \"ticks\": \"\"}}, \"scene\": {\"xaxis\": {\"backgroundcolor\": \"#E5ECF6\", \"gridcolor\": \"white\", \"gridwidth\": 2, \"linecolor\": \"white\", \"showbackground\": true, \"ticks\": \"\", \"zerolinecolor\": \"white\"}, \"yaxis\": {\"backgroundcolor\": \"#E5ECF6\", \"gridcolor\": \"white\", \"gridwidth\": 2, \"linecolor\": \"white\", \"showbackground\": true, \"ticks\": \"\", \"zerolinecolor\": \"white\"}, \"zaxis\": {\"backgroundcolor\": \"#E5ECF6\", \"gridcolor\": \"white\", \"gridwidth\": 2, \"linecolor\": \"white\", \"showbackground\": true, \"ticks\": \"\", \"zerolinecolor\": \"white\"}}, \"shapedefaults\": {\"line\": {\"color\": \"#2a3f5f\"}}, \"ternary\": {\"aaxis\": {\"gridcolor\": \"white\", \"linecolor\": \"white\", \"ticks\": \"\"}, \"baxis\": {\"gridcolor\": \"white\", \"linecolor\": \"white\", \"ticks\": \"\"}, \"bgcolor\": \"#E5ECF6\", \"caxis\": {\"gridcolor\": \"white\", \"linecolor\": \"white\", \"ticks\": \"\"}}, \"title\": {\"x\": 0.05}, \"xaxis\": {\"automargin\": true, \"gridcolor\": \"white\", \"linecolor\": \"white\", \"ticks\": \"\", \"title\": {\"standoff\": 15}, \"zerolinecolor\": \"white\", \"zerolinewidth\": 2}, \"yaxis\": {\"automargin\": true, \"gridcolor\": \"white\", \"linecolor\": \"white\", \"ticks\": \"\", \"title\": {\"standoff\": 15}, \"zerolinecolor\": \"white\", \"zerolinewidth\": 2}}}, \"xaxis\": {\"anchor\": \"y\", \"domain\": [0.0, 1.0], \"title\": {\"text\": \"Specimen date\"}}, \"yaxis\": {\"anchor\": \"x\", \"domain\": [0.0, 1.0], \"title\": {\"text\": \"Cumulative lab-confirmed cases\"}}},\n",
       "                        {\"responsive\": true}\n",
       "                    ).then(function(){\n",
       "                            \n",
       "var gd = document.getElementById('b2edc689-8126-4f1c-aeb9-fb8131754e30');\n",
       "var x = new MutationObserver(function (mutations, observer) {{\n",
       "        var display = window.getComputedStyle(gd).display;\n",
       "        if (!display || display === 'none') {{\n",
       "            console.log([gd, 'removed!']);\n",
       "            Plotly.purge(gd);\n",
       "            observer.disconnect();\n",
       "        }}\n",
       "}});\n",
       "\n",
       "// Listen for the removal of the full notebook cells\n",
       "var notebookContainer = gd.closest('#notebook-container');\n",
       "if (notebookContainer) {{\n",
       "    x.observe(notebookContainer, {childList: true});\n",
       "}}\n",
       "\n",
       "// Listen for the clearing of the current output cell\n",
       "var outputEl = gd.closest('.output');\n",
       "if (outputEl) {{\n",
       "    x.observe(outputEl, {childList: true});\n",
       "}}\n",
       "\n",
       "                        })\n",
       "                };\n",
       "                });\n",
       "            </script>\n",
       "        </div>"
      ]
     },
     "metadata": {},
     "output_type": "display_data"
    }
   ],
   "source": [
    "plot_line_graph('Cumulative lab-confirmed cases')"
   ]
  },
  {
   "cell_type": "code",
   "execution_count": 29,
   "metadata": {},
   "outputs": [
    {
     "data": {
      "application/vnd.plotly.v1+json": {
       "config": {
        "plotlyServerURL": "https://plot.ly"
       },
       "data": [
        {
         "hovertemplate": "<b>%{hovertext}</b><br><br>Area name=Yorkshire and The Humber<br>Specimen date=%{x}<br>Cumulative lab-confirmed cases=%{y}<extra></extra>",
         "hovertext": [
          "Yorkshire and The Humber",
          "Yorkshire and The Humber",
          "Yorkshire and The Humber",
          "Yorkshire and The Humber",
          "Yorkshire and The Humber",
          "Yorkshire and The Humber",
          "Yorkshire and The Humber",
          "Yorkshire and The Humber",
          "Yorkshire and The Humber",
          "Yorkshire and The Humber",
          "Yorkshire and The Humber",
          "Yorkshire and The Humber",
          "Yorkshire and The Humber",
          "Yorkshire and The Humber",
          "Yorkshire and The Humber",
          "Yorkshire and The Humber",
          "Yorkshire and The Humber",
          "Yorkshire and The Humber",
          "Yorkshire and The Humber",
          "Yorkshire and The Humber",
          "Yorkshire and The Humber",
          "Yorkshire and The Humber",
          "Yorkshire and The Humber",
          "Yorkshire and The Humber",
          "Yorkshire and The Humber",
          "Yorkshire and The Humber",
          "Yorkshire and The Humber",
          "Yorkshire and The Humber",
          "Yorkshire and The Humber",
          "Yorkshire and The Humber",
          "Yorkshire and The Humber",
          "Yorkshire and The Humber",
          "Yorkshire and The Humber",
          "Yorkshire and The Humber",
          "Yorkshire and The Humber",
          "Yorkshire and The Humber",
          "Yorkshire and The Humber",
          "Yorkshire and The Humber",
          "Yorkshire and The Humber",
          "Yorkshire and The Humber",
          "Yorkshire and The Humber",
          "Yorkshire and The Humber",
          "Yorkshire and The Humber",
          "Yorkshire and The Humber",
          "Yorkshire and The Humber",
          "Yorkshire and The Humber",
          "Yorkshire and The Humber",
          "Yorkshire and The Humber",
          "Yorkshire and The Humber",
          "Yorkshire and The Humber",
          "Yorkshire and The Humber",
          "Yorkshire and The Humber",
          "Yorkshire and The Humber",
          "Yorkshire and The Humber",
          "Yorkshire and The Humber",
          "Yorkshire and The Humber",
          "Yorkshire and The Humber",
          "Yorkshire and The Humber",
          "Yorkshire and The Humber",
          "Yorkshire and The Humber",
          "Yorkshire and The Humber",
          "Yorkshire and The Humber",
          "Yorkshire and The Humber",
          "Yorkshire and The Humber",
          "Yorkshire and The Humber",
          "Yorkshire and The Humber",
          "Yorkshire and The Humber",
          "Yorkshire and The Humber",
          "Yorkshire and The Humber",
          "Yorkshire and The Humber",
          "Yorkshire and The Humber",
          "Yorkshire and The Humber",
          "Yorkshire and The Humber",
          "Yorkshire and The Humber",
          "Yorkshire and The Humber",
          "Yorkshire and The Humber",
          "Yorkshire and The Humber",
          "Yorkshire and The Humber",
          "Yorkshire and The Humber",
          "Yorkshire and The Humber",
          "Yorkshire and The Humber",
          "Yorkshire and The Humber",
          "Yorkshire and The Humber",
          "Yorkshire and The Humber",
          "Yorkshire and The Humber",
          "Yorkshire and The Humber",
          "Yorkshire and The Humber",
          "Yorkshire and The Humber",
          "Yorkshire and The Humber",
          "Yorkshire and The Humber",
          "Yorkshire and The Humber",
          "Yorkshire and The Humber",
          "Yorkshire and The Humber",
          "Yorkshire and The Humber",
          "Yorkshire and The Humber",
          "Yorkshire and The Humber",
          "Yorkshire and The Humber",
          "Yorkshire and The Humber",
          "Yorkshire and The Humber",
          "Yorkshire and The Humber",
          "Yorkshire and The Humber",
          "Yorkshire and The Humber",
          "Yorkshire and The Humber",
          "Yorkshire and The Humber",
          "Yorkshire and The Humber",
          "Yorkshire and The Humber"
         ],
         "legendgroup": "Yorkshire and The Humber",
         "line": {
          "color": "#636efa",
          "dash": "solid"
         },
         "mode": "lines+markers",
         "name": "Yorkshire and The Humber",
         "orientation": "v",
         "showlegend": true,
         "type": "scatter",
         "x": [
          "2020-01-30",
          "2020-02-03",
          "2020-02-28",
          "2020-02-29",
          "2020-03-01",
          "2020-03-02",
          "2020-03-03",
          "2020-03-04",
          "2020-03-05",
          "2020-03-06",
          "2020-03-07",
          "2020-03-08",
          "2020-03-09",
          "2020-03-10",
          "2020-03-11",
          "2020-03-12",
          "2020-03-13",
          "2020-03-14",
          "2020-03-15",
          "2020-03-16",
          "2020-03-17",
          "2020-03-18",
          "2020-03-19",
          "2020-03-20",
          "2020-03-21",
          "2020-03-22",
          "2020-03-23",
          "2020-03-24",
          "2020-03-25",
          "2020-03-26",
          "2020-03-27",
          "2020-03-28",
          "2020-03-29",
          "2020-03-30",
          "2020-03-31",
          "2020-04-01",
          "2020-04-02",
          "2020-04-03",
          "2020-04-04",
          "2020-04-05",
          "2020-04-06",
          "2020-04-07",
          "2020-04-08",
          "2020-04-09",
          "2020-04-10",
          "2020-04-11",
          "2020-04-12",
          "2020-04-13",
          "2020-04-14",
          "2020-04-15",
          "2020-04-16",
          "2020-04-17",
          "2020-04-18",
          "2020-04-19",
          "2020-04-20",
          "2020-04-21",
          "2020-04-22",
          "2020-04-23",
          "2020-04-24",
          "2020-04-25",
          "2020-04-26",
          "2020-04-27",
          "2020-04-28",
          "2020-04-29",
          "2020-04-30",
          "2020-05-01",
          "2020-05-02",
          "2020-05-03",
          "2020-05-04",
          "2020-05-05",
          "2020-05-06",
          "2020-05-07",
          "2020-05-08",
          "2020-05-09",
          "2020-05-10",
          "2020-05-11",
          "2020-05-12",
          "2020-05-13",
          "2020-05-14",
          "2020-05-15",
          "2020-05-16",
          "2020-05-17",
          "2020-05-18",
          "2020-05-19",
          "2020-05-20",
          "2020-05-21",
          "2020-05-22",
          "2020-05-23",
          "2020-05-24",
          "2020-05-25",
          "2020-05-26",
          "2020-05-27",
          "2020-05-28",
          "2020-05-29",
          "2020-05-30",
          "2020-05-31",
          "2020-06-01",
          "2020-06-02",
          "2020-06-03",
          "2020-06-04",
          "2020-06-05",
          "2020-06-06",
          "2020-06-07",
          "2020-06-08",
          "2020-06-09",
          "2020-06-10"
         ],
         "xaxis": "x",
         "y": [
          1,
          2,
          4,
          5,
          9,
          12,
          15,
          17,
          19,
          21,
          26,
          29,
          36,
          54,
          64,
          78,
          90,
          102,
          112,
          140,
          171,
          217,
          272,
          331,
          408,
          502,
          647,
          803,
          954,
          1133,
          1287,
          1494,
          1723,
          2008,
          2328,
          2626,
          2867,
          3160,
          3363,
          3582,
          3904,
          4242,
          4561,
          4860,
          5148,
          5389,
          5638,
          5948,
          6245,
          6631,
          6901,
          7195,
          7458,
          7674,
          7993,
          8287,
          8607,
          8883,
          9274,
          9509,
          9727,
          10042,
          10288,
          10627,
          10911,
          11160,
          11335,
          11496,
          11680,
          11893,
          12079,
          12242,
          12361,
          12476,
          12575,
          12736,
          12880,
          13015,
          13175,
          13310,
          13385,
          13488,
          13567,
          13672,
          13737,
          13833,
          13913,
          13990,
          14041,
          14112,
          14176,
          14237,
          14286,
          14333,
          14382,
          14429,
          14504,
          14559,
          14613,
          14636,
          14674,
          14710,
          14734,
          14755,
          14773,
          14778
         ],
         "yaxis": "y"
        },
        {
         "hovertemplate": "<b>%{hovertext}</b><br><br>Area name=South East<br>Specimen date=%{x}<br>Cumulative lab-confirmed cases=%{y}<extra></extra>",
         "hovertext": [
          "South East",
          "South East",
          "South East",
          "South East",
          "South East",
          "South East",
          "South East",
          "South East",
          "South East",
          "South East",
          "South East",
          "South East",
          "South East",
          "South East",
          "South East",
          "South East",
          "South East",
          "South East",
          "South East",
          "South East",
          "South East",
          "South East",
          "South East",
          "South East",
          "South East",
          "South East",
          "South East",
          "South East",
          "South East",
          "South East",
          "South East",
          "South East",
          "South East",
          "South East",
          "South East",
          "South East",
          "South East",
          "South East",
          "South East",
          "South East",
          "South East",
          "South East",
          "South East",
          "South East",
          "South East",
          "South East",
          "South East",
          "South East",
          "South East",
          "South East",
          "South East",
          "South East",
          "South East",
          "South East",
          "South East",
          "South East",
          "South East",
          "South East",
          "South East",
          "South East",
          "South East",
          "South East",
          "South East",
          "South East",
          "South East",
          "South East",
          "South East",
          "South East",
          "South East",
          "South East",
          "South East",
          "South East",
          "South East",
          "South East",
          "South East",
          "South East",
          "South East",
          "South East",
          "South East",
          "South East",
          "South East",
          "South East",
          "South East",
          "South East",
          "South East",
          "South East",
          "South East",
          "South East",
          "South East",
          "South East",
          "South East",
          "South East",
          "South East",
          "South East",
          "South East",
          "South East",
          "South East",
          "South East",
          "South East",
          "South East",
          "South East",
          "South East",
          "South East",
          "South East",
          "South East",
          "South East",
          "South East",
          "South East",
          "South East",
          "South East",
          "South East",
          "South East"
         ],
         "legendgroup": "South East",
         "line": {
          "color": "#EF553B",
          "dash": "solid"
         },
         "mode": "lines+markers",
         "name": "South East",
         "orientation": "v",
         "showlegend": true,
         "type": "scatter",
         "x": [
          "2020-01-31",
          "2020-02-03",
          "2020-02-05",
          "2020-02-08",
          "2020-02-09",
          "2020-02-23",
          "2020-02-24",
          "2020-02-25",
          "2020-02-27",
          "2020-02-28",
          "2020-03-01",
          "2020-03-02",
          "2020-03-03",
          "2020-03-04",
          "2020-03-05",
          "2020-03-06",
          "2020-03-07",
          "2020-03-08",
          "2020-03-09",
          "2020-03-10",
          "2020-03-11",
          "2020-03-12",
          "2020-03-13",
          "2020-03-14",
          "2020-03-15",
          "2020-03-16",
          "2020-03-17",
          "2020-03-18",
          "2020-03-19",
          "2020-03-20",
          "2020-03-21",
          "2020-03-22",
          "2020-03-23",
          "2020-03-24",
          "2020-03-25",
          "2020-03-26",
          "2020-03-27",
          "2020-03-28",
          "2020-03-29",
          "2020-03-30",
          "2020-03-31",
          "2020-04-01",
          "2020-04-02",
          "2020-04-03",
          "2020-04-04",
          "2020-04-05",
          "2020-04-06",
          "2020-04-07",
          "2020-04-08",
          "2020-04-09",
          "2020-04-10",
          "2020-04-11",
          "2020-04-12",
          "2020-04-13",
          "2020-04-14",
          "2020-04-15",
          "2020-04-16",
          "2020-04-17",
          "2020-04-18",
          "2020-04-19",
          "2020-04-20",
          "2020-04-21",
          "2020-04-22",
          "2020-04-23",
          "2020-04-24",
          "2020-04-25",
          "2020-04-26",
          "2020-04-27",
          "2020-04-28",
          "2020-04-29",
          "2020-04-30",
          "2020-05-01",
          "2020-05-02",
          "2020-05-03",
          "2020-05-04",
          "2020-05-05",
          "2020-05-06",
          "2020-05-07",
          "2020-05-08",
          "2020-05-09",
          "2020-05-10",
          "2020-05-11",
          "2020-05-12",
          "2020-05-13",
          "2020-05-14",
          "2020-05-15",
          "2020-05-16",
          "2020-05-17",
          "2020-05-18",
          "2020-05-19",
          "2020-05-20",
          "2020-05-21",
          "2020-05-22",
          "2020-05-23",
          "2020-05-24",
          "2020-05-25",
          "2020-05-26",
          "2020-05-27",
          "2020-05-28",
          "2020-05-29",
          "2020-05-30",
          "2020-05-31",
          "2020-06-01",
          "2020-06-02",
          "2020-06-03",
          "2020-06-04",
          "2020-06-05",
          "2020-06-06",
          "2020-06-07",
          "2020-06-08",
          "2020-06-09",
          "2020-06-10"
         ],
         "xaxis": "x",
         "y": [
          1,
          2,
          3,
          6,
          7,
          8,
          9,
          10,
          13,
          14,
          17,
          18,
          27,
          34,
          38,
          54,
          58,
          68,
          92,
          126,
          172,
          250,
          302,
          343,
          396,
          474,
          563,
          685,
          812,
          938,
          1066,
          1236,
          1516,
          1751,
          2056,
          2376,
          2707,
          3044,
          3339,
          3814,
          4282,
          4827,
          5306,
          5820,
          6276,
          6699,
          7290,
          8005,
          8559,
          9075,
          9643,
          10021,
          10464,
          11011,
          11518,
          12157,
          12769,
          13397,
          13793,
          14094,
          14548,
          15016,
          15455,
          15836,
          16234,
          16503,
          16715,
          16974,
          17316,
          17614,
          17911,
          18156,
          18332,
          18463,
          18672,
          18905,
          19087,
          19239,
          19361,
          19476,
          19594,
          19769,
          19930,
          20103,
          20231,
          20349,
          20419,
          20496,
          20651,
          20853,
          20982,
          21101,
          21208,
          21247,
          21307,
          21402,
          21488,
          21549,
          21599,
          21643,
          21690,
          21736,
          21793,
          21874,
          21953,
          22007,
          22065,
          22096,
          22120,
          22158,
          22176,
          22179
         ],
         "yaxis": "y"
        },
        {
         "hovertemplate": "<b>%{hovertext}</b><br><br>Area name=East of England<br>Specimen date=%{x}<br>Cumulative lab-confirmed cases=%{y}<extra></extra>",
         "hovertext": [
          "East of England",
          "East of England",
          "East of England",
          "East of England",
          "East of England",
          "East of England",
          "East of England",
          "East of England",
          "East of England",
          "East of England",
          "East of England",
          "East of England",
          "East of England",
          "East of England",
          "East of England",
          "East of England",
          "East of England",
          "East of England",
          "East of England",
          "East of England",
          "East of England",
          "East of England",
          "East of England",
          "East of England",
          "East of England",
          "East of England",
          "East of England",
          "East of England",
          "East of England",
          "East of England",
          "East of England",
          "East of England",
          "East of England",
          "East of England",
          "East of England",
          "East of England",
          "East of England",
          "East of England",
          "East of England",
          "East of England",
          "East of England",
          "East of England",
          "East of England",
          "East of England",
          "East of England",
          "East of England",
          "East of England",
          "East of England",
          "East of England",
          "East of England",
          "East of England",
          "East of England",
          "East of England",
          "East of England",
          "East of England",
          "East of England",
          "East of England",
          "East of England",
          "East of England",
          "East of England",
          "East of England",
          "East of England",
          "East of England",
          "East of England",
          "East of England",
          "East of England",
          "East of England",
          "East of England",
          "East of England",
          "East of England",
          "East of England",
          "East of England",
          "East of England",
          "East of England",
          "East of England",
          "East of England",
          "East of England",
          "East of England",
          "East of England",
          "East of England",
          "East of England",
          "East of England",
          "East of England",
          "East of England",
          "East of England",
          "East of England",
          "East of England",
          "East of England",
          "East of England",
          "East of England",
          "East of England",
          "East of England",
          "East of England",
          "East of England",
          "East of England",
          "East of England",
          "East of England",
          "East of England",
          "East of England",
          "East of England",
          "East of England",
          "East of England",
          "East of England"
         ],
         "legendgroup": "East of England",
         "line": {
          "color": "#00cc96",
          "dash": "solid"
         },
         "mode": "lines+markers",
         "name": "East of England",
         "orientation": "v",
         "showlegend": true,
         "type": "scatter",
         "x": [
          "2020-02-03",
          "2020-02-28",
          "2020-03-01",
          "2020-03-03",
          "2020-03-04",
          "2020-03-05",
          "2020-03-06",
          "2020-03-07",
          "2020-03-08",
          "2020-03-09",
          "2020-03-10",
          "2020-03-11",
          "2020-03-12",
          "2020-03-13",
          "2020-03-14",
          "2020-03-15",
          "2020-03-16",
          "2020-03-17",
          "2020-03-18",
          "2020-03-19",
          "2020-03-20",
          "2020-03-21",
          "2020-03-22",
          "2020-03-23",
          "2020-03-24",
          "2020-03-25",
          "2020-03-26",
          "2020-03-27",
          "2020-03-28",
          "2020-03-29",
          "2020-03-30",
          "2020-03-31",
          "2020-04-01",
          "2020-04-02",
          "2020-04-03",
          "2020-04-04",
          "2020-04-05",
          "2020-04-06",
          "2020-04-07",
          "2020-04-08",
          "2020-04-09",
          "2020-04-10",
          "2020-04-11",
          "2020-04-12",
          "2020-04-13",
          "2020-04-14",
          "2020-04-15",
          "2020-04-16",
          "2020-04-17",
          "2020-04-18",
          "2020-04-19",
          "2020-04-20",
          "2020-04-21",
          "2020-04-22",
          "2020-04-23",
          "2020-04-24",
          "2020-04-25",
          "2020-04-26",
          "2020-04-27",
          "2020-04-28",
          "2020-04-29",
          "2020-04-30",
          "2020-05-01",
          "2020-05-02",
          "2020-05-03",
          "2020-05-04",
          "2020-05-05",
          "2020-05-06",
          "2020-05-07",
          "2020-05-08",
          "2020-05-09",
          "2020-05-10",
          "2020-05-11",
          "2020-05-12",
          "2020-05-13",
          "2020-05-14",
          "2020-05-15",
          "2020-05-16",
          "2020-05-17",
          "2020-05-18",
          "2020-05-19",
          "2020-05-20",
          "2020-05-21",
          "2020-05-22",
          "2020-05-23",
          "2020-05-24",
          "2020-05-25",
          "2020-05-26",
          "2020-05-27",
          "2020-05-28",
          "2020-05-29",
          "2020-05-30",
          "2020-05-31",
          "2020-06-01",
          "2020-06-02",
          "2020-06-03",
          "2020-06-04",
          "2020-06-05",
          "2020-06-06",
          "2020-06-07",
          "2020-06-08",
          "2020-06-09",
          "2020-06-10"
         ],
         "xaxis": "x",
         "y": [
          1,
          2,
          5,
          12,
          19,
          20,
          25,
          28,
          30,
          34,
          50,
          64,
          82,
          119,
          135,
          170,
          193,
          231,
          305,
          361,
          430,
          507,
          598,
          795,
          960,
          1148,
          1363,
          1607,
          1790,
          1999,
          2299,
          2621,
          2953,
          3318,
          3664,
          3927,
          4208,
          4591,
          4969,
          5366,
          5684,
          5998,
          6258,
          6500,
          6787,
          7070,
          7336,
          7628,
          7912,
          8160,
          8339,
          8627,
          8923,
          9221,
          9513,
          9798,
          10023,
          10179,
          10446,
          10681,
          10918,
          11134,
          11399,
          11534,
          11658,
          11898,
          12063,
          12221,
          12418,
          12507,
          12591,
          12660,
          12828,
          12956,
          13081,
          13147,
          13246,
          13299,
          13368,
          13500,
          13632,
          13723,
          13830,
          13922,
          13983,
          14026,
          14106,
          14159,
          14218,
          14262,
          14313,
          14346,
          14377,
          14424,
          14478,
          14520,
          14554,
          14582,
          14600,
          14616,
          14627,
          14634,
          14634
         ],
         "yaxis": "y"
        },
        {
         "hovertemplate": "<b>%{hovertext}</b><br><br>Area name=South West<br>Specimen date=%{x}<br>Cumulative lab-confirmed cases=%{y}<extra></extra>",
         "hovertext": [
          "South West",
          "South West",
          "South West",
          "South West",
          "South West",
          "South West",
          "South West",
          "South West",
          "South West",
          "South West",
          "South West",
          "South West",
          "South West",
          "South West",
          "South West",
          "South West",
          "South West",
          "South West",
          "South West",
          "South West",
          "South West",
          "South West",
          "South West",
          "South West",
          "South West",
          "South West",
          "South West",
          "South West",
          "South West",
          "South West",
          "South West",
          "South West",
          "South West",
          "South West",
          "South West",
          "South West",
          "South West",
          "South West",
          "South West",
          "South West",
          "South West",
          "South West",
          "South West",
          "South West",
          "South West",
          "South West",
          "South West",
          "South West",
          "South West",
          "South West",
          "South West",
          "South West",
          "South West",
          "South West",
          "South West",
          "South West",
          "South West",
          "South West",
          "South West",
          "South West",
          "South West",
          "South West",
          "South West",
          "South West",
          "South West",
          "South West",
          "South West",
          "South West",
          "South West",
          "South West",
          "South West",
          "South West",
          "South West",
          "South West",
          "South West",
          "South West",
          "South West",
          "South West",
          "South West",
          "South West",
          "South West",
          "South West",
          "South West",
          "South West",
          "South West",
          "South West",
          "South West",
          "South West",
          "South West",
          "South West",
          "South West",
          "South West",
          "South West",
          "South West",
          "South West",
          "South West",
          "South West",
          "South West",
          "South West",
          "South West",
          "South West",
          "South West",
          "South West",
          "South West"
         ],
         "legendgroup": "South West",
         "line": {
          "color": "#ab63fa",
          "dash": "solid"
         },
         "mode": "lines+markers",
         "name": "South West",
         "orientation": "v",
         "showlegend": true,
         "type": "scatter",
         "x": [
          "2020-02-03",
          "2020-02-26",
          "2020-03-01",
          "2020-03-02",
          "2020-03-03",
          "2020-03-04",
          "2020-03-05",
          "2020-03-06",
          "2020-03-07",
          "2020-03-08",
          "2020-03-09",
          "2020-03-10",
          "2020-03-11",
          "2020-03-12",
          "2020-03-13",
          "2020-03-14",
          "2020-03-15",
          "2020-03-16",
          "2020-03-17",
          "2020-03-18",
          "2020-03-19",
          "2020-03-20",
          "2020-03-21",
          "2020-03-22",
          "2020-03-23",
          "2020-03-24",
          "2020-03-25",
          "2020-03-26",
          "2020-03-27",
          "2020-03-28",
          "2020-03-29",
          "2020-03-30",
          "2020-03-31",
          "2020-04-01",
          "2020-04-02",
          "2020-04-03",
          "2020-04-04",
          "2020-04-05",
          "2020-04-06",
          "2020-04-07",
          "2020-04-08",
          "2020-04-09",
          "2020-04-10",
          "2020-04-11",
          "2020-04-12",
          "2020-04-13",
          "2020-04-14",
          "2020-04-15",
          "2020-04-16",
          "2020-04-17",
          "2020-04-18",
          "2020-04-19",
          "2020-04-20",
          "2020-04-21",
          "2020-04-22",
          "2020-04-23",
          "2020-04-24",
          "2020-04-25",
          "2020-04-26",
          "2020-04-27",
          "2020-04-28",
          "2020-04-29",
          "2020-04-30",
          "2020-05-01",
          "2020-05-02",
          "2020-05-03",
          "2020-05-04",
          "2020-05-05",
          "2020-05-06",
          "2020-05-07",
          "2020-05-08",
          "2020-05-09",
          "2020-05-10",
          "2020-05-11",
          "2020-05-12",
          "2020-05-13",
          "2020-05-14",
          "2020-05-15",
          "2020-05-16",
          "2020-05-17",
          "2020-05-18",
          "2020-05-19",
          "2020-05-20",
          "2020-05-21",
          "2020-05-22",
          "2020-05-23",
          "2020-05-24",
          "2020-05-25",
          "2020-05-26",
          "2020-05-27",
          "2020-05-28",
          "2020-05-29",
          "2020-05-30",
          "2020-05-31",
          "2020-06-01",
          "2020-06-02",
          "2020-06-03",
          "2020-06-04",
          "2020-06-05",
          "2020-06-06",
          "2020-06-07",
          "2020-06-08",
          "2020-06-09",
          "2020-06-10"
         ],
         "xaxis": "x",
         "y": [
          2,
          3,
          5,
          13,
          23,
          29,
          33,
          44,
          46,
          49,
          54,
          64,
          83,
          107,
          138,
          150,
          167,
          185,
          206,
          249,
          270,
          313,
          355,
          399,
          461,
          529,
          633,
          750,
          879,
          981,
          1081,
          1244,
          1384,
          1567,
          1750,
          1936,
          2110,
          2263,
          2447,
          2660,
          2895,
          3141,
          3375,
          3548,
          3726,
          3918,
          4103,
          4313,
          4551,
          4766,
          4911,
          5065,
          5238,
          5412,
          5564,
          5740,
          5862,
          5951,
          6009,
          6135,
          6248,
          6378,
          6459,
          6572,
          6638,
          6712,
          6787,
          6854,
          6920,
          6983,
          7024,
          7068,
          7113,
          7170,
          7195,
          7229,
          7264,
          7291,
          7319,
          7344,
          7385,
          7418,
          7470,
          7492,
          7518,
          7536,
          7548,
          7569,
          7592,
          7623,
          7659,
          7683,
          7701,
          7727,
          7750,
          7771,
          7800,
          7817,
          7833,
          7841,
          7851,
          7855,
          7858,
          7858
         ],
         "yaxis": "y"
        },
        {
         "hovertemplate": "<b>%{hovertext}</b><br><br>Area name=London<br>Specimen date=%{x}<br>Cumulative lab-confirmed cases=%{y}<extra></extra>",
         "hovertext": [
          "London",
          "London",
          "London",
          "London",
          "London",
          "London",
          "London",
          "London",
          "London",
          "London",
          "London",
          "London",
          "London",
          "London",
          "London",
          "London",
          "London",
          "London",
          "London",
          "London",
          "London",
          "London",
          "London",
          "London",
          "London",
          "London",
          "London",
          "London",
          "London",
          "London",
          "London",
          "London",
          "London",
          "London",
          "London",
          "London",
          "London",
          "London",
          "London",
          "London",
          "London",
          "London",
          "London",
          "London",
          "London",
          "London",
          "London",
          "London",
          "London",
          "London",
          "London",
          "London",
          "London",
          "London",
          "London",
          "London",
          "London",
          "London",
          "London",
          "London",
          "London",
          "London",
          "London",
          "London",
          "London",
          "London",
          "London",
          "London",
          "London",
          "London",
          "London",
          "London",
          "London",
          "London",
          "London",
          "London",
          "London",
          "London",
          "London",
          "London",
          "London",
          "London",
          "London",
          "London",
          "London",
          "London",
          "London",
          "London",
          "London",
          "London",
          "London",
          "London",
          "London",
          "London",
          "London",
          "London",
          "London",
          "London",
          "London",
          "London",
          "London",
          "London",
          "London",
          "London",
          "London",
          "London",
          "London",
          "London",
          "London",
          "London",
          "London"
         ],
         "legendgroup": "London",
         "line": {
          "color": "#FFA15A",
          "dash": "solid"
         },
         "mode": "lines+markers",
         "name": "London",
         "orientation": "v",
         "showlegend": true,
         "type": "scatter",
         "x": [
          "2020-02-11",
          "2020-02-13",
          "2020-02-17",
          "2020-02-19",
          "2020-02-23",
          "2020-02-25",
          "2020-02-27",
          "2020-02-28",
          "2020-02-29",
          "2020-03-01",
          "2020-03-02",
          "2020-03-03",
          "2020-03-04",
          "2020-03-05",
          "2020-03-06",
          "2020-03-07",
          "2020-03-08",
          "2020-03-09",
          "2020-03-10",
          "2020-03-11",
          "2020-03-12",
          "2020-03-13",
          "2020-03-14",
          "2020-03-15",
          "2020-03-16",
          "2020-03-17",
          "2020-03-18",
          "2020-03-19",
          "2020-03-20",
          "2020-03-21",
          "2020-03-22",
          "2020-03-23",
          "2020-03-24",
          "2020-03-25",
          "2020-03-26",
          "2020-03-27",
          "2020-03-28",
          "2020-03-29",
          "2020-03-30",
          "2020-03-31",
          "2020-04-01",
          "2020-04-02",
          "2020-04-03",
          "2020-04-04",
          "2020-04-05",
          "2020-04-06",
          "2020-04-07",
          "2020-04-08",
          "2020-04-09",
          "2020-04-10",
          "2020-04-11",
          "2020-04-12",
          "2020-04-13",
          "2020-04-14",
          "2020-04-15",
          "2020-04-16",
          "2020-04-17",
          "2020-04-18",
          "2020-04-19",
          "2020-04-20",
          "2020-04-21",
          "2020-04-22",
          "2020-04-23",
          "2020-04-24",
          "2020-04-25",
          "2020-04-26",
          "2020-04-27",
          "2020-04-28",
          "2020-04-29",
          "2020-04-30",
          "2020-05-01",
          "2020-05-02",
          "2020-05-03",
          "2020-05-04",
          "2020-05-05",
          "2020-05-06",
          "2020-05-07",
          "2020-05-08",
          "2020-05-09",
          "2020-05-10",
          "2020-05-11",
          "2020-05-12",
          "2020-05-13",
          "2020-05-14",
          "2020-05-15",
          "2020-05-16",
          "2020-05-17",
          "2020-05-18",
          "2020-05-19",
          "2020-05-20",
          "2020-05-21",
          "2020-05-22",
          "2020-05-23",
          "2020-05-24",
          "2020-05-25",
          "2020-05-26",
          "2020-05-27",
          "2020-05-28",
          "2020-05-29",
          "2020-05-30",
          "2020-05-31",
          "2020-06-01",
          "2020-06-02",
          "2020-06-03",
          "2020-06-04",
          "2020-06-05",
          "2020-06-06",
          "2020-06-07",
          "2020-06-08",
          "2020-06-09",
          "2020-06-10"
         ],
         "xaxis": "x",
         "y": [
          1,
          2,
          3,
          4,
          6,
          8,
          9,
          14,
          15,
          23,
          35,
          41,
          59,
          73,
          96,
          110,
          132,
          185,
          276,
          459,
          624,
          760,
          909,
          1074,
          1308,
          1618,
          1974,
          2307,
          2733,
          3083,
          3520,
          4207,
          4843,
          5599,
          6360,
          7180,
          7757,
          8351,
          9195,
          10110,
          11072,
          12095,
          13029,
          13746,
          14350,
          15187,
          16090,
          16921,
          17692,
          18265,
          18756,
          19170,
          19736,
          20292,
          20846,
          21336,
          21761,
          22067,
          22313,
          22690,
          23031,
          23307,
          23625,
          23871,
          24031,
          24121,
          24310,
          24490,
          24740,
          24995,
          25191,
          25318,
          25382,
          25534,
          25669,
          25813,
          25956,
          26050,
          26110,
          26145,
          26213,
          26289,
          26374,
          26460,
          26518,
          26541,
          26574,
          26630,
          26680,
          26738,
          26787,
          26827,
          26837,
          26855,
          26875,
          26903,
          26940,
          26975,
          27007,
          27024,
          27040,
          27062,
          27083,
          27127,
          27146,
          27168,
          27182,
          27198,
          27225,
          27240,
          27240
         ],
         "yaxis": "y"
        },
        {
         "hovertemplate": "<b>%{hovertext}</b><br><br>Area name=West Midlands<br>Specimen date=%{x}<br>Cumulative lab-confirmed cases=%{y}<extra></extra>",
         "hovertext": [
          "West Midlands",
          "West Midlands",
          "West Midlands",
          "West Midlands",
          "West Midlands",
          "West Midlands",
          "West Midlands",
          "West Midlands",
          "West Midlands",
          "West Midlands",
          "West Midlands",
          "West Midlands",
          "West Midlands",
          "West Midlands",
          "West Midlands",
          "West Midlands",
          "West Midlands",
          "West Midlands",
          "West Midlands",
          "West Midlands",
          "West Midlands",
          "West Midlands",
          "West Midlands",
          "West Midlands",
          "West Midlands",
          "West Midlands",
          "West Midlands",
          "West Midlands",
          "West Midlands",
          "West Midlands",
          "West Midlands",
          "West Midlands",
          "West Midlands",
          "West Midlands",
          "West Midlands",
          "West Midlands",
          "West Midlands",
          "West Midlands",
          "West Midlands",
          "West Midlands",
          "West Midlands",
          "West Midlands",
          "West Midlands",
          "West Midlands",
          "West Midlands",
          "West Midlands",
          "West Midlands",
          "West Midlands",
          "West Midlands",
          "West Midlands",
          "West Midlands",
          "West Midlands",
          "West Midlands",
          "West Midlands",
          "West Midlands",
          "West Midlands",
          "West Midlands",
          "West Midlands",
          "West Midlands",
          "West Midlands",
          "West Midlands",
          "West Midlands",
          "West Midlands",
          "West Midlands",
          "West Midlands",
          "West Midlands",
          "West Midlands",
          "West Midlands",
          "West Midlands",
          "West Midlands",
          "West Midlands",
          "West Midlands",
          "West Midlands",
          "West Midlands",
          "West Midlands",
          "West Midlands",
          "West Midlands",
          "West Midlands",
          "West Midlands",
          "West Midlands",
          "West Midlands",
          "West Midlands",
          "West Midlands",
          "West Midlands",
          "West Midlands",
          "West Midlands",
          "West Midlands",
          "West Midlands",
          "West Midlands",
          "West Midlands",
          "West Midlands",
          "West Midlands",
          "West Midlands",
          "West Midlands",
          "West Midlands",
          "West Midlands",
          "West Midlands",
          "West Midlands",
          "West Midlands",
          "West Midlands",
          "West Midlands",
          "West Midlands",
          "West Midlands",
          "West Midlands"
         ],
         "legendgroup": "West Midlands",
         "line": {
          "color": "#19d3f3",
          "dash": "solid"
         },
         "mode": "lines+markers",
         "name": "West Midlands",
         "orientation": "v",
         "showlegend": true,
         "type": "scatter",
         "x": [
          "2020-02-12",
          "2020-02-23",
          "2020-03-01",
          "2020-03-02",
          "2020-03-03",
          "2020-03-04",
          "2020-03-05",
          "2020-03-06",
          "2020-03-07",
          "2020-03-08",
          "2020-03-09",
          "2020-03-10",
          "2020-03-11",
          "2020-03-12",
          "2020-03-13",
          "2020-03-14",
          "2020-03-15",
          "2020-03-16",
          "2020-03-17",
          "2020-03-18",
          "2020-03-19",
          "2020-03-20",
          "2020-03-21",
          "2020-03-22",
          "2020-03-23",
          "2020-03-24",
          "2020-03-25",
          "2020-03-26",
          "2020-03-27",
          "2020-03-28",
          "2020-03-29",
          "2020-03-30",
          "2020-03-31",
          "2020-04-01",
          "2020-04-02",
          "2020-04-03",
          "2020-04-04",
          "2020-04-05",
          "2020-04-06",
          "2020-04-07",
          "2020-04-08",
          "2020-04-09",
          "2020-04-10",
          "2020-04-11",
          "2020-04-12",
          "2020-04-13",
          "2020-04-14",
          "2020-04-15",
          "2020-04-16",
          "2020-04-17",
          "2020-04-18",
          "2020-04-19",
          "2020-04-20",
          "2020-04-21",
          "2020-04-22",
          "2020-04-23",
          "2020-04-24",
          "2020-04-25",
          "2020-04-26",
          "2020-04-27",
          "2020-04-28",
          "2020-04-29",
          "2020-04-30",
          "2020-05-01",
          "2020-05-02",
          "2020-05-03",
          "2020-05-04",
          "2020-05-05",
          "2020-05-06",
          "2020-05-07",
          "2020-05-08",
          "2020-05-09",
          "2020-05-10",
          "2020-05-11",
          "2020-05-12",
          "2020-05-13",
          "2020-05-14",
          "2020-05-15",
          "2020-05-16",
          "2020-05-17",
          "2020-05-18",
          "2020-05-19",
          "2020-05-20",
          "2020-05-21",
          "2020-05-22",
          "2020-05-23",
          "2020-05-24",
          "2020-05-25",
          "2020-05-26",
          "2020-05-27",
          "2020-05-28",
          "2020-05-29",
          "2020-05-30",
          "2020-05-31",
          "2020-06-01",
          "2020-06-02",
          "2020-06-03",
          "2020-06-04",
          "2020-06-05",
          "2020-06-06",
          "2020-06-07",
          "2020-06-08",
          "2020-06-09",
          "2020-06-10"
         ],
         "xaxis": "x",
         "y": [
          1,
          2,
          4,
          8,
          9,
          12,
          18,
          20,
          25,
          29,
          37,
          54,
          83,
          128,
          168,
          199,
          243,
          299,
          368,
          467,
          590,
          741,
          866,
          977,
          1216,
          1466,
          1706,
          2019,
          2298,
          2621,
          2985,
          3415,
          3828,
          4239,
          4686,
          5059,
          5392,
          5660,
          5991,
          6362,
          6715,
          7056,
          7409,
          7648,
          7884,
          8157,
          8473,
          8816,
          9180,
          9556,
          9874,
          10103,
          10447,
          10791,
          11108,
          11430,
          11771,
          11999,
          12186,
          12433,
          12699,
          12934,
          13137,
          13353,
          13536,
          13646,
          13795,
          14011,
          14165,
          14323,
          14501,
          14599,
          14675,
          14802,
          14929,
          15021,
          15113,
          15232,
          15312,
          15371,
          15455,
          15567,
          15648,
          15723,
          15807,
          15864,
          15906,
          15940,
          16002,
          16080,
          16139,
          16189,
          16230,
          16260,
          16310,
          16371,
          16411,
          16460,
          16493,
          16523,
          16541,
          16580,
          16602,
          16606
         ],
         "yaxis": "y"
        },
        {
         "hovertemplate": "<b>%{hovertext}</b><br><br>Area name=East Midlands<br>Specimen date=%{x}<br>Cumulative lab-confirmed cases=%{y}<extra></extra>",
         "hovertext": [
          "East Midlands",
          "East Midlands",
          "East Midlands",
          "East Midlands",
          "East Midlands",
          "East Midlands",
          "East Midlands",
          "East Midlands",
          "East Midlands",
          "East Midlands",
          "East Midlands",
          "East Midlands",
          "East Midlands",
          "East Midlands",
          "East Midlands",
          "East Midlands",
          "East Midlands",
          "East Midlands",
          "East Midlands",
          "East Midlands",
          "East Midlands",
          "East Midlands",
          "East Midlands",
          "East Midlands",
          "East Midlands",
          "East Midlands",
          "East Midlands",
          "East Midlands",
          "East Midlands",
          "East Midlands",
          "East Midlands",
          "East Midlands",
          "East Midlands",
          "East Midlands",
          "East Midlands",
          "East Midlands",
          "East Midlands",
          "East Midlands",
          "East Midlands",
          "East Midlands",
          "East Midlands",
          "East Midlands",
          "East Midlands",
          "East Midlands",
          "East Midlands",
          "East Midlands",
          "East Midlands",
          "East Midlands",
          "East Midlands",
          "East Midlands",
          "East Midlands",
          "East Midlands",
          "East Midlands",
          "East Midlands",
          "East Midlands",
          "East Midlands",
          "East Midlands",
          "East Midlands",
          "East Midlands",
          "East Midlands",
          "East Midlands",
          "East Midlands",
          "East Midlands",
          "East Midlands",
          "East Midlands",
          "East Midlands",
          "East Midlands",
          "East Midlands",
          "East Midlands",
          "East Midlands",
          "East Midlands",
          "East Midlands",
          "East Midlands",
          "East Midlands",
          "East Midlands",
          "East Midlands",
          "East Midlands",
          "East Midlands",
          "East Midlands",
          "East Midlands",
          "East Midlands",
          "East Midlands",
          "East Midlands",
          "East Midlands",
          "East Midlands",
          "East Midlands",
          "East Midlands",
          "East Midlands",
          "East Midlands",
          "East Midlands",
          "East Midlands",
          "East Midlands",
          "East Midlands",
          "East Midlands",
          "East Midlands",
          "East Midlands",
          "East Midlands",
          "East Midlands",
          "East Midlands",
          "East Midlands",
          "East Midlands",
          "East Midlands",
          "East Midlands",
          "East Midlands",
          "East Midlands",
          "East Midlands",
          "East Midlands"
         ],
         "legendgroup": "East Midlands",
         "line": {
          "color": "#FF6692",
          "dash": "solid"
         },
         "mode": "lines+markers",
         "name": "East Midlands",
         "orientation": "v",
         "showlegend": true,
         "type": "scatter",
         "x": [
          "2020-02-21",
          "2020-02-25",
          "2020-02-27",
          "2020-02-28",
          "2020-02-29",
          "2020-03-01",
          "2020-03-02",
          "2020-03-03",
          "2020-03-04",
          "2020-03-05",
          "2020-03-06",
          "2020-03-07",
          "2020-03-08",
          "2020-03-09",
          "2020-03-10",
          "2020-03-11",
          "2020-03-12",
          "2020-03-13",
          "2020-03-14",
          "2020-03-15",
          "2020-03-16",
          "2020-03-17",
          "2020-03-18",
          "2020-03-19",
          "2020-03-20",
          "2020-03-21",
          "2020-03-22",
          "2020-03-23",
          "2020-03-24",
          "2020-03-25",
          "2020-03-26",
          "2020-03-27",
          "2020-03-28",
          "2020-03-29",
          "2020-03-30",
          "2020-03-31",
          "2020-04-01",
          "2020-04-02",
          "2020-04-03",
          "2020-04-04",
          "2020-04-05",
          "2020-04-06",
          "2020-04-07",
          "2020-04-08",
          "2020-04-09",
          "2020-04-10",
          "2020-04-11",
          "2020-04-12",
          "2020-04-13",
          "2020-04-14",
          "2020-04-15",
          "2020-04-16",
          "2020-04-17",
          "2020-04-18",
          "2020-04-19",
          "2020-04-20",
          "2020-04-21",
          "2020-04-22",
          "2020-04-23",
          "2020-04-24",
          "2020-04-25",
          "2020-04-26",
          "2020-04-27",
          "2020-04-28",
          "2020-04-29",
          "2020-04-30",
          "2020-05-01",
          "2020-05-02",
          "2020-05-03",
          "2020-05-04",
          "2020-05-05",
          "2020-05-06",
          "2020-05-07",
          "2020-05-08",
          "2020-05-09",
          "2020-05-10",
          "2020-05-11",
          "2020-05-12",
          "2020-05-13",
          "2020-05-14",
          "2020-05-15",
          "2020-05-16",
          "2020-05-17",
          "2020-05-18",
          "2020-05-19",
          "2020-05-20",
          "2020-05-21",
          "2020-05-22",
          "2020-05-23",
          "2020-05-24",
          "2020-05-25",
          "2020-05-26",
          "2020-05-27",
          "2020-05-28",
          "2020-05-29",
          "2020-05-30",
          "2020-05-31",
          "2020-06-01",
          "2020-06-02",
          "2020-06-03",
          "2020-06-04",
          "2020-06-05",
          "2020-06-06",
          "2020-06-07",
          "2020-06-08",
          "2020-06-09",
          "2020-06-10"
         ],
         "xaxis": "x",
         "y": [
          1,
          2,
          3,
          4,
          5,
          6,
          8,
          15,
          17,
          20,
          27,
          31,
          32,
          42,
          54,
          79,
          97,
          119,
          138,
          164,
          198,
          231,
          280,
          346,
          399,
          468,
          567,
          684,
          820,
          936,
          1090,
          1226,
          1385,
          1514,
          1721,
          1997,
          2293,
          2506,
          2765,
          2954,
          3102,
          3316,
          3519,
          3707,
          3939,
          4112,
          4280,
          4427,
          4563,
          4754,
          4928,
          5129,
          5321,
          5417,
          5570,
          5743,
          5889,
          6030,
          6172,
          6334,
          6445,
          6563,
          6730,
          6870,
          7004,
          7091,
          7184,
          7241,
          7275,
          7378,
          7456,
          7556,
          7699,
          7772,
          7848,
          7918,
          8021,
          8116,
          8224,
          8288,
          8374,
          8444,
          8513,
          8608,
          8672,
          8734,
          8803,
          8872,
          8921,
          8947,
          8987,
          9033,
          9086,
          9124,
          9167,
          9208,
          9239,
          9281,
          9327,
          9355,
          9374,
          9403,
          9416,
          9432,
          9455,
          9472,
          9477
         ],
         "yaxis": "y"
        },
        {
         "hovertemplate": "<b>%{hovertext}</b><br><br>Area name=North West<br>Specimen date=%{x}<br>Cumulative lab-confirmed cases=%{y}<extra></extra>",
         "hovertext": [
          "North West",
          "North West",
          "North West",
          "North West",
          "North West",
          "North West",
          "North West",
          "North West",
          "North West",
          "North West",
          "North West",
          "North West",
          "North West",
          "North West",
          "North West",
          "North West",
          "North West",
          "North West",
          "North West",
          "North West",
          "North West",
          "North West",
          "North West",
          "North West",
          "North West",
          "North West",
          "North West",
          "North West",
          "North West",
          "North West",
          "North West",
          "North West",
          "North West",
          "North West",
          "North West",
          "North West",
          "North West",
          "North West",
          "North West",
          "North West",
          "North West",
          "North West",
          "North West",
          "North West",
          "North West",
          "North West",
          "North West",
          "North West",
          "North West",
          "North West",
          "North West",
          "North West",
          "North West",
          "North West",
          "North West",
          "North West",
          "North West",
          "North West",
          "North West",
          "North West",
          "North West",
          "North West",
          "North West",
          "North West",
          "North West",
          "North West",
          "North West",
          "North West",
          "North West",
          "North West",
          "North West",
          "North West",
          "North West",
          "North West",
          "North West",
          "North West",
          "North West",
          "North West",
          "North West",
          "North West",
          "North West",
          "North West",
          "North West",
          "North West",
          "North West",
          "North West",
          "North West",
          "North West",
          "North West",
          "North West",
          "North West",
          "North West",
          "North West",
          "North West",
          "North West",
          "North West",
          "North West",
          "North West",
          "North West",
          "North West",
          "North West",
          "North West",
          "North West"
         ],
         "legendgroup": "North West",
         "line": {
          "color": "#B6E880",
          "dash": "solid"
         },
         "mode": "lines+markers",
         "name": "North West",
         "orientation": "v",
         "showlegend": true,
         "type": "scatter",
         "x": [
          "2020-02-28",
          "2020-03-01",
          "2020-03-02",
          "2020-03-03",
          "2020-03-04",
          "2020-03-05",
          "2020-03-06",
          "2020-03-07",
          "2020-03-08",
          "2020-03-09",
          "2020-03-10",
          "2020-03-11",
          "2020-03-12",
          "2020-03-13",
          "2020-03-14",
          "2020-03-15",
          "2020-03-16",
          "2020-03-17",
          "2020-03-18",
          "2020-03-19",
          "2020-03-20",
          "2020-03-21",
          "2020-03-22",
          "2020-03-23",
          "2020-03-24",
          "2020-03-25",
          "2020-03-26",
          "2020-03-27",
          "2020-03-28",
          "2020-03-29",
          "2020-03-30",
          "2020-03-31",
          "2020-04-01",
          "2020-04-02",
          "2020-04-03",
          "2020-04-04",
          "2020-04-05",
          "2020-04-06",
          "2020-04-07",
          "2020-04-08",
          "2020-04-09",
          "2020-04-10",
          "2020-04-11",
          "2020-04-12",
          "2020-04-13",
          "2020-04-14",
          "2020-04-15",
          "2020-04-16",
          "2020-04-17",
          "2020-04-18",
          "2020-04-19",
          "2020-04-20",
          "2020-04-21",
          "2020-04-22",
          "2020-04-23",
          "2020-04-24",
          "2020-04-25",
          "2020-04-26",
          "2020-04-27",
          "2020-04-28",
          "2020-04-29",
          "2020-04-30",
          "2020-05-01",
          "2020-05-02",
          "2020-05-03",
          "2020-05-04",
          "2020-05-05",
          "2020-05-06",
          "2020-05-07",
          "2020-05-08",
          "2020-05-09",
          "2020-05-10",
          "2020-05-11",
          "2020-05-12",
          "2020-05-13",
          "2020-05-14",
          "2020-05-15",
          "2020-05-16",
          "2020-05-17",
          "2020-05-18",
          "2020-05-19",
          "2020-05-20",
          "2020-05-21",
          "2020-05-22",
          "2020-05-23",
          "2020-05-24",
          "2020-05-25",
          "2020-05-26",
          "2020-05-27",
          "2020-05-28",
          "2020-05-29",
          "2020-05-30",
          "2020-05-31",
          "2020-06-01",
          "2020-06-02",
          "2020-06-03",
          "2020-06-04",
          "2020-06-05",
          "2020-06-06",
          "2020-06-07",
          "2020-06-08",
          "2020-06-09",
          "2020-06-10"
         ],
         "xaxis": "x",
         "y": [
          1,
          9,
          15,
          22,
          24,
          34,
          36,
          42,
          47,
          54,
          69,
          86,
          126,
          167,
          192,
          215,
          271,
          326,
          410,
          508,
          590,
          704,
          821,
          997,
          1252,
          1508,
          1865,
          2198,
          2519,
          2878,
          3384,
          3940,
          4558,
          5239,
          5922,
          6528,
          7153,
          8027,
          8818,
          9671,
          10475,
          11077,
          11686,
          12172,
          12779,
          13411,
          13998,
          14579,
          15153,
          15594,
          15965,
          16479,
          17029,
          17514,
          18016,
          18466,
          18768,
          19015,
          19394,
          19802,
          20203,
          20587,
          20929,
          21124,
          21310,
          21573,
          21862,
          22102,
          22314,
          22489,
          22657,
          22785,
          23041,
          23241,
          23430,
          23600,
          23773,
          23952,
          24103,
          24299,
          24538,
          24736,
          24872,
          25012,
          25116,
          25206,
          25310,
          25427,
          25525,
          25618,
          25720,
          25796,
          25854,
          25944,
          26047,
          26133,
          26205,
          26266,
          26304,
          26346,
          26387,
          26407,
          26412
         ],
         "yaxis": "y"
        },
        {
         "hovertemplate": "<b>%{hovertext}</b><br><br>Area name=North East<br>Specimen date=%{x}<br>Cumulative lab-confirmed cases=%{y}<extra></extra>",
         "hovertext": [
          "North East",
          "North East",
          "North East",
          "North East",
          "North East",
          "North East",
          "North East",
          "North East",
          "North East",
          "North East",
          "North East",
          "North East",
          "North East",
          "North East",
          "North East",
          "North East",
          "North East",
          "North East",
          "North East",
          "North East",
          "North East",
          "North East",
          "North East",
          "North East",
          "North East",
          "North East",
          "North East",
          "North East",
          "North East",
          "North East",
          "North East",
          "North East",
          "North East",
          "North East",
          "North East",
          "North East",
          "North East",
          "North East",
          "North East",
          "North East",
          "North East",
          "North East",
          "North East",
          "North East",
          "North East",
          "North East",
          "North East",
          "North East",
          "North East",
          "North East",
          "North East",
          "North East",
          "North East",
          "North East",
          "North East",
          "North East",
          "North East",
          "North East",
          "North East",
          "North East",
          "North East",
          "North East",
          "North East",
          "North East",
          "North East",
          "North East",
          "North East",
          "North East",
          "North East",
          "North East",
          "North East",
          "North East",
          "North East",
          "North East",
          "North East",
          "North East",
          "North East",
          "North East",
          "North East",
          "North East",
          "North East",
          "North East",
          "North East",
          "North East",
          "North East",
          "North East",
          "North East",
          "North East",
          "North East",
          "North East",
          "North East",
          "North East",
          "North East",
          "North East",
          "North East",
          "North East",
          "North East",
          "North East",
          "North East"
         ],
         "legendgroup": "North East",
         "line": {
          "color": "#FF97FF",
          "dash": "solid"
         },
         "mode": "lines+markers",
         "name": "North East",
         "orientation": "v",
         "showlegend": true,
         "type": "scatter",
         "x": [
          "2020-03-02",
          "2020-03-04",
          "2020-03-05",
          "2020-03-06",
          "2020-03-07",
          "2020-03-09",
          "2020-03-10",
          "2020-03-11",
          "2020-03-12",
          "2020-03-13",
          "2020-03-14",
          "2020-03-15",
          "2020-03-16",
          "2020-03-17",
          "2020-03-18",
          "2020-03-19",
          "2020-03-20",
          "2020-03-21",
          "2020-03-22",
          "2020-03-23",
          "2020-03-24",
          "2020-03-25",
          "2020-03-26",
          "2020-03-27",
          "2020-03-28",
          "2020-03-29",
          "2020-03-30",
          "2020-03-31",
          "2020-04-01",
          "2020-04-02",
          "2020-04-03",
          "2020-04-04",
          "2020-04-05",
          "2020-04-06",
          "2020-04-07",
          "2020-04-08",
          "2020-04-09",
          "2020-04-10",
          "2020-04-11",
          "2020-04-12",
          "2020-04-13",
          "2020-04-14",
          "2020-04-15",
          "2020-04-16",
          "2020-04-17",
          "2020-04-18",
          "2020-04-19",
          "2020-04-20",
          "2020-04-21",
          "2020-04-22",
          "2020-04-23",
          "2020-04-24",
          "2020-04-25",
          "2020-04-26",
          "2020-04-27",
          "2020-04-28",
          "2020-04-29",
          "2020-04-30",
          "2020-05-01",
          "2020-05-02",
          "2020-05-03",
          "2020-05-04",
          "2020-05-05",
          "2020-05-06",
          "2020-05-07",
          "2020-05-08",
          "2020-05-09",
          "2020-05-10",
          "2020-05-11",
          "2020-05-12",
          "2020-05-13",
          "2020-05-14",
          "2020-05-15",
          "2020-05-16",
          "2020-05-17",
          "2020-05-18",
          "2020-05-19",
          "2020-05-20",
          "2020-05-21",
          "2020-05-22",
          "2020-05-23",
          "2020-05-24",
          "2020-05-25",
          "2020-05-26",
          "2020-05-27",
          "2020-05-28",
          "2020-05-29",
          "2020-05-30",
          "2020-05-31",
          "2020-06-01",
          "2020-06-02",
          "2020-06-03",
          "2020-06-04",
          "2020-06-05",
          "2020-06-06",
          "2020-06-07",
          "2020-06-08",
          "2020-06-09",
          "2020-06-10"
         ],
         "xaxis": "x",
         "y": [
          1,
          2,
          4,
          5,
          7,
          10,
          14,
          15,
          17,
          23,
          29,
          39,
          46,
          62,
          76,
          95,
          121,
          144,
          164,
          222,
          298,
          374,
          471,
          573,
          686,
          793,
          969,
          1179,
          1487,
          1706,
          1967,
          2221,
          2442,
          2817,
          3168,
          3459,
          3773,
          4018,
          4285,
          4486,
          4718,
          4975,
          5200,
          5399,
          5619,
          5848,
          6008,
          6267,
          6501,
          6705,
          6924,
          7141,
          7265,
          7350,
          7551,
          7776,
          7990,
          8223,
          8383,
          8460,
          8527,
          8708,
          8852,
          8984,
          9104,
          9184,
          9285,
          9352,
          9436,
          9526,
          9588,
          9645,
          9698,
          9742,
          9779,
          9846,
          9897,
          9949,
          9996,
          10036,
          10063,
          10094,
          10123,
          10158,
          10210,
          10233,
          10260,
          10270,
          10283,
          10300,
          10320,
          10340,
          10354,
          10372,
          10385,
          10390,
          10400,
          10410,
          10413
         ],
         "yaxis": "y"
        }
       ],
       "layout": {
        "legend": {
         "title": {
          "text": "Area name"
         },
         "tracegroupgap": 0
        },
        "margin": {
         "t": 60
        },
        "template": {
         "data": {
          "bar": [
           {
            "error_x": {
             "color": "#2a3f5f"
            },
            "error_y": {
             "color": "#2a3f5f"
            },
            "marker": {
             "line": {
              "color": "#E5ECF6",
              "width": 0.5
             }
            },
            "type": "bar"
           }
          ],
          "barpolar": [
           {
            "marker": {
             "line": {
              "color": "#E5ECF6",
              "width": 0.5
             }
            },
            "type": "barpolar"
           }
          ],
          "carpet": [
           {
            "aaxis": {
             "endlinecolor": "#2a3f5f",
             "gridcolor": "white",
             "linecolor": "white",
             "minorgridcolor": "white",
             "startlinecolor": "#2a3f5f"
            },
            "baxis": {
             "endlinecolor": "#2a3f5f",
             "gridcolor": "white",
             "linecolor": "white",
             "minorgridcolor": "white",
             "startlinecolor": "#2a3f5f"
            },
            "type": "carpet"
           }
          ],
          "choropleth": [
           {
            "colorbar": {
             "outlinewidth": 0,
             "ticks": ""
            },
            "type": "choropleth"
           }
          ],
          "contour": [
           {
            "colorbar": {
             "outlinewidth": 0,
             "ticks": ""
            },
            "colorscale": [
             [
              0,
              "#0d0887"
             ],
             [
              0.1111111111111111,
              "#46039f"
             ],
             [
              0.2222222222222222,
              "#7201a8"
             ],
             [
              0.3333333333333333,
              "#9c179e"
             ],
             [
              0.4444444444444444,
              "#bd3786"
             ],
             [
              0.5555555555555556,
              "#d8576b"
             ],
             [
              0.6666666666666666,
              "#ed7953"
             ],
             [
              0.7777777777777778,
              "#fb9f3a"
             ],
             [
              0.8888888888888888,
              "#fdca26"
             ],
             [
              1,
              "#f0f921"
             ]
            ],
            "type": "contour"
           }
          ],
          "contourcarpet": [
           {
            "colorbar": {
             "outlinewidth": 0,
             "ticks": ""
            },
            "type": "contourcarpet"
           }
          ],
          "heatmap": [
           {
            "colorbar": {
             "outlinewidth": 0,
             "ticks": ""
            },
            "colorscale": [
             [
              0,
              "#0d0887"
             ],
             [
              0.1111111111111111,
              "#46039f"
             ],
             [
              0.2222222222222222,
              "#7201a8"
             ],
             [
              0.3333333333333333,
              "#9c179e"
             ],
             [
              0.4444444444444444,
              "#bd3786"
             ],
             [
              0.5555555555555556,
              "#d8576b"
             ],
             [
              0.6666666666666666,
              "#ed7953"
             ],
             [
              0.7777777777777778,
              "#fb9f3a"
             ],
             [
              0.8888888888888888,
              "#fdca26"
             ],
             [
              1,
              "#f0f921"
             ]
            ],
            "type": "heatmap"
           }
          ],
          "heatmapgl": [
           {
            "colorbar": {
             "outlinewidth": 0,
             "ticks": ""
            },
            "colorscale": [
             [
              0,
              "#0d0887"
             ],
             [
              0.1111111111111111,
              "#46039f"
             ],
             [
              0.2222222222222222,
              "#7201a8"
             ],
             [
              0.3333333333333333,
              "#9c179e"
             ],
             [
              0.4444444444444444,
              "#bd3786"
             ],
             [
              0.5555555555555556,
              "#d8576b"
             ],
             [
              0.6666666666666666,
              "#ed7953"
             ],
             [
              0.7777777777777778,
              "#fb9f3a"
             ],
             [
              0.8888888888888888,
              "#fdca26"
             ],
             [
              1,
              "#f0f921"
             ]
            ],
            "type": "heatmapgl"
           }
          ],
          "histogram": [
           {
            "marker": {
             "colorbar": {
              "outlinewidth": 0,
              "ticks": ""
             }
            },
            "type": "histogram"
           }
          ],
          "histogram2d": [
           {
            "colorbar": {
             "outlinewidth": 0,
             "ticks": ""
            },
            "colorscale": [
             [
              0,
              "#0d0887"
             ],
             [
              0.1111111111111111,
              "#46039f"
             ],
             [
              0.2222222222222222,
              "#7201a8"
             ],
             [
              0.3333333333333333,
              "#9c179e"
             ],
             [
              0.4444444444444444,
              "#bd3786"
             ],
             [
              0.5555555555555556,
              "#d8576b"
             ],
             [
              0.6666666666666666,
              "#ed7953"
             ],
             [
              0.7777777777777778,
              "#fb9f3a"
             ],
             [
              0.8888888888888888,
              "#fdca26"
             ],
             [
              1,
              "#f0f921"
             ]
            ],
            "type": "histogram2d"
           }
          ],
          "histogram2dcontour": [
           {
            "colorbar": {
             "outlinewidth": 0,
             "ticks": ""
            },
            "colorscale": [
             [
              0,
              "#0d0887"
             ],
             [
              0.1111111111111111,
              "#46039f"
             ],
             [
              0.2222222222222222,
              "#7201a8"
             ],
             [
              0.3333333333333333,
              "#9c179e"
             ],
             [
              0.4444444444444444,
              "#bd3786"
             ],
             [
              0.5555555555555556,
              "#d8576b"
             ],
             [
              0.6666666666666666,
              "#ed7953"
             ],
             [
              0.7777777777777778,
              "#fb9f3a"
             ],
             [
              0.8888888888888888,
              "#fdca26"
             ],
             [
              1,
              "#f0f921"
             ]
            ],
            "type": "histogram2dcontour"
           }
          ],
          "mesh3d": [
           {
            "colorbar": {
             "outlinewidth": 0,
             "ticks": ""
            },
            "type": "mesh3d"
           }
          ],
          "parcoords": [
           {
            "line": {
             "colorbar": {
              "outlinewidth": 0,
              "ticks": ""
             }
            },
            "type": "parcoords"
           }
          ],
          "pie": [
           {
            "automargin": true,
            "type": "pie"
           }
          ],
          "scatter": [
           {
            "marker": {
             "colorbar": {
              "outlinewidth": 0,
              "ticks": ""
             }
            },
            "type": "scatter"
           }
          ],
          "scatter3d": [
           {
            "line": {
             "colorbar": {
              "outlinewidth": 0,
              "ticks": ""
             }
            },
            "marker": {
             "colorbar": {
              "outlinewidth": 0,
              "ticks": ""
             }
            },
            "type": "scatter3d"
           }
          ],
          "scattercarpet": [
           {
            "marker": {
             "colorbar": {
              "outlinewidth": 0,
              "ticks": ""
             }
            },
            "type": "scattercarpet"
           }
          ],
          "scattergeo": [
           {
            "marker": {
             "colorbar": {
              "outlinewidth": 0,
              "ticks": ""
             }
            },
            "type": "scattergeo"
           }
          ],
          "scattergl": [
           {
            "marker": {
             "colorbar": {
              "outlinewidth": 0,
              "ticks": ""
             }
            },
            "type": "scattergl"
           }
          ],
          "scattermapbox": [
           {
            "marker": {
             "colorbar": {
              "outlinewidth": 0,
              "ticks": ""
             }
            },
            "type": "scattermapbox"
           }
          ],
          "scatterpolar": [
           {
            "marker": {
             "colorbar": {
              "outlinewidth": 0,
              "ticks": ""
             }
            },
            "type": "scatterpolar"
           }
          ],
          "scatterpolargl": [
           {
            "marker": {
             "colorbar": {
              "outlinewidth": 0,
              "ticks": ""
             }
            },
            "type": "scatterpolargl"
           }
          ],
          "scatterternary": [
           {
            "marker": {
             "colorbar": {
              "outlinewidth": 0,
              "ticks": ""
             }
            },
            "type": "scatterternary"
           }
          ],
          "surface": [
           {
            "colorbar": {
             "outlinewidth": 0,
             "ticks": ""
            },
            "colorscale": [
             [
              0,
              "#0d0887"
             ],
             [
              0.1111111111111111,
              "#46039f"
             ],
             [
              0.2222222222222222,
              "#7201a8"
             ],
             [
              0.3333333333333333,
              "#9c179e"
             ],
             [
              0.4444444444444444,
              "#bd3786"
             ],
             [
              0.5555555555555556,
              "#d8576b"
             ],
             [
              0.6666666666666666,
              "#ed7953"
             ],
             [
              0.7777777777777778,
              "#fb9f3a"
             ],
             [
              0.8888888888888888,
              "#fdca26"
             ],
             [
              1,
              "#f0f921"
             ]
            ],
            "type": "surface"
           }
          ],
          "table": [
           {
            "cells": {
             "fill": {
              "color": "#EBF0F8"
             },
             "line": {
              "color": "white"
             }
            },
            "header": {
             "fill": {
              "color": "#C8D4E3"
             },
             "line": {
              "color": "white"
             }
            },
            "type": "table"
           }
          ]
         },
         "layout": {
          "annotationdefaults": {
           "arrowcolor": "#2a3f5f",
           "arrowhead": 0,
           "arrowwidth": 1
          },
          "coloraxis": {
           "colorbar": {
            "outlinewidth": 0,
            "ticks": ""
           }
          },
          "colorscale": {
           "diverging": [
            [
             0,
             "#8e0152"
            ],
            [
             0.1,
             "#c51b7d"
            ],
            [
             0.2,
             "#de77ae"
            ],
            [
             0.3,
             "#f1b6da"
            ],
            [
             0.4,
             "#fde0ef"
            ],
            [
             0.5,
             "#f7f7f7"
            ],
            [
             0.6,
             "#e6f5d0"
            ],
            [
             0.7,
             "#b8e186"
            ],
            [
             0.8,
             "#7fbc41"
            ],
            [
             0.9,
             "#4d9221"
            ],
            [
             1,
             "#276419"
            ]
           ],
           "sequential": [
            [
             0,
             "#0d0887"
            ],
            [
             0.1111111111111111,
             "#46039f"
            ],
            [
             0.2222222222222222,
             "#7201a8"
            ],
            [
             0.3333333333333333,
             "#9c179e"
            ],
            [
             0.4444444444444444,
             "#bd3786"
            ],
            [
             0.5555555555555556,
             "#d8576b"
            ],
            [
             0.6666666666666666,
             "#ed7953"
            ],
            [
             0.7777777777777778,
             "#fb9f3a"
            ],
            [
             0.8888888888888888,
             "#fdca26"
            ],
            [
             1,
             "#f0f921"
            ]
           ],
           "sequentialminus": [
            [
             0,
             "#0d0887"
            ],
            [
             0.1111111111111111,
             "#46039f"
            ],
            [
             0.2222222222222222,
             "#7201a8"
            ],
            [
             0.3333333333333333,
             "#9c179e"
            ],
            [
             0.4444444444444444,
             "#bd3786"
            ],
            [
             0.5555555555555556,
             "#d8576b"
            ],
            [
             0.6666666666666666,
             "#ed7953"
            ],
            [
             0.7777777777777778,
             "#fb9f3a"
            ],
            [
             0.8888888888888888,
             "#fdca26"
            ],
            [
             1,
             "#f0f921"
            ]
           ]
          },
          "colorway": [
           "#636efa",
           "#EF553B",
           "#00cc96",
           "#ab63fa",
           "#FFA15A",
           "#19d3f3",
           "#FF6692",
           "#B6E880",
           "#FF97FF",
           "#FECB52"
          ],
          "font": {
           "color": "#2a3f5f"
          },
          "geo": {
           "bgcolor": "white",
           "lakecolor": "white",
           "landcolor": "#E5ECF6",
           "showlakes": true,
           "showland": true,
           "subunitcolor": "white"
          },
          "hoverlabel": {
           "align": "left"
          },
          "hovermode": "closest",
          "mapbox": {
           "style": "light"
          },
          "paper_bgcolor": "white",
          "plot_bgcolor": "#E5ECF6",
          "polar": {
           "angularaxis": {
            "gridcolor": "white",
            "linecolor": "white",
            "ticks": ""
           },
           "bgcolor": "#E5ECF6",
           "radialaxis": {
            "gridcolor": "white",
            "linecolor": "white",
            "ticks": ""
           }
          },
          "scene": {
           "xaxis": {
            "backgroundcolor": "#E5ECF6",
            "gridcolor": "white",
            "gridwidth": 2,
            "linecolor": "white",
            "showbackground": true,
            "ticks": "",
            "zerolinecolor": "white"
           },
           "yaxis": {
            "backgroundcolor": "#E5ECF6",
            "gridcolor": "white",
            "gridwidth": 2,
            "linecolor": "white",
            "showbackground": true,
            "ticks": "",
            "zerolinecolor": "white"
           },
           "zaxis": {
            "backgroundcolor": "#E5ECF6",
            "gridcolor": "white",
            "gridwidth": 2,
            "linecolor": "white",
            "showbackground": true,
            "ticks": "",
            "zerolinecolor": "white"
           }
          },
          "shapedefaults": {
           "line": {
            "color": "#2a3f5f"
           }
          },
          "ternary": {
           "aaxis": {
            "gridcolor": "white",
            "linecolor": "white",
            "ticks": ""
           },
           "baxis": {
            "gridcolor": "white",
            "linecolor": "white",
            "ticks": ""
           },
           "bgcolor": "#E5ECF6",
           "caxis": {
            "gridcolor": "white",
            "linecolor": "white",
            "ticks": ""
           }
          },
          "title": {
           "x": 0.05
          },
          "xaxis": {
           "automargin": true,
           "gridcolor": "white",
           "linecolor": "white",
           "ticks": "",
           "title": {
            "standoff": 15
           },
           "zerolinecolor": "white",
           "zerolinewidth": 2
          },
          "yaxis": {
           "automargin": true,
           "gridcolor": "white",
           "linecolor": "white",
           "ticks": "",
           "title": {
            "standoff": 15
           },
           "zerolinecolor": "white",
           "zerolinewidth": 2
          }
         }
        },
        "xaxis": {
         "anchor": "y",
         "domain": [
          0,
          1
         ],
         "title": {
          "text": "Specimen date"
         }
        },
        "yaxis": {
         "anchor": "x",
         "domain": [
          0,
          1
         ],
         "title": {
          "text": "Cumulative lab-confirmed cases"
         },
         "type": "log"
        }
       }
      },
      "text/html": [
       "<div>\n",
       "        \n",
       "        \n",
       "            <div id=\"14967ad6-2d54-41a1-9b14-ac454eda4aa6\" class=\"plotly-graph-div\" style=\"height:525px; width:100%;\"></div>\n",
       "            <script type=\"text/javascript\">\n",
       "                require([\"plotly\"], function(Plotly) {\n",
       "                    window.PLOTLYENV=window.PLOTLYENV || {};\n",
       "                    \n",
       "                if (document.getElementById(\"14967ad6-2d54-41a1-9b14-ac454eda4aa6\")) {\n",
       "                    Plotly.newPlot(\n",
       "                        '14967ad6-2d54-41a1-9b14-ac454eda4aa6',\n",
       "                        [{\"hovertemplate\": \"<b>%{hovertext}</b><br><br>Area name=Yorkshire and The Humber<br>Specimen date=%{x}<br>Cumulative lab-confirmed cases=%{y}<extra></extra>\", \"hovertext\": [\"Yorkshire and The Humber\", \"Yorkshire and The Humber\", \"Yorkshire and The Humber\", \"Yorkshire and The Humber\", \"Yorkshire and The Humber\", \"Yorkshire and The Humber\", \"Yorkshire and The Humber\", \"Yorkshire and The Humber\", \"Yorkshire and The Humber\", \"Yorkshire and The Humber\", \"Yorkshire and The Humber\", \"Yorkshire and The Humber\", \"Yorkshire and The Humber\", \"Yorkshire and The Humber\", \"Yorkshire and The Humber\", \"Yorkshire and The Humber\", \"Yorkshire and The Humber\", \"Yorkshire and The Humber\", \"Yorkshire and The Humber\", \"Yorkshire and The Humber\", \"Yorkshire and The Humber\", \"Yorkshire and The Humber\", \"Yorkshire and The Humber\", \"Yorkshire and The Humber\", \"Yorkshire and The Humber\", \"Yorkshire and The Humber\", \"Yorkshire and The Humber\", \"Yorkshire and The Humber\", \"Yorkshire and The Humber\", \"Yorkshire and The Humber\", \"Yorkshire and The Humber\", \"Yorkshire and The Humber\", \"Yorkshire and The Humber\", \"Yorkshire and The Humber\", \"Yorkshire and The Humber\", \"Yorkshire and The Humber\", \"Yorkshire and The Humber\", \"Yorkshire and The Humber\", \"Yorkshire and The Humber\", \"Yorkshire and The Humber\", \"Yorkshire and The Humber\", \"Yorkshire and The Humber\", \"Yorkshire and The Humber\", \"Yorkshire and The Humber\", \"Yorkshire and The Humber\", \"Yorkshire and The Humber\", \"Yorkshire and The Humber\", \"Yorkshire and The Humber\", \"Yorkshire and The Humber\", \"Yorkshire and The Humber\", \"Yorkshire and The Humber\", \"Yorkshire and The Humber\", \"Yorkshire and The Humber\", \"Yorkshire and The Humber\", \"Yorkshire and The Humber\", \"Yorkshire and The Humber\", \"Yorkshire and The Humber\", \"Yorkshire and The Humber\", \"Yorkshire and The Humber\", \"Yorkshire and The Humber\", \"Yorkshire and The Humber\", \"Yorkshire and The Humber\", \"Yorkshire and The Humber\", \"Yorkshire and The Humber\", \"Yorkshire and The Humber\", \"Yorkshire and The Humber\", \"Yorkshire and The Humber\", \"Yorkshire and The Humber\", \"Yorkshire and The Humber\", \"Yorkshire and The Humber\", \"Yorkshire and The Humber\", \"Yorkshire and The Humber\", \"Yorkshire and The Humber\", \"Yorkshire and The Humber\", \"Yorkshire and The Humber\", \"Yorkshire and The Humber\", \"Yorkshire and The Humber\", \"Yorkshire and The Humber\", \"Yorkshire and The Humber\", \"Yorkshire and The Humber\", \"Yorkshire and The Humber\", \"Yorkshire and The Humber\", \"Yorkshire and The Humber\", \"Yorkshire and The Humber\", \"Yorkshire and The Humber\", \"Yorkshire and The Humber\", \"Yorkshire and The Humber\", \"Yorkshire and The Humber\", \"Yorkshire and The Humber\", \"Yorkshire and The Humber\", \"Yorkshire and The Humber\", \"Yorkshire and The Humber\", \"Yorkshire and The Humber\", \"Yorkshire and The Humber\", \"Yorkshire and The Humber\", \"Yorkshire and The Humber\", \"Yorkshire and The Humber\", \"Yorkshire and The Humber\", \"Yorkshire and The Humber\", \"Yorkshire and The Humber\", \"Yorkshire and The Humber\", \"Yorkshire and The Humber\", \"Yorkshire and The Humber\", \"Yorkshire and The Humber\", \"Yorkshire and The Humber\", \"Yorkshire and The Humber\"], \"legendgroup\": \"Yorkshire and The Humber\", \"line\": {\"color\": \"#636efa\", \"dash\": \"solid\"}, \"mode\": \"lines+markers\", \"name\": \"Yorkshire and The Humber\", \"orientation\": \"v\", \"showlegend\": true, \"type\": \"scatter\", \"x\": [\"2020-01-30\", \"2020-02-03\", \"2020-02-28\", \"2020-02-29\", \"2020-03-01\", \"2020-03-02\", \"2020-03-03\", \"2020-03-04\", \"2020-03-05\", \"2020-03-06\", \"2020-03-07\", \"2020-03-08\", \"2020-03-09\", \"2020-03-10\", \"2020-03-11\", \"2020-03-12\", \"2020-03-13\", \"2020-03-14\", \"2020-03-15\", \"2020-03-16\", \"2020-03-17\", \"2020-03-18\", \"2020-03-19\", \"2020-03-20\", \"2020-03-21\", \"2020-03-22\", \"2020-03-23\", \"2020-03-24\", \"2020-03-25\", \"2020-03-26\", \"2020-03-27\", \"2020-03-28\", \"2020-03-29\", \"2020-03-30\", \"2020-03-31\", \"2020-04-01\", \"2020-04-02\", \"2020-04-03\", \"2020-04-04\", \"2020-04-05\", \"2020-04-06\", \"2020-04-07\", \"2020-04-08\", \"2020-04-09\", \"2020-04-10\", \"2020-04-11\", \"2020-04-12\", \"2020-04-13\", \"2020-04-14\", \"2020-04-15\", \"2020-04-16\", \"2020-04-17\", \"2020-04-18\", \"2020-04-19\", \"2020-04-20\", \"2020-04-21\", \"2020-04-22\", \"2020-04-23\", \"2020-04-24\", \"2020-04-25\", \"2020-04-26\", \"2020-04-27\", \"2020-04-28\", \"2020-04-29\", \"2020-04-30\", \"2020-05-01\", \"2020-05-02\", \"2020-05-03\", \"2020-05-04\", \"2020-05-05\", \"2020-05-06\", \"2020-05-07\", \"2020-05-08\", \"2020-05-09\", \"2020-05-10\", \"2020-05-11\", \"2020-05-12\", \"2020-05-13\", \"2020-05-14\", \"2020-05-15\", \"2020-05-16\", \"2020-05-17\", \"2020-05-18\", \"2020-05-19\", \"2020-05-20\", \"2020-05-21\", \"2020-05-22\", \"2020-05-23\", \"2020-05-24\", \"2020-05-25\", \"2020-05-26\", \"2020-05-27\", \"2020-05-28\", \"2020-05-29\", \"2020-05-30\", \"2020-05-31\", \"2020-06-01\", \"2020-06-02\", \"2020-06-03\", \"2020-06-04\", \"2020-06-05\", \"2020-06-06\", \"2020-06-07\", \"2020-06-08\", \"2020-06-09\", \"2020-06-10\"], \"xaxis\": \"x\", \"y\": [1, 2, 4, 5, 9, 12, 15, 17, 19, 21, 26, 29, 36, 54, 64, 78, 90, 102, 112, 140, 171, 217, 272, 331, 408, 502, 647, 803, 954, 1133, 1287, 1494, 1723, 2008, 2328, 2626, 2867, 3160, 3363, 3582, 3904, 4242, 4561, 4860, 5148, 5389, 5638, 5948, 6245, 6631, 6901, 7195, 7458, 7674, 7993, 8287, 8607, 8883, 9274, 9509, 9727, 10042, 10288, 10627, 10911, 11160, 11335, 11496, 11680, 11893, 12079, 12242, 12361, 12476, 12575, 12736, 12880, 13015, 13175, 13310, 13385, 13488, 13567, 13672, 13737, 13833, 13913, 13990, 14041, 14112, 14176, 14237, 14286, 14333, 14382, 14429, 14504, 14559, 14613, 14636, 14674, 14710, 14734, 14755, 14773, 14778], \"yaxis\": \"y\"}, {\"hovertemplate\": \"<b>%{hovertext}</b><br><br>Area name=South East<br>Specimen date=%{x}<br>Cumulative lab-confirmed cases=%{y}<extra></extra>\", \"hovertext\": [\"South East\", \"South East\", \"South East\", \"South East\", \"South East\", \"South East\", \"South East\", \"South East\", \"South East\", \"South East\", \"South East\", \"South East\", \"South East\", \"South East\", \"South East\", \"South East\", \"South East\", \"South East\", \"South East\", \"South East\", \"South East\", \"South East\", \"South East\", \"South East\", \"South East\", \"South East\", \"South East\", \"South East\", \"South East\", \"South East\", \"South East\", \"South East\", \"South East\", \"South East\", \"South East\", \"South East\", \"South East\", \"South East\", \"South East\", \"South East\", \"South East\", \"South East\", \"South East\", \"South East\", \"South East\", \"South East\", \"South East\", \"South East\", \"South East\", \"South East\", \"South East\", \"South East\", \"South East\", \"South East\", \"South East\", \"South East\", \"South East\", \"South East\", \"South East\", \"South East\", \"South East\", \"South East\", \"South East\", \"South East\", \"South East\", \"South East\", \"South East\", \"South East\", \"South East\", \"South East\", \"South East\", \"South East\", \"South East\", \"South East\", \"South East\", \"South East\", \"South East\", \"South East\", \"South East\", \"South East\", \"South East\", \"South East\", \"South East\", \"South East\", \"South East\", \"South East\", \"South East\", \"South East\", \"South East\", \"South East\", \"South East\", \"South East\", \"South East\", \"South East\", \"South East\", \"South East\", \"South East\", \"South East\", \"South East\", \"South East\", \"South East\", \"South East\", \"South East\", \"South East\", \"South East\", \"South East\", \"South East\", \"South East\", \"South East\", \"South East\", \"South East\", \"South East\"], \"legendgroup\": \"South East\", \"line\": {\"color\": \"#EF553B\", \"dash\": \"solid\"}, \"mode\": \"lines+markers\", \"name\": \"South East\", \"orientation\": \"v\", \"showlegend\": true, \"type\": \"scatter\", \"x\": [\"2020-01-31\", \"2020-02-03\", \"2020-02-05\", \"2020-02-08\", \"2020-02-09\", \"2020-02-23\", \"2020-02-24\", \"2020-02-25\", \"2020-02-27\", \"2020-02-28\", \"2020-03-01\", \"2020-03-02\", \"2020-03-03\", \"2020-03-04\", \"2020-03-05\", \"2020-03-06\", \"2020-03-07\", \"2020-03-08\", \"2020-03-09\", \"2020-03-10\", \"2020-03-11\", \"2020-03-12\", \"2020-03-13\", \"2020-03-14\", \"2020-03-15\", \"2020-03-16\", \"2020-03-17\", \"2020-03-18\", \"2020-03-19\", \"2020-03-20\", \"2020-03-21\", \"2020-03-22\", \"2020-03-23\", \"2020-03-24\", \"2020-03-25\", \"2020-03-26\", \"2020-03-27\", \"2020-03-28\", \"2020-03-29\", \"2020-03-30\", \"2020-03-31\", \"2020-04-01\", \"2020-04-02\", \"2020-04-03\", \"2020-04-04\", \"2020-04-05\", \"2020-04-06\", \"2020-04-07\", \"2020-04-08\", \"2020-04-09\", \"2020-04-10\", \"2020-04-11\", \"2020-04-12\", \"2020-04-13\", \"2020-04-14\", \"2020-04-15\", \"2020-04-16\", \"2020-04-17\", \"2020-04-18\", \"2020-04-19\", \"2020-04-20\", \"2020-04-21\", \"2020-04-22\", \"2020-04-23\", \"2020-04-24\", \"2020-04-25\", \"2020-04-26\", \"2020-04-27\", \"2020-04-28\", \"2020-04-29\", \"2020-04-30\", \"2020-05-01\", \"2020-05-02\", \"2020-05-03\", \"2020-05-04\", \"2020-05-05\", \"2020-05-06\", \"2020-05-07\", \"2020-05-08\", \"2020-05-09\", \"2020-05-10\", \"2020-05-11\", \"2020-05-12\", \"2020-05-13\", \"2020-05-14\", \"2020-05-15\", \"2020-05-16\", \"2020-05-17\", \"2020-05-18\", \"2020-05-19\", \"2020-05-20\", \"2020-05-21\", \"2020-05-22\", \"2020-05-23\", \"2020-05-24\", \"2020-05-25\", \"2020-05-26\", \"2020-05-27\", \"2020-05-28\", \"2020-05-29\", \"2020-05-30\", \"2020-05-31\", \"2020-06-01\", \"2020-06-02\", \"2020-06-03\", \"2020-06-04\", \"2020-06-05\", \"2020-06-06\", \"2020-06-07\", \"2020-06-08\", \"2020-06-09\", \"2020-06-10\"], \"xaxis\": \"x\", \"y\": [1, 2, 3, 6, 7, 8, 9, 10, 13, 14, 17, 18, 27, 34, 38, 54, 58, 68, 92, 126, 172, 250, 302, 343, 396, 474, 563, 685, 812, 938, 1066, 1236, 1516, 1751, 2056, 2376, 2707, 3044, 3339, 3814, 4282, 4827, 5306, 5820, 6276, 6699, 7290, 8005, 8559, 9075, 9643, 10021, 10464, 11011, 11518, 12157, 12769, 13397, 13793, 14094, 14548, 15016, 15455, 15836, 16234, 16503, 16715, 16974, 17316, 17614, 17911, 18156, 18332, 18463, 18672, 18905, 19087, 19239, 19361, 19476, 19594, 19769, 19930, 20103, 20231, 20349, 20419, 20496, 20651, 20853, 20982, 21101, 21208, 21247, 21307, 21402, 21488, 21549, 21599, 21643, 21690, 21736, 21793, 21874, 21953, 22007, 22065, 22096, 22120, 22158, 22176, 22179], \"yaxis\": \"y\"}, {\"hovertemplate\": \"<b>%{hovertext}</b><br><br>Area name=East of England<br>Specimen date=%{x}<br>Cumulative lab-confirmed cases=%{y}<extra></extra>\", \"hovertext\": [\"East of England\", \"East of England\", \"East of England\", \"East of England\", \"East of England\", \"East of England\", \"East of England\", \"East of England\", \"East of England\", \"East of England\", \"East of England\", \"East of England\", \"East of England\", \"East of England\", \"East of England\", \"East of England\", \"East of England\", \"East of England\", \"East of England\", \"East of England\", \"East of England\", \"East of England\", \"East of England\", \"East of England\", \"East of England\", \"East of England\", \"East of England\", \"East of England\", \"East of England\", \"East of England\", \"East of England\", \"East of England\", \"East of England\", \"East of England\", \"East of England\", \"East of England\", \"East of England\", \"East of England\", \"East of England\", \"East of England\", \"East of England\", \"East of England\", \"East of England\", \"East of England\", \"East of England\", \"East of England\", \"East of England\", \"East of England\", \"East of England\", \"East of England\", \"East of England\", \"East of England\", \"East of England\", \"East of England\", \"East of England\", \"East of England\", \"East of England\", \"East of England\", \"East of England\", \"East of England\", \"East of England\", \"East of England\", \"East of England\", \"East of England\", \"East of England\", \"East of England\", \"East of England\", \"East of England\", \"East of England\", \"East of England\", \"East of England\", \"East of England\", \"East of England\", \"East of England\", \"East of England\", \"East of England\", \"East of England\", \"East of England\", \"East of England\", \"East of England\", \"East of England\", \"East of England\", \"East of England\", \"East of England\", \"East of England\", \"East of England\", \"East of England\", \"East of England\", \"East of England\", \"East of England\", \"East of England\", \"East of England\", \"East of England\", \"East of England\", \"East of England\", \"East of England\", \"East of England\", \"East of England\", \"East of England\", \"East of England\", \"East of England\", \"East of England\", \"East of England\"], \"legendgroup\": \"East of England\", \"line\": {\"color\": \"#00cc96\", \"dash\": \"solid\"}, \"mode\": \"lines+markers\", \"name\": \"East of England\", \"orientation\": \"v\", \"showlegend\": true, \"type\": \"scatter\", \"x\": [\"2020-02-03\", \"2020-02-28\", \"2020-03-01\", \"2020-03-03\", \"2020-03-04\", \"2020-03-05\", \"2020-03-06\", \"2020-03-07\", \"2020-03-08\", \"2020-03-09\", \"2020-03-10\", \"2020-03-11\", \"2020-03-12\", \"2020-03-13\", \"2020-03-14\", \"2020-03-15\", \"2020-03-16\", \"2020-03-17\", \"2020-03-18\", \"2020-03-19\", \"2020-03-20\", \"2020-03-21\", \"2020-03-22\", \"2020-03-23\", \"2020-03-24\", \"2020-03-25\", \"2020-03-26\", \"2020-03-27\", \"2020-03-28\", \"2020-03-29\", \"2020-03-30\", \"2020-03-31\", \"2020-04-01\", \"2020-04-02\", \"2020-04-03\", \"2020-04-04\", \"2020-04-05\", \"2020-04-06\", \"2020-04-07\", \"2020-04-08\", \"2020-04-09\", \"2020-04-10\", \"2020-04-11\", \"2020-04-12\", \"2020-04-13\", \"2020-04-14\", \"2020-04-15\", \"2020-04-16\", \"2020-04-17\", \"2020-04-18\", \"2020-04-19\", \"2020-04-20\", \"2020-04-21\", \"2020-04-22\", \"2020-04-23\", \"2020-04-24\", \"2020-04-25\", \"2020-04-26\", \"2020-04-27\", \"2020-04-28\", \"2020-04-29\", \"2020-04-30\", \"2020-05-01\", \"2020-05-02\", \"2020-05-03\", \"2020-05-04\", \"2020-05-05\", \"2020-05-06\", \"2020-05-07\", \"2020-05-08\", \"2020-05-09\", \"2020-05-10\", \"2020-05-11\", \"2020-05-12\", \"2020-05-13\", \"2020-05-14\", \"2020-05-15\", \"2020-05-16\", \"2020-05-17\", \"2020-05-18\", \"2020-05-19\", \"2020-05-20\", \"2020-05-21\", \"2020-05-22\", \"2020-05-23\", \"2020-05-24\", \"2020-05-25\", \"2020-05-26\", \"2020-05-27\", \"2020-05-28\", \"2020-05-29\", \"2020-05-30\", \"2020-05-31\", \"2020-06-01\", \"2020-06-02\", \"2020-06-03\", \"2020-06-04\", \"2020-06-05\", \"2020-06-06\", \"2020-06-07\", \"2020-06-08\", \"2020-06-09\", \"2020-06-10\"], \"xaxis\": \"x\", \"y\": [1, 2, 5, 12, 19, 20, 25, 28, 30, 34, 50, 64, 82, 119, 135, 170, 193, 231, 305, 361, 430, 507, 598, 795, 960, 1148, 1363, 1607, 1790, 1999, 2299, 2621, 2953, 3318, 3664, 3927, 4208, 4591, 4969, 5366, 5684, 5998, 6258, 6500, 6787, 7070, 7336, 7628, 7912, 8160, 8339, 8627, 8923, 9221, 9513, 9798, 10023, 10179, 10446, 10681, 10918, 11134, 11399, 11534, 11658, 11898, 12063, 12221, 12418, 12507, 12591, 12660, 12828, 12956, 13081, 13147, 13246, 13299, 13368, 13500, 13632, 13723, 13830, 13922, 13983, 14026, 14106, 14159, 14218, 14262, 14313, 14346, 14377, 14424, 14478, 14520, 14554, 14582, 14600, 14616, 14627, 14634, 14634], \"yaxis\": \"y\"}, {\"hovertemplate\": \"<b>%{hovertext}</b><br><br>Area name=South West<br>Specimen date=%{x}<br>Cumulative lab-confirmed cases=%{y}<extra></extra>\", \"hovertext\": [\"South West\", \"South West\", \"South West\", \"South West\", \"South West\", \"South West\", \"South West\", \"South West\", \"South West\", \"South West\", \"South West\", \"South West\", \"South West\", \"South West\", \"South West\", \"South West\", \"South West\", \"South West\", \"South West\", \"South West\", \"South West\", \"South West\", \"South West\", \"South West\", \"South West\", \"South West\", \"South West\", \"South West\", \"South West\", \"South West\", \"South West\", \"South West\", \"South West\", \"South West\", \"South West\", \"South West\", \"South West\", \"South West\", \"South West\", \"South West\", \"South West\", \"South West\", \"South West\", \"South West\", \"South West\", \"South West\", \"South West\", \"South West\", \"South West\", \"South West\", \"South West\", \"South West\", \"South West\", \"South West\", \"South West\", \"South West\", \"South West\", \"South West\", \"South West\", \"South West\", \"South West\", \"South West\", \"South West\", \"South West\", \"South West\", \"South West\", \"South West\", \"South West\", \"South West\", \"South West\", \"South West\", \"South West\", \"South West\", \"South West\", \"South West\", \"South West\", \"South West\", \"South West\", \"South West\", \"South West\", \"South West\", \"South West\", \"South West\", \"South West\", \"South West\", \"South West\", \"South West\", \"South West\", \"South West\", \"South West\", \"South West\", \"South West\", \"South West\", \"South West\", \"South West\", \"South West\", \"South West\", \"South West\", \"South West\", \"South West\", \"South West\", \"South West\", \"South West\", \"South West\"], \"legendgroup\": \"South West\", \"line\": {\"color\": \"#ab63fa\", \"dash\": \"solid\"}, \"mode\": \"lines+markers\", \"name\": \"South West\", \"orientation\": \"v\", \"showlegend\": true, \"type\": \"scatter\", \"x\": [\"2020-02-03\", \"2020-02-26\", \"2020-03-01\", \"2020-03-02\", \"2020-03-03\", \"2020-03-04\", \"2020-03-05\", \"2020-03-06\", \"2020-03-07\", \"2020-03-08\", \"2020-03-09\", \"2020-03-10\", \"2020-03-11\", \"2020-03-12\", \"2020-03-13\", \"2020-03-14\", \"2020-03-15\", \"2020-03-16\", \"2020-03-17\", \"2020-03-18\", \"2020-03-19\", \"2020-03-20\", \"2020-03-21\", \"2020-03-22\", \"2020-03-23\", \"2020-03-24\", \"2020-03-25\", \"2020-03-26\", \"2020-03-27\", \"2020-03-28\", \"2020-03-29\", \"2020-03-30\", \"2020-03-31\", \"2020-04-01\", \"2020-04-02\", \"2020-04-03\", \"2020-04-04\", \"2020-04-05\", \"2020-04-06\", \"2020-04-07\", \"2020-04-08\", \"2020-04-09\", \"2020-04-10\", \"2020-04-11\", \"2020-04-12\", \"2020-04-13\", \"2020-04-14\", \"2020-04-15\", \"2020-04-16\", \"2020-04-17\", \"2020-04-18\", \"2020-04-19\", \"2020-04-20\", \"2020-04-21\", \"2020-04-22\", \"2020-04-23\", \"2020-04-24\", \"2020-04-25\", \"2020-04-26\", \"2020-04-27\", \"2020-04-28\", \"2020-04-29\", \"2020-04-30\", \"2020-05-01\", \"2020-05-02\", \"2020-05-03\", \"2020-05-04\", \"2020-05-05\", \"2020-05-06\", \"2020-05-07\", \"2020-05-08\", \"2020-05-09\", \"2020-05-10\", \"2020-05-11\", \"2020-05-12\", \"2020-05-13\", \"2020-05-14\", \"2020-05-15\", \"2020-05-16\", \"2020-05-17\", \"2020-05-18\", \"2020-05-19\", \"2020-05-20\", \"2020-05-21\", \"2020-05-22\", \"2020-05-23\", \"2020-05-24\", \"2020-05-25\", \"2020-05-26\", \"2020-05-27\", \"2020-05-28\", \"2020-05-29\", \"2020-05-30\", \"2020-05-31\", \"2020-06-01\", \"2020-06-02\", \"2020-06-03\", \"2020-06-04\", \"2020-06-05\", \"2020-06-06\", \"2020-06-07\", \"2020-06-08\", \"2020-06-09\", \"2020-06-10\"], \"xaxis\": \"x\", \"y\": [2, 3, 5, 13, 23, 29, 33, 44, 46, 49, 54, 64, 83, 107, 138, 150, 167, 185, 206, 249, 270, 313, 355, 399, 461, 529, 633, 750, 879, 981, 1081, 1244, 1384, 1567, 1750, 1936, 2110, 2263, 2447, 2660, 2895, 3141, 3375, 3548, 3726, 3918, 4103, 4313, 4551, 4766, 4911, 5065, 5238, 5412, 5564, 5740, 5862, 5951, 6009, 6135, 6248, 6378, 6459, 6572, 6638, 6712, 6787, 6854, 6920, 6983, 7024, 7068, 7113, 7170, 7195, 7229, 7264, 7291, 7319, 7344, 7385, 7418, 7470, 7492, 7518, 7536, 7548, 7569, 7592, 7623, 7659, 7683, 7701, 7727, 7750, 7771, 7800, 7817, 7833, 7841, 7851, 7855, 7858, 7858], \"yaxis\": \"y\"}, {\"hovertemplate\": \"<b>%{hovertext}</b><br><br>Area name=London<br>Specimen date=%{x}<br>Cumulative lab-confirmed cases=%{y}<extra></extra>\", \"hovertext\": [\"London\", \"London\", \"London\", \"London\", \"London\", \"London\", \"London\", \"London\", \"London\", \"London\", \"London\", \"London\", \"London\", \"London\", \"London\", \"London\", \"London\", \"London\", \"London\", \"London\", \"London\", \"London\", \"London\", \"London\", \"London\", \"London\", \"London\", \"London\", \"London\", \"London\", \"London\", \"London\", \"London\", \"London\", \"London\", \"London\", \"London\", \"London\", \"London\", \"London\", \"London\", \"London\", \"London\", \"London\", \"London\", \"London\", \"London\", \"London\", \"London\", \"London\", \"London\", \"London\", \"London\", \"London\", \"London\", \"London\", \"London\", \"London\", \"London\", \"London\", \"London\", \"London\", \"London\", \"London\", \"London\", \"London\", \"London\", \"London\", \"London\", \"London\", \"London\", \"London\", \"London\", \"London\", \"London\", \"London\", \"London\", \"London\", \"London\", \"London\", \"London\", \"London\", \"London\", \"London\", \"London\", \"London\", \"London\", \"London\", \"London\", \"London\", \"London\", \"London\", \"London\", \"London\", \"London\", \"London\", \"London\", \"London\", \"London\", \"London\", \"London\", \"London\", \"London\", \"London\", \"London\", \"London\", \"London\", \"London\", \"London\", \"London\", \"London\"], \"legendgroup\": \"London\", \"line\": {\"color\": \"#FFA15A\", \"dash\": \"solid\"}, \"mode\": \"lines+markers\", \"name\": \"London\", \"orientation\": \"v\", \"showlegend\": true, \"type\": \"scatter\", \"x\": [\"2020-02-11\", \"2020-02-13\", \"2020-02-17\", \"2020-02-19\", \"2020-02-23\", \"2020-02-25\", \"2020-02-27\", \"2020-02-28\", \"2020-02-29\", \"2020-03-01\", \"2020-03-02\", \"2020-03-03\", \"2020-03-04\", \"2020-03-05\", \"2020-03-06\", \"2020-03-07\", \"2020-03-08\", \"2020-03-09\", \"2020-03-10\", \"2020-03-11\", \"2020-03-12\", \"2020-03-13\", \"2020-03-14\", \"2020-03-15\", \"2020-03-16\", \"2020-03-17\", \"2020-03-18\", \"2020-03-19\", \"2020-03-20\", \"2020-03-21\", \"2020-03-22\", \"2020-03-23\", \"2020-03-24\", \"2020-03-25\", \"2020-03-26\", \"2020-03-27\", \"2020-03-28\", \"2020-03-29\", \"2020-03-30\", \"2020-03-31\", \"2020-04-01\", \"2020-04-02\", \"2020-04-03\", \"2020-04-04\", \"2020-04-05\", \"2020-04-06\", \"2020-04-07\", \"2020-04-08\", \"2020-04-09\", \"2020-04-10\", \"2020-04-11\", \"2020-04-12\", \"2020-04-13\", \"2020-04-14\", \"2020-04-15\", \"2020-04-16\", \"2020-04-17\", \"2020-04-18\", \"2020-04-19\", \"2020-04-20\", \"2020-04-21\", \"2020-04-22\", \"2020-04-23\", \"2020-04-24\", \"2020-04-25\", \"2020-04-26\", \"2020-04-27\", \"2020-04-28\", \"2020-04-29\", \"2020-04-30\", \"2020-05-01\", \"2020-05-02\", \"2020-05-03\", \"2020-05-04\", \"2020-05-05\", \"2020-05-06\", \"2020-05-07\", \"2020-05-08\", \"2020-05-09\", \"2020-05-10\", \"2020-05-11\", \"2020-05-12\", \"2020-05-13\", \"2020-05-14\", \"2020-05-15\", \"2020-05-16\", \"2020-05-17\", \"2020-05-18\", \"2020-05-19\", \"2020-05-20\", \"2020-05-21\", \"2020-05-22\", \"2020-05-23\", \"2020-05-24\", \"2020-05-25\", \"2020-05-26\", \"2020-05-27\", \"2020-05-28\", \"2020-05-29\", \"2020-05-30\", \"2020-05-31\", \"2020-06-01\", \"2020-06-02\", \"2020-06-03\", \"2020-06-04\", \"2020-06-05\", \"2020-06-06\", \"2020-06-07\", \"2020-06-08\", \"2020-06-09\", \"2020-06-10\"], \"xaxis\": \"x\", \"y\": [1, 2, 3, 4, 6, 8, 9, 14, 15, 23, 35, 41, 59, 73, 96, 110, 132, 185, 276, 459, 624, 760, 909, 1074, 1308, 1618, 1974, 2307, 2733, 3083, 3520, 4207, 4843, 5599, 6360, 7180, 7757, 8351, 9195, 10110, 11072, 12095, 13029, 13746, 14350, 15187, 16090, 16921, 17692, 18265, 18756, 19170, 19736, 20292, 20846, 21336, 21761, 22067, 22313, 22690, 23031, 23307, 23625, 23871, 24031, 24121, 24310, 24490, 24740, 24995, 25191, 25318, 25382, 25534, 25669, 25813, 25956, 26050, 26110, 26145, 26213, 26289, 26374, 26460, 26518, 26541, 26574, 26630, 26680, 26738, 26787, 26827, 26837, 26855, 26875, 26903, 26940, 26975, 27007, 27024, 27040, 27062, 27083, 27127, 27146, 27168, 27182, 27198, 27225, 27240, 27240], \"yaxis\": \"y\"}, {\"hovertemplate\": \"<b>%{hovertext}</b><br><br>Area name=West Midlands<br>Specimen date=%{x}<br>Cumulative lab-confirmed cases=%{y}<extra></extra>\", \"hovertext\": [\"West Midlands\", \"West Midlands\", \"West Midlands\", \"West Midlands\", \"West Midlands\", \"West Midlands\", \"West Midlands\", \"West Midlands\", \"West Midlands\", \"West Midlands\", \"West Midlands\", \"West Midlands\", \"West Midlands\", \"West Midlands\", \"West Midlands\", \"West Midlands\", \"West Midlands\", \"West Midlands\", \"West Midlands\", \"West Midlands\", \"West Midlands\", \"West Midlands\", \"West Midlands\", \"West Midlands\", \"West Midlands\", \"West Midlands\", \"West Midlands\", \"West Midlands\", \"West Midlands\", \"West Midlands\", \"West Midlands\", \"West Midlands\", \"West Midlands\", \"West Midlands\", \"West Midlands\", \"West Midlands\", \"West Midlands\", \"West Midlands\", \"West Midlands\", \"West Midlands\", \"West Midlands\", \"West Midlands\", \"West Midlands\", \"West Midlands\", \"West Midlands\", \"West Midlands\", \"West Midlands\", \"West Midlands\", \"West Midlands\", \"West Midlands\", \"West Midlands\", \"West Midlands\", \"West Midlands\", \"West Midlands\", \"West Midlands\", \"West Midlands\", \"West Midlands\", \"West Midlands\", \"West Midlands\", \"West Midlands\", \"West Midlands\", \"West Midlands\", \"West Midlands\", \"West Midlands\", \"West Midlands\", \"West Midlands\", \"West Midlands\", \"West Midlands\", \"West Midlands\", \"West Midlands\", \"West Midlands\", \"West Midlands\", \"West Midlands\", \"West Midlands\", \"West Midlands\", \"West Midlands\", \"West Midlands\", \"West Midlands\", \"West Midlands\", \"West Midlands\", \"West Midlands\", \"West Midlands\", \"West Midlands\", \"West Midlands\", \"West Midlands\", \"West Midlands\", \"West Midlands\", \"West Midlands\", \"West Midlands\", \"West Midlands\", \"West Midlands\", \"West Midlands\", \"West Midlands\", \"West Midlands\", \"West Midlands\", \"West Midlands\", \"West Midlands\", \"West Midlands\", \"West Midlands\", \"West Midlands\", \"West Midlands\", \"West Midlands\", \"West Midlands\", \"West Midlands\"], \"legendgroup\": \"West Midlands\", \"line\": {\"color\": \"#19d3f3\", \"dash\": \"solid\"}, \"mode\": \"lines+markers\", \"name\": \"West Midlands\", \"orientation\": \"v\", \"showlegend\": true, \"type\": \"scatter\", \"x\": [\"2020-02-12\", \"2020-02-23\", \"2020-03-01\", \"2020-03-02\", \"2020-03-03\", \"2020-03-04\", \"2020-03-05\", \"2020-03-06\", \"2020-03-07\", \"2020-03-08\", \"2020-03-09\", \"2020-03-10\", \"2020-03-11\", \"2020-03-12\", \"2020-03-13\", \"2020-03-14\", \"2020-03-15\", \"2020-03-16\", \"2020-03-17\", \"2020-03-18\", \"2020-03-19\", \"2020-03-20\", \"2020-03-21\", \"2020-03-22\", \"2020-03-23\", \"2020-03-24\", \"2020-03-25\", \"2020-03-26\", \"2020-03-27\", \"2020-03-28\", \"2020-03-29\", \"2020-03-30\", \"2020-03-31\", \"2020-04-01\", \"2020-04-02\", \"2020-04-03\", \"2020-04-04\", \"2020-04-05\", \"2020-04-06\", \"2020-04-07\", \"2020-04-08\", \"2020-04-09\", \"2020-04-10\", \"2020-04-11\", \"2020-04-12\", \"2020-04-13\", \"2020-04-14\", \"2020-04-15\", \"2020-04-16\", \"2020-04-17\", \"2020-04-18\", \"2020-04-19\", \"2020-04-20\", \"2020-04-21\", \"2020-04-22\", \"2020-04-23\", \"2020-04-24\", \"2020-04-25\", \"2020-04-26\", \"2020-04-27\", \"2020-04-28\", \"2020-04-29\", \"2020-04-30\", \"2020-05-01\", \"2020-05-02\", \"2020-05-03\", \"2020-05-04\", \"2020-05-05\", \"2020-05-06\", \"2020-05-07\", \"2020-05-08\", \"2020-05-09\", \"2020-05-10\", \"2020-05-11\", \"2020-05-12\", \"2020-05-13\", \"2020-05-14\", \"2020-05-15\", \"2020-05-16\", \"2020-05-17\", \"2020-05-18\", \"2020-05-19\", \"2020-05-20\", \"2020-05-21\", \"2020-05-22\", \"2020-05-23\", \"2020-05-24\", \"2020-05-25\", \"2020-05-26\", \"2020-05-27\", \"2020-05-28\", \"2020-05-29\", \"2020-05-30\", \"2020-05-31\", \"2020-06-01\", \"2020-06-02\", \"2020-06-03\", \"2020-06-04\", \"2020-06-05\", \"2020-06-06\", \"2020-06-07\", \"2020-06-08\", \"2020-06-09\", \"2020-06-10\"], \"xaxis\": \"x\", \"y\": [1, 2, 4, 8, 9, 12, 18, 20, 25, 29, 37, 54, 83, 128, 168, 199, 243, 299, 368, 467, 590, 741, 866, 977, 1216, 1466, 1706, 2019, 2298, 2621, 2985, 3415, 3828, 4239, 4686, 5059, 5392, 5660, 5991, 6362, 6715, 7056, 7409, 7648, 7884, 8157, 8473, 8816, 9180, 9556, 9874, 10103, 10447, 10791, 11108, 11430, 11771, 11999, 12186, 12433, 12699, 12934, 13137, 13353, 13536, 13646, 13795, 14011, 14165, 14323, 14501, 14599, 14675, 14802, 14929, 15021, 15113, 15232, 15312, 15371, 15455, 15567, 15648, 15723, 15807, 15864, 15906, 15940, 16002, 16080, 16139, 16189, 16230, 16260, 16310, 16371, 16411, 16460, 16493, 16523, 16541, 16580, 16602, 16606], \"yaxis\": \"y\"}, {\"hovertemplate\": \"<b>%{hovertext}</b><br><br>Area name=East Midlands<br>Specimen date=%{x}<br>Cumulative lab-confirmed cases=%{y}<extra></extra>\", \"hovertext\": [\"East Midlands\", \"East Midlands\", \"East Midlands\", \"East Midlands\", \"East Midlands\", \"East Midlands\", \"East Midlands\", \"East Midlands\", \"East Midlands\", \"East Midlands\", \"East Midlands\", \"East Midlands\", \"East Midlands\", \"East Midlands\", \"East Midlands\", \"East Midlands\", \"East Midlands\", \"East Midlands\", \"East Midlands\", \"East Midlands\", \"East Midlands\", \"East Midlands\", \"East Midlands\", \"East Midlands\", \"East Midlands\", \"East Midlands\", \"East Midlands\", \"East Midlands\", \"East Midlands\", \"East Midlands\", \"East Midlands\", \"East Midlands\", \"East Midlands\", \"East Midlands\", \"East Midlands\", \"East Midlands\", \"East Midlands\", \"East Midlands\", \"East Midlands\", \"East Midlands\", \"East Midlands\", \"East Midlands\", \"East Midlands\", \"East Midlands\", \"East Midlands\", \"East Midlands\", \"East Midlands\", \"East Midlands\", \"East Midlands\", \"East Midlands\", \"East Midlands\", \"East Midlands\", \"East Midlands\", \"East Midlands\", \"East Midlands\", \"East Midlands\", \"East Midlands\", \"East Midlands\", \"East Midlands\", \"East Midlands\", \"East Midlands\", \"East Midlands\", \"East Midlands\", \"East Midlands\", \"East Midlands\", \"East Midlands\", \"East Midlands\", \"East Midlands\", \"East Midlands\", \"East Midlands\", \"East Midlands\", \"East Midlands\", \"East Midlands\", \"East Midlands\", \"East Midlands\", \"East Midlands\", \"East Midlands\", \"East Midlands\", \"East Midlands\", \"East Midlands\", \"East Midlands\", \"East Midlands\", \"East Midlands\", \"East Midlands\", \"East Midlands\", \"East Midlands\", \"East Midlands\", \"East Midlands\", \"East Midlands\", \"East Midlands\", \"East Midlands\", \"East Midlands\", \"East Midlands\", \"East Midlands\", \"East Midlands\", \"East Midlands\", \"East Midlands\", \"East Midlands\", \"East Midlands\", \"East Midlands\", \"East Midlands\", \"East Midlands\", \"East Midlands\", \"East Midlands\", \"East Midlands\", \"East Midlands\", \"East Midlands\"], \"legendgroup\": \"East Midlands\", \"line\": {\"color\": \"#FF6692\", \"dash\": \"solid\"}, \"mode\": \"lines+markers\", \"name\": \"East Midlands\", \"orientation\": \"v\", \"showlegend\": true, \"type\": \"scatter\", \"x\": [\"2020-02-21\", \"2020-02-25\", \"2020-02-27\", \"2020-02-28\", \"2020-02-29\", \"2020-03-01\", \"2020-03-02\", \"2020-03-03\", \"2020-03-04\", \"2020-03-05\", \"2020-03-06\", \"2020-03-07\", \"2020-03-08\", \"2020-03-09\", \"2020-03-10\", \"2020-03-11\", \"2020-03-12\", \"2020-03-13\", \"2020-03-14\", \"2020-03-15\", \"2020-03-16\", \"2020-03-17\", \"2020-03-18\", \"2020-03-19\", \"2020-03-20\", \"2020-03-21\", \"2020-03-22\", \"2020-03-23\", \"2020-03-24\", \"2020-03-25\", \"2020-03-26\", \"2020-03-27\", \"2020-03-28\", \"2020-03-29\", \"2020-03-30\", \"2020-03-31\", \"2020-04-01\", \"2020-04-02\", \"2020-04-03\", \"2020-04-04\", \"2020-04-05\", \"2020-04-06\", \"2020-04-07\", \"2020-04-08\", \"2020-04-09\", \"2020-04-10\", \"2020-04-11\", \"2020-04-12\", \"2020-04-13\", \"2020-04-14\", \"2020-04-15\", \"2020-04-16\", \"2020-04-17\", \"2020-04-18\", \"2020-04-19\", \"2020-04-20\", \"2020-04-21\", \"2020-04-22\", \"2020-04-23\", \"2020-04-24\", \"2020-04-25\", \"2020-04-26\", \"2020-04-27\", \"2020-04-28\", \"2020-04-29\", \"2020-04-30\", \"2020-05-01\", \"2020-05-02\", \"2020-05-03\", \"2020-05-04\", \"2020-05-05\", \"2020-05-06\", \"2020-05-07\", \"2020-05-08\", \"2020-05-09\", \"2020-05-10\", \"2020-05-11\", \"2020-05-12\", \"2020-05-13\", \"2020-05-14\", \"2020-05-15\", \"2020-05-16\", \"2020-05-17\", \"2020-05-18\", \"2020-05-19\", \"2020-05-20\", \"2020-05-21\", \"2020-05-22\", \"2020-05-23\", \"2020-05-24\", \"2020-05-25\", \"2020-05-26\", \"2020-05-27\", \"2020-05-28\", \"2020-05-29\", \"2020-05-30\", \"2020-05-31\", \"2020-06-01\", \"2020-06-02\", \"2020-06-03\", \"2020-06-04\", \"2020-06-05\", \"2020-06-06\", \"2020-06-07\", \"2020-06-08\", \"2020-06-09\", \"2020-06-10\"], \"xaxis\": \"x\", \"y\": [1, 2, 3, 4, 5, 6, 8, 15, 17, 20, 27, 31, 32, 42, 54, 79, 97, 119, 138, 164, 198, 231, 280, 346, 399, 468, 567, 684, 820, 936, 1090, 1226, 1385, 1514, 1721, 1997, 2293, 2506, 2765, 2954, 3102, 3316, 3519, 3707, 3939, 4112, 4280, 4427, 4563, 4754, 4928, 5129, 5321, 5417, 5570, 5743, 5889, 6030, 6172, 6334, 6445, 6563, 6730, 6870, 7004, 7091, 7184, 7241, 7275, 7378, 7456, 7556, 7699, 7772, 7848, 7918, 8021, 8116, 8224, 8288, 8374, 8444, 8513, 8608, 8672, 8734, 8803, 8872, 8921, 8947, 8987, 9033, 9086, 9124, 9167, 9208, 9239, 9281, 9327, 9355, 9374, 9403, 9416, 9432, 9455, 9472, 9477], \"yaxis\": \"y\"}, {\"hovertemplate\": \"<b>%{hovertext}</b><br><br>Area name=North West<br>Specimen date=%{x}<br>Cumulative lab-confirmed cases=%{y}<extra></extra>\", \"hovertext\": [\"North West\", \"North West\", \"North West\", \"North West\", \"North West\", \"North West\", \"North West\", \"North West\", \"North West\", \"North West\", \"North West\", \"North West\", \"North West\", \"North West\", \"North West\", \"North West\", \"North West\", \"North West\", \"North West\", \"North West\", \"North West\", \"North West\", \"North West\", \"North West\", \"North West\", \"North West\", \"North West\", \"North West\", \"North West\", \"North West\", \"North West\", \"North West\", \"North West\", \"North West\", \"North West\", \"North West\", \"North West\", \"North West\", \"North West\", \"North West\", \"North West\", \"North West\", \"North West\", \"North West\", \"North West\", \"North West\", \"North West\", \"North West\", \"North West\", \"North West\", \"North West\", \"North West\", \"North West\", \"North West\", \"North West\", \"North West\", \"North West\", \"North West\", \"North West\", \"North West\", \"North West\", \"North West\", \"North West\", \"North West\", \"North West\", \"North West\", \"North West\", \"North West\", \"North West\", \"North West\", \"North West\", \"North West\", \"North West\", \"North West\", \"North West\", \"North West\", \"North West\", \"North West\", \"North West\", \"North West\", \"North West\", \"North West\", \"North West\", \"North West\", \"North West\", \"North West\", \"North West\", \"North West\", \"North West\", \"North West\", \"North West\", \"North West\", \"North West\", \"North West\", \"North West\", \"North West\", \"North West\", \"North West\", \"North West\", \"North West\", \"North West\", \"North West\", \"North West\"], \"legendgroup\": \"North West\", \"line\": {\"color\": \"#B6E880\", \"dash\": \"solid\"}, \"mode\": \"lines+markers\", \"name\": \"North West\", \"orientation\": \"v\", \"showlegend\": true, \"type\": \"scatter\", \"x\": [\"2020-02-28\", \"2020-03-01\", \"2020-03-02\", \"2020-03-03\", \"2020-03-04\", \"2020-03-05\", \"2020-03-06\", \"2020-03-07\", \"2020-03-08\", \"2020-03-09\", \"2020-03-10\", \"2020-03-11\", \"2020-03-12\", \"2020-03-13\", \"2020-03-14\", \"2020-03-15\", \"2020-03-16\", \"2020-03-17\", \"2020-03-18\", \"2020-03-19\", \"2020-03-20\", \"2020-03-21\", \"2020-03-22\", \"2020-03-23\", \"2020-03-24\", \"2020-03-25\", \"2020-03-26\", \"2020-03-27\", \"2020-03-28\", \"2020-03-29\", \"2020-03-30\", \"2020-03-31\", \"2020-04-01\", \"2020-04-02\", \"2020-04-03\", \"2020-04-04\", \"2020-04-05\", \"2020-04-06\", \"2020-04-07\", \"2020-04-08\", \"2020-04-09\", \"2020-04-10\", \"2020-04-11\", \"2020-04-12\", \"2020-04-13\", \"2020-04-14\", \"2020-04-15\", \"2020-04-16\", \"2020-04-17\", \"2020-04-18\", \"2020-04-19\", \"2020-04-20\", \"2020-04-21\", \"2020-04-22\", \"2020-04-23\", \"2020-04-24\", \"2020-04-25\", \"2020-04-26\", \"2020-04-27\", \"2020-04-28\", \"2020-04-29\", \"2020-04-30\", \"2020-05-01\", \"2020-05-02\", \"2020-05-03\", \"2020-05-04\", \"2020-05-05\", \"2020-05-06\", \"2020-05-07\", \"2020-05-08\", \"2020-05-09\", \"2020-05-10\", \"2020-05-11\", \"2020-05-12\", \"2020-05-13\", \"2020-05-14\", \"2020-05-15\", \"2020-05-16\", \"2020-05-17\", \"2020-05-18\", \"2020-05-19\", \"2020-05-20\", \"2020-05-21\", \"2020-05-22\", \"2020-05-23\", \"2020-05-24\", \"2020-05-25\", \"2020-05-26\", \"2020-05-27\", \"2020-05-28\", \"2020-05-29\", \"2020-05-30\", \"2020-05-31\", \"2020-06-01\", \"2020-06-02\", \"2020-06-03\", \"2020-06-04\", \"2020-06-05\", \"2020-06-06\", \"2020-06-07\", \"2020-06-08\", \"2020-06-09\", \"2020-06-10\"], \"xaxis\": \"x\", \"y\": [1, 9, 15, 22, 24, 34, 36, 42, 47, 54, 69, 86, 126, 167, 192, 215, 271, 326, 410, 508, 590, 704, 821, 997, 1252, 1508, 1865, 2198, 2519, 2878, 3384, 3940, 4558, 5239, 5922, 6528, 7153, 8027, 8818, 9671, 10475, 11077, 11686, 12172, 12779, 13411, 13998, 14579, 15153, 15594, 15965, 16479, 17029, 17514, 18016, 18466, 18768, 19015, 19394, 19802, 20203, 20587, 20929, 21124, 21310, 21573, 21862, 22102, 22314, 22489, 22657, 22785, 23041, 23241, 23430, 23600, 23773, 23952, 24103, 24299, 24538, 24736, 24872, 25012, 25116, 25206, 25310, 25427, 25525, 25618, 25720, 25796, 25854, 25944, 26047, 26133, 26205, 26266, 26304, 26346, 26387, 26407, 26412], \"yaxis\": \"y\"}, {\"hovertemplate\": \"<b>%{hovertext}</b><br><br>Area name=North East<br>Specimen date=%{x}<br>Cumulative lab-confirmed cases=%{y}<extra></extra>\", \"hovertext\": [\"North East\", \"North East\", \"North East\", \"North East\", \"North East\", \"North East\", \"North East\", \"North East\", \"North East\", \"North East\", \"North East\", \"North East\", \"North East\", \"North East\", \"North East\", \"North East\", \"North East\", \"North East\", \"North East\", \"North East\", \"North East\", \"North East\", \"North East\", \"North East\", \"North East\", \"North East\", \"North East\", \"North East\", \"North East\", \"North East\", \"North East\", \"North East\", \"North East\", \"North East\", \"North East\", \"North East\", \"North East\", \"North East\", \"North East\", \"North East\", \"North East\", \"North East\", \"North East\", \"North East\", \"North East\", \"North East\", \"North East\", \"North East\", \"North East\", \"North East\", \"North East\", \"North East\", \"North East\", \"North East\", \"North East\", \"North East\", \"North East\", \"North East\", \"North East\", \"North East\", \"North East\", \"North East\", \"North East\", \"North East\", \"North East\", \"North East\", \"North East\", \"North East\", \"North East\", \"North East\", \"North East\", \"North East\", \"North East\", \"North East\", \"North East\", \"North East\", \"North East\", \"North East\", \"North East\", \"North East\", \"North East\", \"North East\", \"North East\", \"North East\", \"North East\", \"North East\", \"North East\", \"North East\", \"North East\", \"North East\", \"North East\", \"North East\", \"North East\", \"North East\", \"North East\", \"North East\", \"North East\", \"North East\", \"North East\"], \"legendgroup\": \"North East\", \"line\": {\"color\": \"#FF97FF\", \"dash\": \"solid\"}, \"mode\": \"lines+markers\", \"name\": \"North East\", \"orientation\": \"v\", \"showlegend\": true, \"type\": \"scatter\", \"x\": [\"2020-03-02\", \"2020-03-04\", \"2020-03-05\", \"2020-03-06\", \"2020-03-07\", \"2020-03-09\", \"2020-03-10\", \"2020-03-11\", \"2020-03-12\", \"2020-03-13\", \"2020-03-14\", \"2020-03-15\", \"2020-03-16\", \"2020-03-17\", \"2020-03-18\", \"2020-03-19\", \"2020-03-20\", \"2020-03-21\", \"2020-03-22\", \"2020-03-23\", \"2020-03-24\", \"2020-03-25\", \"2020-03-26\", \"2020-03-27\", \"2020-03-28\", \"2020-03-29\", \"2020-03-30\", \"2020-03-31\", \"2020-04-01\", \"2020-04-02\", \"2020-04-03\", \"2020-04-04\", \"2020-04-05\", \"2020-04-06\", \"2020-04-07\", \"2020-04-08\", \"2020-04-09\", \"2020-04-10\", \"2020-04-11\", \"2020-04-12\", \"2020-04-13\", \"2020-04-14\", \"2020-04-15\", \"2020-04-16\", \"2020-04-17\", \"2020-04-18\", \"2020-04-19\", \"2020-04-20\", \"2020-04-21\", \"2020-04-22\", \"2020-04-23\", \"2020-04-24\", \"2020-04-25\", \"2020-04-26\", \"2020-04-27\", \"2020-04-28\", \"2020-04-29\", \"2020-04-30\", \"2020-05-01\", \"2020-05-02\", \"2020-05-03\", \"2020-05-04\", \"2020-05-05\", \"2020-05-06\", \"2020-05-07\", \"2020-05-08\", \"2020-05-09\", \"2020-05-10\", \"2020-05-11\", \"2020-05-12\", \"2020-05-13\", \"2020-05-14\", \"2020-05-15\", \"2020-05-16\", \"2020-05-17\", \"2020-05-18\", \"2020-05-19\", \"2020-05-20\", \"2020-05-21\", \"2020-05-22\", \"2020-05-23\", \"2020-05-24\", \"2020-05-25\", \"2020-05-26\", \"2020-05-27\", \"2020-05-28\", \"2020-05-29\", \"2020-05-30\", \"2020-05-31\", \"2020-06-01\", \"2020-06-02\", \"2020-06-03\", \"2020-06-04\", \"2020-06-05\", \"2020-06-06\", \"2020-06-07\", \"2020-06-08\", \"2020-06-09\", \"2020-06-10\"], \"xaxis\": \"x\", \"y\": [1, 2, 4, 5, 7, 10, 14, 15, 17, 23, 29, 39, 46, 62, 76, 95, 121, 144, 164, 222, 298, 374, 471, 573, 686, 793, 969, 1179, 1487, 1706, 1967, 2221, 2442, 2817, 3168, 3459, 3773, 4018, 4285, 4486, 4718, 4975, 5200, 5399, 5619, 5848, 6008, 6267, 6501, 6705, 6924, 7141, 7265, 7350, 7551, 7776, 7990, 8223, 8383, 8460, 8527, 8708, 8852, 8984, 9104, 9184, 9285, 9352, 9436, 9526, 9588, 9645, 9698, 9742, 9779, 9846, 9897, 9949, 9996, 10036, 10063, 10094, 10123, 10158, 10210, 10233, 10260, 10270, 10283, 10300, 10320, 10340, 10354, 10372, 10385, 10390, 10400, 10410, 10413], \"yaxis\": \"y\"}],\n",
       "                        {\"legend\": {\"title\": {\"text\": \"Area name\"}, \"tracegroupgap\": 0}, \"margin\": {\"t\": 60}, \"template\": {\"data\": {\"bar\": [{\"error_x\": {\"color\": \"#2a3f5f\"}, \"error_y\": {\"color\": \"#2a3f5f\"}, \"marker\": {\"line\": {\"color\": \"#E5ECF6\", \"width\": 0.5}}, \"type\": \"bar\"}], \"barpolar\": [{\"marker\": {\"line\": {\"color\": \"#E5ECF6\", \"width\": 0.5}}, \"type\": \"barpolar\"}], \"carpet\": [{\"aaxis\": {\"endlinecolor\": \"#2a3f5f\", \"gridcolor\": \"white\", \"linecolor\": \"white\", \"minorgridcolor\": \"white\", \"startlinecolor\": \"#2a3f5f\"}, \"baxis\": {\"endlinecolor\": \"#2a3f5f\", \"gridcolor\": \"white\", \"linecolor\": \"white\", \"minorgridcolor\": \"white\", \"startlinecolor\": \"#2a3f5f\"}, \"type\": \"carpet\"}], \"choropleth\": [{\"colorbar\": {\"outlinewidth\": 0, \"ticks\": \"\"}, \"type\": \"choropleth\"}], \"contour\": [{\"colorbar\": {\"outlinewidth\": 0, \"ticks\": \"\"}, \"colorscale\": [[0.0, \"#0d0887\"], [0.1111111111111111, \"#46039f\"], [0.2222222222222222, \"#7201a8\"], [0.3333333333333333, \"#9c179e\"], [0.4444444444444444, \"#bd3786\"], [0.5555555555555556, \"#d8576b\"], [0.6666666666666666, \"#ed7953\"], [0.7777777777777778, \"#fb9f3a\"], [0.8888888888888888, \"#fdca26\"], [1.0, \"#f0f921\"]], \"type\": \"contour\"}], \"contourcarpet\": [{\"colorbar\": {\"outlinewidth\": 0, \"ticks\": \"\"}, \"type\": \"contourcarpet\"}], \"heatmap\": [{\"colorbar\": {\"outlinewidth\": 0, \"ticks\": \"\"}, \"colorscale\": [[0.0, \"#0d0887\"], [0.1111111111111111, \"#46039f\"], [0.2222222222222222, \"#7201a8\"], [0.3333333333333333, \"#9c179e\"], [0.4444444444444444, \"#bd3786\"], [0.5555555555555556, \"#d8576b\"], [0.6666666666666666, \"#ed7953\"], [0.7777777777777778, \"#fb9f3a\"], [0.8888888888888888, \"#fdca26\"], [1.0, \"#f0f921\"]], \"type\": \"heatmap\"}], \"heatmapgl\": [{\"colorbar\": {\"outlinewidth\": 0, \"ticks\": \"\"}, \"colorscale\": [[0.0, \"#0d0887\"], [0.1111111111111111, \"#46039f\"], [0.2222222222222222, \"#7201a8\"], [0.3333333333333333, \"#9c179e\"], [0.4444444444444444, \"#bd3786\"], [0.5555555555555556, \"#d8576b\"], [0.6666666666666666, \"#ed7953\"], [0.7777777777777778, \"#fb9f3a\"], [0.8888888888888888, \"#fdca26\"], [1.0, \"#f0f921\"]], \"type\": \"heatmapgl\"}], \"histogram\": [{\"marker\": {\"colorbar\": {\"outlinewidth\": 0, \"ticks\": \"\"}}, \"type\": \"histogram\"}], \"histogram2d\": [{\"colorbar\": {\"outlinewidth\": 0, \"ticks\": \"\"}, \"colorscale\": [[0.0, \"#0d0887\"], [0.1111111111111111, \"#46039f\"], [0.2222222222222222, \"#7201a8\"], [0.3333333333333333, \"#9c179e\"], [0.4444444444444444, \"#bd3786\"], [0.5555555555555556, \"#d8576b\"], [0.6666666666666666, \"#ed7953\"], [0.7777777777777778, \"#fb9f3a\"], [0.8888888888888888, \"#fdca26\"], [1.0, \"#f0f921\"]], \"type\": \"histogram2d\"}], \"histogram2dcontour\": [{\"colorbar\": {\"outlinewidth\": 0, \"ticks\": \"\"}, \"colorscale\": [[0.0, \"#0d0887\"], [0.1111111111111111, \"#46039f\"], [0.2222222222222222, \"#7201a8\"], [0.3333333333333333, \"#9c179e\"], [0.4444444444444444, \"#bd3786\"], [0.5555555555555556, \"#d8576b\"], [0.6666666666666666, \"#ed7953\"], [0.7777777777777778, \"#fb9f3a\"], [0.8888888888888888, \"#fdca26\"], [1.0, \"#f0f921\"]], \"type\": \"histogram2dcontour\"}], \"mesh3d\": [{\"colorbar\": {\"outlinewidth\": 0, \"ticks\": \"\"}, \"type\": \"mesh3d\"}], \"parcoords\": [{\"line\": {\"colorbar\": {\"outlinewidth\": 0, \"ticks\": \"\"}}, \"type\": \"parcoords\"}], \"pie\": [{\"automargin\": true, \"type\": \"pie\"}], \"scatter\": [{\"marker\": {\"colorbar\": {\"outlinewidth\": 0, \"ticks\": \"\"}}, \"type\": \"scatter\"}], \"scatter3d\": [{\"line\": {\"colorbar\": {\"outlinewidth\": 0, \"ticks\": \"\"}}, \"marker\": {\"colorbar\": {\"outlinewidth\": 0, \"ticks\": \"\"}}, \"type\": \"scatter3d\"}], \"scattercarpet\": [{\"marker\": {\"colorbar\": {\"outlinewidth\": 0, \"ticks\": \"\"}}, \"type\": \"scattercarpet\"}], \"scattergeo\": [{\"marker\": {\"colorbar\": {\"outlinewidth\": 0, \"ticks\": \"\"}}, \"type\": \"scattergeo\"}], \"scattergl\": [{\"marker\": {\"colorbar\": {\"outlinewidth\": 0, \"ticks\": \"\"}}, \"type\": \"scattergl\"}], \"scattermapbox\": [{\"marker\": {\"colorbar\": {\"outlinewidth\": 0, \"ticks\": \"\"}}, \"type\": \"scattermapbox\"}], \"scatterpolar\": [{\"marker\": {\"colorbar\": {\"outlinewidth\": 0, \"ticks\": \"\"}}, \"type\": \"scatterpolar\"}], \"scatterpolargl\": [{\"marker\": {\"colorbar\": {\"outlinewidth\": 0, \"ticks\": \"\"}}, \"type\": \"scatterpolargl\"}], \"scatterternary\": [{\"marker\": {\"colorbar\": {\"outlinewidth\": 0, \"ticks\": \"\"}}, \"type\": \"scatterternary\"}], \"surface\": [{\"colorbar\": {\"outlinewidth\": 0, \"ticks\": \"\"}, \"colorscale\": [[0.0, \"#0d0887\"], [0.1111111111111111, \"#46039f\"], [0.2222222222222222, \"#7201a8\"], [0.3333333333333333, \"#9c179e\"], [0.4444444444444444, \"#bd3786\"], [0.5555555555555556, \"#d8576b\"], [0.6666666666666666, \"#ed7953\"], [0.7777777777777778, \"#fb9f3a\"], [0.8888888888888888, \"#fdca26\"], [1.0, \"#f0f921\"]], \"type\": \"surface\"}], \"table\": [{\"cells\": {\"fill\": {\"color\": \"#EBF0F8\"}, \"line\": {\"color\": \"white\"}}, \"header\": {\"fill\": {\"color\": \"#C8D4E3\"}, \"line\": {\"color\": \"white\"}}, \"type\": \"table\"}]}, \"layout\": {\"annotationdefaults\": {\"arrowcolor\": \"#2a3f5f\", \"arrowhead\": 0, \"arrowwidth\": 1}, \"coloraxis\": {\"colorbar\": {\"outlinewidth\": 0, \"ticks\": \"\"}}, \"colorscale\": {\"diverging\": [[0, \"#8e0152\"], [0.1, \"#c51b7d\"], [0.2, \"#de77ae\"], [0.3, \"#f1b6da\"], [0.4, \"#fde0ef\"], [0.5, \"#f7f7f7\"], [0.6, \"#e6f5d0\"], [0.7, \"#b8e186\"], [0.8, \"#7fbc41\"], [0.9, \"#4d9221\"], [1, \"#276419\"]], \"sequential\": [[0.0, \"#0d0887\"], [0.1111111111111111, \"#46039f\"], [0.2222222222222222, \"#7201a8\"], [0.3333333333333333, \"#9c179e\"], [0.4444444444444444, \"#bd3786\"], [0.5555555555555556, \"#d8576b\"], [0.6666666666666666, \"#ed7953\"], [0.7777777777777778, \"#fb9f3a\"], [0.8888888888888888, \"#fdca26\"], [1.0, \"#f0f921\"]], \"sequentialminus\": [[0.0, \"#0d0887\"], [0.1111111111111111, \"#46039f\"], [0.2222222222222222, \"#7201a8\"], [0.3333333333333333, \"#9c179e\"], [0.4444444444444444, \"#bd3786\"], [0.5555555555555556, \"#d8576b\"], [0.6666666666666666, \"#ed7953\"], [0.7777777777777778, \"#fb9f3a\"], [0.8888888888888888, \"#fdca26\"], [1.0, \"#f0f921\"]]}, \"colorway\": [\"#636efa\", \"#EF553B\", \"#00cc96\", \"#ab63fa\", \"#FFA15A\", \"#19d3f3\", \"#FF6692\", \"#B6E880\", \"#FF97FF\", \"#FECB52\"], \"font\": {\"color\": \"#2a3f5f\"}, \"geo\": {\"bgcolor\": \"white\", \"lakecolor\": \"white\", \"landcolor\": \"#E5ECF6\", \"showlakes\": true, \"showland\": true, \"subunitcolor\": \"white\"}, \"hoverlabel\": {\"align\": \"left\"}, \"hovermode\": \"closest\", \"mapbox\": {\"style\": \"light\"}, \"paper_bgcolor\": \"white\", \"plot_bgcolor\": \"#E5ECF6\", \"polar\": {\"angularaxis\": {\"gridcolor\": \"white\", \"linecolor\": \"white\", \"ticks\": \"\"}, \"bgcolor\": \"#E5ECF6\", \"radialaxis\": {\"gridcolor\": \"white\", \"linecolor\": \"white\", \"ticks\": \"\"}}, \"scene\": {\"xaxis\": {\"backgroundcolor\": \"#E5ECF6\", \"gridcolor\": \"white\", \"gridwidth\": 2, \"linecolor\": \"white\", \"showbackground\": true, \"ticks\": \"\", \"zerolinecolor\": \"white\"}, \"yaxis\": {\"backgroundcolor\": \"#E5ECF6\", \"gridcolor\": \"white\", \"gridwidth\": 2, \"linecolor\": \"white\", \"showbackground\": true, \"ticks\": \"\", \"zerolinecolor\": \"white\"}, \"zaxis\": {\"backgroundcolor\": \"#E5ECF6\", \"gridcolor\": \"white\", \"gridwidth\": 2, \"linecolor\": \"white\", \"showbackground\": true, \"ticks\": \"\", \"zerolinecolor\": \"white\"}}, \"shapedefaults\": {\"line\": {\"color\": \"#2a3f5f\"}}, \"ternary\": {\"aaxis\": {\"gridcolor\": \"white\", \"linecolor\": \"white\", \"ticks\": \"\"}, \"baxis\": {\"gridcolor\": \"white\", \"linecolor\": \"white\", \"ticks\": \"\"}, \"bgcolor\": \"#E5ECF6\", \"caxis\": {\"gridcolor\": \"white\", \"linecolor\": \"white\", \"ticks\": \"\"}}, \"title\": {\"x\": 0.05}, \"xaxis\": {\"automargin\": true, \"gridcolor\": \"white\", \"linecolor\": \"white\", \"ticks\": \"\", \"title\": {\"standoff\": 15}, \"zerolinecolor\": \"white\", \"zerolinewidth\": 2}, \"yaxis\": {\"automargin\": true, \"gridcolor\": \"white\", \"linecolor\": \"white\", \"ticks\": \"\", \"title\": {\"standoff\": 15}, \"zerolinecolor\": \"white\", \"zerolinewidth\": 2}}}, \"xaxis\": {\"anchor\": \"y\", \"domain\": [0.0, 1.0], \"title\": {\"text\": \"Specimen date\"}}, \"yaxis\": {\"anchor\": \"x\", \"domain\": [0.0, 1.0], \"title\": {\"text\": \"Cumulative lab-confirmed cases\"}, \"type\": \"log\"}},\n",
       "                        {\"responsive\": true}\n",
       "                    ).then(function(){\n",
       "                            \n",
       "var gd = document.getElementById('14967ad6-2d54-41a1-9b14-ac454eda4aa6');\n",
       "var x = new MutationObserver(function (mutations, observer) {{\n",
       "        var display = window.getComputedStyle(gd).display;\n",
       "        if (!display || display === 'none') {{\n",
       "            console.log([gd, 'removed!']);\n",
       "            Plotly.purge(gd);\n",
       "            observer.disconnect();\n",
       "        }}\n",
       "}});\n",
       "\n",
       "// Listen for the removal of the full notebook cells\n",
       "var notebookContainer = gd.closest('#notebook-container');\n",
       "if (notebookContainer) {{\n",
       "    x.observe(notebookContainer, {childList: true});\n",
       "}}\n",
       "\n",
       "// Listen for the clearing of the current output cell\n",
       "var outputEl = gd.closest('.output');\n",
       "if (outputEl) {{\n",
       "    x.observe(outputEl, {childList: true});\n",
       "}}\n",
       "\n",
       "                        })\n",
       "                };\n",
       "                });\n",
       "            </script>\n",
       "        </div>"
      ]
     },
     "metadata": {},
     "output_type": "display_data"
    }
   ],
   "source": [
    "plot_line_graph('Cumulative lab-confirmed cases', log_y_setting=True)"
   ]
  },
  {
   "cell_type": "code",
   "execution_count": null,
   "metadata": {},
   "outputs": [],
   "source": []
  }
 ],
 "metadata": {
  "kernelspec": {
   "display_name": "Python 3",
   "language": "python",
   "name": "python3"
  },
  "language_info": {
   "codemirror_mode": {
    "name": "ipython",
    "version": 3
   },
   "file_extension": ".py",
   "mimetype": "text/x-python",
   "name": "python",
   "nbconvert_exporter": "python",
   "pygments_lexer": "ipython3",
   "version": "3.6.10"
  },
  "toc": {
   "base_numbering": 1,
   "nav_menu": {},
   "number_sections": true,
   "sideBar": true,
   "skip_h1_title": false,
   "title_cell": "Table of Contents",
   "title_sidebar": "Contents",
   "toc_cell": false,
   "toc_position": {},
   "toc_section_display": true,
   "toc_window_display": false
  }
 },
 "nbformat": 4,
 "nbformat_minor": 4
}
